{
 "cells": [
  {
   "cell_type": "code",
   "execution_count": 10,
   "id": "e50fca5d",
   "metadata": {},
   "outputs": [],
   "source": [
    "import pandas as pd\n",
    "import matplotlib.pyplot as plt\n",
    "import seaborn as sns\n",
    "import plotly.express as px"
   ]
  },
  {
   "cell_type": "code",
   "execution_count": 2,
   "id": "544a7e66",
   "metadata": {},
   "outputs": [],
   "source": [
    "life_exp_lib_democ = pd.read_csv(\"data/life-expectancy-vs-liberal-democracy-index.csv\")"
   ]
  },
  {
   "cell_type": "code",
   "execution_count": 3,
   "id": "2b1020c9",
   "metadata": {},
   "outputs": [
    {
     "data": {
      "text/html": [
       "<div>\n",
       "<style scoped>\n",
       "    .dataframe tbody tr th:only-of-type {\n",
       "        vertical-align: middle;\n",
       "    }\n",
       "\n",
       "    .dataframe tbody tr th {\n",
       "        vertical-align: top;\n",
       "    }\n",
       "\n",
       "    .dataframe thead th {\n",
       "        text-align: right;\n",
       "    }\n",
       "</style>\n",
       "<table border=\"1\" class=\"dataframe\">\n",
       "  <thead>\n",
       "    <tr style=\"text-align: right;\">\n",
       "      <th></th>\n",
       "      <th>Entity</th>\n",
       "      <th>Code</th>\n",
       "      <th>Year</th>\n",
       "      <th>Period life expectancy at birth - Sex: all - Age: 0</th>\n",
       "      <th>Liberal democracy index (best estimate, aggregate: average)</th>\n",
       "      <th>Population (historical)</th>\n",
       "      <th>Continent</th>\n",
       "    </tr>\n",
       "  </thead>\n",
       "  <tbody>\n",
       "    <tr>\n",
       "      <th>62512</th>\n",
       "      <td>Zimbabwe</td>\n",
       "      <td>ZWE</td>\n",
       "      <td>1826</td>\n",
       "      <td>NaN</td>\n",
       "      <td>NaN</td>\n",
       "      <td>984868.0</td>\n",
       "      <td>NaN</td>\n",
       "    </tr>\n",
       "    <tr>\n",
       "      <th>62513</th>\n",
       "      <td>Zimbabwe</td>\n",
       "      <td>ZWE</td>\n",
       "      <td>1827</td>\n",
       "      <td>NaN</td>\n",
       "      <td>NaN</td>\n",
       "      <td>968938.0</td>\n",
       "      <td>NaN</td>\n",
       "    </tr>\n",
       "    <tr>\n",
       "      <th>62514</th>\n",
       "      <td>Zimbabwe</td>\n",
       "      <td>ZWE</td>\n",
       "      <td>1828</td>\n",
       "      <td>NaN</td>\n",
       "      <td>NaN</td>\n",
       "      <td>953265.0</td>\n",
       "      <td>NaN</td>\n",
       "    </tr>\n",
       "    <tr>\n",
       "      <th>62515</th>\n",
       "      <td>Zimbabwe</td>\n",
       "      <td>ZWE</td>\n",
       "      <td>1829</td>\n",
       "      <td>NaN</td>\n",
       "      <td>NaN</td>\n",
       "      <td>937846.0</td>\n",
       "      <td>NaN</td>\n",
       "    </tr>\n",
       "    <tr>\n",
       "      <th>62516</th>\n",
       "      <td>Zimbabwe</td>\n",
       "      <td>ZWE</td>\n",
       "      <td>1830</td>\n",
       "      <td>NaN</td>\n",
       "      <td>NaN</td>\n",
       "      <td>922676.0</td>\n",
       "      <td>NaN</td>\n",
       "    </tr>\n",
       "    <tr>\n",
       "      <th>...</th>\n",
       "      <td>...</td>\n",
       "      <td>...</td>\n",
       "      <td>...</td>\n",
       "      <td>...</td>\n",
       "      <td>...</td>\n",
       "      <td>...</td>\n",
       "      <td>...</td>\n",
       "    </tr>\n",
       "    <tr>\n",
       "      <th>62581</th>\n",
       "      <td>Zimbabwe</td>\n",
       "      <td>ZWE</td>\n",
       "      <td>1895</td>\n",
       "      <td>NaN</td>\n",
       "      <td>NaN</td>\n",
       "      <td>1052230.0</td>\n",
       "      <td>NaN</td>\n",
       "    </tr>\n",
       "    <tr>\n",
       "      <th>62582</th>\n",
       "      <td>Zimbabwe</td>\n",
       "      <td>ZWE</td>\n",
       "      <td>1896</td>\n",
       "      <td>NaN</td>\n",
       "      <td>NaN</td>\n",
       "      <td>1062987.0</td>\n",
       "      <td>NaN</td>\n",
       "    </tr>\n",
       "    <tr>\n",
       "      <th>62583</th>\n",
       "      <td>Zimbabwe</td>\n",
       "      <td>ZWE</td>\n",
       "      <td>1897</td>\n",
       "      <td>NaN</td>\n",
       "      <td>NaN</td>\n",
       "      <td>1073853.0</td>\n",
       "      <td>NaN</td>\n",
       "    </tr>\n",
       "    <tr>\n",
       "      <th>62584</th>\n",
       "      <td>Zimbabwe</td>\n",
       "      <td>ZWE</td>\n",
       "      <td>1898</td>\n",
       "      <td>NaN</td>\n",
       "      <td>NaN</td>\n",
       "      <td>1084831.0</td>\n",
       "      <td>NaN</td>\n",
       "    </tr>\n",
       "    <tr>\n",
       "      <th>62585</th>\n",
       "      <td>Zimbabwe</td>\n",
       "      <td>ZWE</td>\n",
       "      <td>1899</td>\n",
       "      <td>NaN</td>\n",
       "      <td>NaN</td>\n",
       "      <td>1097325.0</td>\n",
       "      <td>NaN</td>\n",
       "    </tr>\n",
       "  </tbody>\n",
       "</table>\n",
       "<p>74 rows × 7 columns</p>\n",
       "</div>"
      ],
      "text/plain": [
       "         Entity Code  Year  \\\n",
       "62512  Zimbabwe  ZWE  1826   \n",
       "62513  Zimbabwe  ZWE  1827   \n",
       "62514  Zimbabwe  ZWE  1828   \n",
       "62515  Zimbabwe  ZWE  1829   \n",
       "62516  Zimbabwe  ZWE  1830   \n",
       "...         ...  ...   ...   \n",
       "62581  Zimbabwe  ZWE  1895   \n",
       "62582  Zimbabwe  ZWE  1896   \n",
       "62583  Zimbabwe  ZWE  1897   \n",
       "62584  Zimbabwe  ZWE  1898   \n",
       "62585  Zimbabwe  ZWE  1899   \n",
       "\n",
       "       Period life expectancy at birth - Sex: all - Age: 0  \\\n",
       "62512                                                NaN     \n",
       "62513                                                NaN     \n",
       "62514                                                NaN     \n",
       "62515                                                NaN     \n",
       "62516                                                NaN     \n",
       "...                                                  ...     \n",
       "62581                                                NaN     \n",
       "62582                                                NaN     \n",
       "62583                                                NaN     \n",
       "62584                                                NaN     \n",
       "62585                                                NaN     \n",
       "\n",
       "       Liberal democracy index (best estimate, aggregate: average)  \\\n",
       "62512                                                NaN             \n",
       "62513                                                NaN             \n",
       "62514                                                NaN             \n",
       "62515                                                NaN             \n",
       "62516                                                NaN             \n",
       "...                                                  ...             \n",
       "62581                                                NaN             \n",
       "62582                                                NaN             \n",
       "62583                                                NaN             \n",
       "62584                                                NaN             \n",
       "62585                                                NaN             \n",
       "\n",
       "       Population (historical) Continent  \n",
       "62512                 984868.0       NaN  \n",
       "62513                 968938.0       NaN  \n",
       "62514                 953265.0       NaN  \n",
       "62515                 937846.0       NaN  \n",
       "62516                 922676.0       NaN  \n",
       "...                        ...       ...  \n",
       "62581                1052230.0       NaN  \n",
       "62582                1062987.0       NaN  \n",
       "62583                1073853.0       NaN  \n",
       "62584                1084831.0       NaN  \n",
       "62585                1097325.0       NaN  \n",
       "\n",
       "[74 rows x 7 columns]"
      ]
     },
     "execution_count": 3,
     "metadata": {},
     "output_type": "execute_result"
    }
   ],
   "source": [
    "life_exp_lib_democ.tail(74)"
   ]
  },
  {
   "cell_type": "code",
   "execution_count": 6,
   "id": "ae465603",
   "metadata": {},
   "outputs": [
    {
     "data": {
      "text/plain": [
       "(62586, 7)"
      ]
     },
     "execution_count": 6,
     "metadata": {},
     "output_type": "execute_result"
    }
   ],
   "source": [
    "life_exp_lib_democ.shape"
   ]
  },
  {
   "cell_type": "code",
   "execution_count": 7,
   "id": "ea7357fc",
   "metadata": {},
   "outputs": [
    {
     "data": {
      "text/plain": [
       "'            Entity      Code  Year  \\\\\\n0         Abkhazia  OWID_ABK  2015   \\n1      Afghanistan       AFG  1950   \\n2      Afghanistan       AFG  1951   \\n3      Afghanistan       AFG  1952   \\n4      Afghanistan       AFG  1953   \\n...            ...       ...   ...   \\n62581     Zimbabwe       ZWE  1895   \\n62582     Zimbabwe       ZWE  1896   \\n62583     Zimbabwe       ZWE  1897   \\n62584     Zimbabwe       ZWE  1898   \\n62585     Zimbabwe       ZWE  1899   \\n\\n       Period life expectancy at birth - Sex: all - Age: 0  \\\\\\n0                                                    NaN     \\n1                                                27.7275     \\n2                                                27.9634     \\n3                                                28.4456     \\n4                                                28.9304     \\n...                                                  ...     \\n62581                                                NaN     \\n62582                                                NaN     \\n62583                                                NaN     \\n62584                                                NaN     \\n62585                                                NaN     \\n\\n       Liberal democracy index (best estimate, aggregate: average)  \\\\\\n0                                                    NaN             \\n1                                                  0.061             \\n2                                                  0.061             \\n3                                                  0.059             \\n4                                                  0.060             \\n...                                                  ...             \\n62581                                                NaN             \\n62582                                                NaN             \\n62583                                                NaN             \\n62584                                                NaN             \\n62585                                                NaN             \\n\\n       Population (historical) Continent  \\n0                          NaN      Asia  \\n1                    7776182.0       NaN  \\n2                    7879343.0       NaN  \\n3                    7987783.0       NaN  \\n4                    8096703.0       NaN  \\n...                        ...       ...  \\n62581                1052230.0       NaN  \\n62582                1062987.0       NaN  \\n62583                1073853.0       NaN  \\n62584                1084831.0       NaN  \\n62585                1097325.0       NaN  \\n\\n[62586 rows x 7 columns]'"
      ]
     },
     "execution_count": 7,
     "metadata": {},
     "output_type": "execute_result"
    }
   ],
   "source": [
    "str(life_exp_lib_democ)"
   ]
  },
  {
   "cell_type": "code",
   "execution_count": 121,
   "id": "7239daa6",
   "metadata": {},
   "outputs": [
    {
     "data": {
      "application/vnd.plotly.v1+json": {
       "config": {
        "plotlyServerURL": "https://plot.ly"
       },
       "data": [
        {
         "hovertemplate": "Continent=Asia<br>Liberal democracy index (best estimate, aggregate: average)=%{x}<br>Period life expectancy at birth - Sex: all - Age: 0=%{y}<extra></extra>",
         "legendgroup": "Asia",
         "marker": {
          "color": "#636efa",
          "size": 10,
          "symbol": "circle"
         },
         "mode": "markers",
         "name": "Asia",
         "showlegend": true,
         "type": "scattergl",
         "x": [
          null,
          0.225,
          null,
          0.207,
          0.065,
          0.044,
          0.111,
          0.485,
          null,
          null,
          0.114,
          0.052,
          null,
          null,
          0.462,
          0.512,
          0.301,
          0.429,
          0.513,
          0.13,
          0.238,
          0.659,
          0.742,
          0.222,
          0.113,
          null,
          0.287,
          0.314,
          0.078,
          0.298,
          null,
          0.207,
          0.191,
          0.543,
          0.182,
          null,
          0.537,
          0.015,
          null,
          0.139,
          0.268,
          null,
          0.429,
          0.092,
          null,
          0.048,
          0.333,
          0.608,
          null,
          0.401,
          0.025,
          0.684,
          0.044,
          0.101,
          0.236,
          0.026,
          0.09,
          0.036,
          0.118,
          0.069,
          null,
          null
         ],
         "xaxis": "x",
         "y": [
          null,
          62.6587,
          null,
          74.4361,
          71.4512,
          79.4046,
          70.4913,
          70.3433,
          null,
          74.7498,
          69.8725,
          76.9771,
          null,
          null,
          67.1373,
          73.2972,
          84.2888,
          69.6363,
          69.6989,
          75.1239,
          69.4403,
          82.0999,
          83.8928,
          75.0112,
          70.7265,
          null,
          79.5624,
          69.9963,
          66.67,
          79.2294,
          83.9837,
          75.0942,
          79.6953,
          69.4977,
          65.5613,
          null,
          67.4562,
          72.7844,
          null,
          77.6869,
          65.6971,
          74.4057,
          71.2684,
          80.0639,
          null,
          76.9185,
          82.8265,
          82.5605,
          null,
          74.9275,
          65.1239,
          79.9471,
          69.3059,
          77.7166,
          76.646,
          68.7816,
          79.2232,
          70.4753,
          73.8763,
          65.8734,
          null,
          null
         ],
         "yaxis": "y"
        },
        {
         "hovertemplate": "Continent=Europe<br>Liberal democracy index (best estimate, aggregate: average)=%{x}<br>Period life expectancy at birth - Sex: all - Age: 0=%{y}<extra></extra>",
         "legendgroup": "Europe",
         "marker": {
          "color": "#00cc96",
          "size": 10,
          "symbol": "circle"
         },
         "mode": "markers",
         "name": "Europe",
         "showlegend": true,
         "type": "scattergl",
         "x": [
          null,
          0.442,
          null,
          0.805,
          null,
          null,
          null,
          0.102,
          0.841,
          0.368,
          0.571,
          null,
          0.702,
          0.742,
          0.776,
          null,
          0.895,
          null,
          0.846,
          null,
          0.824,
          0.822,
          0.852,
          null,
          0.787,
          null,
          null,
          null,
          null,
          0.485,
          0.785,
          0.83,
          null,
          0.783,
          null,
          0.447,
          0.764,
          null,
          0.782,
          0.795,
          0.59,
          null,
          null,
          0.472,
          null,
          0.372,
          0.835,
          0.268,
          0.864,
          null,
          0.778,
          0.832,
          0.599,
          0.11,
          null,
          null,
          0.344,
          null,
          null,
          0.735,
          0.804,
          0.766,
          null,
          0.884,
          0.861,
          null,
          null,
          null,
          null,
          0.226,
          0.789,
          null,
          null,
          null,
          null
         ],
         "xaxis": "x",
         "y": [
          null,
          78.6441,
          82.9534,
          81.1594,
          null,
          null,
          null,
          73.9874,
          80.8898,
          76.1819,
          74.6325,
          null,
          77.5599,
          80.9665,
          78.58,
          null,
          80.738,
          null,
          77.6563,
          79.7437,
          81.4178,
          82.1857,
          80.5742,
          80.4269,
          80.6676,
          82.283,
          null,
          null,
          null,
          75.6517,
          82.3508,
          81.4163,
          78.9047,
          82.5255,
          80.9121,
          78.9219,
          74.6854,
          82.8061,
          74.6103,
          81.8384,
          82.9621,
          null,
          null,
          69.2396,
          85.2585,
          76.7561,
          81.4821,
          75.9814,
          82.2718,
          null,
          77.4151,
          81.2093,
          74.7901,
          72.1006,
          82.927,
          null,
          75.8172,
          null,
          null,
          76.6493,
          80.8218,
          82.6464,
          null,
          82.1834,
          82.8468,
          null,
          null,
          null,
          null,
          73.4581,
          80.9238,
          null,
          null,
          null,
          null
         ],
         "yaxis": "y"
        },
        {
         "hovertemplate": "Continent=Africa<br>Liberal democracy index (best estimate, aggregate: average)=%{x}<br>Period life expectancy at birth - Sex: all - Age: 0=%{y}<extra></extra>",
         "legendgroup": "Africa",
         "marker": {
          "color": "#ab63fa",
          "size": 10,
          "symbol": "circle"
         },
         "mode": "markers",
         "name": "Africa",
         "showlegend": true,
         "type": "scattergl",
         "x": [
          0.171,
          0.134,
          0.534,
          0.591,
          0.31,
          0.061,
          0.154,
          0.712,
          0.181,
          0.093,
          0.25,
          0.099,
          0.329,
          0.128,
          0.115,
          0.095,
          0.054,
          0.006,
          0.098,
          0.102,
          null,
          0.228,
          0.107,
          0.63,
          0.164,
          0.307,
          0.421,
          0.449,
          0.452,
          0.173,
          0.251,
          0.444,
          0.35,
          0.181,
          0.632,
          null,
          0.231,
          0.305,
          0.592,
          0.483,
          0.41,
          null,
          0.136,
          null,
          0.579,
          0.586,
          0.429,
          0.312,
          0.124,
          0.243,
          0.64,
          0.064,
          0.065,
          0.398,
          0.273,
          0.627,
          0.244,
          null,
          0.358,
          0.233,
          0.207
         ],
         "xaxis": "x",
         "y": [
          75.622,
          60.6546,
          59.3771,
          63.8183,
          58.8454,
          60.2172,
          59.658,
          74.6195,
          52.793,
          51.5888,
          62.8956,
          63.2329,
          57.7624,
          58.49,
          61.957,
          70.4831,
          60.1032,
          66.0333,
          55.0192,
          63.6492,
          null,
          65.4599,
          62.494,
          63.1752,
          58.1336,
          59.1282,
          61.8922,
          51.1014,
          59.1485,
          71.6982,
          64.339,
          61.3781,
          58.3632,
          64.4847,
          74.9754,
          77.4174,
          72.9197,
          58.1509,
          60.7002,
          61.0827,
          51.8413,
          81.2285,
          65.2977,
          75.1757,
          67.2491,
          66.8794,
          73.6979,
          57.189,
          54.857,
          null,
          63.9499,
          55.5665,
          64.6587,
          64.6507,
          59.3958,
          75.6919,
          61.0856,
          69.2957,
          61.2078,
          null,
          59.5911
         ],
         "yaxis": "y"
        },
        {
         "hovertemplate": "Continent=Oceania<br>Liberal democracy index (best estimate, aggregate: average)=%{x}<br>Period life expectancy at birth - Sex: all - Age: 0=%{y}<extra></extra>",
         "legendgroup": "Oceania",
         "marker": {
          "color": "#FFA15A",
          "size": 10,
          "symbol": "circle"
         },
         "mode": "markers",
         "name": "Oceania",
         "showlegend": true,
         "type": "scattergl",
         "x": [
          null,
          0.825,
          null,
          0.275,
          null,
          null,
          null,
          null,
          null,
          null,
          null,
          0.837,
          null,
          null,
          null,
          null,
          0.342,
          null,
          null,
          0.436,
          null,
          null,
          null,
          null,
          0.619,
          null
         ],
         "xaxis": "x",
         "y": [
          72.522,
          82.6552,
          74.2313,
          66.8436,
          82.3544,
          76.6163,
          66.0589,
          63.8274,
          71.4079,
          62.269,
          78.5586,
          81.9765,
          70.134,
          null,
          76.8143,
          63.7461,
          64.7006,
          null,
          72.5146,
          69.5834,
          74.7153,
          70.607,
          64.0598,
          null,
          69.5129,
          77.9802
         ],
         "yaxis": "y"
        },
        {
         "hovertemplate": "Continent=North America<br>Liberal democracy index (best estimate, aggregate: average)=%{x}<br>Period life expectancy at birth - Sex: all - Age: 0=%{y}<extra></extra>",
         "legendgroup": "North America",
         "marker": {
          "color": "#19d3f3",
          "size": 10,
          "symbol": "circle"
         },
         "mode": "markers",
         "name": "North America",
         "showlegend": true,
         "type": "scattergl",
         "x": [
          null,
          null,
          null,
          null,
          0.664,
          null,
          null,
          null,
          null,
          0.745,
          null,
          0.856,
          0.058,
          null,
          null,
          0.314,
          0.468,
          null,
          null,
          null,
          0.439,
          0.231,
          0.247,
          0.681,
          null,
          0.43,
          null,
          null,
          0.126,
          0.559,
          null,
          null,
          null,
          null,
          null,
          null,
          null,
          null,
          0.652,
          null,
          0.854,
          null
         ],
         "xaxis": "x",
         "y": [
          77.0668,
          77.9127,
          75.6831,
          73.104,
          76.6502,
          73.1866,
          80.9176,
          77.4623,
          75.6746,
          81.9246,
          74.82,
          79.0857,
          77.772,
          76.0589,
          68.7266,
          72.9531,
          71.8143,
          72.1071,
          75.0125,
          81.8895,
          72.103,
          63.2372,
          72.4871,
          72.394,
          82.2238,
          74.6822,
          74.9794,
          null,
          72.983,
          77.4684,
          79.695,
          79.4823,
          70.763,
          73.1381,
          79.3093,
          76.8499,
          74.4071,
          76.9538,
          74.5032,
          76.9124,
          78.8694,
          74.7323
         ],
         "yaxis": "y"
        },
        {
         "hovertemplate": "Continent=Antarctica<br>Liberal democracy index (best estimate, aggregate: average)=%{x}<br>Period life expectancy at birth - Sex: all - Age: 0=%{y}<extra></extra>",
         "legendgroup": "Antarctica",
         "marker": {
          "color": "#FF6692",
          "size": 10,
          "symbol": "circle"
         },
         "mode": "markers",
         "name": "Antarctica",
         "showlegend": true,
         "type": "scattergl",
         "x": [
          null,
          null,
          null,
          null
         ],
         "xaxis": "x",
         "y": [
          null,
          null,
          null,
          null
         ],
         "yaxis": "y"
        },
        {
         "hovertemplate": "Continent=South America<br>Liberal democracy index (best estimate, aggregate: average)=%{x}<br>Period life expectancy at birth - Sex: all - Age: 0=%{y}<extra></extra>",
         "legendgroup": "South America",
         "marker": {
          "color": "#B6E880",
          "size": 10,
          "symbol": "circle"
         },
         "mode": "markers",
         "name": "South America",
         "showlegend": true,
         "type": "scattergl",
         "x": [
          0.598,
          0.376,
          0.779,
          0.844,
          0.551,
          0.267,
          null,
          null,
          0.454,
          0.415,
          0.69,
          null,
          0.635,
          0.835,
          0.104
         ],
         "xaxis": "x",
         "y": [
          76.7602,
          67.3182,
          74.3325,
          79.746,
          76.2573,
          76.7893,
          78.2487,
          76.7411,
          68.2015,
          73.1905,
          75.6206,
          null,
          70.8003,
          77.4827,
          73.0064
         ],
         "yaxis": "y"
        }
       ],
       "layout": {
        "height": 1000,
        "legend": {
         "font": {
          "size": 14
         },
         "title": {
          "font": {
           "size": 16
          },
          "text": "Continent"
         },
         "tracegroupgap": 0
        },
        "template": {
         "data": {
          "bar": [
           {
            "error_x": {
             "color": "#2a3f5f"
            },
            "error_y": {
             "color": "#2a3f5f"
            },
            "marker": {
             "line": {
              "color": "#E5ECF6",
              "width": 0.5
             },
             "pattern": {
              "fillmode": "overlay",
              "size": 10,
              "solidity": 0.2
             }
            },
            "type": "bar"
           }
          ],
          "barpolar": [
           {
            "marker": {
             "line": {
              "color": "#E5ECF6",
              "width": 0.5
             },
             "pattern": {
              "fillmode": "overlay",
              "size": 10,
              "solidity": 0.2
             }
            },
            "type": "barpolar"
           }
          ],
          "carpet": [
           {
            "aaxis": {
             "endlinecolor": "#2a3f5f",
             "gridcolor": "white",
             "linecolor": "white",
             "minorgridcolor": "white",
             "startlinecolor": "#2a3f5f"
            },
            "baxis": {
             "endlinecolor": "#2a3f5f",
             "gridcolor": "white",
             "linecolor": "white",
             "minorgridcolor": "white",
             "startlinecolor": "#2a3f5f"
            },
            "type": "carpet"
           }
          ],
          "choropleth": [
           {
            "colorbar": {
             "outlinewidth": 0,
             "ticks": ""
            },
            "type": "choropleth"
           }
          ],
          "contour": [
           {
            "colorbar": {
             "outlinewidth": 0,
             "ticks": ""
            },
            "colorscale": [
             [
              0,
              "#0d0887"
             ],
             [
              0.1111111111111111,
              "#46039f"
             ],
             [
              0.2222222222222222,
              "#7201a8"
             ],
             [
              0.3333333333333333,
              "#9c179e"
             ],
             [
              0.4444444444444444,
              "#bd3786"
             ],
             [
              0.5555555555555556,
              "#d8576b"
             ],
             [
              0.6666666666666666,
              "#ed7953"
             ],
             [
              0.7777777777777778,
              "#fb9f3a"
             ],
             [
              0.8888888888888888,
              "#fdca26"
             ],
             [
              1,
              "#f0f921"
             ]
            ],
            "type": "contour"
           }
          ],
          "contourcarpet": [
           {
            "colorbar": {
             "outlinewidth": 0,
             "ticks": ""
            },
            "type": "contourcarpet"
           }
          ],
          "heatmap": [
           {
            "colorbar": {
             "outlinewidth": 0,
             "ticks": ""
            },
            "colorscale": [
             [
              0,
              "#0d0887"
             ],
             [
              0.1111111111111111,
              "#46039f"
             ],
             [
              0.2222222222222222,
              "#7201a8"
             ],
             [
              0.3333333333333333,
              "#9c179e"
             ],
             [
              0.4444444444444444,
              "#bd3786"
             ],
             [
              0.5555555555555556,
              "#d8576b"
             ],
             [
              0.6666666666666666,
              "#ed7953"
             ],
             [
              0.7777777777777778,
              "#fb9f3a"
             ],
             [
              0.8888888888888888,
              "#fdca26"
             ],
             [
              1,
              "#f0f921"
             ]
            ],
            "type": "heatmap"
           }
          ],
          "heatmapgl": [
           {
            "colorbar": {
             "outlinewidth": 0,
             "ticks": ""
            },
            "colorscale": [
             [
              0,
              "#0d0887"
             ],
             [
              0.1111111111111111,
              "#46039f"
             ],
             [
              0.2222222222222222,
              "#7201a8"
             ],
             [
              0.3333333333333333,
              "#9c179e"
             ],
             [
              0.4444444444444444,
              "#bd3786"
             ],
             [
              0.5555555555555556,
              "#d8576b"
             ],
             [
              0.6666666666666666,
              "#ed7953"
             ],
             [
              0.7777777777777778,
              "#fb9f3a"
             ],
             [
              0.8888888888888888,
              "#fdca26"
             ],
             [
              1,
              "#f0f921"
             ]
            ],
            "type": "heatmapgl"
           }
          ],
          "histogram": [
           {
            "marker": {
             "pattern": {
              "fillmode": "overlay",
              "size": 10,
              "solidity": 0.2
             }
            },
            "type": "histogram"
           }
          ],
          "histogram2d": [
           {
            "colorbar": {
             "outlinewidth": 0,
             "ticks": ""
            },
            "colorscale": [
             [
              0,
              "#0d0887"
             ],
             [
              0.1111111111111111,
              "#46039f"
             ],
             [
              0.2222222222222222,
              "#7201a8"
             ],
             [
              0.3333333333333333,
              "#9c179e"
             ],
             [
              0.4444444444444444,
              "#bd3786"
             ],
             [
              0.5555555555555556,
              "#d8576b"
             ],
             [
              0.6666666666666666,
              "#ed7953"
             ],
             [
              0.7777777777777778,
              "#fb9f3a"
             ],
             [
              0.8888888888888888,
              "#fdca26"
             ],
             [
              1,
              "#f0f921"
             ]
            ],
            "type": "histogram2d"
           }
          ],
          "histogram2dcontour": [
           {
            "colorbar": {
             "outlinewidth": 0,
             "ticks": ""
            },
            "colorscale": [
             [
              0,
              "#0d0887"
             ],
             [
              0.1111111111111111,
              "#46039f"
             ],
             [
              0.2222222222222222,
              "#7201a8"
             ],
             [
              0.3333333333333333,
              "#9c179e"
             ],
             [
              0.4444444444444444,
              "#bd3786"
             ],
             [
              0.5555555555555556,
              "#d8576b"
             ],
             [
              0.6666666666666666,
              "#ed7953"
             ],
             [
              0.7777777777777778,
              "#fb9f3a"
             ],
             [
              0.8888888888888888,
              "#fdca26"
             ],
             [
              1,
              "#f0f921"
             ]
            ],
            "type": "histogram2dcontour"
           }
          ],
          "mesh3d": [
           {
            "colorbar": {
             "outlinewidth": 0,
             "ticks": ""
            },
            "type": "mesh3d"
           }
          ],
          "parcoords": [
           {
            "line": {
             "colorbar": {
              "outlinewidth": 0,
              "ticks": ""
             }
            },
            "type": "parcoords"
           }
          ],
          "pie": [
           {
            "automargin": true,
            "type": "pie"
           }
          ],
          "scatter": [
           {
            "fillpattern": {
             "fillmode": "overlay",
             "size": 10,
             "solidity": 0.2
            },
            "type": "scatter"
           }
          ],
          "scatter3d": [
           {
            "line": {
             "colorbar": {
              "outlinewidth": 0,
              "ticks": ""
             }
            },
            "marker": {
             "colorbar": {
              "outlinewidth": 0,
              "ticks": ""
             }
            },
            "type": "scatter3d"
           }
          ],
          "scattercarpet": [
           {
            "marker": {
             "colorbar": {
              "outlinewidth": 0,
              "ticks": ""
             }
            },
            "type": "scattercarpet"
           }
          ],
          "scattergeo": [
           {
            "marker": {
             "colorbar": {
              "outlinewidth": 0,
              "ticks": ""
             }
            },
            "type": "scattergeo"
           }
          ],
          "scattergl": [
           {
            "marker": {
             "colorbar": {
              "outlinewidth": 0,
              "ticks": ""
             }
            },
            "type": "scattergl"
           }
          ],
          "scattermapbox": [
           {
            "marker": {
             "colorbar": {
              "outlinewidth": 0,
              "ticks": ""
             }
            },
            "type": "scattermapbox"
           }
          ],
          "scatterpolar": [
           {
            "marker": {
             "colorbar": {
              "outlinewidth": 0,
              "ticks": ""
             }
            },
            "type": "scatterpolar"
           }
          ],
          "scatterpolargl": [
           {
            "marker": {
             "colorbar": {
              "outlinewidth": 0,
              "ticks": ""
             }
            },
            "type": "scatterpolargl"
           }
          ],
          "scatterternary": [
           {
            "marker": {
             "colorbar": {
              "outlinewidth": 0,
              "ticks": ""
             }
            },
            "type": "scatterternary"
           }
          ],
          "surface": [
           {
            "colorbar": {
             "outlinewidth": 0,
             "ticks": ""
            },
            "colorscale": [
             [
              0,
              "#0d0887"
             ],
             [
              0.1111111111111111,
              "#46039f"
             ],
             [
              0.2222222222222222,
              "#7201a8"
             ],
             [
              0.3333333333333333,
              "#9c179e"
             ],
             [
              0.4444444444444444,
              "#bd3786"
             ],
             [
              0.5555555555555556,
              "#d8576b"
             ],
             [
              0.6666666666666666,
              "#ed7953"
             ],
             [
              0.7777777777777778,
              "#fb9f3a"
             ],
             [
              0.8888888888888888,
              "#fdca26"
             ],
             [
              1,
              "#f0f921"
             ]
            ],
            "type": "surface"
           }
          ],
          "table": [
           {
            "cells": {
             "fill": {
              "color": "#EBF0F8"
             },
             "line": {
              "color": "white"
             }
            },
            "header": {
             "fill": {
              "color": "#C8D4E3"
             },
             "line": {
              "color": "white"
             }
            },
            "type": "table"
           }
          ]
         },
         "layout": {
          "annotationdefaults": {
           "arrowcolor": "#2a3f5f",
           "arrowhead": 0,
           "arrowwidth": 1
          },
          "autotypenumbers": "strict",
          "coloraxis": {
           "colorbar": {
            "outlinewidth": 0,
            "ticks": ""
           }
          },
          "colorscale": {
           "diverging": [
            [
             0,
             "#8e0152"
            ],
            [
             0.1,
             "#c51b7d"
            ],
            [
             0.2,
             "#de77ae"
            ],
            [
             0.3,
             "#f1b6da"
            ],
            [
             0.4,
             "#fde0ef"
            ],
            [
             0.5,
             "#f7f7f7"
            ],
            [
             0.6,
             "#e6f5d0"
            ],
            [
             0.7,
             "#b8e186"
            ],
            [
             0.8,
             "#7fbc41"
            ],
            [
             0.9,
             "#4d9221"
            ],
            [
             1,
             "#276419"
            ]
           ],
           "sequential": [
            [
             0,
             "#0d0887"
            ],
            [
             0.1111111111111111,
             "#46039f"
            ],
            [
             0.2222222222222222,
             "#7201a8"
            ],
            [
             0.3333333333333333,
             "#9c179e"
            ],
            [
             0.4444444444444444,
             "#bd3786"
            ],
            [
             0.5555555555555556,
             "#d8576b"
            ],
            [
             0.6666666666666666,
             "#ed7953"
            ],
            [
             0.7777777777777778,
             "#fb9f3a"
            ],
            [
             0.8888888888888888,
             "#fdca26"
            ],
            [
             1,
             "#f0f921"
            ]
           ],
           "sequentialminus": [
            [
             0,
             "#0d0887"
            ],
            [
             0.1111111111111111,
             "#46039f"
            ],
            [
             0.2222222222222222,
             "#7201a8"
            ],
            [
             0.3333333333333333,
             "#9c179e"
            ],
            [
             0.4444444444444444,
             "#bd3786"
            ],
            [
             0.5555555555555556,
             "#d8576b"
            ],
            [
             0.6666666666666666,
             "#ed7953"
            ],
            [
             0.7777777777777778,
             "#fb9f3a"
            ],
            [
             0.8888888888888888,
             "#fdca26"
            ],
            [
             1,
             "#f0f921"
            ]
           ]
          },
          "colorway": [
           "#636efa",
           "#EF553B",
           "#00cc96",
           "#ab63fa",
           "#FFA15A",
           "#19d3f3",
           "#FF6692",
           "#B6E880",
           "#FF97FF",
           "#FECB52"
          ],
          "font": {
           "color": "#2a3f5f"
          },
          "geo": {
           "bgcolor": "white",
           "lakecolor": "white",
           "landcolor": "#E5ECF6",
           "showlakes": true,
           "showland": true,
           "subunitcolor": "white"
          },
          "hoverlabel": {
           "align": "left"
          },
          "hovermode": "closest",
          "mapbox": {
           "style": "light"
          },
          "paper_bgcolor": "white",
          "plot_bgcolor": "#E5ECF6",
          "polar": {
           "angularaxis": {
            "gridcolor": "white",
            "linecolor": "white",
            "ticks": ""
           },
           "bgcolor": "#E5ECF6",
           "radialaxis": {
            "gridcolor": "white",
            "linecolor": "white",
            "ticks": ""
           }
          },
          "scene": {
           "xaxis": {
            "backgroundcolor": "#E5ECF6",
            "gridcolor": "white",
            "gridwidth": 2,
            "linecolor": "white",
            "showbackground": true,
            "ticks": "",
            "zerolinecolor": "white"
           },
           "yaxis": {
            "backgroundcolor": "#E5ECF6",
            "gridcolor": "white",
            "gridwidth": 2,
            "linecolor": "white",
            "showbackground": true,
            "ticks": "",
            "zerolinecolor": "white"
           },
           "zaxis": {
            "backgroundcolor": "#E5ECF6",
            "gridcolor": "white",
            "gridwidth": 2,
            "linecolor": "white",
            "showbackground": true,
            "ticks": "",
            "zerolinecolor": "white"
           }
          },
          "shapedefaults": {
           "line": {
            "color": "#2a3f5f"
           }
          },
          "ternary": {
           "aaxis": {
            "gridcolor": "white",
            "linecolor": "white",
            "ticks": ""
           },
           "baxis": {
            "gridcolor": "white",
            "linecolor": "white",
            "ticks": ""
           },
           "bgcolor": "#E5ECF6",
           "caxis": {
            "gridcolor": "white",
            "linecolor": "white",
            "ticks": ""
           }
          },
          "title": {
           "x": 0.05
          },
          "xaxis": {
           "automargin": true,
           "gridcolor": "white",
           "linecolor": "white",
           "ticks": "",
           "title": {
            "standoff": 15
           },
           "zerolinecolor": "white",
           "zerolinewidth": 2
          },
          "yaxis": {
           "automargin": true,
           "gridcolor": "white",
           "linecolor": "white",
           "ticks": "",
           "title": {
            "standoff": 15
           },
           "zerolinecolor": "white",
           "zerolinewidth": 2
          }
         }
        },
        "title": {
         "font": {
          "size": 24
         },
         "text": "Life Expectancy vs Liberal Democracy Index"
        },
        "width": 1500,
        "xaxis": {
         "anchor": "y",
         "domain": [
          0,
          1
         ],
         "title": {
          "font": {
           "size": 18
          },
          "text": "Liberal Democracy Index"
         }
        },
        "yaxis": {
         "anchor": "x",
         "domain": [
          0,
          1
         ],
         "title": {
          "font": {
           "size": 18
          },
          "text": "Life Expectancy"
         }
        }
       }
      }
     },
     "metadata": {},
     "output_type": "display_data"
    }
   ],
   "source": [
    "import plotly.express as px\n",
    "\n",
    "# Create the scatter plot\n",
    "fig = px.scatter(\n",
    "    df,\n",
    "    x='Liberal democracy index (best estimate, aggregate: average)',\n",
    "    y='Period life expectancy at birth - Sex: all - Age: 0',\n",
    "    color='Continent',\n",
    "    title='Life Expectancy vs Liberal Democracy Index'\n",
    ")\n",
    "\n",
    "# Increase the size of the points\n",
    "fig.update_traces(marker=dict(size=10))  # Adjust the size as needed\n",
    "\n",
    "# Enhance title and labels\n",
    "fig.update_layout(\n",
    "    title_text='Life Expectancy vs Liberal Democracy Index',\n",
    "    title_font_size=24,\n",
    "    xaxis_title='Liberal Democracy Index',\n",
    "    xaxis_title_font_size=18,\n",
    "    yaxis_title='Life Expectancy',\n",
    "    yaxis_title_font_size=18,\n",
    "    legend_title_text='Continent',\n",
    "    legend_title_font_size=16,\n",
    "    legend_font_size=14,\n",
    "    height=1000,\n",
    "    width = 1500\n",
    ")\n",
    "\n",
    "# Show the plot\n",
    "fig.show()\n"
   ]
  },
  {
   "cell_type": "code",
   "execution_count": 109,
   "id": "c7247d22",
   "metadata": {},
   "outputs": [
    {
     "name": "stdout",
     "output_type": "stream",
     "text": [
      "Package                   Version\n",
      "------------------------- --------------\n",
      "anyio                     4.4.0\n",
      "argon2-cffi               23.1.0\n",
      "argon2-cffi-bindings      21.2.0\n",
      "arrow                     1.3.0\n",
      "asttokens                 2.4.1\n",
      "async-lru                 2.0.4\n",
      "attrs                     23.2.0\n",
      "Babel                     2.15.0\n",
      "beautifulsoup4            4.12.3\n",
      "bleach                    6.1.0\n",
      "certifi                   2024.7.4\n",
      "cffi                      1.16.0\n",
      "charset-normalizer        3.3.2\n",
      "comm                      0.2.2\n",
      "contourpy                 1.2.1\n",
      "cycler                    0.12.1\n",
      "debugpy                   1.8.2\n",
      "decorator                 5.1.1\n",
      "defusedxml                0.7.1\n",
      "executing                 2.0.1\n",
      "fastjsonschema            2.20.0\n",
      "fonttools                 4.53.1\n",
      "fqdn                      1.5.1\n",
      "h11                       0.14.0\n",
      "httpcore                  1.0.5\n",
      "httpx                     0.27.0\n",
      "idna                      3.7\n",
      "ipykernel                 6.29.5\n",
      "ipython                   8.26.0\n",
      "ipywidgets                8.1.3\n",
      "isoduration               20.11.0\n",
      "jedi                      0.19.1\n",
      "Jinja2                    3.1.4\n",
      "json5                     0.9.25\n",
      "jsonpointer               3.0.0\n",
      "jsonschema                4.23.0\n",
      "jsonschema-specifications 2023.12.1\n",
      "jupyter                   1.0.0\n",
      "jupyter_client            8.6.2\n",
      "jupyter-console           6.6.3\n",
      "jupyter_core              5.7.2\n",
      "jupyter-events            0.10.0\n",
      "jupyter-lsp               2.2.5\n",
      "jupyter_server            2.14.2\n",
      "jupyter_server_terminals  0.5.3\n",
      "jupyterlab                4.2.4\n",
      "jupyterlab_pygments       0.3.0\n",
      "jupyterlab_server         2.27.3\n",
      "jupyterlab_widgets        3.0.11\n",
      "kaleido                   0.2.1\n",
      "kiwisolver                1.4.5\n",
      "lxml                      5.2.2\n",
      "MarkupSafe                2.1.5\n",
      "matplotlib                3.9.1\n",
      "matplotlib-inline         0.1.7\n",
      "mistune                   3.0.2\n",
      "nbclient                  0.10.0\n",
      "nbconvert                 7.16.4\n",
      "nbformat                  5.10.4\n",
      "nest-asyncio              1.6.0\n",
      "notebook                  7.2.1\n",
      "notebook_shim             0.2.4\n",
      "numpy                     2.0.1\n",
      "overrides                 7.7.0\n",
      "packaging                 24.1\n",
      "pandas                    2.2.2\n",
      "pandocfilters             1.5.1\n",
      "parso                     0.8.4\n",
      "pexpect                   4.9.0\n",
      "pillow                    10.4.0\n",
      "pip                       24.0\n",
      "platformdirs              4.2.2\n",
      "plotly                    5.23.0\n",
      "prometheus_client         0.20.0\n",
      "prompt_toolkit            3.0.47\n",
      "psutil                    6.0.0\n",
      "ptyprocess                0.7.0\n",
      "pure_eval                 0.2.3\n",
      "pycparser                 2.22\n",
      "Pygments                  2.18.0\n",
      "pyparsing                 3.1.2\n",
      "python-dateutil           2.9.0.post0\n",
      "python-json-logger        2.0.7\n",
      "python-pptx               0.6.23\n",
      "pytz                      2024.1\n",
      "PyYAML                    6.0.1\n",
      "pyzmq                     26.0.3\n",
      "qtconsole                 5.5.2\n",
      "QtPy                      2.4.1\n",
      "referencing               0.35.1\n",
      "requests                  2.32.3\n",
      "rfc3339-validator         0.1.4\n",
      "rfc3986-validator         0.1.1\n",
      "rpds-py                   0.19.1\n",
      "seaborn                   0.13.2\n",
      "Send2Trash                1.8.3\n",
      "setuptools                65.5.0\n",
      "six                       1.16.0\n",
      "sniffio                   1.3.1\n",
      "soupsieve                 2.5\n",
      "stack-data                0.6.3\n",
      "tenacity                  8.5.0\n",
      "terminado                 0.18.1\n",
      "tinycss2                  1.3.0\n",
      "tornado                   6.4.1\n",
      "traitlets                 5.14.3\n",
      "types-python-dateutil     2.9.0.20240316\n",
      "typing_extensions         4.12.2\n",
      "tzdata                    2024.1\n",
      "uri-template              1.3.0\n",
      "urllib3                   2.2.2\n",
      "wcwidth                   0.2.13\n",
      "webcolors                 24.6.0\n",
      "webencodings              0.5.1\n",
      "websocket-client          1.8.0\n",
      "widgetsnbextension        4.0.11\n",
      "XlsxWriter                3.2.0\n",
      "\n",
      "\u001b[1m[\u001b[0m\u001b[34;49mnotice\u001b[0m\u001b[1;39;49m]\u001b[0m\u001b[39;49m A new release of pip is available: \u001b[0m\u001b[31;49m24.0\u001b[0m\u001b[39;49m -> \u001b[0m\u001b[32;49m24.1.2\u001b[0m\n",
      "\u001b[1m[\u001b[0m\u001b[34;49mnotice\u001b[0m\u001b[1;39;49m]\u001b[0m\u001b[39;49m To update, run: \u001b[0m\u001b[32;49mpip install --upgrade pip\u001b[0m\n"
     ]
    }
   ],
   "source": [
    "!pip list"
   ]
  },
  {
   "cell_type": "code",
   "execution_count": 123,
   "id": "fcb4dbbb",
   "metadata": {},
   "outputs": [
    {
     "name": "stderr",
     "output_type": "stream",
     "text": [
      "/tmp/ipykernel_14344/3917845597.py:8: SettingWithCopyWarning:\n",
      "\n",
      "\n",
      "A value is trying to be set on a copy of a slice from a DataFrame.\n",
      "Try using .loc[row_indexer,col_indexer] = value instead\n",
      "\n",
      "See the caveats in the documentation: https://pandas.pydata.org/pandas-docs/stable/user_guide/indexing.html#returning-a-view-versus-a-copy\n",
      "\n"
     ]
    },
    {
     "data": {
      "application/vnd.plotly.v1+json": {
       "config": {
        "plotlyServerURL": "https://plot.ly"
       },
       "data": [
        {
         "hovertemplate": "<b>%{hovertext}</b><br><br>Continent=Asia<br>Liberal Democracy Index=%{x}<br>Life Expectancy=%{y}<br>Scaled Population=%{marker.size}<extra></extra>",
         "hovertext": [
          "Afghanistan",
          "Armenia",
          "Azerbaijan",
          "Bahrain",
          "Bangladesh",
          "Bhutan",
          "Cambodia",
          "China",
          "East Timor",
          "Georgia",
          "Hong Kong",
          "India",
          "Indonesia",
          "Iran",
          "Iraq",
          "Israel",
          "Japan",
          "Jordan",
          "Kazakhstan",
          "Kuwait",
          "Kyrgyzstan",
          "Laos",
          "Lebanon",
          "Malaysia",
          "Maldives",
          "Mongolia",
          "Myanmar",
          "Nepal",
          "North Korea",
          "Oman",
          "Pakistan",
          "Philippines",
          "Qatar",
          "Saudi Arabia",
          "Singapore",
          "South Korea",
          "Sri Lanka",
          "Syria",
          "Taiwan",
          "Tajikistan",
          "Thailand",
          "Turkey",
          "Turkmenistan",
          "United Arab Emirates",
          "Uzbekistan",
          "Vietnam",
          "Yemen"
         ],
         "legendgroup": "Asia",
         "marker": {
          "color": "#EF553B",
          "size": [
           33.831765,
           2.921179,
           9.752859,
           1.369656,
           159.38318,
           0.740624,
           15.623253,
           1396.134164,
           1.205134,
           3.791571,
           7.366411,
           1328.024492,
           261.799249,
           82.619365,
           37.560535,
           8.052915,
           127.275868,
           9.54473,
           18.084173,
           3.834464,
           6.001876,
           6.80165,
           6.47247,
           31.232796,
           0.428165,
           2.976528,
           51.08906,
           27.823631,
           25.575355,
           4.184897,
           217.290885,
           105.312986,
           2.427337,
           29.974944,
           5.525343,
           50.983908,
           21.729974,
           19.424615,
           23.529259,
           8.643839,
           70.54079,
           80.014221,
           6.215775,
           8.674629,
           30.749349,
           92.823254,
           31.159379
          ],
          "sizemode": "area",
          "sizeref": 0.198861210125,
          "symbol": "circle"
         },
         "mode": "markers",
         "name": "Asia",
         "showlegend": true,
         "type": "scattergl",
         "x": [
          0.225,
          0.207,
          0.065,
          0.044,
          0.111,
          0.485,
          0.114,
          0.052,
          0.462,
          0.512,
          0.301,
          0.429,
          0.513,
          0.13,
          0.238,
          0.659,
          0.742,
          0.222,
          0.113,
          0.287,
          0.314,
          0.078,
          0.298,
          0.207,
          0.191,
          0.543,
          0.182,
          0.537,
          0.015,
          0.139,
          0.268,
          0.429,
          0.092,
          0.048,
          0.333,
          0.608,
          0.401,
          0.025,
          0.684,
          0.044,
          0.101,
          0.236,
          0.026,
          0.09,
          0.036,
          0.118,
          0.069
         ],
         "xaxis": "x",
         "y": [
          62.6587,
          74.4361,
          71.4512,
          79.4046,
          70.4913,
          70.3433,
          69.8725,
          76.9771,
          67.1373,
          73.2972,
          84.2888,
          69.6363,
          69.6989,
          75.1239,
          69.4403,
          82.0999,
          83.8928,
          75.0112,
          70.7265,
          79.5624,
          69.9963,
          66.67,
          79.2294,
          75.0942,
          79.6953,
          69.4977,
          65.5613,
          67.4562,
          72.7844,
          77.6869,
          65.6971,
          71.2684,
          80.0639,
          76.9185,
          82.8265,
          82.5605,
          74.9275,
          65.1239,
          79.9471,
          69.3059,
          77.7166,
          76.646,
          68.7816,
          79.2232,
          70.4753,
          73.8763,
          65.8734
         ],
         "yaxis": "y"
        },
        {
         "hovertemplate": "<b>%{hovertext}</b><br><br>Continent=Europe<br>Liberal Democracy Index=%{x}<br>Life Expectancy=%{y}<br>Scaled Population=%{marker.size}<extra></extra>",
         "hovertext": [
          "Albania",
          "Austria",
          "Belarus",
          "Belgium",
          "Bosnia and Herzegovina",
          "Bulgaria",
          "Croatia",
          "Cyprus",
          "Czechia",
          "Denmark",
          "Estonia",
          "Finland",
          "France",
          "Germany",
          "Greece",
          "Hungary",
          "Iceland",
          "Ireland",
          "Italy",
          "Kosovo",
          "Latvia",
          "Lithuania",
          "Luxembourg",
          "Malta",
          "Moldova",
          "Montenegro",
          "Netherlands",
          "North Macedonia",
          "Norway",
          "Poland",
          "Portugal",
          "Romania",
          "Russia",
          "Serbia",
          "Slovakia",
          "Slovenia",
          "Spain",
          "Sweden",
          "Switzerland",
          "Ukraine",
          "United Kingdom"
         ],
         "legendgroup": "Europe",
         "marker": {
          "color": "#00cc96",
          "size": [
           2.898634,
           8.644037,
           9.487288,
           11.275332,
           3.518541,
           7.177516,
           4.183732,
           1.219504,
           10.524419,
           5.683698,
           1.314581,
           5.479718,
           64.916336,
           82.077546,
           10.820901,
           9.83921,
           0.330962,
           4.702497,
           60.575314,
           1.77902,
           1.977874,
           2.905772,
           0.569541,
           0.444979,
           3.287169,
           0.628147,
           17.107427,
           1.980366,
           5.189776,
           38.266314,
           10.370266,
           19.871018,
           145.307611,
           7.177257,
           5.420279,
           2.059947,
           46.683683,
           9.799482,
           8.28394,
           45.784903,
           65.382107
          ],
          "sizemode": "area",
          "sizeref": 0.198861210125,
          "symbol": "circle"
         },
         "mode": "markers",
         "name": "Europe",
         "showlegend": true,
         "type": "scattergl",
         "x": [
          0.442,
          0.805,
          0.102,
          0.841,
          0.368,
          0.571,
          0.702,
          0.742,
          0.776,
          0.895,
          0.846,
          0.824,
          0.822,
          0.852,
          0.787,
          0.485,
          0.785,
          0.83,
          0.783,
          0.447,
          0.764,
          0.782,
          0.795,
          0.59,
          0.472,
          0.372,
          0.835,
          0.268,
          0.864,
          0.778,
          0.832,
          0.599,
          0.11,
          0.344,
          0.735,
          0.804,
          0.766,
          0.884,
          0.861,
          0.226,
          0.789
         ],
         "xaxis": "x",
         "y": [
          78.6441,
          81.1594,
          73.9874,
          80.8898,
          76.1819,
          74.6325,
          77.5599,
          80.9665,
          78.58,
          80.738,
          77.6563,
          81.4178,
          82.1857,
          80.5742,
          80.6676,
          75.6517,
          82.3508,
          81.4163,
          82.5255,
          78.9219,
          74.6854,
          74.6103,
          81.8384,
          82.9621,
          69.2396,
          76.7561,
          81.4821,
          75.9814,
          82.2718,
          77.4151,
          81.2093,
          74.7901,
          72.1006,
          75.8172,
          76.6493,
          80.8218,
          82.6464,
          82.1834,
          82.8468,
          73.4581,
          80.9238
         ],
         "yaxis": "y"
        },
        {
         "hovertemplate": "<b>%{hovertext}</b><br><br>Continent=Africa<br>Liberal Democracy Index=%{x}<br>Life Expectancy=%{y}<br>Scaled Population=%{marker.size}<extra></extra>",
         "hovertext": [
          "Algeria",
          "Angola",
          "Benin",
          "Botswana",
          "Burkina Faso",
          "Burundi",
          "Cameroon",
          "Cape Verde",
          "Central African Republic",
          "Chad",
          "Comoros",
          "Congo",
          "Cote d'Ivoire",
          "Democratic Republic of Congo",
          "Djibouti",
          "Egypt",
          "Equatorial Guinea",
          "Eritrea",
          "Eswatini",
          "Ethiopia",
          "Gabon",
          "Gambia",
          "Ghana",
          "Guinea",
          "Guinea-Bissau",
          "Kenya",
          "Lesotho",
          "Liberia",
          "Libya",
          "Madagascar",
          "Malawi",
          "Mali",
          "Mauritania",
          "Mauritius",
          "Morocco",
          "Mozambique",
          "Namibia",
          "Niger",
          "Nigeria",
          "Rwanda",
          "Sao Tome and Principe",
          "Senegal",
          "Seychelles",
          "Sierra Leone",
          "Somalia",
          "South Africa",
          "South Sudan",
          "Sudan",
          "Tanzania",
          "Togo",
          "Tunisia",
          "Uganda",
          "Zambia",
          "Zimbabwe"
         ],
         "legendgroup": "Africa",
         "marker": {
          "color": "#ab63fa",
          "size": [
           40.019528,
           28.157801,
           11.360681,
           2.203276,
           18.777488,
           11.04758,
           22.763419,
           0.512405,
           4.629323,
           14.647625,
           0.726685,
           5.097583,
           25.246346,
           81.035535,
           1.020315,
           99.597333,
           1.453926,
           3.105554,
           1.142823,
           103.86714,
           2.04099,
           2.224532,
           28.696071,
           11.767077,
           1.786461,
           47.088527,
           2.104613,
           4.659438,
           6.531825,
           25.426704,
           17.085585,
           18.593022,
           3.965959,
           1.292282,
           34.60759,
           26.547575,
           2.374305,
           19.939497,
           190.671883,
           11.640027,
           0.200306,
           14.593336,
           0.107247,
           7.037659,
           13.806969,
           56.723537,
           11.107569,
           40.024436,
           52.020959,
           7.663199,
           11.40227,
           37.531444,
           16.39909,
           14.399009
          ],
          "sizemode": "area",
          "sizeref": 0.198861210125,
          "symbol": "circle"
         },
         "mode": "markers",
         "name": "Africa",
         "showlegend": true,
         "type": "scattergl",
         "x": [
          0.171,
          0.134,
          0.534,
          0.591,
          0.31,
          0.061,
          0.154,
          0.712,
          0.181,
          0.093,
          0.25,
          0.099,
          0.329,
          0.128,
          0.115,
          0.095,
          0.054,
          0.006,
          0.098,
          0.102,
          0.228,
          0.107,
          0.63,
          0.164,
          0.307,
          0.421,
          0.449,
          0.452,
          0.173,
          0.251,
          0.444,
          0.35,
          0.181,
          0.632,
          0.231,
          0.305,
          0.592,
          0.483,
          0.41,
          0.136,
          0.579,
          0.586,
          0.429,
          0.312,
          0.124,
          0.64,
          0.064,
          0.065,
          0.398,
          0.273,
          0.627,
          0.244,
          0.358,
          0.207
         ],
         "xaxis": "x",
         "y": [
          75.622,
          60.6546,
          59.3771,
          63.8183,
          58.8454,
          60.2172,
          59.658,
          74.6195,
          52.793,
          51.5888,
          62.8956,
          63.2329,
          57.7624,
          58.49,
          61.957,
          70.4831,
          60.1032,
          66.0333,
          55.0192,
          63.6492,
          65.4599,
          62.494,
          63.1752,
          58.1336,
          59.1282,
          61.8922,
          51.1014,
          59.1485,
          71.6982,
          64.339,
          61.3781,
          58.3632,
          64.4847,
          74.9754,
          72.9197,
          58.1509,
          60.7002,
          61.0827,
          51.8413,
          65.2977,
          67.2491,
          66.8794,
          73.6979,
          57.189,
          54.857,
          63.9499,
          55.5665,
          64.6587,
          64.6507,
          59.3958,
          75.6919,
          61.0856,
          61.2078,
          59.5911
         ],
         "yaxis": "y"
        },
        {
         "hovertemplate": "<b>%{hovertext}</b><br><br>Continent=South America<br>Liberal Democracy Index=%{x}<br>Life Expectancy=%{y}<br>Scaled Population=%{marker.size}<extra></extra>",
         "hovertext": [
          "Argentina",
          "Bolivia",
          "Brazil",
          "Chile",
          "Colombia",
          "Ecuador",
          "Guyana",
          "Paraguay",
          "Peru",
          "Suriname",
          "Uruguay",
          "Venezuela"
         ],
         "legendgroup": "South America",
         "marker": {
          "color": "#FFA15A",
          "size": [
           43.477009,
           11.014707,
           201.675534,
           18.047628,
           46.969937,
           16.266228,
           0.758785,
           6.159106,
           30.4576,
           0.581633,
           3.368022,
           30.57397
          ],
          "sizemode": "area",
          "sizeref": 0.198861210125,
          "symbol": "circle"
         },
         "mode": "markers",
         "name": "South America",
         "showlegend": true,
         "type": "scattergl",
         "x": [
          0.598,
          0.376,
          0.779,
          0.844,
          0.551,
          0.267,
          0.454,
          0.415,
          0.69,
          0.635,
          0.835,
          0.104
         ],
         "xaxis": "x",
         "y": [
          76.7602,
          67.3182,
          74.3325,
          79.746,
          76.2573,
          76.7893,
          68.2015,
          73.1905,
          75.6206,
          70.8003,
          77.4827,
          73.0064
         ],
         "yaxis": "y"
        },
        {
         "hovertemplate": "<b>%{hovertext}</b><br><br>Continent=Oceania<br>Liberal Democracy Index=%{x}<br>Life Expectancy=%{y}<br>Scaled Population=%{marker.size}<extra></extra>",
         "hovertext": [
          "Australia",
          "Fiji",
          "New Zealand",
          "Papua New Guinea",
          "Solomon Islands",
          "Vanuatu"
         ],
         "legendgroup": "Oceania",
         "marker": {
          "color": "#19d3f3",
          "size": [
           23.947998,
           0.918583,
           4.614037,
           8.743247,
           0.639423,
           0.266116
          ],
          "sizemode": "area",
          "sizeref": 0.198861210125,
          "symbol": "circle"
         },
         "mode": "markers",
         "name": "Oceania",
         "showlegend": true,
         "type": "scattergl",
         "x": [
          0.825,
          0.275,
          0.837,
          0.342,
          0.436,
          0.619
         ],
         "xaxis": "x",
         "y": [
          82.6552,
          66.8436,
          81.9765,
          64.7006,
          69.5834,
          69.5129
         ],
         "yaxis": "y"
        },
        {
         "hovertemplate": "<b>%{hovertext}</b><br><br>Continent=North America<br>Liberal Democracy Index=%{x}<br>Life Expectancy=%{y}<br>Scaled Population=%{marker.size}<extra></extra>",
         "hovertext": [
          "Barbados",
          "Canada",
          "Costa Rica",
          "Cuba",
          "Dominican Republic",
          "El Salvador",
          "Guatemala",
          "Haiti",
          "Honduras",
          "Jamaica",
          "Mexico",
          "Nicaragua",
          "Panama",
          "Trinidad and Tobago",
          "United States"
         ],
         "legendgroup": "North America",
         "marker": {
          "color": "#FF6692",
          "size": [
           0.278997,
           35.962236,
           4.818044,
           11.275068,
           10.434826,
           6.183674,
           15.971745,
           10.523249,
           9.237305,
           2.802535,
           121.07231,
           6.149418,
           3.960036,
           1.429189,
           326.126498
          ],
          "sizemode": "area",
          "sizeref": 0.198861210125,
          "symbol": "circle"
         },
         "mode": "markers",
         "name": "North America",
         "showlegend": true,
         "type": "scattergl",
         "x": [
          0.664,
          0.745,
          0.856,
          0.058,
          0.314,
          0.468,
          0.439,
          0.231,
          0.247,
          0.681,
          0.43,
          0.126,
          0.559,
          0.652,
          0.854
         ],
         "xaxis": "x",
         "y": [
          76.6502,
          81.9246,
          79.0857,
          77.772,
          72.9531,
          71.8143,
          72.103,
          63.2372,
          72.4871,
          72.394,
          74.6822,
          72.983,
          77.4684,
          74.5032,
          78.8694
         ],
         "yaxis": "y"
        }
       ],
       "layout": {
        "height": 1200,
        "legend": {
         "itemsizing": "constant",
         "title": {
          "text": "Continent"
         },
         "tracegroupgap": 0
        },
        "template": {
         "data": {
          "bar": [
           {
            "error_x": {
             "color": "#f2f5fa"
            },
            "error_y": {
             "color": "#f2f5fa"
            },
            "marker": {
             "line": {
              "color": "rgb(17,17,17)",
              "width": 0.5
             },
             "pattern": {
              "fillmode": "overlay",
              "size": 10,
              "solidity": 0.2
             }
            },
            "type": "bar"
           }
          ],
          "barpolar": [
           {
            "marker": {
             "line": {
              "color": "rgb(17,17,17)",
              "width": 0.5
             },
             "pattern": {
              "fillmode": "overlay",
              "size": 10,
              "solidity": 0.2
             }
            },
            "type": "barpolar"
           }
          ],
          "carpet": [
           {
            "aaxis": {
             "endlinecolor": "#A2B1C6",
             "gridcolor": "#506784",
             "linecolor": "#506784",
             "minorgridcolor": "#506784",
             "startlinecolor": "#A2B1C6"
            },
            "baxis": {
             "endlinecolor": "#A2B1C6",
             "gridcolor": "#506784",
             "linecolor": "#506784",
             "minorgridcolor": "#506784",
             "startlinecolor": "#A2B1C6"
            },
            "type": "carpet"
           }
          ],
          "choropleth": [
           {
            "colorbar": {
             "outlinewidth": 0,
             "ticks": ""
            },
            "type": "choropleth"
           }
          ],
          "contour": [
           {
            "colorbar": {
             "outlinewidth": 0,
             "ticks": ""
            },
            "colorscale": [
             [
              0,
              "#0d0887"
             ],
             [
              0.1111111111111111,
              "#46039f"
             ],
             [
              0.2222222222222222,
              "#7201a8"
             ],
             [
              0.3333333333333333,
              "#9c179e"
             ],
             [
              0.4444444444444444,
              "#bd3786"
             ],
             [
              0.5555555555555556,
              "#d8576b"
             ],
             [
              0.6666666666666666,
              "#ed7953"
             ],
             [
              0.7777777777777778,
              "#fb9f3a"
             ],
             [
              0.8888888888888888,
              "#fdca26"
             ],
             [
              1,
              "#f0f921"
             ]
            ],
            "type": "contour"
           }
          ],
          "contourcarpet": [
           {
            "colorbar": {
             "outlinewidth": 0,
             "ticks": ""
            },
            "type": "contourcarpet"
           }
          ],
          "heatmap": [
           {
            "colorbar": {
             "outlinewidth": 0,
             "ticks": ""
            },
            "colorscale": [
             [
              0,
              "#0d0887"
             ],
             [
              0.1111111111111111,
              "#46039f"
             ],
             [
              0.2222222222222222,
              "#7201a8"
             ],
             [
              0.3333333333333333,
              "#9c179e"
             ],
             [
              0.4444444444444444,
              "#bd3786"
             ],
             [
              0.5555555555555556,
              "#d8576b"
             ],
             [
              0.6666666666666666,
              "#ed7953"
             ],
             [
              0.7777777777777778,
              "#fb9f3a"
             ],
             [
              0.8888888888888888,
              "#fdca26"
             ],
             [
              1,
              "#f0f921"
             ]
            ],
            "type": "heatmap"
           }
          ],
          "heatmapgl": [
           {
            "colorbar": {
             "outlinewidth": 0,
             "ticks": ""
            },
            "colorscale": [
             [
              0,
              "#0d0887"
             ],
             [
              0.1111111111111111,
              "#46039f"
             ],
             [
              0.2222222222222222,
              "#7201a8"
             ],
             [
              0.3333333333333333,
              "#9c179e"
             ],
             [
              0.4444444444444444,
              "#bd3786"
             ],
             [
              0.5555555555555556,
              "#d8576b"
             ],
             [
              0.6666666666666666,
              "#ed7953"
             ],
             [
              0.7777777777777778,
              "#fb9f3a"
             ],
             [
              0.8888888888888888,
              "#fdca26"
             ],
             [
              1,
              "#f0f921"
             ]
            ],
            "type": "heatmapgl"
           }
          ],
          "histogram": [
           {
            "marker": {
             "pattern": {
              "fillmode": "overlay",
              "size": 10,
              "solidity": 0.2
             }
            },
            "type": "histogram"
           }
          ],
          "histogram2d": [
           {
            "colorbar": {
             "outlinewidth": 0,
             "ticks": ""
            },
            "colorscale": [
             [
              0,
              "#0d0887"
             ],
             [
              0.1111111111111111,
              "#46039f"
             ],
             [
              0.2222222222222222,
              "#7201a8"
             ],
             [
              0.3333333333333333,
              "#9c179e"
             ],
             [
              0.4444444444444444,
              "#bd3786"
             ],
             [
              0.5555555555555556,
              "#d8576b"
             ],
             [
              0.6666666666666666,
              "#ed7953"
             ],
             [
              0.7777777777777778,
              "#fb9f3a"
             ],
             [
              0.8888888888888888,
              "#fdca26"
             ],
             [
              1,
              "#f0f921"
             ]
            ],
            "type": "histogram2d"
           }
          ],
          "histogram2dcontour": [
           {
            "colorbar": {
             "outlinewidth": 0,
             "ticks": ""
            },
            "colorscale": [
             [
              0,
              "#0d0887"
             ],
             [
              0.1111111111111111,
              "#46039f"
             ],
             [
              0.2222222222222222,
              "#7201a8"
             ],
             [
              0.3333333333333333,
              "#9c179e"
             ],
             [
              0.4444444444444444,
              "#bd3786"
             ],
             [
              0.5555555555555556,
              "#d8576b"
             ],
             [
              0.6666666666666666,
              "#ed7953"
             ],
             [
              0.7777777777777778,
              "#fb9f3a"
             ],
             [
              0.8888888888888888,
              "#fdca26"
             ],
             [
              1,
              "#f0f921"
             ]
            ],
            "type": "histogram2dcontour"
           }
          ],
          "mesh3d": [
           {
            "colorbar": {
             "outlinewidth": 0,
             "ticks": ""
            },
            "type": "mesh3d"
           }
          ],
          "parcoords": [
           {
            "line": {
             "colorbar": {
              "outlinewidth": 0,
              "ticks": ""
             }
            },
            "type": "parcoords"
           }
          ],
          "pie": [
           {
            "automargin": true,
            "type": "pie"
           }
          ],
          "scatter": [
           {
            "marker": {
             "line": {
              "color": "#283442"
             }
            },
            "type": "scatter"
           }
          ],
          "scatter3d": [
           {
            "line": {
             "colorbar": {
              "outlinewidth": 0,
              "ticks": ""
             }
            },
            "marker": {
             "colorbar": {
              "outlinewidth": 0,
              "ticks": ""
             }
            },
            "type": "scatter3d"
           }
          ],
          "scattercarpet": [
           {
            "marker": {
             "colorbar": {
              "outlinewidth": 0,
              "ticks": ""
             }
            },
            "type": "scattercarpet"
           }
          ],
          "scattergeo": [
           {
            "marker": {
             "colorbar": {
              "outlinewidth": 0,
              "ticks": ""
             }
            },
            "type": "scattergeo"
           }
          ],
          "scattergl": [
           {
            "marker": {
             "line": {
              "color": "#283442"
             }
            },
            "type": "scattergl"
           }
          ],
          "scattermapbox": [
           {
            "marker": {
             "colorbar": {
              "outlinewidth": 0,
              "ticks": ""
             }
            },
            "type": "scattermapbox"
           }
          ],
          "scatterpolar": [
           {
            "marker": {
             "colorbar": {
              "outlinewidth": 0,
              "ticks": ""
             }
            },
            "type": "scatterpolar"
           }
          ],
          "scatterpolargl": [
           {
            "marker": {
             "colorbar": {
              "outlinewidth": 0,
              "ticks": ""
             }
            },
            "type": "scatterpolargl"
           }
          ],
          "scatterternary": [
           {
            "marker": {
             "colorbar": {
              "outlinewidth": 0,
              "ticks": ""
             }
            },
            "type": "scatterternary"
           }
          ],
          "surface": [
           {
            "colorbar": {
             "outlinewidth": 0,
             "ticks": ""
            },
            "colorscale": [
             [
              0,
              "#0d0887"
             ],
             [
              0.1111111111111111,
              "#46039f"
             ],
             [
              0.2222222222222222,
              "#7201a8"
             ],
             [
              0.3333333333333333,
              "#9c179e"
             ],
             [
              0.4444444444444444,
              "#bd3786"
             ],
             [
              0.5555555555555556,
              "#d8576b"
             ],
             [
              0.6666666666666666,
              "#ed7953"
             ],
             [
              0.7777777777777778,
              "#fb9f3a"
             ],
             [
              0.8888888888888888,
              "#fdca26"
             ],
             [
              1,
              "#f0f921"
             ]
            ],
            "type": "surface"
           }
          ],
          "table": [
           {
            "cells": {
             "fill": {
              "color": "#506784"
             },
             "line": {
              "color": "rgb(17,17,17)"
             }
            },
            "header": {
             "fill": {
              "color": "#2a3f5f"
             },
             "line": {
              "color": "rgb(17,17,17)"
             }
            },
            "type": "table"
           }
          ]
         },
         "layout": {
          "annotationdefaults": {
           "arrowcolor": "#f2f5fa",
           "arrowhead": 0,
           "arrowwidth": 1
          },
          "autotypenumbers": "strict",
          "coloraxis": {
           "colorbar": {
            "outlinewidth": 0,
            "ticks": ""
           }
          },
          "colorscale": {
           "diverging": [
            [
             0,
             "#8e0152"
            ],
            [
             0.1,
             "#c51b7d"
            ],
            [
             0.2,
             "#de77ae"
            ],
            [
             0.3,
             "#f1b6da"
            ],
            [
             0.4,
             "#fde0ef"
            ],
            [
             0.5,
             "#f7f7f7"
            ],
            [
             0.6,
             "#e6f5d0"
            ],
            [
             0.7,
             "#b8e186"
            ],
            [
             0.8,
             "#7fbc41"
            ],
            [
             0.9,
             "#4d9221"
            ],
            [
             1,
             "#276419"
            ]
           ],
           "sequential": [
            [
             0,
             "#0d0887"
            ],
            [
             0.1111111111111111,
             "#46039f"
            ],
            [
             0.2222222222222222,
             "#7201a8"
            ],
            [
             0.3333333333333333,
             "#9c179e"
            ],
            [
             0.4444444444444444,
             "#bd3786"
            ],
            [
             0.5555555555555556,
             "#d8576b"
            ],
            [
             0.6666666666666666,
             "#ed7953"
            ],
            [
             0.7777777777777778,
             "#fb9f3a"
            ],
            [
             0.8888888888888888,
             "#fdca26"
            ],
            [
             1,
             "#f0f921"
            ]
           ],
           "sequentialminus": [
            [
             0,
             "#0d0887"
            ],
            [
             0.1111111111111111,
             "#46039f"
            ],
            [
             0.2222222222222222,
             "#7201a8"
            ],
            [
             0.3333333333333333,
             "#9c179e"
            ],
            [
             0.4444444444444444,
             "#bd3786"
            ],
            [
             0.5555555555555556,
             "#d8576b"
            ],
            [
             0.6666666666666666,
             "#ed7953"
            ],
            [
             0.7777777777777778,
             "#fb9f3a"
            ],
            [
             0.8888888888888888,
             "#fdca26"
            ],
            [
             1,
             "#f0f921"
            ]
           ]
          },
          "colorway": [
           "#636efa",
           "#EF553B",
           "#00cc96",
           "#ab63fa",
           "#FFA15A",
           "#19d3f3",
           "#FF6692",
           "#B6E880",
           "#FF97FF",
           "#FECB52"
          ],
          "font": {
           "color": "#f2f5fa"
          },
          "geo": {
           "bgcolor": "rgb(17,17,17)",
           "lakecolor": "rgb(17,17,17)",
           "landcolor": "rgb(17,17,17)",
           "showlakes": true,
           "showland": true,
           "subunitcolor": "#506784"
          },
          "hoverlabel": {
           "align": "left"
          },
          "hovermode": "closest",
          "mapbox": {
           "style": "dark"
          },
          "paper_bgcolor": "rgb(17,17,17)",
          "plot_bgcolor": "rgb(17,17,17)",
          "polar": {
           "angularaxis": {
            "gridcolor": "#506784",
            "linecolor": "#506784",
            "ticks": ""
           },
           "bgcolor": "rgb(17,17,17)",
           "radialaxis": {
            "gridcolor": "#506784",
            "linecolor": "#506784",
            "ticks": ""
           }
          },
          "scene": {
           "xaxis": {
            "backgroundcolor": "rgb(17,17,17)",
            "gridcolor": "#506784",
            "gridwidth": 2,
            "linecolor": "#506784",
            "showbackground": true,
            "ticks": "",
            "zerolinecolor": "#C8D4E3"
           },
           "yaxis": {
            "backgroundcolor": "rgb(17,17,17)",
            "gridcolor": "#506784",
            "gridwidth": 2,
            "linecolor": "#506784",
            "showbackground": true,
            "ticks": "",
            "zerolinecolor": "#C8D4E3"
           },
           "zaxis": {
            "backgroundcolor": "rgb(17,17,17)",
            "gridcolor": "#506784",
            "gridwidth": 2,
            "linecolor": "#506784",
            "showbackground": true,
            "ticks": "",
            "zerolinecolor": "#C8D4E3"
           }
          },
          "shapedefaults": {
           "line": {
            "color": "#f2f5fa"
           }
          },
          "sliderdefaults": {
           "bgcolor": "#C8D4E3",
           "bordercolor": "rgb(17,17,17)",
           "borderwidth": 1,
           "tickwidth": 0
          },
          "ternary": {
           "aaxis": {
            "gridcolor": "#506784",
            "linecolor": "#506784",
            "ticks": ""
           },
           "baxis": {
            "gridcolor": "#506784",
            "linecolor": "#506784",
            "ticks": ""
           },
           "bgcolor": "rgb(17,17,17)",
           "caxis": {
            "gridcolor": "#506784",
            "linecolor": "#506784",
            "ticks": ""
           }
          },
          "title": {
           "x": 0.05
          },
          "updatemenudefaults": {
           "bgcolor": "#506784",
           "borderwidth": 0
          },
          "xaxis": {
           "automargin": true,
           "gridcolor": "#283442",
           "linecolor": "#506784",
           "ticks": "",
           "title": {
            "standoff": 15
           },
           "zerolinecolor": "#283442",
           "zerolinewidth": 2
          },
          "yaxis": {
           "automargin": true,
           "gridcolor": "#283442",
           "linecolor": "#506784",
           "ticks": "",
           "title": {
            "standoff": 15
           },
           "zerolinecolor": "#283442",
           "zerolinewidth": 2
          }
         }
        },
        "title": {
         "text": "Life Expectancy vs. Liberal Democracy Index (2021)"
        },
        "xaxis": {
         "anchor": "y",
         "domain": [
          0,
          1
         ],
         "title": {
          "text": "Liberal Democracy Index"
         }
        },
        "yaxis": {
         "anchor": "x",
         "domain": [
          0,
          1
         ],
         "title": {
          "text": "Life Expectancy"
         }
        }
       }
      }
     },
     "metadata": {},
     "output_type": "display_data"
    }
   ],
   "source": [
    "# Clean the data by removing rows with NaN values in critical columns\n",
    "df_cleaned = df.dropna(subset=['Liberal democracy index (best estimate, aggregate: average)', \n",
    "                               'Period life expectancy at birth - Sex: all - Age: 0'])\n",
    "\n",
    "\n",
    "# Scale the population to increase the size of the points \n",
    "df_cleaned['Scaled Population'] = df_cleaned['Population (historical)'] / 1e6\n",
    "\n",
    "# Create the scatter plot\n",
    "fig = px.scatter(\n",
    "    df_cleaned,\n",
    "    x='Liberal democracy index (best estimate, aggregate: average)',\n",
    "    y='Period life expectancy at birth - Sex: all - Age: 0',\n",
    "    size='Scaled Population',  # Use the scaled population\n",
    "    color='Continent',\n",
    "    hover_name='Entity',\n",
    "    size_max=200,  # Increase size_max to make points larger -- 200 worked the best\n",
    "    title='Life Expectancy vs. Liberal Democracy Index (2021)',\n",
    "    labels={\n",
    "        'Liberal democracy index (best estimate, aggregate: average)': 'Liberal Democracy Index',\n",
    "        'Period life expectancy at birth - Sex: all - Age: 0': 'Life Expectancy'\n",
    "    }\n",
    ")\n",
    "\n",
    "# Update the layout\n",
    "fig.update_layout(\n",
    "    xaxis_title='Liberal Democracy Index',\n",
    "    yaxis_title='Life Expectancy',\n",
    "    legend_title='Continent',\n",
    "    template='plotly_dark',\n",
    "    height=1200\n",
    ")\n",
    "\n",
    "# Show the plot\n",
    "fig.show()\n"
   ]
  },
  {
   "cell_type": "code",
   "execution_count": 99,
   "id": "4912ad82",
   "metadata": {},
   "outputs": [
    {
     "name": "stderr",
     "output_type": "stream",
     "text": [
      "/tmp/ipykernel_14344/3060043146.py:9: SettingWithCopyWarning:\n",
      "\n",
      "\n",
      "A value is trying to be set on a copy of a slice from a DataFrame.\n",
      "Try using .loc[row_indexer,col_indexer] = value instead\n",
      "\n",
      "See the caveats in the documentation: https://pandas.pydata.org/pandas-docs/stable/user_guide/indexing.html#returning-a-view-versus-a-copy\n",
      "\n",
      "/tmp/ipykernel_14344/3060043146.py:12: SettingWithCopyWarning:\n",
      "\n",
      "\n",
      "A value is trying to be set on a copy of a slice from a DataFrame\n",
      "\n",
      "See the caveats in the documentation: https://pandas.pydata.org/pandas-docs/stable/user_guide/indexing.html#returning-a-view-versus-a-copy\n",
      "\n"
     ]
    },
    {
     "data": {
      "application/vnd.plotly.v1+json": {
       "config": {
        "plotlyServerURL": "https://plot.ly"
       },
       "data": [
        {
         "hovertemplate": "<b>%{hovertext}</b><br><br>Continent=Asia<br>Government Effectiveness=%{x}<br>Liberal Democracy Index=%{y}<br>Scaled Population=%{marker.size}<extra></extra>",
         "hovertext": [
          "Afghanistan",
          "Armenia",
          "Azerbaijan",
          "Bahrain",
          "Bangladesh",
          "Bhutan",
          "Cambodia",
          "China",
          "East Timor",
          "Georgia",
          "Hong Kong",
          "India",
          "Indonesia",
          "Iran",
          "Iraq",
          "Israel",
          "Japan",
          "Jordan",
          "Kazakhstan",
          "Kuwait",
          "Kyrgyzstan",
          "Laos",
          "Lebanon",
          "Malaysia",
          "Maldives",
          "Mongolia",
          "Myanmar",
          "Nepal",
          "North Korea",
          "Oman",
          "Pakistan",
          "Philippines",
          "Qatar",
          "Saudi Arabia",
          "Singapore",
          "South Korea",
          "Sri Lanka",
          "Syria",
          "Taiwan",
          "Tajikistan",
          "Thailand",
          "Turkey",
          "Turkmenistan",
          "United Arab Emirates",
          "Uzbekistan",
          "Vietnam",
          "Yemen"
         ],
         "legendgroup": "Asia",
         "marker": {
          "color": "#EF553B",
          "size": [
           33.831765,
           2.921179,
           9.752859,
           1.369656,
           159.38318,
           0.740624,
           15.623253,
           1396.134164,
           1.205134,
           3.791571,
           7.366411,
           1328.024492,
           261.799249,
           82.619365,
           37.560535,
           8.052915,
           127.275868,
           9.54473,
           18.084173,
           3.834464,
           6.001876,
           6.80165,
           6.47247,
           31.232796,
           0.428165,
           2.976528,
           51.08906,
           27.823631,
           25.575355,
           4.184897,
           217.290885,
           105.312986,
           2.427337,
           29.974944,
           5.525343,
           50.983908,
           21.729974,
           19.424615,
           23.529259,
           8.643839,
           70.54079,
           80.014221,
           6.215775,
           8.674629,
           30.749349,
           92.823254,
           31.159379
          ],
          "sizemode": "area",
          "sizeref": 0.202293373375,
          "symbol": "circle"
         },
         "mode": "markers",
         "name": "Asia",
         "showlegend": true,
         "type": "scattergl",
         "x": [
          -1.352,
          -0.277,
          -0.219,
          0.557,
          -0.726,
          0.452,
          -0.702,
          0.438,
          -1.069,
          0.326,
          1.904,
          0.109,
          -0.296,
          -0.21,
          -1.174,
          1.384,
          1.78,
          0.146,
          -0.11,
          -0.035,
          -0.924,
          -0.504,
          -0.365,
          0.958,
          -0.349,
          -0.411,
          -1.257,
          -1.068,
          -1.631,
          0.08,
          -0.667,
          0.195,
          0.952,
          0.198,
          2.231,
          1.009,
          0.013,
          -1.589,
          1.392,
          -0.856,
          0.28,
          0.229,
          -0.549,
          1.505,
          -0.67,
          0.092,
          -1.669
         ],
         "xaxis": "x",
         "y": [
          0.225,
          0.207,
          0.065,
          0.044,
          0.111,
          0.485,
          0.114,
          0.052,
          0.462,
          0.512,
          0.301,
          0.429,
          0.513,
          0.13,
          0.238,
          0.659,
          0.742,
          0.222,
          0.113,
          0.287,
          0.314,
          0.078,
          0.298,
          0.207,
          0.191,
          0.543,
          0.182,
          0.537,
          0.015,
          0.139,
          0.268,
          0.429,
          0.092,
          0.048,
          0.333,
          0.608,
          0.401,
          0.025,
          0.684,
          0.044,
          0.101,
          0.236,
          0.026,
          0.09,
          0.036,
          0.118,
          0.069
         ],
         "yaxis": "y"
        },
        {
         "hovertemplate": "<b>%{hovertext}</b><br><br>Continent=Europe<br>Government Effectiveness=%{x}<br>Liberal Democracy Index=%{y}<br>Scaled Population=%{marker.size}<extra></extra>",
         "hovertext": [
          "Albania",
          "Austria",
          "Belarus",
          "Belgium",
          "Bosnia and Herzegovina",
          "Bulgaria",
          "Croatia",
          "Cyprus",
          "Czechia",
          "Denmark",
          "Estonia",
          "Finland",
          "France",
          "Germany",
          "Greece",
          "Hungary",
          "Iceland",
          "Ireland",
          "Italy",
          "Kosovo",
          "Latvia",
          "Lithuania",
          "Luxembourg",
          "Malta",
          "Moldova",
          "Montenegro",
          "Netherlands",
          "North Macedonia",
          "Norway",
          "Poland",
          "Portugal",
          "Romania",
          "Russia",
          "Serbia",
          "Slovakia",
          "Slovenia",
          "Spain",
          "Sweden",
          "Switzerland",
          "Ukraine",
          "United Kingdom"
         ],
         "legendgroup": "Europe",
         "marker": {
          "color": "#00cc96",
          "size": [
           2.898634,
           8.644037,
           9.487288,
           11.275332,
           3.518541,
           7.177516,
           4.183732,
           1.219504,
           10.524419,
           5.683698,
           1.314581,
           5.479718,
           64.916336,
           82.077546,
           10.820901,
           9.83921,
           0.330962,
           4.702497,
           60.575314,
           1.77902,
           1.977874,
           2.905772,
           0.569541,
           0.444979,
           3.287169,
           0.628147,
           17.107427,
           1.980366,
           5.189776,
           38.266314,
           10.370266,
           19.871018,
           145.307611,
           7.177257,
           5.420279,
           2.059947,
           46.683683,
           9.799482,
           8.28394,
           45.784903,
           65.382107
          ],
          "sizemode": "area",
          "sizeref": 0.202293373375,
          "symbol": "circle"
         },
         "mode": "markers",
         "name": "Europe",
         "showlegend": true,
         "type": "scattergl",
         "x": [
          0.059,
          1.478,
          -0.447,
          1.556,
          -0.59,
          0.016,
          0.486,
          1.045,
          1.057,
          1.821,
          1.065,
          1.87,
          1.444,
          1.683,
          0.176,
          0.547,
          1.488,
          1.548,
          0.52,
          null,
          1.086,
          1.181,
          1.719,
          0.847,
          -0.653,
          0.196,
          1.855,
          0.002,
          1.86,
          0.768,
          1.186,
          0.128,
          -0.295,
          0.023,
          0.766,
          0.969,
          1.185,
          1.711,
          1.993,
          -0.524,
          1.732
         ],
         "xaxis": "x",
         "y": [
          0.442,
          0.805,
          0.102,
          0.841,
          0.368,
          0.571,
          0.702,
          0.742,
          0.776,
          0.895,
          0.846,
          0.824,
          0.822,
          0.852,
          0.787,
          0.485,
          0.785,
          0.83,
          0.783,
          0.447,
          0.764,
          0.782,
          0.795,
          0.59,
          0.472,
          0.372,
          0.835,
          0.268,
          0.864,
          0.778,
          0.832,
          0.599,
          0.11,
          0.344,
          0.735,
          0.804,
          0.766,
          0.884,
          0.861,
          0.226,
          0.789
         ],
         "yaxis": "y"
        },
        {
         "hovertemplate": "<b>%{hovertext}</b><br><br>Continent=Africa<br>Government Effectiveness=%{x}<br>Liberal Democracy Index=%{y}<br>Scaled Population=%{marker.size}<extra></extra>",
         "hovertext": [
          "Algeria",
          "Angola",
          "Benin",
          "Botswana",
          "Burkina Faso",
          "Burundi",
          "Cameroon",
          "Cape Verde",
          "Central African Republic",
          "Chad",
          "Comoros",
          "Congo",
          "Cote d'Ivoire",
          "Democratic Republic of Congo",
          "Djibouti",
          "Egypt",
          "Equatorial Guinea",
          "Eritrea",
          "Eswatini",
          "Ethiopia",
          "Gabon",
          "Gambia",
          "Ghana",
          "Guinea",
          "Guinea-Bissau",
          "Kenya",
          "Lesotho",
          "Liberia",
          "Libya",
          "Madagascar",
          "Malawi",
          "Mali",
          "Mauritania",
          "Mauritius",
          "Morocco",
          "Mozambique",
          "Namibia",
          "Niger",
          "Nigeria",
          "Rwanda",
          "Sao Tome and Principe",
          "Senegal",
          "Seychelles",
          "Sierra Leone",
          "Somalia",
          "South Africa",
          "South Sudan",
          "Sudan",
          "Tanzania",
          "Togo",
          "Tunisia",
          "Uganda",
          "Zambia",
          "Zimbabwe"
         ],
         "legendgroup": "Africa",
         "marker": {
          "color": "#ab63fa",
          "size": [
           40.019528,
           28.157801,
           11.360681,
           2.203276,
           18.777488,
           11.04758,
           22.763419,
           0.512405,
           4.629323,
           14.647625,
           0.726685,
           5.097583,
           25.246346,
           81.035535,
           1.020315,
           99.597333,
           1.453926,
           3.105554,
           1.142823,
           103.86714,
           2.04099,
           2.224532,
           28.696071,
           11.767077,
           1.786461,
           47.088527,
           2.104613,
           4.659438,
           6.531825,
           25.426704,
           17.085585,
           18.593022,
           3.965959,
           1.292282,
           34.60759,
           26.547575,
           2.374305,
           19.939497,
           190.671883,
           11.640027,
           0.200306,
           14.593336,
           0.107247,
           7.037659,
           13.806969,
           56.723537,
           11.107569,
           40.024436,
           52.020959,
           7.663199,
           11.40227,
           37.531444,
           16.39909,
           14.399009
          ],
          "sizemode": "area",
          "sizeref": 0.202293373375,
          "symbol": "circle"
         },
         "mode": "markers",
         "name": "Africa",
         "showlegend": true,
         "type": "scattergl",
         "x": [
          -0.378,
          -0.893,
          -0.651,
          0.479,
          -0.648,
          -1.208,
          -0.8,
          0.195,
          -1.788,
          -1.452,
          -1.611,
          -1.051,
          -0.719,
          -1.602,
          -0.993,
          -0.659,
          -1.143,
          -1.638,
          -0.507,
          -0.66,
          -0.727,
          -0.955,
          -0.288,
          -1.156,
          -1.63,
          -0.357,
          -0.72,
          -1.342,
          -1.46,
          -1.304,
          -0.712,
          -0.929,
          -1.026,
          1.161,
          -0.112,
          -0.784,
          0.327,
          -0.691,
          -0.972,
          -0.108,
          -0.816,
          -0.449,
          0.586,
          -1.248,
          -2.186,
          0.116,
          -2.137,
          -1.483,
          -0.622,
          -1.205,
          -0.069,
          -0.548,
          -0.612,
          -1.202
         ],
         "xaxis": "x",
         "y": [
          0.171,
          0.134,
          0.534,
          0.591,
          0.31,
          0.061,
          0.154,
          0.712,
          0.181,
          0.093,
          0.25,
          0.099,
          0.329,
          0.128,
          0.115,
          0.095,
          0.054,
          0.006,
          0.098,
          0.102,
          0.228,
          0.107,
          0.63,
          0.164,
          0.307,
          0.421,
          0.449,
          0.452,
          0.173,
          0.251,
          0.444,
          0.35,
          0.181,
          0.632,
          0.231,
          0.305,
          0.592,
          0.483,
          0.41,
          0.136,
          0.579,
          0.586,
          0.429,
          0.312,
          0.124,
          0.64,
          0.064,
          0.065,
          0.398,
          0.273,
          0.627,
          0.244,
          0.358,
          0.207
         ],
         "yaxis": "y"
        },
        {
         "hovertemplate": "<b>%{hovertext}</b><br><br>Continent=South America<br>Government Effectiveness=%{x}<br>Liberal Democracy Index=%{y}<br>Scaled Population=%{marker.size}<extra></extra>",
         "hovertext": [
          "Argentina",
          "Bolivia",
          "Brazil",
          "Chile",
          "Colombia",
          "Ecuador",
          "Guyana",
          "Paraguay",
          "Peru",
          "Suriname",
          "Uruguay",
          "Venezuela"
         ],
         "legendgroup": "South America",
         "marker": {
          "color": "#FFA15A",
          "size": [
           43.477009,
           11.014707,
           201.675534,
           18.047628,
           46.969937,
           16.266228,
           0.758785,
           6.159106,
           30.4576,
           0.581633,
           3.368022,
           30.57397
          ],
          "sizemode": "area",
          "sizeref": 0.202293373375,
          "symbol": "circle"
         },
         "mode": "markers",
         "name": "South America",
         "showlegend": true,
         "type": "scattergl",
         "x": [
          -0.017,
          -0.651,
          -0.232,
          0.947,
          -0.065,
          -0.362,
          -0.323,
          -0.978,
          -0.337,
          -0.347,
          0.477,
          -1.159
         ],
         "xaxis": "x",
         "y": [
          0.598,
          0.376,
          0.779,
          0.844,
          0.551,
          0.267,
          0.454,
          0.415,
          0.69,
          0.635,
          0.835,
          0.104
         ],
         "yaxis": "y"
        },
        {
         "hovertemplate": "<b>%{hovertext}</b><br><br>Continent=Oceania<br>Government Effectiveness=%{x}<br>Liberal Democracy Index=%{y}<br>Scaled Population=%{marker.size}<extra></extra>",
         "hovertext": [
          "Australia",
          "Fiji",
          "New Zealand",
          "Papua New Guinea",
          "Solomon Islands",
          "Vanuatu"
         ],
         "legendgroup": "Oceania",
         "marker": {
          "color": "#19d3f3",
          "size": [
           23.947998,
           0.918583,
           4.614037,
           8.743247,
           0.639423,
           0.266116
          ],
          "sizemode": "area",
          "sizeref": 0.202293373375,
          "symbol": "circle"
         },
         "mode": "markers",
         "name": "Oceania",
         "showlegend": true,
         "type": "scattergl",
         "x": [
          1.56,
          -0.292,
          1.879,
          -0.604,
          -1.058,
          -0.792
         ],
         "xaxis": "x",
         "y": [
          0.825,
          0.275,
          0.837,
          0.342,
          0.436,
          0.619
         ],
         "yaxis": "y"
        },
        {
         "hovertemplate": "<b>%{hovertext}</b><br><br>Continent=North America<br>Government Effectiveness=%{x}<br>Liberal Democracy Index=%{y}<br>Scaled Population=%{marker.size}<extra></extra>",
         "hovertext": [
          "Barbados",
          "Canada",
          "Costa Rica",
          "Cuba",
          "Dominican Republic",
          "El Salvador",
          "Guatemala",
          "Haiti",
          "Honduras",
          "Jamaica",
          "Mexico",
          "Nicaragua",
          "Panama",
          "Trinidad and Tobago",
          "United States"
         ],
         "legendgroup": "North America",
         "marker": {
          "color": "#FF6692",
          "size": [
           0.278997,
           35.962236,
           4.818044,
           11.275068,
           10.434826,
           6.183674,
           15.971745,
           10.523249,
           9.237305,
           2.802535,
           121.07231,
           6.149418,
           3.960036,
           1.429189,
           326.126498
          ],
          "sizemode": "area",
          "sizeref": 0.202293373375,
          "symbol": "circle"
         },
         "mode": "markers",
         "name": "North America",
         "showlegend": true,
         "type": "scattergl",
         "x": [
          1.022,
          1.757,
          0.331,
          0.02,
          -0.368,
          -0.263,
          -0.74,
          -2.064,
          -0.826,
          0.328,
          0.152,
          -0.82,
          0.311,
          0.283,
          1.459
         ],
         "xaxis": "x",
         "y": [
          0.664,
          0.745,
          0.856,
          0.058,
          0.314,
          0.468,
          0.439,
          0.231,
          0.247,
          0.681,
          0.43,
          0.126,
          0.559,
          0.652,
          0.854
         ],
         "yaxis": "y"
        }
       ],
       "layout": {
        "font": {
         "size": 20
        },
        "height": 1200,
        "legend": {
         "itemsizing": "constant",
         "title": {
          "text": "Continent"
         },
         "tracegroupgap": 0
        },
        "shapes": [
         {
          "line": {
           "color": "green",
           "dash": "dash"
          },
          "type": "line",
          "x0": 0,
          "x1": 0,
          "y0": 0.005,
          "y1": 0.897
         }
        ],
        "template": {
         "data": {
          "bar": [
           {
            "error_x": {
             "color": "#f2f5fa"
            },
            "error_y": {
             "color": "#f2f5fa"
            },
            "marker": {
             "line": {
              "color": "rgb(17,17,17)",
              "width": 0.5
             },
             "pattern": {
              "fillmode": "overlay",
              "size": 10,
              "solidity": 0.2
             }
            },
            "type": "bar"
           }
          ],
          "barpolar": [
           {
            "marker": {
             "line": {
              "color": "rgb(17,17,17)",
              "width": 0.5
             },
             "pattern": {
              "fillmode": "overlay",
              "size": 10,
              "solidity": 0.2
             }
            },
            "type": "barpolar"
           }
          ],
          "carpet": [
           {
            "aaxis": {
             "endlinecolor": "#A2B1C6",
             "gridcolor": "#506784",
             "linecolor": "#506784",
             "minorgridcolor": "#506784",
             "startlinecolor": "#A2B1C6"
            },
            "baxis": {
             "endlinecolor": "#A2B1C6",
             "gridcolor": "#506784",
             "linecolor": "#506784",
             "minorgridcolor": "#506784",
             "startlinecolor": "#A2B1C6"
            },
            "type": "carpet"
           }
          ],
          "choropleth": [
           {
            "colorbar": {
             "outlinewidth": 0,
             "ticks": ""
            },
            "type": "choropleth"
           }
          ],
          "contour": [
           {
            "colorbar": {
             "outlinewidth": 0,
             "ticks": ""
            },
            "colorscale": [
             [
              0,
              "#0d0887"
             ],
             [
              0.1111111111111111,
              "#46039f"
             ],
             [
              0.2222222222222222,
              "#7201a8"
             ],
             [
              0.3333333333333333,
              "#9c179e"
             ],
             [
              0.4444444444444444,
              "#bd3786"
             ],
             [
              0.5555555555555556,
              "#d8576b"
             ],
             [
              0.6666666666666666,
              "#ed7953"
             ],
             [
              0.7777777777777778,
              "#fb9f3a"
             ],
             [
              0.8888888888888888,
              "#fdca26"
             ],
             [
              1,
              "#f0f921"
             ]
            ],
            "type": "contour"
           }
          ],
          "contourcarpet": [
           {
            "colorbar": {
             "outlinewidth": 0,
             "ticks": ""
            },
            "type": "contourcarpet"
           }
          ],
          "heatmap": [
           {
            "colorbar": {
             "outlinewidth": 0,
             "ticks": ""
            },
            "colorscale": [
             [
              0,
              "#0d0887"
             ],
             [
              0.1111111111111111,
              "#46039f"
             ],
             [
              0.2222222222222222,
              "#7201a8"
             ],
             [
              0.3333333333333333,
              "#9c179e"
             ],
             [
              0.4444444444444444,
              "#bd3786"
             ],
             [
              0.5555555555555556,
              "#d8576b"
             ],
             [
              0.6666666666666666,
              "#ed7953"
             ],
             [
              0.7777777777777778,
              "#fb9f3a"
             ],
             [
              0.8888888888888888,
              "#fdca26"
             ],
             [
              1,
              "#f0f921"
             ]
            ],
            "type": "heatmap"
           }
          ],
          "heatmapgl": [
           {
            "colorbar": {
             "outlinewidth": 0,
             "ticks": ""
            },
            "colorscale": [
             [
              0,
              "#0d0887"
             ],
             [
              0.1111111111111111,
              "#46039f"
             ],
             [
              0.2222222222222222,
              "#7201a8"
             ],
             [
              0.3333333333333333,
              "#9c179e"
             ],
             [
              0.4444444444444444,
              "#bd3786"
             ],
             [
              0.5555555555555556,
              "#d8576b"
             ],
             [
              0.6666666666666666,
              "#ed7953"
             ],
             [
              0.7777777777777778,
              "#fb9f3a"
             ],
             [
              0.8888888888888888,
              "#fdca26"
             ],
             [
              1,
              "#f0f921"
             ]
            ],
            "type": "heatmapgl"
           }
          ],
          "histogram": [
           {
            "marker": {
             "pattern": {
              "fillmode": "overlay",
              "size": 10,
              "solidity": 0.2
             }
            },
            "type": "histogram"
           }
          ],
          "histogram2d": [
           {
            "colorbar": {
             "outlinewidth": 0,
             "ticks": ""
            },
            "colorscale": [
             [
              0,
              "#0d0887"
             ],
             [
              0.1111111111111111,
              "#46039f"
             ],
             [
              0.2222222222222222,
              "#7201a8"
             ],
             [
              0.3333333333333333,
              "#9c179e"
             ],
             [
              0.4444444444444444,
              "#bd3786"
             ],
             [
              0.5555555555555556,
              "#d8576b"
             ],
             [
              0.6666666666666666,
              "#ed7953"
             ],
             [
              0.7777777777777778,
              "#fb9f3a"
             ],
             [
              0.8888888888888888,
              "#fdca26"
             ],
             [
              1,
              "#f0f921"
             ]
            ],
            "type": "histogram2d"
           }
          ],
          "histogram2dcontour": [
           {
            "colorbar": {
             "outlinewidth": 0,
             "ticks": ""
            },
            "colorscale": [
             [
              0,
              "#0d0887"
             ],
             [
              0.1111111111111111,
              "#46039f"
             ],
             [
              0.2222222222222222,
              "#7201a8"
             ],
             [
              0.3333333333333333,
              "#9c179e"
             ],
             [
              0.4444444444444444,
              "#bd3786"
             ],
             [
              0.5555555555555556,
              "#d8576b"
             ],
             [
              0.6666666666666666,
              "#ed7953"
             ],
             [
              0.7777777777777778,
              "#fb9f3a"
             ],
             [
              0.8888888888888888,
              "#fdca26"
             ],
             [
              1,
              "#f0f921"
             ]
            ],
            "type": "histogram2dcontour"
           }
          ],
          "mesh3d": [
           {
            "colorbar": {
             "outlinewidth": 0,
             "ticks": ""
            },
            "type": "mesh3d"
           }
          ],
          "parcoords": [
           {
            "line": {
             "colorbar": {
              "outlinewidth": 0,
              "ticks": ""
             }
            },
            "type": "parcoords"
           }
          ],
          "pie": [
           {
            "automargin": true,
            "type": "pie"
           }
          ],
          "scatter": [
           {
            "marker": {
             "line": {
              "color": "#283442"
             }
            },
            "type": "scatter"
           }
          ],
          "scatter3d": [
           {
            "line": {
             "colorbar": {
              "outlinewidth": 0,
              "ticks": ""
             }
            },
            "marker": {
             "colorbar": {
              "outlinewidth": 0,
              "ticks": ""
             }
            },
            "type": "scatter3d"
           }
          ],
          "scattercarpet": [
           {
            "marker": {
             "colorbar": {
              "outlinewidth": 0,
              "ticks": ""
             }
            },
            "type": "scattercarpet"
           }
          ],
          "scattergeo": [
           {
            "marker": {
             "colorbar": {
              "outlinewidth": 0,
              "ticks": ""
             }
            },
            "type": "scattergeo"
           }
          ],
          "scattergl": [
           {
            "marker": {
             "line": {
              "color": "#283442"
             }
            },
            "type": "scattergl"
           }
          ],
          "scattermapbox": [
           {
            "marker": {
             "colorbar": {
              "outlinewidth": 0,
              "ticks": ""
             }
            },
            "type": "scattermapbox"
           }
          ],
          "scatterpolar": [
           {
            "marker": {
             "colorbar": {
              "outlinewidth": 0,
              "ticks": ""
             }
            },
            "type": "scatterpolar"
           }
          ],
          "scatterpolargl": [
           {
            "marker": {
             "colorbar": {
              "outlinewidth": 0,
              "ticks": ""
             }
            },
            "type": "scatterpolargl"
           }
          ],
          "scatterternary": [
           {
            "marker": {
             "colorbar": {
              "outlinewidth": 0,
              "ticks": ""
             }
            },
            "type": "scatterternary"
           }
          ],
          "surface": [
           {
            "colorbar": {
             "outlinewidth": 0,
             "ticks": ""
            },
            "colorscale": [
             [
              0,
              "#0d0887"
             ],
             [
              0.1111111111111111,
              "#46039f"
             ],
             [
              0.2222222222222222,
              "#7201a8"
             ],
             [
              0.3333333333333333,
              "#9c179e"
             ],
             [
              0.4444444444444444,
              "#bd3786"
             ],
             [
              0.5555555555555556,
              "#d8576b"
             ],
             [
              0.6666666666666666,
              "#ed7953"
             ],
             [
              0.7777777777777778,
              "#fb9f3a"
             ],
             [
              0.8888888888888888,
              "#fdca26"
             ],
             [
              1,
              "#f0f921"
             ]
            ],
            "type": "surface"
           }
          ],
          "table": [
           {
            "cells": {
             "fill": {
              "color": "#506784"
             },
             "line": {
              "color": "rgb(17,17,17)"
             }
            },
            "header": {
             "fill": {
              "color": "#2a3f5f"
             },
             "line": {
              "color": "rgb(17,17,17)"
             }
            },
            "type": "table"
           }
          ]
         },
         "layout": {
          "annotationdefaults": {
           "arrowcolor": "#f2f5fa",
           "arrowhead": 0,
           "arrowwidth": 1
          },
          "autotypenumbers": "strict",
          "coloraxis": {
           "colorbar": {
            "outlinewidth": 0,
            "ticks": ""
           }
          },
          "colorscale": {
           "diverging": [
            [
             0,
             "#8e0152"
            ],
            [
             0.1,
             "#c51b7d"
            ],
            [
             0.2,
             "#de77ae"
            ],
            [
             0.3,
             "#f1b6da"
            ],
            [
             0.4,
             "#fde0ef"
            ],
            [
             0.5,
             "#f7f7f7"
            ],
            [
             0.6,
             "#e6f5d0"
            ],
            [
             0.7,
             "#b8e186"
            ],
            [
             0.8,
             "#7fbc41"
            ],
            [
             0.9,
             "#4d9221"
            ],
            [
             1,
             "#276419"
            ]
           ],
           "sequential": [
            [
             0,
             "#0d0887"
            ],
            [
             0.1111111111111111,
             "#46039f"
            ],
            [
             0.2222222222222222,
             "#7201a8"
            ],
            [
             0.3333333333333333,
             "#9c179e"
            ],
            [
             0.4444444444444444,
             "#bd3786"
            ],
            [
             0.5555555555555556,
             "#d8576b"
            ],
            [
             0.6666666666666666,
             "#ed7953"
            ],
            [
             0.7777777777777778,
             "#fb9f3a"
            ],
            [
             0.8888888888888888,
             "#fdca26"
            ],
            [
             1,
             "#f0f921"
            ]
           ],
           "sequentialminus": [
            [
             0,
             "#0d0887"
            ],
            [
             0.1111111111111111,
             "#46039f"
            ],
            [
             0.2222222222222222,
             "#7201a8"
            ],
            [
             0.3333333333333333,
             "#9c179e"
            ],
            [
             0.4444444444444444,
             "#bd3786"
            ],
            [
             0.5555555555555556,
             "#d8576b"
            ],
            [
             0.6666666666666666,
             "#ed7953"
            ],
            [
             0.7777777777777778,
             "#fb9f3a"
            ],
            [
             0.8888888888888888,
             "#fdca26"
            ],
            [
             1,
             "#f0f921"
            ]
           ]
          },
          "colorway": [
           "#636efa",
           "#EF553B",
           "#00cc96",
           "#ab63fa",
           "#FFA15A",
           "#19d3f3",
           "#FF6692",
           "#B6E880",
           "#FF97FF",
           "#FECB52"
          ],
          "font": {
           "color": "#f2f5fa"
          },
          "geo": {
           "bgcolor": "rgb(17,17,17)",
           "lakecolor": "rgb(17,17,17)",
           "landcolor": "rgb(17,17,17)",
           "showlakes": true,
           "showland": true,
           "subunitcolor": "#506784"
          },
          "hoverlabel": {
           "align": "left"
          },
          "hovermode": "closest",
          "mapbox": {
           "style": "dark"
          },
          "paper_bgcolor": "rgb(17,17,17)",
          "plot_bgcolor": "rgb(17,17,17)",
          "polar": {
           "angularaxis": {
            "gridcolor": "#506784",
            "linecolor": "#506784",
            "ticks": ""
           },
           "bgcolor": "rgb(17,17,17)",
           "radialaxis": {
            "gridcolor": "#506784",
            "linecolor": "#506784",
            "ticks": ""
           }
          },
          "scene": {
           "xaxis": {
            "backgroundcolor": "rgb(17,17,17)",
            "gridcolor": "#506784",
            "gridwidth": 2,
            "linecolor": "#506784",
            "showbackground": true,
            "ticks": "",
            "zerolinecolor": "#C8D4E3"
           },
           "yaxis": {
            "backgroundcolor": "rgb(17,17,17)",
            "gridcolor": "#506784",
            "gridwidth": 2,
            "linecolor": "#506784",
            "showbackground": true,
            "ticks": "",
            "zerolinecolor": "#C8D4E3"
           },
           "zaxis": {
            "backgroundcolor": "rgb(17,17,17)",
            "gridcolor": "#506784",
            "gridwidth": 2,
            "linecolor": "#506784",
            "showbackground": true,
            "ticks": "",
            "zerolinecolor": "#C8D4E3"
           }
          },
          "shapedefaults": {
           "line": {
            "color": "#f2f5fa"
           }
          },
          "sliderdefaults": {
           "bgcolor": "#C8D4E3",
           "bordercolor": "rgb(17,17,17)",
           "borderwidth": 1,
           "tickwidth": 0
          },
          "ternary": {
           "aaxis": {
            "gridcolor": "#506784",
            "linecolor": "#506784",
            "ticks": ""
           },
           "baxis": {
            "gridcolor": "#506784",
            "linecolor": "#506784",
            "ticks": ""
           },
           "bgcolor": "rgb(17,17,17)",
           "caxis": {
            "gridcolor": "#506784",
            "linecolor": "#506784",
            "ticks": ""
           }
          },
          "title": {
           "x": 0.05
          },
          "updatemenudefaults": {
           "bgcolor": "#506784",
           "borderwidth": 0
          },
          "xaxis": {
           "automargin": true,
           "gridcolor": "#283442",
           "linecolor": "#506784",
           "ticks": "",
           "title": {
            "standoff": 15
           },
           "zerolinecolor": "#283442",
           "zerolinewidth": 2
          },
          "yaxis": {
           "automargin": true,
           "gridcolor": "#283442",
           "linecolor": "#506784",
           "ticks": "",
           "title": {
            "standoff": 15
           },
           "zerolinecolor": "#283442",
           "zerolinewidth": 2
          }
         }
        },
        "title": {
         "text": "Liberal Democracy vs. Government Effectiveness (2021)"
        },
        "xaxis": {
         "anchor": "y",
         "domain": [
          0,
          1
         ],
         "title": {
          "text": "Government Effectiveness"
         }
        },
        "yaxis": {
         "anchor": "x",
         "domain": [
          0,
          1
         ],
         "title": {
          "text": "Liberal Democracy Index"
         }
        }
       }
      }
     },
     "metadata": {},
     "output_type": "display_data"
    }
   ],
   "source": [
    "# loading the dataset\n",
    "gov_efec_lib_dem = pd.read_csv(\"data/govt-effectiveness-vs-liberal-democracy.csv\")\n",
    "\n",
    "# Clean the data by removing rows with NaN values in critical columns\n",
    "df_cleaned_gov = gov_efec_lib_dem.dropna(subset=['Liberal democracy index (best estimate, aggregate: average)'\n",
    "                               ])\n",
    "\n",
    "# You can try different scaling factors to get the desired effect\n",
    "df_cleaned_gov['Scaled Population'] = df_cleaned_gov['Population (historical)'] / 1e6\n",
    "\n",
    "# Drop rows where Scaled Population is NaN\n",
    "df_cleaned_gov.dropna(subset=['Scaled Population'], inplace=True)\n",
    "\n",
    "\n",
    "\n",
    "# Create the scatter plot\n",
    "fig = px.scatter(\n",
    "    df_cleaned_gov,\n",
    "    x='Government effectiveness',\n",
    "    y='Liberal democracy index (best estimate, aggregate: average)',\n",
    "    size='Scaled Population',  # Use the scaled population\n",
    "    color='Continent',\n",
    "    hover_name='Entity',\n",
    "    size_max=200,  # Increase size_max to make points larger -- 200 worked best\n",
    "    title='Liberal Democracy vs. Government Effectiveness (2021)',\n",
    "    labels={\n",
    "        'Government effectiveness': 'Government Effectiveness',\n",
    "        'Liberal democracy index (best estimate, aggregate: average)': 'Liberal Democracy Index'\n",
    "    }\n",
    ")\n",
    "\n",
    "# Update the layout to add a vertical line at Government effectiveness of 0\n",
    "fig.update_layout(\n",
    "    xaxis_title='Government Effectiveness',\n",
    "    yaxis_title='Liberal Democracy Index',\n",
    "    legend_title='Continent',\n",
    "    template='plotly_dark',\n",
    "    height=1200,\n",
    "    shapes=[\n",
    "        dict(\n",
    "            type='line',\n",
    "            x0=0,\n",
    "            x1=0,\n",
    "            y0=df_cleaned_gov['Liberal democracy index (best estimate, aggregate: average)'].min(),\n",
    "            y1=df_cleaned_gov['Liberal democracy index (best estimate, aggregate: average)'].max(),\n",
    "            line=dict(color='green', dash='dash')\n",
    "        )\n",
    "    ],\n",
    "    font=dict(size=20)  # Increase the overall font size\n",
    ")\n",
    "\n",
    "# Show the plot\n",
    "fig.show()"
   ]
  },
  {
   "cell_type": "code",
   "execution_count": 43,
   "id": "b64b4026",
   "metadata": {},
   "outputs": [
    {
     "data": {
      "text/html": [
       "<div>\n",
       "<style scoped>\n",
       "    .dataframe tbody tr th:only-of-type {\n",
       "        vertical-align: middle;\n",
       "    }\n",
       "\n",
       "    .dataframe tbody tr th {\n",
       "        vertical-align: top;\n",
       "    }\n",
       "\n",
       "    .dataframe thead th {\n",
       "        text-align: right;\n",
       "    }\n",
       "</style>\n",
       "<table border=\"1\" class=\"dataframe\">\n",
       "  <thead>\n",
       "    <tr style=\"text-align: right;\">\n",
       "      <th></th>\n",
       "      <th>Entity</th>\n",
       "      <th>Code</th>\n",
       "      <th>Year</th>\n",
       "      <th>Period life expectancy at birth - Sex: all - Age: 0</th>\n",
       "      <th>Liberal democracy index (best estimate, aggregate: average)</th>\n",
       "      <th>Population (historical)</th>\n",
       "      <th>Continent</th>\n",
       "    </tr>\n",
       "  </thead>\n",
       "  <tbody>\n",
       "    <tr>\n",
       "      <th>72</th>\n",
       "      <td>Afghanistan</td>\n",
       "      <td>AFG</td>\n",
       "      <td>2021</td>\n",
       "      <td>61.9824</td>\n",
       "      <td>0.034000</td>\n",
       "      <td>4.000041e+07</td>\n",
       "      <td>NaN</td>\n",
       "    </tr>\n",
       "    <tr>\n",
       "      <th>345</th>\n",
       "      <td>Africa</td>\n",
       "      <td>NaN</td>\n",
       "      <td>2021</td>\n",
       "      <td>61.6609</td>\n",
       "      <td>0.276393</td>\n",
       "      <td>1.413753e+09</td>\n",
       "      <td>NaN</td>\n",
       "    </tr>\n",
       "    <tr>\n",
       "      <th>618</th>\n",
       "      <td>Africa (UN)</td>\n",
       "      <td>NaN</td>\n",
       "      <td>2021</td>\n",
       "      <td>NaN</td>\n",
       "      <td>NaN</td>\n",
       "      <td>1.413753e+09</td>\n",
       "      <td>NaN</td>\n",
       "    </tr>\n",
       "    <tr>\n",
       "      <th>697</th>\n",
       "      <td>Albania</td>\n",
       "      <td>ALB</td>\n",
       "      <td>2021</td>\n",
       "      <td>76.4626</td>\n",
       "      <td>0.439000</td>\n",
       "      <td>2.849643e+06</td>\n",
       "      <td>NaN</td>\n",
       "    </tr>\n",
       "    <tr>\n",
       "      <th>961</th>\n",
       "      <td>Algeria</td>\n",
       "      <td>DZA</td>\n",
       "      <td>2021</td>\n",
       "      <td>76.3767</td>\n",
       "      <td>0.137000</td>\n",
       "      <td>4.476110e+07</td>\n",
       "      <td>NaN</td>\n",
       "    </tr>\n",
       "    <tr>\n",
       "      <th>...</th>\n",
       "      <td>...</td>\n",
       "      <td>...</td>\n",
       "      <td>...</td>\n",
       "      <td>...</td>\n",
       "      <td>...</td>\n",
       "      <td>...</td>\n",
       "      <td>...</td>\n",
       "    </tr>\n",
       "    <tr>\n",
       "      <th>61170</th>\n",
       "      <td>World</td>\n",
       "      <td>OWID_WRL</td>\n",
       "      <td>2021</td>\n",
       "      <td>71.0479</td>\n",
       "      <td>0.390553</td>\n",
       "      <td>7.954448e+09</td>\n",
       "      <td>NaN</td>\n",
       "    </tr>\n",
       "    <tr>\n",
       "      <th>61492</th>\n",
       "      <td>Yemen</td>\n",
       "      <td>YEM</td>\n",
       "      <td>2021</td>\n",
       "      <td>63.7534</td>\n",
       "      <td>0.034000</td>\n",
       "      <td>3.714023e+07</td>\n",
       "      <td>NaN</td>\n",
       "    </tr>\n",
       "    <tr>\n",
       "      <th>62011</th>\n",
       "      <td>Zambia</td>\n",
       "      <td>ZMB</td>\n",
       "      <td>2021</td>\n",
       "      <td>61.2234</td>\n",
       "      <td>0.311000</td>\n",
       "      <td>1.960361e+07</td>\n",
       "      <td>NaN</td>\n",
       "    </tr>\n",
       "    <tr>\n",
       "      <th>62322</th>\n",
       "      <td>Zanzibar</td>\n",
       "      <td>OWID_ZAN</td>\n",
       "      <td>2021</td>\n",
       "      <td>NaN</td>\n",
       "      <td>0.220000</td>\n",
       "      <td>NaN</td>\n",
       "      <td>NaN</td>\n",
       "    </tr>\n",
       "    <tr>\n",
       "      <th>62396</th>\n",
       "      <td>Zimbabwe</td>\n",
       "      <td>ZWE</td>\n",
       "      <td>2021</td>\n",
       "      <td>59.2531</td>\n",
       "      <td>0.189000</td>\n",
       "      <td>1.579722e+07</td>\n",
       "      <td>NaN</td>\n",
       "    </tr>\n",
       "  </tbody>\n",
       "</table>\n",
       "<p>276 rows × 7 columns</p>\n",
       "</div>"
      ],
      "text/plain": [
       "            Entity      Code  Year  \\\n",
       "72     Afghanistan       AFG  2021   \n",
       "345         Africa       NaN  2021   \n",
       "618    Africa (UN)       NaN  2021   \n",
       "697        Albania       ALB  2021   \n",
       "961        Algeria       DZA  2021   \n",
       "...            ...       ...   ...   \n",
       "61170        World  OWID_WRL  2021   \n",
       "61492        Yemen       YEM  2021   \n",
       "62011       Zambia       ZMB  2021   \n",
       "62322     Zanzibar  OWID_ZAN  2021   \n",
       "62396     Zimbabwe       ZWE  2021   \n",
       "\n",
       "       Period life expectancy at birth - Sex: all - Age: 0  \\\n",
       "72                                               61.9824     \n",
       "345                                              61.6609     \n",
       "618                                                  NaN     \n",
       "697                                              76.4626     \n",
       "961                                              76.3767     \n",
       "...                                                  ...     \n",
       "61170                                            71.0479     \n",
       "61492                                            63.7534     \n",
       "62011                                            61.2234     \n",
       "62322                                                NaN     \n",
       "62396                                            59.2531     \n",
       "\n",
       "       Liberal democracy index (best estimate, aggregate: average)  \\\n",
       "72                                              0.034000             \n",
       "345                                             0.276393             \n",
       "618                                                  NaN             \n",
       "697                                             0.439000             \n",
       "961                                             0.137000             \n",
       "...                                                  ...             \n",
       "61170                                           0.390553             \n",
       "61492                                           0.034000             \n",
       "62011                                           0.311000             \n",
       "62322                                           0.220000             \n",
       "62396                                           0.189000             \n",
       "\n",
       "       Population (historical) Continent  \n",
       "72                4.000041e+07       NaN  \n",
       "345               1.413753e+09       NaN  \n",
       "618               1.413753e+09       NaN  \n",
       "697               2.849643e+06       NaN  \n",
       "961               4.476110e+07       NaN  \n",
       "...                        ...       ...  \n",
       "61170             7.954448e+09       NaN  \n",
       "61492             3.714023e+07       NaN  \n",
       "62011             1.960361e+07       NaN  \n",
       "62322                      NaN       NaN  \n",
       "62396             1.579722e+07       NaN  \n",
       "\n",
       "[276 rows x 7 columns]"
      ]
     },
     "execution_count": 43,
     "metadata": {},
     "output_type": "execute_result"
    }
   ],
   "source": [
    "# Clean the data by removing rows with NaN values in critical columns\n",
    "df_cleaned = df.dropna(subset=['Liberal democracy index (best estimate, aggregate: average)', \n",
    "                               'Period life expectancy at birth - Sex: all - Age: 0'])"
   ]
  },
  {
   "cell_type": "code",
   "execution_count": 111,
   "id": "c847a2ad",
   "metadata": {},
   "outputs": [
    {
     "name": "stdout",
     "output_type": "stream",
     "text": [
      "<class 'pandas.core.frame.DataFrame'>\n",
      "RangeIndex: 62586 entries, 0 to 62585\n",
      "Data columns (total 7 columns):\n",
      " #   Column                                                       Non-Null Count  Dtype  \n",
      "---  ------                                                       --------------  -----  \n",
      " 0   Entity                                                       62586 non-null  object \n",
      " 1   Code                                                         57190 non-null  object \n",
      " 2   Year                                                         62586 non-null  int64  \n",
      " 3   Period life expectancy at birth - Sex: all - Age: 0          20755 non-null  float64\n",
      " 4   Liberal democracy index (best estimate, aggregate: average)  31459 non-null  float64\n",
      " 5   Population (historical)                                      59177 non-null  float64\n",
      " 6   Continent                                                    285 non-null    object \n",
      "dtypes: float64(3), int64(1), object(3)\n",
      "memory usage: 3.3+ MB\n",
      "None\n",
      "        Entity      Code  Year  \\\n",
      "0     Abkhazia  OWID_ABK  2015   \n",
      "1  Afghanistan       AFG  1950   \n",
      "2  Afghanistan       AFG  1951   \n",
      "3  Afghanistan       AFG  1952   \n",
      "4  Afghanistan       AFG  1953   \n",
      "\n",
      "   Period life expectancy at birth - Sex: all - Age: 0  \\\n",
      "0                                                NaN     \n",
      "1                                            27.7275     \n",
      "2                                            27.9634     \n",
      "3                                            28.4456     \n",
      "4                                            28.9304     \n",
      "\n",
      "   Liberal democracy index (best estimate, aggregate: average)  \\\n",
      "0                                                NaN             \n",
      "1                                              0.061             \n",
      "2                                              0.061             \n",
      "3                                              0.059             \n",
      "4                                              0.060             \n",
      "\n",
      "   Population (historical) Continent  \n",
      "0                      NaN      Asia  \n",
      "1                7776182.0       NaN  \n",
      "2                7879343.0       NaN  \n",
      "3                7987783.0       NaN  \n",
      "4                8096703.0       NaN  \n"
     ]
    },
    {
     "name": "stderr",
     "output_type": "stream",
     "text": [
      "/tmp/ipykernel_14344/4115316107.py:14: SettingWithCopyWarning:\n",
      "\n",
      "\n",
      "A value is trying to be set on a copy of a slice from a DataFrame.\n",
      "Try using .loc[row_indexer,col_indexer] = value instead\n",
      "\n",
      "See the caveats in the documentation: https://pandas.pydata.org/pandas-docs/stable/user_guide/indexing.html#returning-a-view-versus-a-copy\n",
      "\n"
     ]
    },
    {
     "data": {
      "application/vnd.plotly.v1+json": {
       "config": {
        "plotlyServerURL": "https://plot.ly"
       },
       "data": [
        {
         "hovertemplate": "<b>%{hovertext}</b><br><br>Continent=Asia<br>Liberal Democracy Index=%{x}<br>Life Expectancy=%{y}<br>Scaled Population=%{marker.size}<br>Entity=%{text}<extra></extra>",
         "hovertext": [
          "Afghanistan",
          "Armenia",
          "Azerbaijan",
          "Bahrain",
          "Bangladesh",
          "Bhutan",
          "Cambodia",
          "China",
          "East Timor",
          "Georgia",
          "Hong Kong",
          "India",
          "Indonesia",
          "Iran",
          "Iraq",
          "Israel",
          "Japan",
          "Jordan",
          "Kazakhstan",
          "Kuwait",
          "Kyrgyzstan",
          "Laos",
          "Lebanon",
          "Malaysia",
          "Maldives",
          "Mongolia",
          "Myanmar",
          "Nepal",
          "North Korea",
          "Oman",
          "Pakistan",
          "Philippines",
          "Qatar",
          "Saudi Arabia",
          "Singapore",
          "South Korea",
          "Sri Lanka",
          "Syria",
          "Taiwan",
          "Tajikistan",
          "Thailand",
          "Turkey",
          "Turkmenistan",
          "United Arab Emirates",
          "Uzbekistan",
          "Vietnam",
          "Yemen"
         ],
         "legendgroup": "Asia",
         "marker": {
          "color": "#EF553B",
          "size": [
           33.831765,
           2.921179,
           9.752859,
           1.369656,
           159.38318,
           0.740624,
           15.623253,
           1396.134164,
           1.205134,
           3.791571,
           7.366411,
           1328.024492,
           261.799249,
           82.619365,
           37.560535,
           8.052915,
           127.275868,
           9.54473,
           18.084173,
           3.834464,
           6.001876,
           6.80165,
           6.47247,
           31.232796,
           0.428165,
           2.976528,
           51.08906,
           27.823631,
           25.575355,
           4.184897,
           217.290885,
           105.312986,
           2.427337,
           29.974944,
           5.525343,
           50.983908,
           21.729974,
           19.424615,
           23.529259,
           8.643839,
           70.54079,
           80.014221,
           6.215775,
           8.674629,
           30.749349,
           92.823254,
           31.159379
          ],
          "sizemode": "area",
          "sizeref": 0.3535310402222222,
          "symbol": "circle"
         },
         "mode": "markers+text",
         "name": "Asia",
         "showlegend": true,
         "text": [
          "Afghanistan",
          "Armenia",
          "Azerbaijan",
          "Bahrain",
          "Bangladesh",
          "Bhutan",
          "Cambodia",
          "China",
          "East Timor",
          "Georgia",
          "Hong Kong",
          "India",
          "Indonesia",
          "Iran",
          "Iraq",
          "Israel",
          "Japan",
          "Jordan",
          "Kazakhstan",
          "Kuwait",
          "Kyrgyzstan",
          "Laos",
          "Lebanon",
          "Malaysia",
          "Maldives",
          "Mongolia",
          "Myanmar",
          "Nepal",
          "North Korea",
          "Oman",
          "Pakistan",
          "Philippines",
          "Qatar",
          "Saudi Arabia",
          "Singapore",
          "South Korea",
          "Sri Lanka",
          "Syria",
          "Taiwan",
          "Tajikistan",
          "Thailand",
          "Turkey",
          "Turkmenistan",
          "United Arab Emirates",
          "Uzbekistan",
          "Vietnam",
          "Yemen"
         ],
         "textposition": "bottom center",
         "type": "scattergl",
         "x": [
          0.225,
          0.207,
          0.065,
          0.044,
          0.111,
          0.485,
          0.114,
          0.052,
          0.462,
          0.512,
          0.301,
          0.429,
          0.513,
          0.13,
          0.238,
          0.659,
          0.742,
          0.222,
          0.113,
          0.287,
          0.314,
          0.078,
          0.298,
          0.207,
          0.191,
          0.543,
          0.182,
          0.537,
          0.015,
          0.139,
          0.268,
          0.429,
          0.092,
          0.048,
          0.333,
          0.608,
          0.401,
          0.025,
          0.684,
          0.044,
          0.101,
          0.236,
          0.026,
          0.09,
          0.036,
          0.118,
          0.069
         ],
         "xaxis": "x",
         "y": [
          62.6587,
          74.4361,
          71.4512,
          79.4046,
          70.4913,
          70.3433,
          69.8725,
          76.9771,
          67.1373,
          73.2972,
          84.2888,
          69.6363,
          69.6989,
          75.1239,
          69.4403,
          82.0999,
          83.8928,
          75.0112,
          70.7265,
          79.5624,
          69.9963,
          66.67,
          79.2294,
          75.0942,
          79.6953,
          69.4977,
          65.5613,
          67.4562,
          72.7844,
          77.6869,
          65.6971,
          71.2684,
          80.0639,
          76.9185,
          82.8265,
          82.5605,
          74.9275,
          65.1239,
          79.9471,
          69.3059,
          77.7166,
          76.646,
          68.7816,
          79.2232,
          70.4753,
          73.8763,
          65.8734
         ],
         "yaxis": "y"
        },
        {
         "hovertemplate": "<b>%{hovertext}</b><br><br>Continent=Europe<br>Liberal Democracy Index=%{x}<br>Life Expectancy=%{y}<br>Scaled Population=%{marker.size}<br>Entity=%{text}<extra></extra>",
         "hovertext": [
          "Albania",
          "Austria",
          "Belarus",
          "Belgium",
          "Bosnia and Herzegovina",
          "Bulgaria",
          "Croatia",
          "Cyprus",
          "Czechia",
          "Denmark",
          "Estonia",
          "Finland",
          "France",
          "Germany",
          "Greece",
          "Hungary",
          "Iceland",
          "Ireland",
          "Italy",
          "Kosovo",
          "Latvia",
          "Lithuania",
          "Luxembourg",
          "Malta",
          "Moldova",
          "Montenegro",
          "Netherlands",
          "North Macedonia",
          "Norway",
          "Poland",
          "Portugal",
          "Romania",
          "Russia",
          "Serbia",
          "Slovakia",
          "Slovenia",
          "Spain",
          "Sweden",
          "Switzerland",
          "Ukraine",
          "United Kingdom"
         ],
         "legendgroup": "Europe",
         "marker": {
          "color": "#00cc96",
          "size": [
           2.898634,
           8.644037,
           9.487288,
           11.275332,
           3.518541,
           7.177516,
           4.183732,
           1.219504,
           10.524419,
           5.683698,
           1.314581,
           5.479718,
           64.916336,
           82.077546,
           10.820901,
           9.83921,
           0.330962,
           4.702497,
           60.575314,
           1.77902,
           1.977874,
           2.905772,
           0.569541,
           0.444979,
           3.287169,
           0.628147,
           17.107427,
           1.980366,
           5.189776,
           38.266314,
           10.370266,
           19.871018,
           145.307611,
           7.177257,
           5.420279,
           2.059947,
           46.683683,
           9.799482,
           8.28394,
           45.784903,
           65.382107
          ],
          "sizemode": "area",
          "sizeref": 0.3535310402222222,
          "symbol": "circle"
         },
         "mode": "markers+text",
         "name": "Europe",
         "showlegend": true,
         "text": [
          "Albania",
          "Austria",
          "Belarus",
          "Belgium",
          "Bosnia and Herzegovina",
          "Bulgaria",
          "Croatia",
          "Cyprus",
          "Czechia",
          "Denmark",
          "Estonia",
          "Finland",
          "France",
          "Germany",
          "Greece",
          "Hungary",
          "Iceland",
          "Ireland",
          "Italy",
          "Kosovo",
          "Latvia",
          "Lithuania",
          "Luxembourg",
          "Malta",
          "Moldova",
          "Montenegro",
          "Netherlands",
          "North Macedonia",
          "Norway",
          "Poland",
          "Portugal",
          "Romania",
          "Russia",
          "Serbia",
          "Slovakia",
          "Slovenia",
          "Spain",
          "Sweden",
          "Switzerland",
          "Ukraine",
          "United Kingdom"
         ],
         "textposition": "bottom center",
         "type": "scattergl",
         "x": [
          0.442,
          0.805,
          0.102,
          0.841,
          0.368,
          0.571,
          0.702,
          0.742,
          0.776,
          0.895,
          0.846,
          0.824,
          0.822,
          0.852,
          0.787,
          0.485,
          0.785,
          0.83,
          0.783,
          0.447,
          0.764,
          0.782,
          0.795,
          0.59,
          0.472,
          0.372,
          0.835,
          0.268,
          0.864,
          0.778,
          0.832,
          0.599,
          0.11,
          0.344,
          0.735,
          0.804,
          0.766,
          0.884,
          0.861,
          0.226,
          0.789
         ],
         "xaxis": "x",
         "y": [
          78.6441,
          81.1594,
          73.9874,
          80.8898,
          76.1819,
          74.6325,
          77.5599,
          80.9665,
          78.58,
          80.738,
          77.6563,
          81.4178,
          82.1857,
          80.5742,
          80.6676,
          75.6517,
          82.3508,
          81.4163,
          82.5255,
          78.9219,
          74.6854,
          74.6103,
          81.8384,
          82.9621,
          69.2396,
          76.7561,
          81.4821,
          75.9814,
          82.2718,
          77.4151,
          81.2093,
          74.7901,
          72.1006,
          75.8172,
          76.6493,
          80.8218,
          82.6464,
          82.1834,
          82.8468,
          73.4581,
          80.9238
         ],
         "yaxis": "y"
        },
        {
         "hovertemplate": "<b>%{hovertext}</b><br><br>Continent=Africa<br>Liberal Democracy Index=%{x}<br>Life Expectancy=%{y}<br>Scaled Population=%{marker.size}<br>Entity=%{text}<extra></extra>",
         "hovertext": [
          "Algeria",
          "Angola",
          "Benin",
          "Botswana",
          "Burkina Faso",
          "Burundi",
          "Cameroon",
          "Cape Verde",
          "Central African Republic",
          "Chad",
          "Comoros",
          "Congo",
          "Cote d'Ivoire",
          "Democratic Republic of Congo",
          "Djibouti",
          "Egypt",
          "Equatorial Guinea",
          "Eritrea",
          "Eswatini",
          "Ethiopia",
          "Gabon",
          "Gambia",
          "Ghana",
          "Guinea",
          "Guinea-Bissau",
          "Kenya",
          "Lesotho",
          "Liberia",
          "Libya",
          "Madagascar",
          "Malawi",
          "Mali",
          "Mauritania",
          "Mauritius",
          "Morocco",
          "Mozambique",
          "Namibia",
          "Niger",
          "Nigeria",
          "Rwanda",
          "Sao Tome and Principe",
          "Senegal",
          "Seychelles",
          "Sierra Leone",
          "Somalia",
          "South Africa",
          "South Sudan",
          "Sudan",
          "Tanzania",
          "Togo",
          "Tunisia",
          "Uganda",
          "Zambia",
          "Zimbabwe"
         ],
         "legendgroup": "Africa",
         "marker": {
          "color": "#ab63fa",
          "size": [
           40.019528,
           28.157801,
           11.360681,
           2.203276,
           18.777488,
           11.04758,
           22.763419,
           0.512405,
           4.629323,
           14.647625,
           0.726685,
           5.097583,
           25.246346,
           81.035535,
           1.020315,
           99.597333,
           1.453926,
           3.105554,
           1.142823,
           103.86714,
           2.04099,
           2.224532,
           28.696071,
           11.767077,
           1.786461,
           47.088527,
           2.104613,
           4.659438,
           6.531825,
           25.426704,
           17.085585,
           18.593022,
           3.965959,
           1.292282,
           34.60759,
           26.547575,
           2.374305,
           19.939497,
           190.671883,
           11.640027,
           0.200306,
           14.593336,
           0.107247,
           7.037659,
           13.806969,
           56.723537,
           11.107569,
           40.024436,
           52.020959,
           7.663199,
           11.40227,
           37.531444,
           16.39909,
           14.399009
          ],
          "sizemode": "area",
          "sizeref": 0.3535310402222222,
          "symbol": "circle"
         },
         "mode": "markers+text",
         "name": "Africa",
         "showlegend": true,
         "text": [
          "Algeria",
          "Angola",
          "Benin",
          "Botswana",
          "Burkina Faso",
          "Burundi",
          "Cameroon",
          "Cape Verde",
          "Central African Republic",
          "Chad",
          "Comoros",
          "Congo",
          "Cote d'Ivoire",
          "Democratic Republic of Congo",
          "Djibouti",
          "Egypt",
          "Equatorial Guinea",
          "Eritrea",
          "Eswatini",
          "Ethiopia",
          "Gabon",
          "Gambia",
          "Ghana",
          "Guinea",
          "Guinea-Bissau",
          "Kenya",
          "Lesotho",
          "Liberia",
          "Libya",
          "Madagascar",
          "Malawi",
          "Mali",
          "Mauritania",
          "Mauritius",
          "Morocco",
          "Mozambique",
          "Namibia",
          "Niger",
          "Nigeria",
          "Rwanda",
          "Sao Tome and Principe",
          "Senegal",
          "Seychelles",
          "Sierra Leone",
          "Somalia",
          "South Africa",
          "South Sudan",
          "Sudan",
          "Tanzania",
          "Togo",
          "Tunisia",
          "Uganda",
          "Zambia",
          "Zimbabwe"
         ],
         "textposition": "bottom center",
         "type": "scattergl",
         "x": [
          0.171,
          0.134,
          0.534,
          0.591,
          0.31,
          0.061,
          0.154,
          0.712,
          0.181,
          0.093,
          0.25,
          0.099,
          0.329,
          0.128,
          0.115,
          0.095,
          0.054,
          0.006,
          0.098,
          0.102,
          0.228,
          0.107,
          0.63,
          0.164,
          0.307,
          0.421,
          0.449,
          0.452,
          0.173,
          0.251,
          0.444,
          0.35,
          0.181,
          0.632,
          0.231,
          0.305,
          0.592,
          0.483,
          0.41,
          0.136,
          0.579,
          0.586,
          0.429,
          0.312,
          0.124,
          0.64,
          0.064,
          0.065,
          0.398,
          0.273,
          0.627,
          0.244,
          0.358,
          0.207
         ],
         "xaxis": "x",
         "y": [
          75.622,
          60.6546,
          59.3771,
          63.8183,
          58.8454,
          60.2172,
          59.658,
          74.6195,
          52.793,
          51.5888,
          62.8956,
          63.2329,
          57.7624,
          58.49,
          61.957,
          70.4831,
          60.1032,
          66.0333,
          55.0192,
          63.6492,
          65.4599,
          62.494,
          63.1752,
          58.1336,
          59.1282,
          61.8922,
          51.1014,
          59.1485,
          71.6982,
          64.339,
          61.3781,
          58.3632,
          64.4847,
          74.9754,
          72.9197,
          58.1509,
          60.7002,
          61.0827,
          51.8413,
          65.2977,
          67.2491,
          66.8794,
          73.6979,
          57.189,
          54.857,
          63.9499,
          55.5665,
          64.6587,
          64.6507,
          59.3958,
          75.6919,
          61.0856,
          61.2078,
          59.5911
         ],
         "yaxis": "y"
        },
        {
         "hovertemplate": "<b>%{hovertext}</b><br><br>Continent=South America<br>Liberal Democracy Index=%{x}<br>Life Expectancy=%{y}<br>Scaled Population=%{marker.size}<br>Entity=%{text}<extra></extra>",
         "hovertext": [
          "Argentina",
          "Bolivia",
          "Brazil",
          "Chile",
          "Colombia",
          "Ecuador",
          "Guyana",
          "Paraguay",
          "Peru",
          "Suriname",
          "Uruguay",
          "Venezuela"
         ],
         "legendgroup": "South America",
         "marker": {
          "color": "#FFA15A",
          "size": [
           43.477009,
           11.014707,
           201.675534,
           18.047628,
           46.969937,
           16.266228,
           0.758785,
           6.159106,
           30.4576,
           0.581633,
           3.368022,
           30.57397
          ],
          "sizemode": "area",
          "sizeref": 0.3535310402222222,
          "symbol": "circle"
         },
         "mode": "markers+text",
         "name": "South America",
         "showlegend": true,
         "text": [
          "Argentina",
          "Bolivia",
          "Brazil",
          "Chile",
          "Colombia",
          "Ecuador",
          "Guyana",
          "Paraguay",
          "Peru",
          "Suriname",
          "Uruguay",
          "Venezuela"
         ],
         "textposition": "bottom center",
         "type": "scattergl",
         "x": [
          0.598,
          0.376,
          0.779,
          0.844,
          0.551,
          0.267,
          0.454,
          0.415,
          0.69,
          0.635,
          0.835,
          0.104
         ],
         "xaxis": "x",
         "y": [
          76.7602,
          67.3182,
          74.3325,
          79.746,
          76.2573,
          76.7893,
          68.2015,
          73.1905,
          75.6206,
          70.8003,
          77.4827,
          73.0064
         ],
         "yaxis": "y"
        },
        {
         "hovertemplate": "<b>%{hovertext}</b><br><br>Continent=Oceania<br>Liberal Democracy Index=%{x}<br>Life Expectancy=%{y}<br>Scaled Population=%{marker.size}<br>Entity=%{text}<extra></extra>",
         "hovertext": [
          "Australia",
          "Fiji",
          "New Zealand",
          "Papua New Guinea",
          "Solomon Islands",
          "Vanuatu"
         ],
         "legendgroup": "Oceania",
         "marker": {
          "color": "#19d3f3",
          "size": [
           23.947998,
           0.918583,
           4.614037,
           8.743247,
           0.639423,
           0.266116
          ],
          "sizemode": "area",
          "sizeref": 0.3535310402222222,
          "symbol": "circle"
         },
         "mode": "markers+text",
         "name": "Oceania",
         "showlegend": true,
         "text": [
          "Australia",
          "Fiji",
          "New Zealand",
          "Papua New Guinea",
          "Solomon Islands",
          "Vanuatu"
         ],
         "textposition": "bottom center",
         "type": "scattergl",
         "x": [
          0.825,
          0.275,
          0.837,
          0.342,
          0.436,
          0.619
         ],
         "xaxis": "x",
         "y": [
          82.6552,
          66.8436,
          81.9765,
          64.7006,
          69.5834,
          69.5129
         ],
         "yaxis": "y"
        },
        {
         "hovertemplate": "<b>%{hovertext}</b><br><br>Continent=North America<br>Liberal Democracy Index=%{x}<br>Life Expectancy=%{y}<br>Scaled Population=%{marker.size}<br>Entity=%{text}<extra></extra>",
         "hovertext": [
          "Barbados",
          "Canada",
          "Costa Rica",
          "Cuba",
          "Dominican Republic",
          "El Salvador",
          "Guatemala",
          "Haiti",
          "Honduras",
          "Jamaica",
          "Mexico",
          "Nicaragua",
          "Panama",
          "Trinidad and Tobago",
          "United States"
         ],
         "legendgroup": "North America",
         "marker": {
          "color": "#FF6692",
          "size": [
           0.278997,
           35.962236,
           4.818044,
           11.275068,
           10.434826,
           6.183674,
           15.971745,
           10.523249,
           9.237305,
           2.802535,
           121.07231,
           6.149418,
           3.960036,
           1.429189,
           326.126498
          ],
          "sizemode": "area",
          "sizeref": 0.3535310402222222,
          "symbol": "circle"
         },
         "mode": "markers+text",
         "name": "North America",
         "showlegend": true,
         "text": [
          "Barbados",
          "Canada",
          "Costa Rica",
          "Cuba",
          "Dominican Republic",
          "El Salvador",
          "Guatemala",
          "Haiti",
          "Honduras",
          "Jamaica",
          "Mexico",
          "Nicaragua",
          "Panama",
          "Trinidad and Tobago",
          "United States"
         ],
         "textposition": "bottom center",
         "type": "scattergl",
         "x": [
          0.664,
          0.745,
          0.856,
          0.058,
          0.314,
          0.468,
          0.439,
          0.231,
          0.247,
          0.681,
          0.43,
          0.126,
          0.559,
          0.652,
          0.854
         ],
         "xaxis": "x",
         "y": [
          76.6502,
          81.9246,
          79.0857,
          77.772,
          72.9531,
          71.8143,
          72.103,
          63.2372,
          72.4871,
          72.394,
          74.6822,
          72.983,
          77.4684,
          74.5032,
          78.8694
         ],
         "yaxis": "y"
        }
       ],
       "layout": {
        "height": 1500,
        "legend": {
         "itemsizing": "constant",
         "title": {
          "text": "Continent"
         },
         "tracegroupgap": 0
        },
        "template": {
         "data": {
          "bar": [
           {
            "error_x": {
             "color": "#f2f5fa"
            },
            "error_y": {
             "color": "#f2f5fa"
            },
            "marker": {
             "line": {
              "color": "rgb(17,17,17)",
              "width": 0.5
             },
             "pattern": {
              "fillmode": "overlay",
              "size": 10,
              "solidity": 0.2
             }
            },
            "type": "bar"
           }
          ],
          "barpolar": [
           {
            "marker": {
             "line": {
              "color": "rgb(17,17,17)",
              "width": 0.5
             },
             "pattern": {
              "fillmode": "overlay",
              "size": 10,
              "solidity": 0.2
             }
            },
            "type": "barpolar"
           }
          ],
          "carpet": [
           {
            "aaxis": {
             "endlinecolor": "#A2B1C6",
             "gridcolor": "#506784",
             "linecolor": "#506784",
             "minorgridcolor": "#506784",
             "startlinecolor": "#A2B1C6"
            },
            "baxis": {
             "endlinecolor": "#A2B1C6",
             "gridcolor": "#506784",
             "linecolor": "#506784",
             "minorgridcolor": "#506784",
             "startlinecolor": "#A2B1C6"
            },
            "type": "carpet"
           }
          ],
          "choropleth": [
           {
            "colorbar": {
             "outlinewidth": 0,
             "ticks": ""
            },
            "type": "choropleth"
           }
          ],
          "contour": [
           {
            "colorbar": {
             "outlinewidth": 0,
             "ticks": ""
            },
            "colorscale": [
             [
              0,
              "#0d0887"
             ],
             [
              0.1111111111111111,
              "#46039f"
             ],
             [
              0.2222222222222222,
              "#7201a8"
             ],
             [
              0.3333333333333333,
              "#9c179e"
             ],
             [
              0.4444444444444444,
              "#bd3786"
             ],
             [
              0.5555555555555556,
              "#d8576b"
             ],
             [
              0.6666666666666666,
              "#ed7953"
             ],
             [
              0.7777777777777778,
              "#fb9f3a"
             ],
             [
              0.8888888888888888,
              "#fdca26"
             ],
             [
              1,
              "#f0f921"
             ]
            ],
            "type": "contour"
           }
          ],
          "contourcarpet": [
           {
            "colorbar": {
             "outlinewidth": 0,
             "ticks": ""
            },
            "type": "contourcarpet"
           }
          ],
          "heatmap": [
           {
            "colorbar": {
             "outlinewidth": 0,
             "ticks": ""
            },
            "colorscale": [
             [
              0,
              "#0d0887"
             ],
             [
              0.1111111111111111,
              "#46039f"
             ],
             [
              0.2222222222222222,
              "#7201a8"
             ],
             [
              0.3333333333333333,
              "#9c179e"
             ],
             [
              0.4444444444444444,
              "#bd3786"
             ],
             [
              0.5555555555555556,
              "#d8576b"
             ],
             [
              0.6666666666666666,
              "#ed7953"
             ],
             [
              0.7777777777777778,
              "#fb9f3a"
             ],
             [
              0.8888888888888888,
              "#fdca26"
             ],
             [
              1,
              "#f0f921"
             ]
            ],
            "type": "heatmap"
           }
          ],
          "heatmapgl": [
           {
            "colorbar": {
             "outlinewidth": 0,
             "ticks": ""
            },
            "colorscale": [
             [
              0,
              "#0d0887"
             ],
             [
              0.1111111111111111,
              "#46039f"
             ],
             [
              0.2222222222222222,
              "#7201a8"
             ],
             [
              0.3333333333333333,
              "#9c179e"
             ],
             [
              0.4444444444444444,
              "#bd3786"
             ],
             [
              0.5555555555555556,
              "#d8576b"
             ],
             [
              0.6666666666666666,
              "#ed7953"
             ],
             [
              0.7777777777777778,
              "#fb9f3a"
             ],
             [
              0.8888888888888888,
              "#fdca26"
             ],
             [
              1,
              "#f0f921"
             ]
            ],
            "type": "heatmapgl"
           }
          ],
          "histogram": [
           {
            "marker": {
             "pattern": {
              "fillmode": "overlay",
              "size": 10,
              "solidity": 0.2
             }
            },
            "type": "histogram"
           }
          ],
          "histogram2d": [
           {
            "colorbar": {
             "outlinewidth": 0,
             "ticks": ""
            },
            "colorscale": [
             [
              0,
              "#0d0887"
             ],
             [
              0.1111111111111111,
              "#46039f"
             ],
             [
              0.2222222222222222,
              "#7201a8"
             ],
             [
              0.3333333333333333,
              "#9c179e"
             ],
             [
              0.4444444444444444,
              "#bd3786"
             ],
             [
              0.5555555555555556,
              "#d8576b"
             ],
             [
              0.6666666666666666,
              "#ed7953"
             ],
             [
              0.7777777777777778,
              "#fb9f3a"
             ],
             [
              0.8888888888888888,
              "#fdca26"
             ],
             [
              1,
              "#f0f921"
             ]
            ],
            "type": "histogram2d"
           }
          ],
          "histogram2dcontour": [
           {
            "colorbar": {
             "outlinewidth": 0,
             "ticks": ""
            },
            "colorscale": [
             [
              0,
              "#0d0887"
             ],
             [
              0.1111111111111111,
              "#46039f"
             ],
             [
              0.2222222222222222,
              "#7201a8"
             ],
             [
              0.3333333333333333,
              "#9c179e"
             ],
             [
              0.4444444444444444,
              "#bd3786"
             ],
             [
              0.5555555555555556,
              "#d8576b"
             ],
             [
              0.6666666666666666,
              "#ed7953"
             ],
             [
              0.7777777777777778,
              "#fb9f3a"
             ],
             [
              0.8888888888888888,
              "#fdca26"
             ],
             [
              1,
              "#f0f921"
             ]
            ],
            "type": "histogram2dcontour"
           }
          ],
          "mesh3d": [
           {
            "colorbar": {
             "outlinewidth": 0,
             "ticks": ""
            },
            "type": "mesh3d"
           }
          ],
          "parcoords": [
           {
            "line": {
             "colorbar": {
              "outlinewidth": 0,
              "ticks": ""
             }
            },
            "type": "parcoords"
           }
          ],
          "pie": [
           {
            "automargin": true,
            "type": "pie"
           }
          ],
          "scatter": [
           {
            "marker": {
             "line": {
              "color": "#283442"
             }
            },
            "type": "scatter"
           }
          ],
          "scatter3d": [
           {
            "line": {
             "colorbar": {
              "outlinewidth": 0,
              "ticks": ""
             }
            },
            "marker": {
             "colorbar": {
              "outlinewidth": 0,
              "ticks": ""
             }
            },
            "type": "scatter3d"
           }
          ],
          "scattercarpet": [
           {
            "marker": {
             "colorbar": {
              "outlinewidth": 0,
              "ticks": ""
             }
            },
            "type": "scattercarpet"
           }
          ],
          "scattergeo": [
           {
            "marker": {
             "colorbar": {
              "outlinewidth": 0,
              "ticks": ""
             }
            },
            "type": "scattergeo"
           }
          ],
          "scattergl": [
           {
            "marker": {
             "line": {
              "color": "#283442"
             }
            },
            "type": "scattergl"
           }
          ],
          "scattermapbox": [
           {
            "marker": {
             "colorbar": {
              "outlinewidth": 0,
              "ticks": ""
             }
            },
            "type": "scattermapbox"
           }
          ],
          "scatterpolar": [
           {
            "marker": {
             "colorbar": {
              "outlinewidth": 0,
              "ticks": ""
             }
            },
            "type": "scatterpolar"
           }
          ],
          "scatterpolargl": [
           {
            "marker": {
             "colorbar": {
              "outlinewidth": 0,
              "ticks": ""
             }
            },
            "type": "scatterpolargl"
           }
          ],
          "scatterternary": [
           {
            "marker": {
             "colorbar": {
              "outlinewidth": 0,
              "ticks": ""
             }
            },
            "type": "scatterternary"
           }
          ],
          "surface": [
           {
            "colorbar": {
             "outlinewidth": 0,
             "ticks": ""
            },
            "colorscale": [
             [
              0,
              "#0d0887"
             ],
             [
              0.1111111111111111,
              "#46039f"
             ],
             [
              0.2222222222222222,
              "#7201a8"
             ],
             [
              0.3333333333333333,
              "#9c179e"
             ],
             [
              0.4444444444444444,
              "#bd3786"
             ],
             [
              0.5555555555555556,
              "#d8576b"
             ],
             [
              0.6666666666666666,
              "#ed7953"
             ],
             [
              0.7777777777777778,
              "#fb9f3a"
             ],
             [
              0.8888888888888888,
              "#fdca26"
             ],
             [
              1,
              "#f0f921"
             ]
            ],
            "type": "surface"
           }
          ],
          "table": [
           {
            "cells": {
             "fill": {
              "color": "#506784"
             },
             "line": {
              "color": "rgb(17,17,17)"
             }
            },
            "header": {
             "fill": {
              "color": "#2a3f5f"
             },
             "line": {
              "color": "rgb(17,17,17)"
             }
            },
            "type": "table"
           }
          ]
         },
         "layout": {
          "annotationdefaults": {
           "arrowcolor": "#f2f5fa",
           "arrowhead": 0,
           "arrowwidth": 1
          },
          "autotypenumbers": "strict",
          "coloraxis": {
           "colorbar": {
            "outlinewidth": 0,
            "ticks": ""
           }
          },
          "colorscale": {
           "diverging": [
            [
             0,
             "#8e0152"
            ],
            [
             0.1,
             "#c51b7d"
            ],
            [
             0.2,
             "#de77ae"
            ],
            [
             0.3,
             "#f1b6da"
            ],
            [
             0.4,
             "#fde0ef"
            ],
            [
             0.5,
             "#f7f7f7"
            ],
            [
             0.6,
             "#e6f5d0"
            ],
            [
             0.7,
             "#b8e186"
            ],
            [
             0.8,
             "#7fbc41"
            ],
            [
             0.9,
             "#4d9221"
            ],
            [
             1,
             "#276419"
            ]
           ],
           "sequential": [
            [
             0,
             "#0d0887"
            ],
            [
             0.1111111111111111,
             "#46039f"
            ],
            [
             0.2222222222222222,
             "#7201a8"
            ],
            [
             0.3333333333333333,
             "#9c179e"
            ],
            [
             0.4444444444444444,
             "#bd3786"
            ],
            [
             0.5555555555555556,
             "#d8576b"
            ],
            [
             0.6666666666666666,
             "#ed7953"
            ],
            [
             0.7777777777777778,
             "#fb9f3a"
            ],
            [
             0.8888888888888888,
             "#fdca26"
            ],
            [
             1,
             "#f0f921"
            ]
           ],
           "sequentialminus": [
            [
             0,
             "#0d0887"
            ],
            [
             0.1111111111111111,
             "#46039f"
            ],
            [
             0.2222222222222222,
             "#7201a8"
            ],
            [
             0.3333333333333333,
             "#9c179e"
            ],
            [
             0.4444444444444444,
             "#bd3786"
            ],
            [
             0.5555555555555556,
             "#d8576b"
            ],
            [
             0.6666666666666666,
             "#ed7953"
            ],
            [
             0.7777777777777778,
             "#fb9f3a"
            ],
            [
             0.8888888888888888,
             "#fdca26"
            ],
            [
             1,
             "#f0f921"
            ]
           ]
          },
          "colorway": [
           "#636efa",
           "#EF553B",
           "#00cc96",
           "#ab63fa",
           "#FFA15A",
           "#19d3f3",
           "#FF6692",
           "#B6E880",
           "#FF97FF",
           "#FECB52"
          ],
          "font": {
           "color": "#f2f5fa"
          },
          "geo": {
           "bgcolor": "rgb(17,17,17)",
           "lakecolor": "rgb(17,17,17)",
           "landcolor": "rgb(17,17,17)",
           "showlakes": true,
           "showland": true,
           "subunitcolor": "#506784"
          },
          "hoverlabel": {
           "align": "left"
          },
          "hovermode": "closest",
          "mapbox": {
           "style": "dark"
          },
          "paper_bgcolor": "rgb(17,17,17)",
          "plot_bgcolor": "rgb(17,17,17)",
          "polar": {
           "angularaxis": {
            "gridcolor": "#506784",
            "linecolor": "#506784",
            "ticks": ""
           },
           "bgcolor": "rgb(17,17,17)",
           "radialaxis": {
            "gridcolor": "#506784",
            "linecolor": "#506784",
            "ticks": ""
           }
          },
          "scene": {
           "xaxis": {
            "backgroundcolor": "rgb(17,17,17)",
            "gridcolor": "#506784",
            "gridwidth": 2,
            "linecolor": "#506784",
            "showbackground": true,
            "ticks": "",
            "zerolinecolor": "#C8D4E3"
           },
           "yaxis": {
            "backgroundcolor": "rgb(17,17,17)",
            "gridcolor": "#506784",
            "gridwidth": 2,
            "linecolor": "#506784",
            "showbackground": true,
            "ticks": "",
            "zerolinecolor": "#C8D4E3"
           },
           "zaxis": {
            "backgroundcolor": "rgb(17,17,17)",
            "gridcolor": "#506784",
            "gridwidth": 2,
            "linecolor": "#506784",
            "showbackground": true,
            "ticks": "",
            "zerolinecolor": "#C8D4E3"
           }
          },
          "shapedefaults": {
           "line": {
            "color": "#f2f5fa"
           }
          },
          "sliderdefaults": {
           "bgcolor": "#C8D4E3",
           "bordercolor": "rgb(17,17,17)",
           "borderwidth": 1,
           "tickwidth": 0
          },
          "ternary": {
           "aaxis": {
            "gridcolor": "#506784",
            "linecolor": "#506784",
            "ticks": ""
           },
           "baxis": {
            "gridcolor": "#506784",
            "linecolor": "#506784",
            "ticks": ""
           },
           "bgcolor": "rgb(17,17,17)",
           "caxis": {
            "gridcolor": "#506784",
            "linecolor": "#506784",
            "ticks": ""
           }
          },
          "title": {
           "x": 0.05
          },
          "updatemenudefaults": {
           "bgcolor": "#506784",
           "borderwidth": 0
          },
          "xaxis": {
           "automargin": true,
           "gridcolor": "#283442",
           "linecolor": "#506784",
           "ticks": "",
           "title": {
            "standoff": 15
           },
           "zerolinecolor": "#283442",
           "zerolinewidth": 2
          },
          "yaxis": {
           "automargin": true,
           "gridcolor": "#283442",
           "linecolor": "#506784",
           "ticks": "",
           "title": {
            "standoff": 15
           },
           "zerolinecolor": "#283442",
           "zerolinewidth": 2
          }
         }
        },
        "title": {
         "text": "Life Expectancy vs. Liberal Democracy Index (2021)"
        },
        "xaxis": {
         "anchor": "y",
         "domain": [
          0,
          1
         ],
         "title": {
          "text": "Liberal Democracy Index"
         }
        },
        "yaxis": {
         "anchor": "x",
         "domain": [
          0,
          1
         ],
         "title": {
          "text": "Life Expectancy"
         }
        }
       }
      }
     },
     "metadata": {},
     "output_type": "display_data"
    }
   ],
   "source": [
    "# Load the dataset\n",
    "df = life_exp_lib_democ\n",
    "\n",
    "# Display basic info and first few rows to understand the data structure\n",
    "print(df.info())\n",
    "print(df.head())\n",
    "\n",
    "# Clean the data by removing rows with NaN values in critical columns\n",
    "df_cleaned = df.dropna(subset=['Liberal democracy index (best estimate, aggregate: average)', \n",
    "                               'Period life expectancy at birth - Sex: all - Age: 0', \n",
    "                               'Population (historical)'])\n",
    "\n",
    "# Scale the population to increase the size of the points\n",
    "df_cleaned['Scaled Population'] = df_cleaned['Population (historical)'] / 1e6\n",
    "\n",
    "# Create the scatter plot with text labels\n",
    "fig = px.scatter(\n",
    "    df_cleaned,\n",
    "    x='Liberal democracy index (best estimate, aggregate: average)',\n",
    "    y='Period life expectancy at birth - Sex: all - Age: 0',\n",
    "    size='Scaled Population',  # Use the scaled population\n",
    "    color='Continent',\n",
    "    hover_name='Entity',\n",
    "    text='Entity',  # Add country names as text\n",
    "    size_max=150,  # Increase size_max to make points larger\n",
    "    title='Life Expectancy vs. Liberal Democracy Index (2021)',\n",
    "    labels={\n",
    "        'Liberal democracy index (best estimate, aggregate: average)': 'Liberal Democracy Index',\n",
    "        'Period life expectancy at birth - Sex: all - Age: 0': 'Life Expectancy'\n",
    "    }\n",
    ")\n",
    "\n",
    "# Update the layout\n",
    "fig.update_layout(\n",
    "    xaxis_title='Liberal Democracy Index',\n",
    "    yaxis_title='Life Expectancy',\n",
    "    legend_title='Continent',\n",
    "    template='plotly_dark',\n",
    "    height=1500\n",
    ")\n",
    "\n",
    "# Update the text position for better readability\n",
    "fig.update_traces(textposition='bottom center')\n",
    "\n",
    "# Show the plot\n",
    "fig.show()\n"
   ]
  }
 ],
 "metadata": {
  "kernelspec": {
   "display_name": "vizvenv",
   "language": "python",
   "name": "python3"
  },
  "language_info": {
   "codemirror_mode": {
    "name": "ipython",
    "version": 3
   },
   "file_extension": ".py",
   "mimetype": "text/x-python",
   "name": "python",
   "nbconvert_exporter": "python",
   "pygments_lexer": "ipython3",
   "version": "3.11.9"
  }
 },
 "nbformat": 4,
 "nbformat_minor": 5
}

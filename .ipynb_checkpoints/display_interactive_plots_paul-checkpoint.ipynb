{
 "cells": [
  {
   "cell_type": "code",
   "execution_count": null,
   "metadata": {},
   "outputs": [],
   "source": [
    "from interactive_scatter import zabi_scatter\n",
    "import pandas as pd\n",
    "co2_df = pd.read_pickle(\"./data/co2_df.pkl\")\n",
    "rel_df = pd.read_pickle(\"./data/rel_df.pkl\")\n",
    "co2_rel_df = pd.read_pickle(\"./data/co2_rel_df.pkl\")\n",
    "year = 2000"
   ]
  },
  {
   "cell_type": "code",
   "execution_count": null,
   "metadata": {},
   "outputs": [],
   "source": [
    "zabi_scatter(co2_df, \"edi\", \"CO2\", title=\"Electoral Democracy Index vs. CO2 Emissions\", year=2000, size=\"pop\", color=\"continent\", uselogy=True)"
   ]
  },
  {
   "cell_type": "code",
   "execution_count": null,
   "metadata": {},
   "outputs": [],
   "source": [
    "zabi_scatter(co2_rel_df, \"CO2\", \"HHI\", title=\"CO2 Emissions vs. Religous Mixedness\", year = 2010, size=\"pop\", color=\"primary_rel\", uselogx=True)"
   ]
  },
  {
   "cell_type": "code",
   "execution_count": null,
   "metadata": {},
   "outputs": [],
   "source": [
    "zabi_scatter(rel_df, \"edi\", \"nonreligpct\", year=int(year), size=\"pop\", color= \"continent\", title=\"Electoral Democracy Index vs. Non-Religious\", uselogy=True)"
   ]
  },
  {
   "cell_type": "code",
   "execution_count": null,
   "metadata": {},
   "outputs": [],
   "source": [
    "zabi_scatter(rel_df, \"edi\", \"HHI\", year=int(year), size=\"pop\", color= \"continent\", title=\"Electoral Democracy Index vs. Religious Diversity\", uselogy=False)"
   ]
  }
 ],
 "metadata": {
  "kernelspec": {
   "display_name": "venv",
   "language": "python",
   "name": "python3"
  },
  "language_info": {
   "codemirror_mode": {
    "name": "ipython",
    "version": 3
   },
   "file_extension": ".py",
   "mimetype": "text/x-python",
   "name": "python",
   "nbconvert_exporter": "python",
   "pygments_lexer": "ipython3",
   "version": "3.12.0"
  }
 },
 "nbformat": 4,
 "nbformat_minor": 2
}

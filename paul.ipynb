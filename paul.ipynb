{
 "cells": [
  {
   "cell_type": "code",
   "execution_count": 1,
   "metadata": {},
   "outputs": [],
   "source": [
    "import pandas as pd"
   ]
  },
  {
   "cell_type": "code",
   "execution_count": 5,
   "metadata": {},
   "outputs": [],
   "source": [
    "df = pd.read_csv(\"./data/emission/data.csv\", sep=\",\")\n",
    "df_melted = pd.melt(df,\n",
    "                    id_vars=list(df.columns[:4]),\n",
    "                    value_vars=list(df.columns[4:-1]),\n",
    "                    var_name=\"Year\",\n",
    "                    value_name=\"CO2\")\n",
    "df_melted = df_melted[[\"Country Name\", \"Country Code\", \"Year\", \"CO2\"]]\n"
   ]
  },
  {
   "cell_type": "code",
   "execution_count": 22,
   "metadata": {},
   "outputs": [],
   "source": [
    "df_co2 = df_melted[df_melted[\"CO2\"]>=0]\n",
    "print(len(df_co2))\n",
    "df_co2.head(20)"
   ]
  }
 ],
 "metadata": {
  "kernelspec": {
   "display_name": "venv",
   "language": "python",
   "name": "python3"
  },
  "language_info": {
   "codemirror_mode": {
    "name": "ipython",
    "version": 3
   },
   "file_extension": ".py",
   "mimetype": "text/x-python",
   "name": "python",
   "nbconvert_exporter": "python",
   "pygments_lexer": "ipython3",
   "version": "3.12.0"
  }
 },
 "nbformat": 4,
 "nbformat_minor": 2
}

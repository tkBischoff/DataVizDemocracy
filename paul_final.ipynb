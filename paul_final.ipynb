{
 "cells": [
  {
   "cell_type": "code",
   "execution_count": null,
   "metadata": {},
   "outputs": [],
   "source": [
    "import pandas as pd\n",
    "import numpy as np\n",
    "import geopandas as gpd\n",
    "import plotly.express as px\n",
    "import matplotlib.pyplot as plt\n",
    "from mpl_toolkits.axes_grid1 import make_axes_locatable\n",
    "import plotly.graph_objects as go\n",
    "import cv2\n",
    "import os\n",
    "import plotly.io as pio\n",
    "\n",
    "os.chdir(\"/Users/pwecker/dev/DataVizDemocracy\")"
   ]
  },
  {
   "cell_type": "code",
   "execution_count": null,
   "metadata": {},
   "outputs": [],
   "source": [
    "def extend_df_by_continents(df):\n",
    "    continent_map_df = pd.read_csv('data/country_continent_map.csv')[[\"iso_code\", \"continent\"]].drop_duplicates()\n",
    "    return pd.merge(df, continent_map_df, left_on=\"Code\", right_on=\"iso_code\")\n",
    "\n",
    "def extend_df_by_population(df):\n",
    "    pop_df = pd.read_csv(\"data/life-expectancy-vs-liberal-democracy-index.csv\")[[\"Code\", \"Year\", \"Population (historical)\"]]   \n",
    "    return (pd.merge(df, pop_df, on=[\"Code\", \"Year\"]).rename({\"Population (historical)\":\"pop\"}, axis=1))\n",
    "\n",
    "def extend_df_by_edi(df):\n",
    "    edi_df = (pd.read_csv(\"data/electoral-democracy-index.csv\")\n",
    "            .rename({\"Electoral democracy index (best estimate, aggregate: average)\": \"edi\"}, axis=1))\n",
    "    return pd.merge(df, edi_df, on=[\"Code\", \"Year\"])"
   ]
  },
  {
   "cell_type": "markdown",
   "metadata": {},
   "source": [
    "# CO2"
   ]
  },
  {
   "cell_type": "code",
   "execution_count": null,
   "metadata": {},
   "outputs": [],
   "source": [
    "df = pd.read_csv(\"/Users/pwecker/dev/DataVizDemocracy/data/emission/data.csv\", sep=\",\")\n",
    "df_melted = pd.melt(df,\n",
    "                    id_vars=list(df.columns[:4]),\n",
    "                    value_vars=list(df.columns[4:-1]),\n",
    "                    var_name=\"Year\",\n",
    "                    value_name=\"CO2\")\n",
    "df_melted = (df_melted[[\"Country Code\", \"Year\", \"CO2\"]]\n",
    "            .rename(columns={\"Country Code\":\"Code\"})\n",
    "            .dropna()\n",
    "            .astype({'CO2': 'int64',\n",
    "                     \"Year\": \"int64\",\n",
    "                     \"Code\": \"str\"}))\n",
    "co2_df = df_melted[df_melted[\"CO2\"]>=0]\n",
    "\n",
    "co2_df = extend_df_by_continents(co2_df)\n",
    "co2_df = extend_df_by_population(co2_df)\n",
    "co2_df = extend_df_by_edi(co2_df)\n",
    "co2_df.head(1)\n"
   ]
  },
  {
   "cell_type": "markdown",
   "metadata": {},
   "source": [
    "# Religion"
   ]
  },
  {
   "cell_type": "code",
   "execution_count": null,
   "metadata": {},
   "outputs": [],
   "source": [
    "rel_df = pd.read_csv(\"data/religion/national_data.csv\") # as found here: https://data.world/cow/world-religion-data\n",
    "codes_cow_df = pd.read_csv(\"./data/religion/final_merged_country_data_v2.csv\")[[\"Code\", \"CCode\"]]\n",
    "pd.options.mode.copy_on_write = True\n",
    "main_rels = [\"judgenpct\", \"islmgenpct\", \"chrstgenpct\", \"budgenpct\", \"hindgenpct\", \"sikhgenpct\", \"shntgenpct\", \"bahgenpct\", \"taogenpct\", \"confgenpct\",\"anmgenpct\"]\n",
    "main_rels_abs = [rel[:-3] for rel in main_rels] # get \"chrstgen\" for \"chrstgenpct\"\n",
    "\n",
    "main_rels_df = rel_df[[\"year\", \"state\", \"total\", \"nonreligpct\", \"othrgenpct\"] + main_rels + main_rels_abs]\n",
    "# Ensure all values in the main religion columns are numeric and replace NaNs with zeros\n",
    "main_rels_df[main_rels] = main_rels_df[main_rels].apply(pd.to_numeric, errors='coerce').fillna(0)\n",
    "\n",
    "# Replace NaNs in 'total' with 1 to avoid division by zero\n",
    "main_rels_df['total'] = pd.to_numeric(main_rels_df['total'], errors='coerce').fillna(1)\n",
    "main_rels_df[main_rels] = main_rels_df[main_rels].div(main_rels_df['total'], axis=0)\n",
    "main_rels_df['primary_rel'] = main_rels_df[main_rels].idxmax(axis=1)\n",
    "main_rels_df[main_rels] = main_rels_df[main_rels].apply(pd.to_numeric, errors='coerce')\n",
    "main_rels_df[main_rels] = main_rels_df[main_rels].fillna(0)\n",
    "\n",
    "def calculate_entropy(row, main_rels):\n",
    "    try:\n",
    "        proportions = row[main_rels].values / 100  # Convert percentage values to proportions\n",
    "        proportions = proportions[proportions > 0]  # Filter out zero proportions to avoid log(0)\n",
    "        if len(proportions) == 0:\n",
    "            return 0  # If no proportions are greater than zero, entropy is zero\n",
    "        proportions = proportions.astype(float)  # Ensure all values are floats\n",
    "        entropy = -np.sum(proportions * np.log2(proportions))  # Calculate entropy\n",
    "        return entropy\n",
    "    except Exception as e:\n",
    "        print(f\"Error calculating entropy for row: {row.name}, error: {e}\")\n",
    "        return np.nan\n",
    "\n",
    "# Apply the entropy calculation to each row\n",
    "main_rels_df['entropy'] = main_rels_df.apply(calculate_entropy, axis=1, main_rels=main_rels)\n",
    "\n",
    "main_rels_df = main_rels_df.rename({\"state\":\"CCode\", \"year\": \"Year\"}, axis=1)\n",
    "rel_df = pd.merge(main_rels_df, codes_cow_df.drop_duplicates(), on=\"CCode\", )\n",
    "rel_df = rel_df[[\"Code\", \"Year\", \"nonreligpct\", \"entropy\", \"primary_rel\"] + main_rels_abs]\n",
    "rel_df = extend_df_by_edi(rel_df)\n",
    "rel_df = extend_df_by_continents(rel_df)\n",
    "rel_df = extend_df_by_population(rel_df)\n",
    "main_rels_comp_pct = [rel+\"comppct\" for rel in main_rels_abs]\n",
    "rel_df[main_rels_comp_pct] = rel_df[main_rels_abs].div(rel_df[main_rels_abs].sum(axis=1), axis=0)\n",
    "# Compute HHI\n",
    "rel_df['HHI'] = rel_df[main_rels_comp_pct].apply(lambda x: sum(x**2), axis=1)"
   ]
  },
  {
   "cell_type": "markdown",
   "metadata": {},
   "source": [
    "# Map"
   ]
  },
  {
   "cell_type": "code",
   "execution_count": null,
   "metadata": {},
   "outputs": [],
   "source": [
    "map_df = gpd.read_file('data/geodata/World_Countries.shp')\n",
    "map_df = map_df.set_index('COUNTRY')"
   ]
  },
  {
   "cell_type": "code",
   "execution_count": null,
   "metadata": {},
   "outputs": [],
   "source": []
  },
  {
   "cell_type": "markdown",
   "metadata": {},
   "source": [
    "# Plot Functions"
   ]
  },
  {
   "cell_type": "code",
   "execution_count": null,
   "metadata": {},
   "outputs": [],
   "source": [
    "def plot_edi_map(edi_df, map_df, title, year, col=\"edi\", use_log_scale=False, save_dont_show=False, folder=\"co2_map_plots\", bottom_x = None, top_x=None):\n",
    "    # Filter and clean the data\n",
    "    edi_df = edi_df.set_index('Entity')\n",
    "    edi_df = edi_df.dropna(how='all')\n",
    "    edi_df = edi_df[edi_df['Year'] == year]\n",
    "    \n",
    "    # Merge the map data with the edi data\n",
    "    edi_map_df = map_df.join(edi_df, how='left')\n",
    "    \n",
    "    if use_log_scale:\n",
    "        # Apply logarithmic transformation\n",
    "        edi_map_df[col] = edi_map_df[col].apply(lambda x: np.log10(x) if x > 0 else np.nan)\n",
    "        if top_x is not None:\n",
    "            top = top_x\n",
    "        else:\n",
    "            top = edi_map_df[col].max()\n",
    "        if bottom_x is not None:\n",
    "            bottom = bottom_x\n",
    "        else:\n",
    "            bottom=edi_map_df[col].min()\n",
    "        norm = plt.Normalize(vmin=bottom, vmax=top)\n",
    "\n",
    "        cbar_label = f'Log10({col})'\n",
    "    else:\n",
    "        if top_x is not None:\n",
    "            top = top_x\n",
    "        else:\n",
    "            top = edi_map_df[col].max()\n",
    "        if bottom_x is not None:\n",
    "            bottom = bottom_x\n",
    "        else:\n",
    "            bottom=edi_map_df[col].min()\n",
    "        norm = plt.Normalize(vmin=bottom, vmax=top)\n",
    "\n",
    "        cbar_label = col\n",
    "    \n",
    "    # Create the plot\n",
    "    fig, ax = plt.subplots(1, 1, figsize=(10, 7))\n",
    "    map_df.plot(color='grey', ax=ax)\n",
    "    \n",
    "    # Plot the data with the specified column and color map\n",
    "    p = edi_map_df.plot(column=col, \n",
    "                        cmap='plasma', \n",
    "                        legend=False, \n",
    "                        norm=norm,\n",
    "                        ax=ax)\n",
    "    \n",
    "    ax.axis('off')\n",
    "    ax.set_title(f'{title} {year}')\n",
    "    \n",
    "    # Add color gradient legend in custom axis\n",
    "    divider = make_axes_locatable(ax)\n",
    "    cax = divider.append_axes(\"bottom\", size=\"10%\", pad=0.1)\n",
    "    \n",
    "    # Use the ScalarMappable to ensure the colorbar matches the plot\n",
    "    sm = plt.cm.ScalarMappable(cmap='plasma', norm=norm)\n",
    "    sm._A = []\n",
    "    cbar = fig.colorbar(sm, cax=cax, orientation='horizontal')\n",
    "    cbar.set_label(cbar_label)\n",
    "\n",
    "    plt.tight_layout()\n",
    "    if save_dont_show:\n",
    "        plt.savefig(f\"./{folder}/{title} {year}\")\n",
    "    else:\n",
    "        plt.show()\n"
   ]
  },
  {
   "cell_type": "code",
   "execution_count": null,
   "metadata": {},
   "outputs": [],
   "source": [
    "def zabi_scatter(df: pd.DataFrame, x: str, y: str, year: int, size: str, color: str, title: str, uselogx=False, uselogy=False, savedontshow=False, location=\"\"):\n",
    "    if year != 0:\n",
    "        df = df[df[\"Year\"]==year]\n",
    "    if size is not None:\n",
    "        df[size] = df[size].apply(lambda x: 60000000 if x<60000000 else x) / 1e6\n",
    "    fig = px.scatter(\n",
    "    df,\n",
    "    x=x,\n",
    "    y=y,\n",
    "    size=size,  # Use the scaled population\n",
    "    color=color,\n",
    "    hover_name='Entity',\n",
    "    size_max=40, # Increase size_max to make points larger -- 200 worked the best\n",
    "    title=f\"{title} {year}\",\n",
    "    )\n",
    "\n",
    "    # Update the layout\n",
    "    if uselogx and uselogy:\n",
    "        fig.update_layout(\n",
    "            xaxis_title=x,\n",
    "            yaxis_title=y,\n",
    "            legend_title=color,\n",
    "            template='plotly',\n",
    "            height=800,\n",
    "            yaxis_type=\"log\",\n",
    "            xaxis_type=\"log\"\n",
    "        )\n",
    "    elif uselogx:\n",
    "        fig.update_layout(\n",
    "            xaxis_title=x,\n",
    "            yaxis_title=y,\n",
    "            legend_title=color,\n",
    "            template='plotly',\n",
    "            height=800,\n",
    "            xaxis_type=\"log\"\n",
    "        )\n",
    "    elif uselogy:\n",
    "        fig.update_layout(\n",
    "            xaxis_title=x,\n",
    "            yaxis_title=y,\n",
    "            legend_title=color,\n",
    "            template='plotly',\n",
    "            height=800,\n",
    "            yaxis_type=\"log\"\n",
    "        )        \n",
    "\n",
    "    # Show the plot\n",
    "    if savedontshow:\n",
    "        pio.write_html(fig, f\"/Users/pwecker/dev/DataVizDemocracy/plots_paul/relig_scatter_plots/{title}_{year}_interactive.html\")\n",
    "    else:\n",
    "        fig.show()\n"
   ]
  },
  {
   "cell_type": "markdown",
   "metadata": {},
   "source": [
    "# CREATING PLOTS"
   ]
  },
  {
   "cell_type": "code",
   "execution_count": null,
   "metadata": {},
   "outputs": [],
   "source": [
    "plot_edi_map(rel_df, map_df, \"Religous Mixedness\", 2000, col=\"HHI\")"
   ]
  },
  {
   "cell_type": "code",
   "execution_count": null,
   "metadata": {},
   "outputs": [],
   "source": [
    "for year in list(rel_df[\"Year\"].unique()):\n",
    "    plot_edi_map(rel_df, map_df, \"Religious Diversity\", year, col=\"HHI\", save_dont_show=True, folder=\"plots_paul/relig_map_plots\")"
   ]
  },
  {
   "cell_type": "code",
   "execution_count": null,
   "metadata": {},
   "outputs": [],
   "source": [
    "plot_edi_map(rel_df, map_df, \"Non-Religousness\", 2010, col=\"nonreligpct\")"
   ]
  },
  {
   "cell_type": "code",
   "execution_count": null,
   "metadata": {},
   "outputs": [],
   "source": [
    "for year in list(co2_df[\"Year\"].unique()):\n",
    "    plot_edi_map(co2_df, map_df, \"CO2 Emission\", year, col=\"CO2\", save_dont_show=True,\n",
    "                 folder=\"plots_paul/co2_map_plots\", use_log_scale=True, bottom_x=3, top_x=8)"
   ]
  },
  {
   "cell_type": "code",
   "execution_count": null,
   "metadata": {},
   "outputs": [],
   "source": [
    "for year in list(rel_df[\"Year\"].unique()):\n",
    "    print(int(year))\n",
    "    zabi_scatter(rel_df, \"edi\", \"HHI\", \n",
    "                year=int(year), size=\"pop\", \n",
    "                color= \"continent\", \n",
    "                title=\"Electoral Democracy Index vs. Religious Diversity\",\n",
    "                uselogy=False, savedontshow=True, location=\"relig_scatter_plots\")"
   ]
  },
  {
   "cell_type": "code",
   "execution_count": null,
   "metadata": {},
   "outputs": [],
   "source": [
    "list(rel_df[\"Year\"].unique())"
   ]
  },
  {
   "cell_type": "code",
   "execution_count": null,
   "metadata": {},
   "outputs": [],
   "source": [
    "for year in list(rel_df[\"Year\"].unique()):\n",
    "    zabi_scatter(rel_df, \"edi\", \"nonreligpct\", \n",
    "                year=int(year), size=\"pop\", \n",
    "                color= \"continent\", \n",
    "                title=\"Electoral Democracy Index vs. Non-Religious\",\n",
    "                uselogy=True, savedontshow=True, location=\"relig_scatter_plots\")\n"
   ]
  },
  {
   "cell_type": "code",
   "execution_count": 17,
   "metadata": {},
   "outputs": [
    {
     "data": {
      "application/vnd.plotly.v1+json": {
       "config": {
        "plotlyServerURL": "https://plot.ly"
       },
       "data": [
        {
         "hovertemplate": "<b>%{hovertext}</b><br><br>continent=Asia<br>edi=%{x}<br>CO2=%{y}<br>pop=%{marker.size}<extra></extra>",
         "hovertext": [
          "Afghanistan",
          "United Arab Emirates",
          "Armenia",
          "Azerbaijan",
          "Bangladesh",
          "Bahrain",
          "Bhutan",
          "China",
          "Georgia",
          "Indonesia",
          "India",
          "Iran",
          "Iraq",
          "Israel",
          "Jordan",
          "Japan",
          "Kazakhstan",
          "Kyrgyzstan",
          "Cambodia",
          "South Korea",
          "Kuwait",
          "Laos",
          "Lebanon",
          "Sri Lanka",
          "Maldives",
          "Myanmar",
          "Mongolia",
          "Malaysia",
          "Nepal",
          "Oman",
          "Pakistan",
          "Philippines",
          "North Korea",
          "Qatar",
          "Saudi Arabia",
          "Singapore",
          "Syria",
          "Thailand",
          "Tajikistan",
          "Turkmenistan",
          "East Timor",
          "Turkey",
          "Uzbekistan",
          "Vietnam",
          "Yemen"
         ],
         "legendgroup": "Asia",
         "marker": {
          "color": "#636efa",
          "size": [
           60,
           60,
           60,
           60,
           134.544303,
           60,
           60,
           1269.581164,
           60,
           216.077791,
           1057.922728,
           66.418662,
           60,
           60,
           60,
           127.027796,
           60,
           60,
           60,
           60,
           60,
           60,
           60,
           60,
           60,
           60,
           60,
           60,
           60,
           60,
           154.879124,
           79.625402,
           60,
           60,
           60,
           60,
           60,
           63.007813,
           60,
           60,
           60,
           65.425958,
           60,
           77.154015,
           60
          ],
          "sizemode": "area",
          "sizeref": 0.7934882274999999,
          "symbol": "circle"
         },
         "mode": "markers",
         "name": "Asia",
         "orientation": "v",
         "showlegend": true,
         "type": "scatter",
         "x": [
          0.072,
          0.026,
          0.424,
          0.249,
          0.51,
          0.066,
          0.095,
          0.101,
          0.375,
          0.685,
          0.726,
          0.235,
          0.145,
          0.772,
          0.186,
          0.84,
          0.271,
          0.288,
          0.323,
          0.837,
          0.285,
          0.088,
          0.327,
          0.495,
          0.161,
          0.095,
          0.677,
          0.275,
          0.363,
          0.052,
          0.205,
          0.586,
          0.084,
          0.02,
          0.017,
          0.386,
          0.151,
          0.513,
          0.24,
          0.071,
          0.224,
          0.585,
          0.155,
          0.151,
          0.269
         ],
         "xaxis": "x",
         "y": [
          1078,
          84729,
          3561,
          27687,
          20686,
          15876,
          388,
          3346525,
          4772,
          280635,
          937858,
          340456,
          87630,
          56997,
          16268,
          1184424,
          120151,
          4643,
          1963,
          447237,
          49838,
          903,
          15672,
          10928,
          462,
          9440,
          8996,
          124355,
          3221,
          25115,
          98374,
          71942,
          71822,
          28666,
          249654,
          42117,
          44401,
          168941,
          2200,
          38507,
          0,
          216396,
          123804,
          51207,
          15030
         ],
         "yaxis": "y"
        },
        {
         "hovertemplate": "<b>%{hovertext}</b><br><br>continent=Africa<br>edi=%{x}<br>CO2=%{y}<br>pop=%{marker.size}<extra></extra>",
         "hovertext": [
          "Angola",
          "Burundi",
          "Benin",
          "Burkina Faso",
          "Botswana",
          "Central African Republic",
          "Cote d'Ivoire",
          "Cameroon",
          "Democratic Republic of Congo",
          "Congo",
          "Comoros",
          "Cape Verde",
          "Djibouti",
          "Algeria",
          "Egypt",
          "Eritrea",
          "Ethiopia",
          "Gabon",
          "Ghana",
          "Guinea",
          "Gambia",
          "Guinea-Bissau",
          "Equatorial Guinea",
          "Kenya",
          "Liberia",
          "Libya",
          "Lesotho",
          "Morocco",
          "Madagascar",
          "Mali",
          "Mozambique",
          "Mauritania",
          "Mauritius",
          "Malawi",
          "Namibia",
          "Niger",
          "Nigeria",
          "Rwanda",
          "Sudan",
          "Senegal",
          "Sierra Leone",
          "Somalia",
          "South Sudan",
          "Sao Tome and Principe",
          "Eswatini",
          "Seychelles",
          "Chad",
          "Togo",
          "Tunisia",
          "Tanzania",
          "Uganda",
          "South Africa",
          "Zambia",
          "Zimbabwe"
         ],
         "legendgroup": "Africa",
         "marker": {
          "color": "#EF553B",
          "size": [
           60,
           60,
           60,
           60,
           60,
           60,
           60,
           60,
           60,
           60,
           60,
           60,
           60,
           60,
           73.083287,
           60,
           67.411495,
           60,
           60,
           60,
           60,
           60,
           60,
           60,
           60,
           60,
           60,
           60,
           60,
           60,
           60,
           60,
           60,
           60,
           60,
           60,
           126.382491,
           60,
           60,
           60,
           60,
           60,
           60,
           60,
           60,
           60,
           60,
           60,
           60,
           60,
           60,
           60,
           60,
           60
          ],
          "sizemode": "area",
          "sizeref": 0.7934882274999999,
          "symbol": "circle"
         },
         "mode": "markers",
         "name": "Africa",
         "orientation": "v",
         "showlegend": true,
         "type": "scatter",
         "x": [
          0.158,
          0.191,
          0.612,
          0.518,
          0.707,
          0.34,
          0.274,
          0.307,
          0.152,
          0.161,
          0.227,
          0.764,
          0.254,
          0.325,
          0.219,
          0.121,
          0.24,
          0.34,
          0.667,
          0.268,
          0.258,
          0.432,
          0.188,
          0.377,
          0.344,
          0.072,
          0.315,
          0.237,
          0.507,
          0.511,
          0.422,
          0.308,
          0.737,
          0.474,
          0.656,
          0.547,
          0.478,
          0.114,
          0.133,
          0.677,
          0.23,
          0.177,
          0.133,
          0.651,
          0.125,
          0.366,
          0.283,
          0.303,
          0.189,
          0.484,
          0.309,
          0.745,
          0.487,
          0.277
         ],
         "xaxis": "x",
         "y": [
          16204,
          262,
          1424,
          1048,
          4033,
          243,
          6489,
          5209,
          1634,
          4346,
          104,
          305,
          373,
          80046,
          114614,
          633,
          3557,
          6080,
          4949,
          1494,
          244,
          147,
          1982,
          8630,
          425,
          44724,
          1747,
          32876,
          1654,
          1093,
          1426,
          1118,
          2431,
          875,
          1942,
          660,
          97215,
          660,
          5690,
          4063,
          333,
          486,
          459,
          53,
          1090,
          293,
          507,
          1269,
          21068,
          2946,
          1297,
          284463,
          1807,
          13578
         ],
         "yaxis": "y"
        },
        {
         "hovertemplate": "<b>%{hovertext}</b><br><br>continent=Europe<br>edi=%{x}<br>CO2=%{y}<br>pop=%{marker.size}<extra></extra>",
         "hovertext": [
          "Albania",
          "Austria",
          "Belgium",
          "Bulgaria",
          "Bosnia and Herzegovina",
          "Belarus",
          "Switzerland",
          "Cyprus",
          "Czechia",
          "Germany",
          "Denmark",
          "Spain",
          "Estonia",
          "Finland",
          "France",
          "United Kingdom",
          "Greece",
          "Croatia",
          "Hungary",
          "Ireland",
          "Iceland",
          "Italy",
          "Lithuania",
          "Luxembourg",
          "Latvia",
          "Moldova",
          "North Macedonia",
          "Malta",
          "Montenegro",
          "Netherlands",
          "Norway",
          "Poland",
          "Portugal",
          "Romania",
          "Russia",
          "Serbia",
          "Slovakia",
          "Slovenia",
          "Sweden",
          "Ukraine"
         ],
         "legendgroup": "Europe",
         "marker": {
          "color": "#00cc96",
          "size": [
           60,
           60,
           60,
           60,
           60,
           60,
           60,
           60,
           60,
           81.797255,
           60,
           60,
           60,
           60,
           60,
           60,
           60,
           60,
           60,
           60,
           60,
           60,
           60,
           60,
           60,
           60,
           60,
           60,
           60,
           60,
           60,
           60,
           60,
           60,
           146.717784,
           60,
           60,
           60,
           60,
           60
          ],
          "sizemode": "area",
          "sizeref": 0.7934882274999999,
          "symbol": "circle"
         },
         "mode": "markers",
         "name": "Europe",
         "orientation": "v",
         "showlegend": true,
         "type": "scatter",
         "x": [
          0.407,
          0.86,
          0.885,
          0.717,
          0.627,
          0.297,
          0.888,
          0.798,
          0.88,
          0.897,
          0.906,
          0.891,
          0.871,
          0.875,
          0.876,
          0.852,
          0.885,
          0.77,
          0.848,
          0.891,
          0.871,
          0.845,
          0.823,
          0.877,
          0.817,
          0.58,
          0.44,
          0.792,
          0.421,
          0.862,
          0.889,
          0.876,
          0.876,
          0.614,
          0.405,
          0.365,
          0.848,
          0.844,
          0.914,
          0.385
         ],
         "xaxis": "x",
         "y": [
          3186,
          63538,
          117274,
          43421,
          13955,
          52967,
          43708,
          7127,
          124716,
          830284,
          52602,
          293314,
          14932,
          55097,
          373235,
          530888,
          94460,
          18034,
          54633,
          42533,
          2225,
          436296,
          10515,
          8556,
          6929,
          6709,
          8522,
          2129,
          1520,
          162096,
          34283,
          295774,
          61661,
          89003,
          1563845,
          43985,
          38072,
          14541,
          53277,
          297376
         ],
         "yaxis": "y"
        },
        {
         "hovertemplate": "<b>%{hovertext}</b><br><br>continent=South America<br>edi=%{x}<br>CO2=%{y}<br>pop=%{marker.size}<extra></extra>",
         "hovertext": [
          "Argentina",
          "Bolivia",
          "Brazil",
          "Chile",
          "Colombia",
          "Ecuador",
          "Guyana",
          "Peru",
          "Paraguay",
          "Suriname",
          "Uruguay",
          "Venezuela"
         ],
         "legendgroup": "South America",
         "marker": {
          "color": "#ab63fa",
          "size": [
           60,
           60,
           174.018276,
           60,
           60,
           60,
           60,
           60,
           60,
           60,
           60,
           60
          ],
          "sizemode": "area",
          "sizeref": 0.7934882274999999,
          "symbol": "circle"
         },
         "mode": "markers",
         "name": "South America",
         "orientation": "v",
         "showlegend": true,
         "type": "scatter",
         "x": [
          0.84,
          0.75,
          0.856,
          0.879,
          0.552,
          0.694,
          0.53,
          0.416,
          0.543,
          0.783,
          0.877,
          0.577
         ],
         "xaxis": "x",
         "y": [
          132265,
          8108,
          313670,
          50424,
          58995,
          22051,
          1660,
          28634,
          3524,
          1480,
          5458,
          131516
         ],
         "yaxis": "y"
        },
        {
         "hovertemplate": "<b>%{hovertext}</b><br><br>continent=Oceania<br>edi=%{x}<br>CO2=%{y}<br>pop=%{marker.size}<extra></extra>",
         "hovertext": [
          "Australia",
          "Fiji",
          "New Zealand",
          "Papua New Guinea",
          "Solomon Islands",
          "Vanuatu"
         ],
         "legendgroup": "Oceania",
         "marker": {
          "color": "#FFA15A",
          "size": [
           60,
           60,
           60,
           60,
           60,
           60
          ],
          "sizemode": "area",
          "sizeref": 0.7934882274999999,
          "symbol": "circle"
         },
         "mode": "markers",
         "name": "Oceania",
         "orientation": "v",
         "showlegend": true,
         "type": "scatter",
         "x": [
          0.887,
          0.349,
          0.885,
          0.524,
          0.351,
          0.602
         ],
         "xaxis": "x",
         "y": [
          339422,
          836,
          29455,
          2825,
          235,
          89
         ],
         "yaxis": "y"
        },
        {
         "hovertemplate": "<b>%{hovertext}</b><br><br>continent=North America<br>edi=%{x}<br>CO2=%{y}<br>pop=%{marker.size}<extra></extra>",
         "hovertext": [
          "Barbados",
          "Canada",
          "Costa Rica",
          "Cuba",
          "Dominican Republic",
          "Guatemala",
          "Honduras",
          "Haiti",
          "Jamaica",
          "Mexico",
          "Nicaragua",
          "Panama",
          "El Salvador",
          "Trinidad and Tobago",
          "United States"
         ],
         "legendgroup": "North America",
         "marker": {
          "color": "#19d3f3",
          "size": [
           60,
           60,
           60,
           60,
           60,
           60,
           60,
           60,
           60,
           98.625554,
           60,
           60,
           60,
           60,
           281.484127
          ],
          "sizemode": "area",
          "sizeref": 0.7934882274999999,
          "symbol": "circle"
         },
         "mode": "markers",
         "name": "North America",
         "orientation": "v",
         "showlegend": true,
         "type": "scatter",
         "x": [
          0.768,
          0.84,
          0.896,
          0.114,
          0.66,
          0.549,
          0.565,
          0.436,
          0.682,
          0.671,
          0.591,
          0.728,
          0.527,
          0.76,
          0.871
         ],
         "xaxis": "x",
         "y": [
          1188,
          514215,
          4946,
          28353,
          18670,
          9443,
          4987,
          1473,
          10071,
          379176,
          3768,
          5282,
          5631,
          10204,
          5775807
         ],
         "yaxis": "y"
        }
       ],
       "layout": {
        "height": 800,
        "legend": {
         "itemsizing": "constant",
         "title": {
          "text": "continent"
         },
         "tracegroupgap": 0
        },
        "template": {
         "data": {
          "bar": [
           {
            "error_x": {
             "color": "#2a3f5f"
            },
            "error_y": {
             "color": "#2a3f5f"
            },
            "marker": {
             "line": {
              "color": "#E5ECF6",
              "width": 0.5
             },
             "pattern": {
              "fillmode": "overlay",
              "size": 10,
              "solidity": 0.2
             }
            },
            "type": "bar"
           }
          ],
          "barpolar": [
           {
            "marker": {
             "line": {
              "color": "#E5ECF6",
              "width": 0.5
             },
             "pattern": {
              "fillmode": "overlay",
              "size": 10,
              "solidity": 0.2
             }
            },
            "type": "barpolar"
           }
          ],
          "carpet": [
           {
            "aaxis": {
             "endlinecolor": "#2a3f5f",
             "gridcolor": "white",
             "linecolor": "white",
             "minorgridcolor": "white",
             "startlinecolor": "#2a3f5f"
            },
            "baxis": {
             "endlinecolor": "#2a3f5f",
             "gridcolor": "white",
             "linecolor": "white",
             "minorgridcolor": "white",
             "startlinecolor": "#2a3f5f"
            },
            "type": "carpet"
           }
          ],
          "choropleth": [
           {
            "colorbar": {
             "outlinewidth": 0,
             "ticks": ""
            },
            "type": "choropleth"
           }
          ],
          "contour": [
           {
            "colorbar": {
             "outlinewidth": 0,
             "ticks": ""
            },
            "colorscale": [
             [
              0,
              "#0d0887"
             ],
             [
              0.1111111111111111,
              "#46039f"
             ],
             [
              0.2222222222222222,
              "#7201a8"
             ],
             [
              0.3333333333333333,
              "#9c179e"
             ],
             [
              0.4444444444444444,
              "#bd3786"
             ],
             [
              0.5555555555555556,
              "#d8576b"
             ],
             [
              0.6666666666666666,
              "#ed7953"
             ],
             [
              0.7777777777777778,
              "#fb9f3a"
             ],
             [
              0.8888888888888888,
              "#fdca26"
             ],
             [
              1,
              "#f0f921"
             ]
            ],
            "type": "contour"
           }
          ],
          "contourcarpet": [
           {
            "colorbar": {
             "outlinewidth": 0,
             "ticks": ""
            },
            "type": "contourcarpet"
           }
          ],
          "heatmap": [
           {
            "colorbar": {
             "outlinewidth": 0,
             "ticks": ""
            },
            "colorscale": [
             [
              0,
              "#0d0887"
             ],
             [
              0.1111111111111111,
              "#46039f"
             ],
             [
              0.2222222222222222,
              "#7201a8"
             ],
             [
              0.3333333333333333,
              "#9c179e"
             ],
             [
              0.4444444444444444,
              "#bd3786"
             ],
             [
              0.5555555555555556,
              "#d8576b"
             ],
             [
              0.6666666666666666,
              "#ed7953"
             ],
             [
              0.7777777777777778,
              "#fb9f3a"
             ],
             [
              0.8888888888888888,
              "#fdca26"
             ],
             [
              1,
              "#f0f921"
             ]
            ],
            "type": "heatmap"
           }
          ],
          "heatmapgl": [
           {
            "colorbar": {
             "outlinewidth": 0,
             "ticks": ""
            },
            "colorscale": [
             [
              0,
              "#0d0887"
             ],
             [
              0.1111111111111111,
              "#46039f"
             ],
             [
              0.2222222222222222,
              "#7201a8"
             ],
             [
              0.3333333333333333,
              "#9c179e"
             ],
             [
              0.4444444444444444,
              "#bd3786"
             ],
             [
              0.5555555555555556,
              "#d8576b"
             ],
             [
              0.6666666666666666,
              "#ed7953"
             ],
             [
              0.7777777777777778,
              "#fb9f3a"
             ],
             [
              0.8888888888888888,
              "#fdca26"
             ],
             [
              1,
              "#f0f921"
             ]
            ],
            "type": "heatmapgl"
           }
          ],
          "histogram": [
           {
            "marker": {
             "pattern": {
              "fillmode": "overlay",
              "size": 10,
              "solidity": 0.2
             }
            },
            "type": "histogram"
           }
          ],
          "histogram2d": [
           {
            "colorbar": {
             "outlinewidth": 0,
             "ticks": ""
            },
            "colorscale": [
             [
              0,
              "#0d0887"
             ],
             [
              0.1111111111111111,
              "#46039f"
             ],
             [
              0.2222222222222222,
              "#7201a8"
             ],
             [
              0.3333333333333333,
              "#9c179e"
             ],
             [
              0.4444444444444444,
              "#bd3786"
             ],
             [
              0.5555555555555556,
              "#d8576b"
             ],
             [
              0.6666666666666666,
              "#ed7953"
             ],
             [
              0.7777777777777778,
              "#fb9f3a"
             ],
             [
              0.8888888888888888,
              "#fdca26"
             ],
             [
              1,
              "#f0f921"
             ]
            ],
            "type": "histogram2d"
           }
          ],
          "histogram2dcontour": [
           {
            "colorbar": {
             "outlinewidth": 0,
             "ticks": ""
            },
            "colorscale": [
             [
              0,
              "#0d0887"
             ],
             [
              0.1111111111111111,
              "#46039f"
             ],
             [
              0.2222222222222222,
              "#7201a8"
             ],
             [
              0.3333333333333333,
              "#9c179e"
             ],
             [
              0.4444444444444444,
              "#bd3786"
             ],
             [
              0.5555555555555556,
              "#d8576b"
             ],
             [
              0.6666666666666666,
              "#ed7953"
             ],
             [
              0.7777777777777778,
              "#fb9f3a"
             ],
             [
              0.8888888888888888,
              "#fdca26"
             ],
             [
              1,
              "#f0f921"
             ]
            ],
            "type": "histogram2dcontour"
           }
          ],
          "mesh3d": [
           {
            "colorbar": {
             "outlinewidth": 0,
             "ticks": ""
            },
            "type": "mesh3d"
           }
          ],
          "parcoords": [
           {
            "line": {
             "colorbar": {
              "outlinewidth": 0,
              "ticks": ""
             }
            },
            "type": "parcoords"
           }
          ],
          "pie": [
           {
            "automargin": true,
            "type": "pie"
           }
          ],
          "scatter": [
           {
            "fillpattern": {
             "fillmode": "overlay",
             "size": 10,
             "solidity": 0.2
            },
            "type": "scatter"
           }
          ],
          "scatter3d": [
           {
            "line": {
             "colorbar": {
              "outlinewidth": 0,
              "ticks": ""
             }
            },
            "marker": {
             "colorbar": {
              "outlinewidth": 0,
              "ticks": ""
             }
            },
            "type": "scatter3d"
           }
          ],
          "scattercarpet": [
           {
            "marker": {
             "colorbar": {
              "outlinewidth": 0,
              "ticks": ""
             }
            },
            "type": "scattercarpet"
           }
          ],
          "scattergeo": [
           {
            "marker": {
             "colorbar": {
              "outlinewidth": 0,
              "ticks": ""
             }
            },
            "type": "scattergeo"
           }
          ],
          "scattergl": [
           {
            "marker": {
             "colorbar": {
              "outlinewidth": 0,
              "ticks": ""
             }
            },
            "type": "scattergl"
           }
          ],
          "scattermapbox": [
           {
            "marker": {
             "colorbar": {
              "outlinewidth": 0,
              "ticks": ""
             }
            },
            "type": "scattermapbox"
           }
          ],
          "scatterpolar": [
           {
            "marker": {
             "colorbar": {
              "outlinewidth": 0,
              "ticks": ""
             }
            },
            "type": "scatterpolar"
           }
          ],
          "scatterpolargl": [
           {
            "marker": {
             "colorbar": {
              "outlinewidth": 0,
              "ticks": ""
             }
            },
            "type": "scatterpolargl"
           }
          ],
          "scatterternary": [
           {
            "marker": {
             "colorbar": {
              "outlinewidth": 0,
              "ticks": ""
             }
            },
            "type": "scatterternary"
           }
          ],
          "surface": [
           {
            "colorbar": {
             "outlinewidth": 0,
             "ticks": ""
            },
            "colorscale": [
             [
              0,
              "#0d0887"
             ],
             [
              0.1111111111111111,
              "#46039f"
             ],
             [
              0.2222222222222222,
              "#7201a8"
             ],
             [
              0.3333333333333333,
              "#9c179e"
             ],
             [
              0.4444444444444444,
              "#bd3786"
             ],
             [
              0.5555555555555556,
              "#d8576b"
             ],
             [
              0.6666666666666666,
              "#ed7953"
             ],
             [
              0.7777777777777778,
              "#fb9f3a"
             ],
             [
              0.8888888888888888,
              "#fdca26"
             ],
             [
              1,
              "#f0f921"
             ]
            ],
            "type": "surface"
           }
          ],
          "table": [
           {
            "cells": {
             "fill": {
              "color": "#EBF0F8"
             },
             "line": {
              "color": "white"
             }
            },
            "header": {
             "fill": {
              "color": "#C8D4E3"
             },
             "line": {
              "color": "white"
             }
            },
            "type": "table"
           }
          ]
         },
         "layout": {
          "annotationdefaults": {
           "arrowcolor": "#2a3f5f",
           "arrowhead": 0,
           "arrowwidth": 1
          },
          "autotypenumbers": "strict",
          "coloraxis": {
           "colorbar": {
            "outlinewidth": 0,
            "ticks": ""
           }
          },
          "colorscale": {
           "diverging": [
            [
             0,
             "#8e0152"
            ],
            [
             0.1,
             "#c51b7d"
            ],
            [
             0.2,
             "#de77ae"
            ],
            [
             0.3,
             "#f1b6da"
            ],
            [
             0.4,
             "#fde0ef"
            ],
            [
             0.5,
             "#f7f7f7"
            ],
            [
             0.6,
             "#e6f5d0"
            ],
            [
             0.7,
             "#b8e186"
            ],
            [
             0.8,
             "#7fbc41"
            ],
            [
             0.9,
             "#4d9221"
            ],
            [
             1,
             "#276419"
            ]
           ],
           "sequential": [
            [
             0,
             "#0d0887"
            ],
            [
             0.1111111111111111,
             "#46039f"
            ],
            [
             0.2222222222222222,
             "#7201a8"
            ],
            [
             0.3333333333333333,
             "#9c179e"
            ],
            [
             0.4444444444444444,
             "#bd3786"
            ],
            [
             0.5555555555555556,
             "#d8576b"
            ],
            [
             0.6666666666666666,
             "#ed7953"
            ],
            [
             0.7777777777777778,
             "#fb9f3a"
            ],
            [
             0.8888888888888888,
             "#fdca26"
            ],
            [
             1,
             "#f0f921"
            ]
           ],
           "sequentialminus": [
            [
             0,
             "#0d0887"
            ],
            [
             0.1111111111111111,
             "#46039f"
            ],
            [
             0.2222222222222222,
             "#7201a8"
            ],
            [
             0.3333333333333333,
             "#9c179e"
            ],
            [
             0.4444444444444444,
             "#bd3786"
            ],
            [
             0.5555555555555556,
             "#d8576b"
            ],
            [
             0.6666666666666666,
             "#ed7953"
            ],
            [
             0.7777777777777778,
             "#fb9f3a"
            ],
            [
             0.8888888888888888,
             "#fdca26"
            ],
            [
             1,
             "#f0f921"
            ]
           ]
          },
          "colorway": [
           "#636efa",
           "#EF553B",
           "#00cc96",
           "#ab63fa",
           "#FFA15A",
           "#19d3f3",
           "#FF6692",
           "#B6E880",
           "#FF97FF",
           "#FECB52"
          ],
          "font": {
           "color": "#2a3f5f"
          },
          "geo": {
           "bgcolor": "white",
           "lakecolor": "white",
           "landcolor": "#E5ECF6",
           "showlakes": true,
           "showland": true,
           "subunitcolor": "white"
          },
          "hoverlabel": {
           "align": "left"
          },
          "hovermode": "closest",
          "mapbox": {
           "style": "light"
          },
          "paper_bgcolor": "white",
          "plot_bgcolor": "#E5ECF6",
          "polar": {
           "angularaxis": {
            "gridcolor": "white",
            "linecolor": "white",
            "ticks": ""
           },
           "bgcolor": "#E5ECF6",
           "radialaxis": {
            "gridcolor": "white",
            "linecolor": "white",
            "ticks": ""
           }
          },
          "scene": {
           "xaxis": {
            "backgroundcolor": "#E5ECF6",
            "gridcolor": "white",
            "gridwidth": 2,
            "linecolor": "white",
            "showbackground": true,
            "ticks": "",
            "zerolinecolor": "white"
           },
           "yaxis": {
            "backgroundcolor": "#E5ECF6",
            "gridcolor": "white",
            "gridwidth": 2,
            "linecolor": "white",
            "showbackground": true,
            "ticks": "",
            "zerolinecolor": "white"
           },
           "zaxis": {
            "backgroundcolor": "#E5ECF6",
            "gridcolor": "white",
            "gridwidth": 2,
            "linecolor": "white",
            "showbackground": true,
            "ticks": "",
            "zerolinecolor": "white"
           }
          },
          "shapedefaults": {
           "line": {
            "color": "#2a3f5f"
           }
          },
          "ternary": {
           "aaxis": {
            "gridcolor": "white",
            "linecolor": "white",
            "ticks": ""
           },
           "baxis": {
            "gridcolor": "white",
            "linecolor": "white",
            "ticks": ""
           },
           "bgcolor": "#E5ECF6",
           "caxis": {
            "gridcolor": "white",
            "linecolor": "white",
            "ticks": ""
           }
          },
          "title": {
           "x": 0.05
          },
          "xaxis": {
           "automargin": true,
           "gridcolor": "white",
           "linecolor": "white",
           "ticks": "",
           "title": {
            "standoff": 15
           },
           "zerolinecolor": "white",
           "zerolinewidth": 2
          },
          "yaxis": {
           "automargin": true,
           "gridcolor": "white",
           "linecolor": "white",
           "ticks": "",
           "title": {
            "standoff": 15
           },
           "zerolinecolor": "white",
           "zerolinewidth": 2
          }
         }
        },
        "title": {
         "text": "Electoral Democracy Index vs. CO2 Emissions 2000"
        },
        "xaxis": {
         "anchor": "y",
         "domain": [
          0,
          1
         ],
         "title": {
          "text": "edi"
         }
        },
        "yaxis": {
         "anchor": "x",
         "domain": [
          0,
          1
         ],
         "title": {
          "text": "CO2"
         },
         "type": "log"
        }
       }
      }
     },
     "metadata": {},
     "output_type": "display_data"
    }
   ],
   "source": [
    "zabi_scatter(co2_df, \"edi\", \"CO2\", title=\"Electoral Democracy Index vs. CO2 Emissions\",\n",
    "             year=2000, size=\"pop\", color=\"continent\", uselogy=True)\n"
   ]
  },
  {
   "cell_type": "code",
   "execution_count": null,
   "metadata": {},
   "outputs": [],
   "source": [
    "for year in list(co2_df[\"Year\"].unique()):\n",
    "    zabi_scatter(co2_df, \"edi\", \"CO2\", title=\"Electoral Democracy Index vs. CO2 Emissions\", year=int(year), size=\"pop\", color=\"continent\", uselogy=True,\n",
    "                 location=\"co2_scatter_plots\", savedontshow=True)\n"
   ]
  },
  {
   "cell_type": "code",
   "execution_count": 12,
   "metadata": {},
   "outputs": [],
   "source": [
    "co2_rel_df = pd.merge(co2_df, rel_df[[\"Code\", \"Year\", \"nonreligpct\", \"primary_rel\", \"HHI\"]], on=[\"Code\", \"Year\"])"
   ]
  },
  {
   "cell_type": "code",
   "execution_count": 13,
   "metadata": {},
   "outputs": [
    {
     "data": {
      "application/vnd.plotly.v1+json": {
       "config": {
        "plotlyServerURL": "https://plot.ly"
       },
       "data": [
        {
         "hovertemplate": "<b>%{hovertext}</b><br><br>primary_rel=islmgenpct<br>CO2=%{x}<br>HHI=%{y}<br>pop=%{marker.size}<extra></extra>",
         "hovertext": [
          "Afghanistan",
          "Albania",
          "United Arab Emirates",
          "Azerbaijan",
          "Burkina Faso",
          "Bangladesh",
          "Bahrain",
          "Cote d'Ivoire",
          "Comoros",
          "Djibouti",
          "Algeria",
          "Egypt",
          "Guinea",
          "Gambia",
          "Indonesia",
          "Iran",
          "Iraq",
          "Jordan",
          "Kazakhstan",
          "Kyrgyzstan",
          "Kuwait",
          "Lebanon",
          "Libya",
          "Morocco",
          "Maldives",
          "Mali",
          "Mauritania",
          "Malaysia",
          "Niger",
          "Nigeria",
          "Oman",
          "Pakistan",
          "Qatar",
          "Saudi Arabia",
          "Sudan",
          "Senegal",
          "Sierra Leone",
          "Somalia",
          "Syria",
          "Chad",
          "Tajikistan",
          "Turkmenistan",
          "Tunisia",
          "Turkey",
          "Uzbekistan",
          "Yemen"
         ],
         "legendgroup": "islmgenpct",
         "marker": {
          "color": "#636efa",
          "size": [
           60,
           60,
           60,
           60,
           60,
           152.201977,
           60,
           60,
           60,
           60,
           60,
           89.19607,
           60,
           60,
           246.305326,
           77.420852,
           60,
           60,
           60,
           60,
           60,
           60,
           60,
           60,
           60,
           60,
           60,
           60,
           60,
           166.642887,
           60,
           199.239047,
           60,
           60,
           60,
           60,
           60,
           60,
           60,
           60,
           60,
           60,
           60,
           73.346766,
           60,
           60
          ],
          "sizemode": "area",
          "sizeref": 0.844725944375,
          "symbol": "circle"
         },
         "mode": "markers",
         "name": "islmgenpct",
         "orientation": "v",
         "showlegend": true,
         "type": "scatter",
         "x": [
          8576,
          4785,
          162788,
          24311,
          2094,
          50487,
          25965,
          6350,
          167,
          519,
          114179,
          200313,
          2502,
          434,
          415536,
          541171,
          108550,
          20196,
          229702,
          6394,
          80725,
          20864,
          59559,
          51749,
          963,
          2154,
          2073,
          199867,
          1361,
          90055,
          47076,
          140378,
          60912,
          446131,
          16427,
          7026,
          560,
          631,
          61090,
          1190,
          2446,
          59175,
          28321,
          297814,
          126240,
          25431
         ],
         "xaxis": "x",
         "y": [
          0.9980608414448084,
          0.6178918305140875,
          0.5286647565794446,
          0.9499859907088902,
          0.44098651362511426,
          0.8147845190339464,
          0.8222607688547143,
          0.3442567159458425,
          0.9668117947246786,
          0.9698403056017535,
          0.9840964815425008,
          0.7842767300245905,
          0.7379320005420469,
          0.825918346665909,
          0.7430566997823737,
          0.9885093112662954,
          0.9618100952946207,
          0.9418004152389376,
          0.5586772316561538,
          0.7953376389650471,
          0.9200965947660205,
          0.49099693073069084,
          0.9417740460545863,
          0.979812227035938,
          0.9824513629313285,
          0.8887375546950104,
          0.9838780623674299,
          0.4446735245049886,
          0.849007073059223,
          0.4432658461656378,
          0.8645885565140391,
          0.9196466002400224,
          0.38490696336978014,
          0.920932111200301,
          0.5701471368860063,
          0.8905804553098818,
          0.4131864979558038,
          0.9959084948333946,
          0.85799348962985,
          0.4353368660445727,
          0.9537445851456516,
          0.8324327871492703,
          0.992614751581422,
          0.9912182118154006,
          0.9028906198778343,
          1
         ],
         "yaxis": "y"
        },
        {
         "hovertemplate": "<b>%{hovertext}</b><br><br>primary_rel=chrstgenpct<br>CO2=%{x}<br>HHI=%{y}<br>pop=%{marker.size}<extra></extra>",
         "hovertext": [
          "Angola",
          "Argentina",
          "Armenia",
          "Australia",
          "Austria",
          "Burundi",
          "Belgium",
          "Benin",
          "Bulgaria",
          "Bosnia and Herzegovina",
          "Belarus",
          "Bolivia",
          "Brazil",
          "Barbados",
          "Botswana",
          "Central African Republic",
          "Canada",
          "Switzerland",
          "Chile",
          "Cameroon",
          "Congo",
          "Colombia",
          "Cape Verde",
          "Costa Rica",
          "Cuba",
          "Cyprus",
          "Czechia",
          "Germany",
          "Denmark",
          "Dominican Republic",
          "Ecuador",
          "Eritrea",
          "Spain",
          "Estonia",
          "Ethiopia",
          "Finland",
          "Fiji",
          "France",
          "Gabon",
          "United Kingdom",
          "Georgia",
          "Ghana",
          "Equatorial Guinea",
          "Greece",
          "Guatemala",
          "Guyana",
          "Honduras",
          "Croatia",
          "Haiti",
          "Hungary",
          "Ireland",
          "Iceland",
          "Italy",
          "Jamaica",
          "Kenya",
          "South Korea",
          "Liberia",
          "Lesotho",
          "Lithuania",
          "Luxembourg",
          "Latvia",
          "Moldova",
          "Madagascar",
          "Mexico",
          "Malta",
          "Montenegro",
          "Mozambique",
          "Malawi",
          "Namibia",
          "Nicaragua",
          "Netherlands",
          "Norway",
          "New Zealand",
          "Panama",
          "Peru",
          "Philippines",
          "Papua New Guinea",
          "Poland",
          "Portugal",
          "Paraguay",
          "Romania",
          "Russia",
          "Rwanda",
          "Solomon Islands",
          "El Salvador",
          "Sao Tome and Principe",
          "Suriname",
          "Slovakia",
          "Slovenia",
          "Sweden",
          "Seychelles",
          "Togo",
          "East Timor",
          "Trinidad and Tobago",
          "Tanzania",
          "Uganda",
          "Ukraine",
          "Uruguay",
          "United States",
          "Venezuela",
          "Vanuatu",
          "South Africa",
          "Zambia",
          "Zimbabwe"
         ],
         "legendgroup": "chrstgenpct",
         "marker": {
          "color": "#EF553B",
          "size": [
           60,
           60,
           60,
           60,
           60,
           60,
           60,
           60,
           60,
           60,
           60,
           60,
           193.701931,
           60,
           60,
           60,
           60,
           60,
           60,
           60,
           60,
           60,
           60,
           60,
           60,
           60,
           60,
           80.830917,
           60,
           60,
           60,
           60,
           60,
           60,
           90.53852,
           60,
           60,
           63.417366,
           60,
           63.006484,
           60,
           60,
           60,
           60,
           60,
           60,
           60,
           60,
           60,
           60,
           60,
           60,
           60.164212,
           60,
           60,
           60,
           60,
           60,
           60,
           60,
           60,
           60,
           60,
           113.623897,
           60,
           60,
           60,
           60,
           60,
           60,
           60,
           60,
           60,
           60,
           60,
           96.337126,
           60,
           60,
           60,
           60,
           60,
           143.934468,
           60,
           60,
           60,
           60,
           60,
           60,
           60,
           60,
           60,
           60,
           60,
           60,
           60,
           60,
           60,
           60,
           311.062786,
           60,
           60,
           60,
           60,
           60
          ],
          "sizemode": "area",
          "sizeref": 0.844725944375,
          "symbol": "circle"
         },
         "mode": "markers",
         "name": "chrstgenpct",
         "orientation": "v",
         "showlegend": true,
         "type": "scatter",
         "x": [
          22801,
          167226,
          4336,
          395993,
          69965,
          323,
          106872,
          4825,
          44740,
          20842,
          61443,
          14702,
          397931,
          1481,
          3371,
          174,
          537091,
          45207,
          69749,
          7014,
          5423,
          64146,
          540,
          7105,
          28110,
          7898,
          114167,
          773069,
          48124,
          20680,
          37254,
          502,
          274140,
          18500,
          6473,
          62526,
          1126,
          347940,
          5762,
          482646,
          5322,
          10382,
          6047,
          87578,
          11477,
          1759,
          7926,
          19457,
          2458,
          47880,
          40347,
          1959,
          405272,
          7479,
          13424,
          575215,
          729,
          2158,
          12603,
          11029,
          8518,
          8295,
          1869,
          462869,
          2586,
          2584,
          2680,
          984,
          3103,
          4513,
          171110,
          40116,
          31049,
          9190,
          44998,
          81917,
          5042,
          313739,
          50937,
          5043,
          77601,
          1617827,
          703,
          342,
          6539,
          102,
          1744,
          35432,
          15777,
          47985,
          443,
          2630,
          244,
          21443,
          6909,
          3332,
          268924,
          6283,
          5392109,
          164101,
          127,
          425548,
          2656,
          9518
         ],
         "xaxis": "x",
         "y": [
          0.8371004425534094,
          0.9483753291949137,
          0.9989868659788824,
          0.8147875291770043,
          0.8830174983678005,
          0.8030899013564217,
          0.8585990718917608,
          0.3450325597214531,
          0.7654230073841356,
          0.5023279074555153,
          0.9886217772934359,
          0.9666495588007668,
          0.9440299913704935,
          0.9620178412353634,
          0.5822311285378683,
          0.392456517091773,
          0.8461095218867503,
          0.8883435678179173,
          0.9776559568152038,
          0.37607801554223697,
          0.8350088799470421,
          0.9782681393457692,
          0.9343626941743141,
          0.996541759696871,
          0.9907617850786675,
          0.6635453718839499,
          0.9923664319781071,
          0.8650527718313283,
          0.9078924901190885,
          0.9999769119316053,
          0.9927707698530439,
          0.5075400918201904,
          0.9288842706835604,
          0.9466092733685965,
          0.5009408146457157,
          0.9850895045918043,
          0.5025518472941707,
          0.7768622474030491,
          0.6102821991486864,
          0.8064156716690164,
          0.7900532690063808,
          0.6079723070261945,
          0.8759389237822109,
          0.9505948526958975,
          0.9989653550108416,
          0.45204832377980125,
          0.9997770665980693,
          0.968577275346764,
          0.9974082440325012,
          0.9953814154829305,
          0.9857300807262285,
          0.9699442560839523,
          0.9682090523379842,
          0.9815459562219141,
          0.6747425348165037,
          0.47025419592360607,
          0.7509246457999652,
          0.9005026815361075,
          0.9937005160790124,
          0.9490051461899137,
          0.992452301378883,
          0.9150648872509068,
          0.4759593585586442,
          0.9981818918594046,
          0.9785380518991963,
          0.678467138202551,
          0.36485614584502607,
          0.5655225634189291,
          0.8003200532450192,
          0.9993892196687675,
          0.7818305981133521,
          0.9440892962981606,
          0.8014702562760507,
          0.9711375514125725,
          0.9942848800213037,
          0.8661162418591548,
          0.9395377234139757,
          0.9995253779444102,
          0.965430132150864,
          0.9817568179777963,
          0.9910342961209425,
          0.764170138800057,
          0.8315953615379268,
          0.8772999574898169,
          0.9903713777371719,
          0.9189763930950994,
          0.3463517783949614,
          0.9980344708580665,
          0.9176978958917276,
          0.8600400965065359,
          0.897628846317539,
          0.3913751106145224,
          0.970856203641009,
          0.554242965183369,
          0.3877686951726377,
          0.7175110059955083,
          0.9717225179152014,
          0.989043296107717,
          0.8704461298685764,
          0.9911387768349699,
          0.8105722125978225,
          0.7708523547528736,
          0.7728805524129244,
          0.7330282498375301
         ],
         "yaxis": "y"
        },
        {
         "hovertemplate": "<b>%{hovertext}</b><br><br>primary_rel=budgenpct<br>CO2=%{x}<br>HHI=%{y}<br>pop=%{marker.size}<extra></extra>",
         "hovertext": [
          "Bhutan",
          "China",
          "Cambodia",
          "Laos",
          "Sri Lanka",
          "Myanmar",
          "Mongolia",
          "Singapore",
          "Thailand",
          "Vietnam"
         ],
         "legendgroup": "budgenpct",
         "marker": {
          "color": "#00cc96",
          "size": [
           60,
           1351.561511,
           60,
           60,
           60,
           60,
           60,
           60,
           68.579442,
           87.45515
          ],
          "sizemode": "area",
          "sizeref": 0.844725944375,
          "symbol": "circle"
         },
         "mode": "markers",
         "name": "budgenpct",
         "orientation": "v",
         "showlegend": true,
         "type": "scatter",
         "x": [
          493,
          8474922,
          5140,
          2877,
          13071,
          8131,
          14311,
          42413,
          240768,
          151413
         ],
         "xaxis": "x",
         "y": [
          0.7200309236170986,
          0.33718934954501595,
          0.9495971813821745,
          0.5503179372757375,
          0.5280889391720816,
          0.5914559331489012,
          0.6462772712325405,
          0.26410174722771934,
          0.7898588261435775,
          0.6372022307153241
         ],
         "yaxis": "y"
        },
        {
         "hovertemplate": "<b>%{hovertext}</b><br><br>primary_rel=anmgenpct<br>CO2=%{x}<br>HHI=%{y}<br>pop=%{marker.size}<extra></extra>",
         "hovertext": [
          "Guinea-Bissau",
          "North Korea"
         ],
         "legendgroup": "anmgenpct",
         "marker": {
          "color": "#ab63fa",
          "size": [
           60,
           60
          ],
          "sizemode": "area",
          "sizeref": 0.844725944375,
          "symbol": "circle"
         },
         "mode": "markers",
         "name": "anmgenpct",
         "orientation": "v",
         "showlegend": true,
         "type": "scatter",
         "x": [
          241,
          51689
         ],
         "xaxis": "x",
         "y": [
          0.4104994985487292,
          0.3613227282501141
         ],
         "yaxis": "y"
        },
        {
         "hovertemplate": "<b>%{hovertext}</b><br><br>primary_rel=hindgenpct<br>CO2=%{x}<br>HHI=%{y}<br>pop=%{marker.size}<extra></extra>",
         "hovertext": [
          "India",
          "Mauritius",
          "Nepal"
         ],
         "legendgroup": "hindgenpct",
         "marker": {
          "color": "#FFA15A",
          "size": [
           1243.481564,
           60,
           60
          ],
          "sizemode": "area",
          "sizeref": 0.844725944375,
          "symbol": "circle"
         },
         "mode": "markers",
         "name": "hindgenpct",
         "orientation": "v",
         "showlegend": true,
         "type": "scatter",
         "x": [
          1659983,
          3661,
          4640
         ],
         "xaxis": "x",
         "y": [
          0.6767058271570808,
          0.3796325282257652,
          0.6765470483218265
         ],
         "yaxis": "y"
        },
        {
         "hovertemplate": "<b>%{hovertext}</b><br><br>primary_rel=judgenpct<br>CO2=%{x}<br>HHI=%{y}<br>pop=%{marker.size}<extra></extra>",
         "hovertext": [
          "Israel"
         ],
         "legendgroup": "judgenpct",
         "marker": {
          "color": "#19d3f3",
          "size": [
           60
          ],
          "sizemode": "area",
          "sizeref": 0.844725944375,
          "symbol": "circle"
         },
         "mode": "markers",
         "name": "judgenpct",
         "orientation": "v",
         "showlegend": true,
         "type": "scatter",
         "x": [
          70520
         ],
         "xaxis": "x",
         "y": [
          0.6356287780758965
         ],
         "yaxis": "y"
        },
        {
         "hovertemplate": "<b>%{hovertext}</b><br><br>primary_rel=shntgenpct<br>CO2=%{x}<br>HHI=%{y}<br>pop=%{marker.size}<extra></extra>",
         "hovertext": [
          "Japan"
         ],
         "legendgroup": "shntgenpct",
         "marker": {
          "color": "#FF6692",
          "size": [
           128.185273
          ],
          "sizemode": "area",
          "sizeref": 0.844725944375,
          "symbol": "circle"
         },
         "mode": "markers",
         "name": "shntgenpct",
         "orientation": "v",
         "showlegend": true,
         "type": "scatter",
         "x": [
          1157241
         ],
         "xaxis": "x",
         "y": [
          0.4908790103253763
         ],
         "yaxis": "y"
        }
       ],
       "layout": {
        "height": 800,
        "legend": {
         "itemsizing": "constant",
         "title": {
          "text": "primary_rel"
         },
         "tracegroupgap": 0
        },
        "template": {
         "data": {
          "bar": [
           {
            "error_x": {
             "color": "#2a3f5f"
            },
            "error_y": {
             "color": "#2a3f5f"
            },
            "marker": {
             "line": {
              "color": "#E5ECF6",
              "width": 0.5
             },
             "pattern": {
              "fillmode": "overlay",
              "size": 10,
              "solidity": 0.2
             }
            },
            "type": "bar"
           }
          ],
          "barpolar": [
           {
            "marker": {
             "line": {
              "color": "#E5ECF6",
              "width": 0.5
             },
             "pattern": {
              "fillmode": "overlay",
              "size": 10,
              "solidity": 0.2
             }
            },
            "type": "barpolar"
           }
          ],
          "carpet": [
           {
            "aaxis": {
             "endlinecolor": "#2a3f5f",
             "gridcolor": "white",
             "linecolor": "white",
             "minorgridcolor": "white",
             "startlinecolor": "#2a3f5f"
            },
            "baxis": {
             "endlinecolor": "#2a3f5f",
             "gridcolor": "white",
             "linecolor": "white",
             "minorgridcolor": "white",
             "startlinecolor": "#2a3f5f"
            },
            "type": "carpet"
           }
          ],
          "choropleth": [
           {
            "colorbar": {
             "outlinewidth": 0,
             "ticks": ""
            },
            "type": "choropleth"
           }
          ],
          "contour": [
           {
            "colorbar": {
             "outlinewidth": 0,
             "ticks": ""
            },
            "colorscale": [
             [
              0,
              "#0d0887"
             ],
             [
              0.1111111111111111,
              "#46039f"
             ],
             [
              0.2222222222222222,
              "#7201a8"
             ],
             [
              0.3333333333333333,
              "#9c179e"
             ],
             [
              0.4444444444444444,
              "#bd3786"
             ],
             [
              0.5555555555555556,
              "#d8576b"
             ],
             [
              0.6666666666666666,
              "#ed7953"
             ],
             [
              0.7777777777777778,
              "#fb9f3a"
             ],
             [
              0.8888888888888888,
              "#fdca26"
             ],
             [
              1,
              "#f0f921"
             ]
            ],
            "type": "contour"
           }
          ],
          "contourcarpet": [
           {
            "colorbar": {
             "outlinewidth": 0,
             "ticks": ""
            },
            "type": "contourcarpet"
           }
          ],
          "heatmap": [
           {
            "colorbar": {
             "outlinewidth": 0,
             "ticks": ""
            },
            "colorscale": [
             [
              0,
              "#0d0887"
             ],
             [
              0.1111111111111111,
              "#46039f"
             ],
             [
              0.2222222222222222,
              "#7201a8"
             ],
             [
              0.3333333333333333,
              "#9c179e"
             ],
             [
              0.4444444444444444,
              "#bd3786"
             ],
             [
              0.5555555555555556,
              "#d8576b"
             ],
             [
              0.6666666666666666,
              "#ed7953"
             ],
             [
              0.7777777777777778,
              "#fb9f3a"
             ],
             [
              0.8888888888888888,
              "#fdca26"
             ],
             [
              1,
              "#f0f921"
             ]
            ],
            "type": "heatmap"
           }
          ],
          "heatmapgl": [
           {
            "colorbar": {
             "outlinewidth": 0,
             "ticks": ""
            },
            "colorscale": [
             [
              0,
              "#0d0887"
             ],
             [
              0.1111111111111111,
              "#46039f"
             ],
             [
              0.2222222222222222,
              "#7201a8"
             ],
             [
              0.3333333333333333,
              "#9c179e"
             ],
             [
              0.4444444444444444,
              "#bd3786"
             ],
             [
              0.5555555555555556,
              "#d8576b"
             ],
             [
              0.6666666666666666,
              "#ed7953"
             ],
             [
              0.7777777777777778,
              "#fb9f3a"
             ],
             [
              0.8888888888888888,
              "#fdca26"
             ],
             [
              1,
              "#f0f921"
             ]
            ],
            "type": "heatmapgl"
           }
          ],
          "histogram": [
           {
            "marker": {
             "pattern": {
              "fillmode": "overlay",
              "size": 10,
              "solidity": 0.2
             }
            },
            "type": "histogram"
           }
          ],
          "histogram2d": [
           {
            "colorbar": {
             "outlinewidth": 0,
             "ticks": ""
            },
            "colorscale": [
             [
              0,
              "#0d0887"
             ],
             [
              0.1111111111111111,
              "#46039f"
             ],
             [
              0.2222222222222222,
              "#7201a8"
             ],
             [
              0.3333333333333333,
              "#9c179e"
             ],
             [
              0.4444444444444444,
              "#bd3786"
             ],
             [
              0.5555555555555556,
              "#d8576b"
             ],
             [
              0.6666666666666666,
              "#ed7953"
             ],
             [
              0.7777777777777778,
              "#fb9f3a"
             ],
             [
              0.8888888888888888,
              "#fdca26"
             ],
             [
              1,
              "#f0f921"
             ]
            ],
            "type": "histogram2d"
           }
          ],
          "histogram2dcontour": [
           {
            "colorbar": {
             "outlinewidth": 0,
             "ticks": ""
            },
            "colorscale": [
             [
              0,
              "#0d0887"
             ],
             [
              0.1111111111111111,
              "#46039f"
             ],
             [
              0.2222222222222222,
              "#7201a8"
             ],
             [
              0.3333333333333333,
              "#9c179e"
             ],
             [
              0.4444444444444444,
              "#bd3786"
             ],
             [
              0.5555555555555556,
              "#d8576b"
             ],
             [
              0.6666666666666666,
              "#ed7953"
             ],
             [
              0.7777777777777778,
              "#fb9f3a"
             ],
             [
              0.8888888888888888,
              "#fdca26"
             ],
             [
              1,
              "#f0f921"
             ]
            ],
            "type": "histogram2dcontour"
           }
          ],
          "mesh3d": [
           {
            "colorbar": {
             "outlinewidth": 0,
             "ticks": ""
            },
            "type": "mesh3d"
           }
          ],
          "parcoords": [
           {
            "line": {
             "colorbar": {
              "outlinewidth": 0,
              "ticks": ""
             }
            },
            "type": "parcoords"
           }
          ],
          "pie": [
           {
            "automargin": true,
            "type": "pie"
           }
          ],
          "scatter": [
           {
            "fillpattern": {
             "fillmode": "overlay",
             "size": 10,
             "solidity": 0.2
            },
            "type": "scatter"
           }
          ],
          "scatter3d": [
           {
            "line": {
             "colorbar": {
              "outlinewidth": 0,
              "ticks": ""
             }
            },
            "marker": {
             "colorbar": {
              "outlinewidth": 0,
              "ticks": ""
             }
            },
            "type": "scatter3d"
           }
          ],
          "scattercarpet": [
           {
            "marker": {
             "colorbar": {
              "outlinewidth": 0,
              "ticks": ""
             }
            },
            "type": "scattercarpet"
           }
          ],
          "scattergeo": [
           {
            "marker": {
             "colorbar": {
              "outlinewidth": 0,
              "ticks": ""
             }
            },
            "type": "scattergeo"
           }
          ],
          "scattergl": [
           {
            "marker": {
             "colorbar": {
              "outlinewidth": 0,
              "ticks": ""
             }
            },
            "type": "scattergl"
           }
          ],
          "scattermapbox": [
           {
            "marker": {
             "colorbar": {
              "outlinewidth": 0,
              "ticks": ""
             }
            },
            "type": "scattermapbox"
           }
          ],
          "scatterpolar": [
           {
            "marker": {
             "colorbar": {
              "outlinewidth": 0,
              "ticks": ""
             }
            },
            "type": "scatterpolar"
           }
          ],
          "scatterpolargl": [
           {
            "marker": {
             "colorbar": {
              "outlinewidth": 0,
              "ticks": ""
             }
            },
            "type": "scatterpolargl"
           }
          ],
          "scatterternary": [
           {
            "marker": {
             "colorbar": {
              "outlinewidth": 0,
              "ticks": ""
             }
            },
            "type": "scatterternary"
           }
          ],
          "surface": [
           {
            "colorbar": {
             "outlinewidth": 0,
             "ticks": ""
            },
            "colorscale": [
             [
              0,
              "#0d0887"
             ],
             [
              0.1111111111111111,
              "#46039f"
             ],
             [
              0.2222222222222222,
              "#7201a8"
             ],
             [
              0.3333333333333333,
              "#9c179e"
             ],
             [
              0.4444444444444444,
              "#bd3786"
             ],
             [
              0.5555555555555556,
              "#d8576b"
             ],
             [
              0.6666666666666666,
              "#ed7953"
             ],
             [
              0.7777777777777778,
              "#fb9f3a"
             ],
             [
              0.8888888888888888,
              "#fdca26"
             ],
             [
              1,
              "#f0f921"
             ]
            ],
            "type": "surface"
           }
          ],
          "table": [
           {
            "cells": {
             "fill": {
              "color": "#EBF0F8"
             },
             "line": {
              "color": "white"
             }
            },
            "header": {
             "fill": {
              "color": "#C8D4E3"
             },
             "line": {
              "color": "white"
             }
            },
            "type": "table"
           }
          ]
         },
         "layout": {
          "annotationdefaults": {
           "arrowcolor": "#2a3f5f",
           "arrowhead": 0,
           "arrowwidth": 1
          },
          "autotypenumbers": "strict",
          "coloraxis": {
           "colorbar": {
            "outlinewidth": 0,
            "ticks": ""
           }
          },
          "colorscale": {
           "diverging": [
            [
             0,
             "#8e0152"
            ],
            [
             0.1,
             "#c51b7d"
            ],
            [
             0.2,
             "#de77ae"
            ],
            [
             0.3,
             "#f1b6da"
            ],
            [
             0.4,
             "#fde0ef"
            ],
            [
             0.5,
             "#f7f7f7"
            ],
            [
             0.6,
             "#e6f5d0"
            ],
            [
             0.7,
             "#b8e186"
            ],
            [
             0.8,
             "#7fbc41"
            ],
            [
             0.9,
             "#4d9221"
            ],
            [
             1,
             "#276419"
            ]
           ],
           "sequential": [
            [
             0,
             "#0d0887"
            ],
            [
             0.1111111111111111,
             "#46039f"
            ],
            [
             0.2222222222222222,
             "#7201a8"
            ],
            [
             0.3333333333333333,
             "#9c179e"
            ],
            [
             0.4444444444444444,
             "#bd3786"
            ],
            [
             0.5555555555555556,
             "#d8576b"
            ],
            [
             0.6666666666666666,
             "#ed7953"
            ],
            [
             0.7777777777777778,
             "#fb9f3a"
            ],
            [
             0.8888888888888888,
             "#fdca26"
            ],
            [
             1,
             "#f0f921"
            ]
           ],
           "sequentialminus": [
            [
             0,
             "#0d0887"
            ],
            [
             0.1111111111111111,
             "#46039f"
            ],
            [
             0.2222222222222222,
             "#7201a8"
            ],
            [
             0.3333333333333333,
             "#9c179e"
            ],
            [
             0.4444444444444444,
             "#bd3786"
            ],
            [
             0.5555555555555556,
             "#d8576b"
            ],
            [
             0.6666666666666666,
             "#ed7953"
            ],
            [
             0.7777777777777778,
             "#fb9f3a"
            ],
            [
             0.8888888888888888,
             "#fdca26"
            ],
            [
             1,
             "#f0f921"
            ]
           ]
          },
          "colorway": [
           "#636efa",
           "#EF553B",
           "#00cc96",
           "#ab63fa",
           "#FFA15A",
           "#19d3f3",
           "#FF6692",
           "#B6E880",
           "#FF97FF",
           "#FECB52"
          ],
          "font": {
           "color": "#2a3f5f"
          },
          "geo": {
           "bgcolor": "white",
           "lakecolor": "white",
           "landcolor": "#E5ECF6",
           "showlakes": true,
           "showland": true,
           "subunitcolor": "white"
          },
          "hoverlabel": {
           "align": "left"
          },
          "hovermode": "closest",
          "mapbox": {
           "style": "light"
          },
          "paper_bgcolor": "white",
          "plot_bgcolor": "#E5ECF6",
          "polar": {
           "angularaxis": {
            "gridcolor": "white",
            "linecolor": "white",
            "ticks": ""
           },
           "bgcolor": "#E5ECF6",
           "radialaxis": {
            "gridcolor": "white",
            "linecolor": "white",
            "ticks": ""
           }
          },
          "scene": {
           "xaxis": {
            "backgroundcolor": "#E5ECF6",
            "gridcolor": "white",
            "gridwidth": 2,
            "linecolor": "white",
            "showbackground": true,
            "ticks": "",
            "zerolinecolor": "white"
           },
           "yaxis": {
            "backgroundcolor": "#E5ECF6",
            "gridcolor": "white",
            "gridwidth": 2,
            "linecolor": "white",
            "showbackground": true,
            "ticks": "",
            "zerolinecolor": "white"
           },
           "zaxis": {
            "backgroundcolor": "#E5ECF6",
            "gridcolor": "white",
            "gridwidth": 2,
            "linecolor": "white",
            "showbackground": true,
            "ticks": "",
            "zerolinecolor": "white"
           }
          },
          "shapedefaults": {
           "line": {
            "color": "#2a3f5f"
           }
          },
          "ternary": {
           "aaxis": {
            "gridcolor": "white",
            "linecolor": "white",
            "ticks": ""
           },
           "baxis": {
            "gridcolor": "white",
            "linecolor": "white",
            "ticks": ""
           },
           "bgcolor": "#E5ECF6",
           "caxis": {
            "gridcolor": "white",
            "linecolor": "white",
            "ticks": ""
           }
          },
          "title": {
           "x": 0.05
          },
          "xaxis": {
           "automargin": true,
           "gridcolor": "white",
           "linecolor": "white",
           "ticks": "",
           "title": {
            "standoff": 15
           },
           "zerolinecolor": "white",
           "zerolinewidth": 2
          },
          "yaxis": {
           "automargin": true,
           "gridcolor": "white",
           "linecolor": "white",
           "ticks": "",
           "title": {
            "standoff": 15
           },
           "zerolinecolor": "white",
           "zerolinewidth": 2
          }
         }
        },
        "title": {
         "text": "CO2 Emissions vs. Religous Mixedness 2010"
        },
        "xaxis": {
         "anchor": "y",
         "domain": [
          0,
          1
         ],
         "title": {
          "text": "CO2"
         },
         "type": "log"
        },
        "yaxis": {
         "anchor": "x",
         "domain": [
          0,
          1
         ],
         "title": {
          "text": "HHI"
         }
        }
       }
      }
     },
     "metadata": {},
     "output_type": "display_data"
    }
   ],
   "source": [
    "zabi_scatter(co2_rel_df, \"CO2\", \"HHI\", title=\"CO2 Emissions vs. Religous Mixedness\", year = 2010, size=\"pop\", color=\"primary_rel\", uselogx=True)"
   ]
  },
  {
   "cell_type": "code",
   "execution_count": null,
   "metadata": {},
   "outputs": [],
   "source": [
    "for year in list(co2_rel_df[\"Year\"].unique()):\n",
    "    zabi_scatter(co2_rel_df, \"CO2\", \"HHI\", title=\"CO2 Emissions vs. Religous Mixedness\", year = int(year), size=\"pop\", color=\"primary_rel\", uselogx=True,\n",
    "                 location=\"co2_rel_scatters\", savedontshow=True)\n",
    "\n",
    "    "
   ]
  },
  {
   "cell_type": "code",
   "execution_count": 16,
   "metadata": {},
   "outputs": [],
   "source": [
    "co2_rel_df.to_pickle(\"./data/co2_rel_df.pkl\")\n",
    "rel_df.to_pickle(\"./data/rel_df.pkl\")\n",
    "co2_df.to_pickle(\"./data/co2_df.pkl\")"
   ]
  },
  {
   "cell_type": "code",
   "execution_count": null,
   "metadata": {},
   "outputs": [],
   "source": [
    "# Apply ggplot style\n",
    "plt.style.use('ggplot')\n",
    "\n",
    "# Get unique continents\n",
    "continents = rel_df['continent'].unique()\n",
    "\n",
    "# Create subplots\n",
    "fig, axes = plt.subplots(nrows=3, ncols=2, figsize=(15, 15))\n",
    "axes = axes.flatten()\n",
    "\n",
    "# Add box plots for each continent\n",
    "for i, continent in enumerate(continents):\n",
    "    ax = axes[i]\n",
    "    filtered_df = rel_df[rel_df['continent'] == continent]\n",
    "    filtered_df.boxplot(column='nonreligpct', by='Year', ax=ax)\n",
    "    ax.set_title(continent)\n",
    "    ax.set_xlabel('Year')\n",
    "    ax.set_ylabel('Non-Religious Percentage')\n",
    "    ax.grid(True)\n",
    "\n",
    "# Adjust layout and remove superfluous titles\n",
    "fig.suptitle('Non-Religious Percentage Distribution by Year for Each Continent', fontsize=16)\n",
    "plt.tight_layout(rect=[0, 0.03, 1, 0.95])\n",
    "plt.show()"
   ]
  },
  {
   "cell_type": "code",
   "execution_count": null,
   "metadata": {},
   "outputs": [],
   "source": [
    "\n",
    "\n",
    "# Create the figure and axis\n",
    "fig, ax = plt.subplots(figsize=(10, 6))\n",
    "\n",
    "# Add box plot for non-religious percentage by year, ignoring continents\n",
    "rel_df.boxplot(column='nonreligpct', by='Year', ax=ax)\n",
    "\n",
    "# Set titles and labels\n",
    "ax.set_title('Non-Religious Percentage Distribution by Year (All Continents)')\n",
    "ax.set_xlabel('Year')\n",
    "ax.set_ylabel('Non-Religious Percentage')\n",
    "ax.grid(True)\n",
    "\n",
    "# Remove the automatic 'by' title\n",
    "plt.suptitle('')\n",
    "\n",
    "# Show the plot\n",
    "plt.tight_layout()\n",
    "plt.show()\n"
   ]
  },
  {
   "cell_type": "code",
   "execution_count": null,
   "metadata": {},
   "outputs": [],
   "source": [
    "def make_video(image_folder:str, video_name:str):\n",
    "    image_folder = image_folder\n",
    "    video_name = video_name + \".avi\"\n",
    "    images = [img for img in os.listdir(image_folder) if img.endswith(\".png\")]\n",
    "    images.sort()\n",
    "    frame = cv2.imread(os.path.join(image_folder, images[0]))\n",
    "    height, width, layers = frame.shape\n",
    "\n",
    "    # Define the codec and create a VideoWriter object\n",
    "    fourcc = cv2.VideoWriter_fourcc(*'DIVX')  # You can use other codecs like 'XVID', 'MJPG', 'X264', etc.\n",
    "    video = cv2.VideoWriter(video_name, fourcc, 3, (width, height))\n",
    "\n",
    "    for image in images:\n",
    "        video.write(cv2.imread(os.path.join(image_folder, image)))\n",
    "    video.release()\n",
    "    cv2.destroyAllWindows()"
   ]
  },
  {
   "cell_type": "code",
   "execution_count": null,
   "metadata": {},
   "outputs": [],
   "source": [
    "make_video(image_folder=\"relig_map_plots\", video_name=\"evolution_of_religious_diversity\")"
   ]
  },
  {
   "cell_type": "code",
   "execution_count": null,
   "metadata": {},
   "outputs": [],
   "source": [
    "make_video(image_folder=\"co2_map_plots\", video_name=\"co2_evolution\")"
   ]
  },
  {
   "cell_type": "code",
   "execution_count": null,
   "metadata": {},
   "outputs": [],
   "source": [
    "continent_co2 = co2_df[[\"Year\", \"CO2\", \"continent\", \"pop\"]].groupby(by=[\"Year\", \"continent\"]).agg({\"CO2\": \"sum\", \"pop\": \"sum\"}).reset_index()\n",
    "continent_co2"
   ]
  },
  {
   "cell_type": "code",
   "execution_count": null,
   "metadata": {},
   "outputs": [],
   "source": [
    "# Group by Year and continent, summing the CO2 and pop columns\n",
    "plt.style.use('ggplot')\n",
    "continent_co2 = co2_df[[\"Year\", \"CO2\", \"continent\", \"pop\"]].groupby(by=[\"Year\", \"continent\"]).agg({\"CO2\": \"sum\", \"pop\": \"sum\"}).reset_index()\n",
    "\n",
    "# Pivot the DataFrame to have years as index and continents as columns\n",
    "pivot_df = continent_co2.pivot(index='Year', columns='continent', values='CO2').fillna(0)\n",
    "\n",
    "# Plotting\n",
    "fig, ax = plt.subplots()\n",
    "\n",
    "# Define the width of the bars\n",
    "width = 0.5\n",
    "\n",
    "# Create an array of zeros for the bottom positions\n",
    "bottom = np.zeros(len(pivot_df))\n",
    "\n",
    "# Plot each continent\n",
    "for continent in pivot_df.columns:\n",
    "    ax.bar(pivot_df.index, pivot_df[continent], width, label=continent, bottom=bottom)\n",
    "    bottom += pivot_df[continent]\n",
    "\n",
    "# Set the title and legend\n",
    "ax.set_title(\"CO2 Emissions by Continent and Year\")\n",
    "ax.set_xlabel(\"Year\")\n",
    "ax.set_ylabel(\"CO2 Emissions\")\n",
    "\n",
    "ax.legend(loc=\"center left\", bbox_to_anchor=(1, 0.5))\n",
    "\n",
    "plt.show()\n",
    "fig.savefig(\"plots_paul/CO2 Emissions by Continent and Year.png\")"
   ]
  },
  {
   "cell_type": "code",
   "execution_count": null,
   "metadata": {},
   "outputs": [],
   "source": [
    "import pandas as pd\n",
    "import matplotlib.pyplot as plt\n",
    "import numpy as np\n",
    "\n",
    "def bar_plots(df: pd.DataFrame, x: str, y: str, color: str, title: str, width:float =.5, location: str = \"\", savedontshow: bool = False, xaxislog: bool = False, yaxislog: bool = False, agg = \"sum\"):\n",
    "    \"\"\"\n",
    "    Create one stack of multicolored bars with the height of x for each value in y.\n",
    "    Arguments:\n",
    "        df: dataframe with data. Should have columns x, y, color\n",
    "        x: column which accounts for the height of the bars\n",
    "        y: for each value in y, compute one stack of bars\n",
    "        color: color for each subbar\n",
    "        title: title seen on plot, and title for saving\n",
    "        location: folder in which image should be saved if so\n",
    "        savedontshow: specifies if figure should be saved instead of displayed. should be saved at given location\n",
    "        xaxislog: whether x axis should be of logarithmic scale\n",
    "        yaxislog: whether y axis should be of logarithmic scale\n",
    "    \"\"\"\n",
    "    # Apply ggplot style\n",
    "    plt.style.use('ggplot')\n",
    "\n",
    "    # Group by y and color, summing the x column\n",
    "    grouped_df = df.groupby(by=[y, color]).agg({x: agg}).reset_index()\n",
    "\n",
    "    # Pivot the DataFrame to have y as index and color as columns\n",
    "    pivot_df = grouped_df.pivot(index=y, columns=color, values=x).fillna(0)\n",
    "\n",
    "    # Plotting\n",
    "    fig, ax = plt.subplots(figsize=(10, 6))\n",
    "\n",
    "    # Define the width of the bars\n",
    "    width = width\n",
    "\n",
    "    # Create an array of zeros for the bottom positions\n",
    "    bottom = np.zeros(len(pivot_df))\n",
    "\n",
    "    # Plot each color category\n",
    "    for category in pivot_df.columns:\n",
    "        ax.bar(pivot_df.index, pivot_df[category], width, label=category, bottom=bottom)\n",
    "        bottom += pivot_df[category]\n",
    "\n",
    "    # Set the title and labels\n",
    "    ax.set_title(title)\n",
    "    ax.set_xlabel(y)\n",
    "    ax.set_ylabel(x)\n",
    "\n",
    "    # Set logarithmic scale if specified\n",
    "    if xaxislog:\n",
    "        ax.set_xscale('log')\n",
    "    if yaxislog:\n",
    "        ax.set_yscale('log')\n",
    "\n",
    "    # Move the legend outside the plot\n",
    "    ax.legend(loc=\"center left\", bbox_to_anchor=(1, 0.5))\n",
    "\n",
    "    # Adjust layout\n",
    "    plt.tight_layout()\n",
    "\n",
    "    # Save or show the plot\n",
    "    if savedontshow:\n",
    "        plt.savefig(f\"{location}/{title}.png\")\n",
    "    else:\n",
    "        plt.show()\n",
    "\n",
    "# Example usage:\n",
    "bar_plots(rel_df, x='nonreligpct', y='Year', color='continent', title='Non-Religion by Continent and Year', width=3, savedontshow=True, location='plots_paul', agg =  \"mean\")\n"
   ]
  },
  {
   "cell_type": "code",
   "execution_count": null,
   "metadata": {},
   "outputs": [],
   "source": [
    "bar_plots(rel_df, x='', y='Year', color='continent', title=\"CO2 Emissions by Continent and Year\", width=.5, savedontshow=True, location='plots_paul', agg =  \"mean\")\n"
   ]
  }
 ],
 "metadata": {
  "kernelspec": {
   "display_name": "venv",
   "language": "python",
   "name": "python3"
  },
  "language_info": {
   "codemirror_mode": {
    "name": "ipython",
    "version": 3
   },
   "file_extension": ".py",
   "mimetype": "text/x-python",
   "name": "python",
   "nbconvert_exporter": "python",
   "pygments_lexer": "ipython3",
   "version": "3.12.0"
  }
 },
 "nbformat": 4,
 "nbformat_minor": 2
}

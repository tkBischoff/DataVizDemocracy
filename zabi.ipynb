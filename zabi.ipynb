{
 "cells": [
  {
   "cell_type": "code",
   "execution_count": 1,
   "id": "e50fca5d",
   "metadata": {},
   "outputs": [],
   "source": [
    "# import the required libraries\n",
    "\n",
    "import pandas as pd\n",
    "import matplotlib.pyplot as plt\n",
    "import seaborn as sns\n",
    "import plotly.express as px\n",
    "\n",
    "import plotly.graph_objects as go"
   ]
  },
  {
   "cell_type": "code",
   "execution_count": 2,
   "id": "544a7e66",
   "metadata": {},
   "outputs": [],
   "source": [
    "life_exp_lib_democ = pd.read_csv(\"data/life-expectancy-vs-liberal-democracy-index.csv\")"
   ]
  },
  {
   "cell_type": "code",
   "execution_count": 3,
   "id": "2b1020c9",
   "metadata": {},
   "outputs": [
    {
     "data": {
      "text/html": [
       "<div>\n",
       "<style scoped>\n",
       "    .dataframe tbody tr th:only-of-type {\n",
       "        vertical-align: middle;\n",
       "    }\n",
       "\n",
       "    .dataframe tbody tr th {\n",
       "        vertical-align: top;\n",
       "    }\n",
       "\n",
       "    .dataframe thead th {\n",
       "        text-align: right;\n",
       "    }\n",
       "</style>\n",
       "<table border=\"1\" class=\"dataframe\">\n",
       "  <thead>\n",
       "    <tr style=\"text-align: right;\">\n",
       "      <th></th>\n",
       "      <th>Entity</th>\n",
       "      <th>Code</th>\n",
       "      <th>Year</th>\n",
       "      <th>Period life expectancy at birth - Sex: all - Age: 0</th>\n",
       "      <th>Liberal democracy index (best estimate, aggregate: average)</th>\n",
       "      <th>Population (historical)</th>\n",
       "      <th>Continent</th>\n",
       "    </tr>\n",
       "  </thead>\n",
       "  <tbody>\n",
       "    <tr>\n",
       "      <th>62512</th>\n",
       "      <td>Zimbabwe</td>\n",
       "      <td>ZWE</td>\n",
       "      <td>1826</td>\n",
       "      <td>NaN</td>\n",
       "      <td>NaN</td>\n",
       "      <td>984868.0</td>\n",
       "      <td>NaN</td>\n",
       "    </tr>\n",
       "    <tr>\n",
       "      <th>62513</th>\n",
       "      <td>Zimbabwe</td>\n",
       "      <td>ZWE</td>\n",
       "      <td>1827</td>\n",
       "      <td>NaN</td>\n",
       "      <td>NaN</td>\n",
       "      <td>968938.0</td>\n",
       "      <td>NaN</td>\n",
       "    </tr>\n",
       "    <tr>\n",
       "      <th>62514</th>\n",
       "      <td>Zimbabwe</td>\n",
       "      <td>ZWE</td>\n",
       "      <td>1828</td>\n",
       "      <td>NaN</td>\n",
       "      <td>NaN</td>\n",
       "      <td>953265.0</td>\n",
       "      <td>NaN</td>\n",
       "    </tr>\n",
       "    <tr>\n",
       "      <th>62515</th>\n",
       "      <td>Zimbabwe</td>\n",
       "      <td>ZWE</td>\n",
       "      <td>1829</td>\n",
       "      <td>NaN</td>\n",
       "      <td>NaN</td>\n",
       "      <td>937846.0</td>\n",
       "      <td>NaN</td>\n",
       "    </tr>\n",
       "    <tr>\n",
       "      <th>62516</th>\n",
       "      <td>Zimbabwe</td>\n",
       "      <td>ZWE</td>\n",
       "      <td>1830</td>\n",
       "      <td>NaN</td>\n",
       "      <td>NaN</td>\n",
       "      <td>922676.0</td>\n",
       "      <td>NaN</td>\n",
       "    </tr>\n",
       "    <tr>\n",
       "      <th>...</th>\n",
       "      <td>...</td>\n",
       "      <td>...</td>\n",
       "      <td>...</td>\n",
       "      <td>...</td>\n",
       "      <td>...</td>\n",
       "      <td>...</td>\n",
       "      <td>...</td>\n",
       "    </tr>\n",
       "    <tr>\n",
       "      <th>62581</th>\n",
       "      <td>Zimbabwe</td>\n",
       "      <td>ZWE</td>\n",
       "      <td>1895</td>\n",
       "      <td>NaN</td>\n",
       "      <td>NaN</td>\n",
       "      <td>1052230.0</td>\n",
       "      <td>NaN</td>\n",
       "    </tr>\n",
       "    <tr>\n",
       "      <th>62582</th>\n",
       "      <td>Zimbabwe</td>\n",
       "      <td>ZWE</td>\n",
       "      <td>1896</td>\n",
       "      <td>NaN</td>\n",
       "      <td>NaN</td>\n",
       "      <td>1062987.0</td>\n",
       "      <td>NaN</td>\n",
       "    </tr>\n",
       "    <tr>\n",
       "      <th>62583</th>\n",
       "      <td>Zimbabwe</td>\n",
       "      <td>ZWE</td>\n",
       "      <td>1897</td>\n",
       "      <td>NaN</td>\n",
       "      <td>NaN</td>\n",
       "      <td>1073853.0</td>\n",
       "      <td>NaN</td>\n",
       "    </tr>\n",
       "    <tr>\n",
       "      <th>62584</th>\n",
       "      <td>Zimbabwe</td>\n",
       "      <td>ZWE</td>\n",
       "      <td>1898</td>\n",
       "      <td>NaN</td>\n",
       "      <td>NaN</td>\n",
       "      <td>1084831.0</td>\n",
       "      <td>NaN</td>\n",
       "    </tr>\n",
       "    <tr>\n",
       "      <th>62585</th>\n",
       "      <td>Zimbabwe</td>\n",
       "      <td>ZWE</td>\n",
       "      <td>1899</td>\n",
       "      <td>NaN</td>\n",
       "      <td>NaN</td>\n",
       "      <td>1097325.0</td>\n",
       "      <td>NaN</td>\n",
       "    </tr>\n",
       "  </tbody>\n",
       "</table>\n",
       "<p>74 rows × 7 columns</p>\n",
       "</div>"
      ],
      "text/plain": [
       "         Entity Code  Year  \\\n",
       "62512  Zimbabwe  ZWE  1826   \n",
       "62513  Zimbabwe  ZWE  1827   \n",
       "62514  Zimbabwe  ZWE  1828   \n",
       "62515  Zimbabwe  ZWE  1829   \n",
       "62516  Zimbabwe  ZWE  1830   \n",
       "...         ...  ...   ...   \n",
       "62581  Zimbabwe  ZWE  1895   \n",
       "62582  Zimbabwe  ZWE  1896   \n",
       "62583  Zimbabwe  ZWE  1897   \n",
       "62584  Zimbabwe  ZWE  1898   \n",
       "62585  Zimbabwe  ZWE  1899   \n",
       "\n",
       "       Period life expectancy at birth - Sex: all - Age: 0  \\\n",
       "62512                                                NaN     \n",
       "62513                                                NaN     \n",
       "62514                                                NaN     \n",
       "62515                                                NaN     \n",
       "62516                                                NaN     \n",
       "...                                                  ...     \n",
       "62581                                                NaN     \n",
       "62582                                                NaN     \n",
       "62583                                                NaN     \n",
       "62584                                                NaN     \n",
       "62585                                                NaN     \n",
       "\n",
       "       Liberal democracy index (best estimate, aggregate: average)  \\\n",
       "62512                                                NaN             \n",
       "62513                                                NaN             \n",
       "62514                                                NaN             \n",
       "62515                                                NaN             \n",
       "62516                                                NaN             \n",
       "...                                                  ...             \n",
       "62581                                                NaN             \n",
       "62582                                                NaN             \n",
       "62583                                                NaN             \n",
       "62584                                                NaN             \n",
       "62585                                                NaN             \n",
       "\n",
       "       Population (historical) Continent  \n",
       "62512                 984868.0       NaN  \n",
       "62513                 968938.0       NaN  \n",
       "62514                 953265.0       NaN  \n",
       "62515                 937846.0       NaN  \n",
       "62516                 922676.0       NaN  \n",
       "...                        ...       ...  \n",
       "62581                1052230.0       NaN  \n",
       "62582                1062987.0       NaN  \n",
       "62583                1073853.0       NaN  \n",
       "62584                1084831.0       NaN  \n",
       "62585                1097325.0       NaN  \n",
       "\n",
       "[74 rows x 7 columns]"
      ]
     },
     "execution_count": 3,
     "metadata": {},
     "output_type": "execute_result"
    }
   ],
   "source": [
    "life_exp_lib_democ.tail(74)"
   ]
  },
  {
   "cell_type": "code",
   "execution_count": 4,
   "id": "ae465603",
   "metadata": {},
   "outputs": [
    {
     "data": {
      "text/plain": [
       "(62586, 7)"
      ]
     },
     "execution_count": 4,
     "metadata": {},
     "output_type": "execute_result"
    }
   ],
   "source": [
    "life_exp_lib_democ.shape"
   ]
  },
  {
   "cell_type": "code",
   "execution_count": 5,
   "id": "ea7357fc",
   "metadata": {},
   "outputs": [
    {
     "data": {
      "text/plain": [
       "'            Entity      Code  Year  \\\\\\n0         Abkhazia  OWID_ABK  2015   \\n1      Afghanistan       AFG  1950   \\n2      Afghanistan       AFG  1951   \\n3      Afghanistan       AFG  1952   \\n4      Afghanistan       AFG  1953   \\n...            ...       ...   ...   \\n62581     Zimbabwe       ZWE  1895   \\n62582     Zimbabwe       ZWE  1896   \\n62583     Zimbabwe       ZWE  1897   \\n62584     Zimbabwe       ZWE  1898   \\n62585     Zimbabwe       ZWE  1899   \\n\\n       Period life expectancy at birth - Sex: all - Age: 0  \\\\\\n0                                                    NaN     \\n1                                                27.7275     \\n2                                                27.9634     \\n3                                                28.4456     \\n4                                                28.9304     \\n...                                                  ...     \\n62581                                                NaN     \\n62582                                                NaN     \\n62583                                                NaN     \\n62584                                                NaN     \\n62585                                                NaN     \\n\\n       Liberal democracy index (best estimate, aggregate: average)  \\\\\\n0                                                    NaN             \\n1                                                  0.061             \\n2                                                  0.061             \\n3                                                  0.059             \\n4                                                  0.060             \\n...                                                  ...             \\n62581                                                NaN             \\n62582                                                NaN             \\n62583                                                NaN             \\n62584                                                NaN             \\n62585                                                NaN             \\n\\n       Population (historical) Continent  \\n0                          NaN      Asia  \\n1                    7776182.0       NaN  \\n2                    7879343.0       NaN  \\n3                    7987783.0       NaN  \\n4                    8096703.0       NaN  \\n...                        ...       ...  \\n62581                1052230.0       NaN  \\n62582                1062987.0       NaN  \\n62583                1073853.0       NaN  \\n62584                1084831.0       NaN  \\n62585                1097325.0       NaN  \\n\\n[62586 rows x 7 columns]'"
      ]
     },
     "execution_count": 5,
     "metadata": {},
     "output_type": "execute_result"
    }
   ],
   "source": [
    "str(life_exp_lib_democ)"
   ]
  },
  {
   "cell_type": "code",
   "execution_count": 6,
   "id": "c7247d22",
   "metadata": {},
   "outputs": [
    {
     "name": "stdout",
     "output_type": "stream",
     "text": [
      "Package                   Version\n",
      "------------------------- --------------\n",
      "anyio                     4.4.0\n",
      "appnope                   0.1.4\n",
      "argon2-cffi               23.1.0\n",
      "argon2-cffi-bindings      21.2.0\n",
      "arrow                     1.3.0\n",
      "asttokens                 2.4.1\n",
      "async-lru                 2.0.4\n",
      "attrs                     23.2.0\n",
      "Babel                     2.15.0\n",
      "beautifulsoup4            4.12.3\n",
      "bleach                    6.1.0\n",
      "certifi                   2024.7.4\n",
      "cffi                      1.16.0\n",
      "charset-normalizer        3.3.2\n",
      "comm                      0.2.2\n",
      "contourpy                 1.2.1\n",
      "cycler                    0.12.1\n",
      "debugpy                   1.8.2\n",
      "decorator                 5.1.1\n",
      "defusedxml                0.7.1\n",
      "exceptiongroup            1.2.2\n",
      "executing                 2.0.1\n",
      "fastjsonschema            2.20.0\n",
      "fonttools                 4.53.1\n",
      "fqdn                      1.5.1\n",
      "geopandas                 1.0.1\n",
      "h11                       0.14.0\n",
      "httpcore                  1.0.5\n",
      "httpx                     0.27.0\n",
      "idna                      3.7\n",
      "importlib_metadata        8.2.0\n",
      "importlib_resources       6.4.0\n",
      "ipykernel                 6.29.5\n",
      "ipython                   8.18.1\n",
      "ipywidgets                8.1.3\n",
      "isoduration               20.11.0\n",
      "jedi                      0.19.1\n",
      "Jinja2                    3.1.4\n",
      "json5                     0.9.25\n",
      "jsonpointer               3.0.0\n",
      "jsonschema                4.23.0\n",
      "jsonschema-specifications 2023.12.1\n",
      "jupyter                   1.0.0\n",
      "jupyter_client            8.6.2\n",
      "jupyter-console           6.6.3\n",
      "jupyter_core              5.7.2\n",
      "jupyter-events            0.10.0\n",
      "jupyter-lsp               2.2.5\n",
      "jupyter_server            2.14.2\n",
      "jupyter_server_terminals  0.5.3\n",
      "jupyterlab                4.2.4\n",
      "jupyterlab_pygments       0.3.0\n",
      "jupyterlab_server         2.27.3\n",
      "jupyterlab_widgets        3.0.11\n",
      "kiwisolver                1.4.5\n",
      "MarkupSafe                2.1.5\n",
      "matplotlib                3.9.1\n",
      "matplotlib-inline         0.1.7\n",
      "mistune                   3.0.2\n",
      "nbclient                  0.10.0\n",
      "nbconvert                 7.16.4\n",
      "nbformat                  5.10.4\n",
      "nest-asyncio              1.6.0\n",
      "notebook                  7.2.1\n",
      "notebook_shim             0.2.4\n",
      "numpy                     2.0.1\n",
      "opencv-python             4.10.0.84\n",
      "overrides                 7.7.0\n",
      "packaging                 24.1\n",
      "pandas                    2.2.2\n",
      "pandocfilters             1.5.1\n",
      "parso                     0.8.4\n",
      "pexpect                   4.9.0\n",
      "pillow                    10.4.0\n",
      "pip                       21.2.4\n",
      "platformdirs              4.2.2\n",
      "plotly                    5.23.0\n",
      "prometheus_client         0.20.0\n",
      "prompt_toolkit            3.0.47\n",
      "psutil                    6.0.0\n",
      "ptyprocess                0.7.0\n",
      "pure_eval                 0.2.3\n",
      "pycparser                 2.22\n",
      "Pygments                  2.18.0\n",
      "pyogrio                   0.9.0\n",
      "pyparsing                 3.1.2\n",
      "pyproj                    3.6.1\n",
      "python-dateutil           2.9.0.post0\n",
      "python-json-logger        2.0.7\n",
      "pytz                      2024.1\n",
      "PyYAML                    6.0.1\n",
      "pyzmq                     26.0.3\n",
      "qtconsole                 5.5.2\n",
      "QtPy                      2.4.1\n",
      "referencing               0.35.1\n",
      "requests                  2.32.3\n",
      "rfc3339-validator         0.1.4\n",
      "rfc3986-validator         0.1.1\n",
      "rpds-py                   0.19.1\n",
      "seaborn                   0.13.2\n",
      "Send2Trash                1.8.3\n",
      "setuptools                58.0.4\n",
      "shapely                   2.0.5\n",
      "six                       1.16.0\n",
      "sniffio                   1.3.1\n",
      "soupsieve                 2.5\n",
      "stack-data                0.6.3\n",
      "tenacity                  8.5.0\n",
      "terminado                 0.18.1\n",
      "tinycss2                  1.3.0\n",
      "tomli                     2.0.1\n",
      "tornado                   6.4.1\n",
      "traitlets                 5.14.3\n",
      "types-python-dateutil     2.9.0.20240316\n",
      "typing_extensions         4.12.2\n",
      "tzdata                    2024.1\n",
      "uri-template              1.3.0\n",
      "urllib3                   2.2.2\n",
      "wcwidth                   0.2.13\n",
      "webcolors                 24.6.0\n",
      "webencodings              0.5.1\n",
      "websocket-client          1.8.0\n",
      "widgetsnbextension        4.0.11\n",
      "zipp                      3.19.2\n",
      "\u001b[33mWARNING: You are using pip version 21.2.4; however, version 24.1.2 is available.\n",
      "You should consider upgrading via the '/Users/zabihullahazimy/BHT/Data-Viz-24/DataVizDemocracy/vizvenv/bin/python3 -m pip install --upgrade pip' command.\u001b[0m\n"
     ]
    }
   ],
   "source": [
    "!pip list"
   ]
  },
  {
   "cell_type": "code",
   "execution_count": null,
   "id": "fcb4dbbb",
   "metadata": {},
   "outputs": [],
   "source": [
    "# Clean the data by removing rows with NaN values in critical columns\n",
    "df_cleaned = life_exp_lib_democ.dropna(subset=['Liberal democracy index (best estimate, aggregate: average)', \n",
    "                               'Period life expectancy at birth - Sex: all - Age: 0'])\n",
    "\n",
    "\n",
    "# Scale the population to increase the size of the points \n",
    "df_cleaned['Scaled Population'] = df_cleaned['Population (historical)'] / 1e6\n",
    "\n",
    "# Create the scatter plot\n",
    "fig = px.scatter(\n",
    "    df_cleaned,\n",
    "    x='Liberal democracy index (best estimate, aggregate: average)',\n",
    "    y='Period life expectancy at birth - Sex: all - Age: 0',\n",
    "    size='Scaled Population',  # Use the scaled population\n",
    "    color='Continent',\n",
    "    hover_name='Entity',\n",
    "    size_max=200,  # Increase size_max to make points larger -- 200 worked the best\n",
    "    title='Life Expectancy vs. Liberal Democracy Index (2021)',\n",
    "    labels={\n",
    "        'Liberal democracy index (best estimate, aggregate: average)': 'Liberal Democracy Index',\n",
    "        'Period life expectancy at birth - Sex: all - Age: 0': 'Life Expectancy'\n",
    "    }\n",
    ")\n",
    "\n",
    "# Update the layout\n",
    "fig.update_layout(\n",
    "    xaxis_title='Liberal Democracy Index',\n",
    "    yaxis_title='Life Expectancy',\n",
    "    legend_title='Continent',\n",
    "    template='plotly',\n",
    "    height=700,\n",
    "    width=1000,\n",
    "    font=dict(size=18) \n",
    ")\n",
    "\n",
    "# Show the plot\n",
    "fig.show()\n"
   ]
  },
  {
   "cell_type": "code",
   "execution_count": 8,
   "id": "4912ad82",
   "metadata": {},
   "outputs": [
    {
     "name": "stderr",
     "output_type": "stream",
     "text": [
      "/var/folders/3q/vbln2bmj5z3b21k7dy3d_zr40000gn/T/ipykernel_21178/1880562926.py:9: SettingWithCopyWarning:\n",
      "\n",
      "\n",
      "A value is trying to be set on a copy of a slice from a DataFrame.\n",
      "Try using .loc[row_indexer,col_indexer] = value instead\n",
      "\n",
      "See the caveats in the documentation: https://pandas.pydata.org/pandas-docs/stable/user_guide/indexing.html#returning-a-view-versus-a-copy\n",
      "\n",
      "/var/folders/3q/vbln2bmj5z3b21k7dy3d_zr40000gn/T/ipykernel_21178/1880562926.py:12: SettingWithCopyWarning:\n",
      "\n",
      "\n",
      "A value is trying to be set on a copy of a slice from a DataFrame\n",
      "\n",
      "See the caveats in the documentation: https://pandas.pydata.org/pandas-docs/stable/user_guide/indexing.html#returning-a-view-versus-a-copy\n",
      "\n"
     ]
    },
    {
     "data": {
      "application/vnd.plotly.v1+json": {
       "config": {
        "plotlyServerURL": "https://plot.ly"
       },
       "data": [
        {
         "hovertemplate": "<b>%{hovertext}</b><br><br>Continent=Asia<br>Government Effectiveness=%{x}<br>Liberal Democracy Index=%{y}<br>Scaled Population=%{marker.size}<extra></extra>",
         "hovertext": [
          "Afghanistan",
          "Armenia",
          "Azerbaijan",
          "Bahrain",
          "Bangladesh",
          "Bhutan",
          "Cambodia",
          "China",
          "East Timor",
          "Georgia",
          "Hong Kong",
          "India",
          "Indonesia",
          "Iran",
          "Iraq",
          "Israel",
          "Japan",
          "Jordan",
          "Kazakhstan",
          "Kuwait",
          "Kyrgyzstan",
          "Laos",
          "Lebanon",
          "Malaysia",
          "Maldives",
          "Mongolia",
          "Myanmar",
          "Nepal",
          "North Korea",
          "Oman",
          "Pakistan",
          "Philippines",
          "Qatar",
          "Saudi Arabia",
          "Singapore",
          "South Korea",
          "Sri Lanka",
          "Syria",
          "Taiwan",
          "Tajikistan",
          "Thailand",
          "Turkey",
          "Turkmenistan",
          "United Arab Emirates",
          "Uzbekistan",
          "Vietnam",
          "Yemen"
         ],
         "legendgroup": "Asia",
         "marker": {
          "color": "#EF553B",
          "size": [
           33.831765,
           2.921179,
           9.752859,
           1.369656,
           159.38318,
           0.740624,
           15.623253,
           1396.134164,
           1.205134,
           3.791571,
           7.366411,
           1328.024492,
           261.799249,
           82.619365,
           37.560535,
           8.052915,
           127.275868,
           9.54473,
           18.084173,
           3.834464,
           6.001876,
           6.80165,
           6.47247,
           31.232796,
           0.428165,
           2.976528,
           51.08906,
           27.823631,
           25.575355,
           4.184897,
           217.290885,
           105.312986,
           2.427337,
           29.974944,
           5.525343,
           50.983908,
           21.729974,
           19.424615,
           23.529259,
           8.643839,
           70.54079,
           80.014221,
           6.215775,
           8.674629,
           30.749349,
           92.823254,
           31.159379
          ],
          "sizemode": "area",
          "sizeref": 0.202293373375,
          "symbol": "circle"
         },
         "mode": "markers",
         "name": "Asia",
         "showlegend": true,
         "type": "scattergl",
         "x": [
          -1.352,
          -0.277,
          -0.219,
          0.557,
          -0.726,
          0.452,
          -0.702,
          0.438,
          -1.069,
          0.326,
          1.904,
          0.109,
          -0.296,
          -0.21,
          -1.174,
          1.384,
          1.78,
          0.146,
          -0.11,
          -0.035,
          -0.924,
          -0.504,
          -0.365,
          0.958,
          -0.349,
          -0.411,
          -1.257,
          -1.068,
          -1.631,
          0.08,
          -0.667,
          0.195,
          0.952,
          0.198,
          2.231,
          1.009,
          0.013,
          -1.589,
          1.392,
          -0.856,
          0.28,
          0.229,
          -0.549,
          1.505,
          -0.67,
          0.092,
          -1.669
         ],
         "xaxis": "x",
         "y": [
          0.225,
          0.207,
          0.065,
          0.044,
          0.111,
          0.485,
          0.114,
          0.052,
          0.462,
          0.512,
          0.301,
          0.429,
          0.513,
          0.13,
          0.238,
          0.659,
          0.742,
          0.222,
          0.113,
          0.287,
          0.314,
          0.078,
          0.298,
          0.207,
          0.191,
          0.543,
          0.182,
          0.537,
          0.015,
          0.139,
          0.268,
          0.429,
          0.092,
          0.048,
          0.333,
          0.608,
          0.401,
          0.025,
          0.684,
          0.044,
          0.101,
          0.236,
          0.026,
          0.09,
          0.036,
          0.118,
          0.069
         ],
         "yaxis": "y"
        },
        {
         "hovertemplate": "<b>%{hovertext}</b><br><br>Continent=Europe<br>Government Effectiveness=%{x}<br>Liberal Democracy Index=%{y}<br>Scaled Population=%{marker.size}<extra></extra>",
         "hovertext": [
          "Albania",
          "Austria",
          "Belarus",
          "Belgium",
          "Bosnia and Herzegovina",
          "Bulgaria",
          "Croatia",
          "Cyprus",
          "Czechia",
          "Denmark",
          "Estonia",
          "Finland",
          "France",
          "Germany",
          "Greece",
          "Hungary",
          "Iceland",
          "Ireland",
          "Italy",
          "Kosovo",
          "Latvia",
          "Lithuania",
          "Luxembourg",
          "Malta",
          "Moldova",
          "Montenegro",
          "Netherlands",
          "North Macedonia",
          "Norway",
          "Poland",
          "Portugal",
          "Romania",
          "Russia",
          "Serbia",
          "Slovakia",
          "Slovenia",
          "Spain",
          "Sweden",
          "Switzerland",
          "Ukraine",
          "United Kingdom"
         ],
         "legendgroup": "Europe",
         "marker": {
          "color": "#00cc96",
          "size": [
           2.898634,
           8.644037,
           9.487288,
           11.275332,
           3.518541,
           7.177516,
           4.183732,
           1.219504,
           10.524419,
           5.683698,
           1.314581,
           5.479718,
           64.916336,
           82.077546,
           10.820901,
           9.83921,
           0.330962,
           4.702497,
           60.575314,
           1.77902,
           1.977874,
           2.905772,
           0.569541,
           0.444979,
           3.287169,
           0.628147,
           17.107427,
           1.980366,
           5.189776,
           38.266314,
           10.370266,
           19.871018,
           145.307611,
           7.177257,
           5.420279,
           2.059947,
           46.683683,
           9.799482,
           8.28394,
           45.784903,
           65.382107
          ],
          "sizemode": "area",
          "sizeref": 0.202293373375,
          "symbol": "circle"
         },
         "mode": "markers",
         "name": "Europe",
         "showlegend": true,
         "type": "scattergl",
         "x": [
          0.059,
          1.478,
          -0.447,
          1.556,
          -0.59,
          0.016,
          0.486,
          1.045,
          1.057,
          1.821,
          1.065,
          1.87,
          1.444,
          1.683,
          0.176,
          0.547,
          1.488,
          1.548,
          0.52,
          null,
          1.086,
          1.181,
          1.719,
          0.847,
          -0.653,
          0.196,
          1.855,
          0.002,
          1.86,
          0.768,
          1.186,
          0.128,
          -0.295,
          0.023,
          0.766,
          0.969,
          1.185,
          1.711,
          1.993,
          -0.524,
          1.732
         ],
         "xaxis": "x",
         "y": [
          0.442,
          0.805,
          0.102,
          0.841,
          0.368,
          0.571,
          0.702,
          0.742,
          0.776,
          0.895,
          0.846,
          0.824,
          0.822,
          0.852,
          0.787,
          0.485,
          0.785,
          0.83,
          0.783,
          0.447,
          0.764,
          0.782,
          0.795,
          0.59,
          0.472,
          0.372,
          0.835,
          0.268,
          0.864,
          0.778,
          0.832,
          0.599,
          0.11,
          0.344,
          0.735,
          0.804,
          0.766,
          0.884,
          0.861,
          0.226,
          0.789
         ],
         "yaxis": "y"
        },
        {
         "hovertemplate": "<b>%{hovertext}</b><br><br>Continent=Africa<br>Government Effectiveness=%{x}<br>Liberal Democracy Index=%{y}<br>Scaled Population=%{marker.size}<extra></extra>",
         "hovertext": [
          "Algeria",
          "Angola",
          "Benin",
          "Botswana",
          "Burkina Faso",
          "Burundi",
          "Cameroon",
          "Cape Verde",
          "Central African Republic",
          "Chad",
          "Comoros",
          "Congo",
          "Cote d'Ivoire",
          "Democratic Republic of Congo",
          "Djibouti",
          "Egypt",
          "Equatorial Guinea",
          "Eritrea",
          "Eswatini",
          "Ethiopia",
          "Gabon",
          "Gambia",
          "Ghana",
          "Guinea",
          "Guinea-Bissau",
          "Kenya",
          "Lesotho",
          "Liberia",
          "Libya",
          "Madagascar",
          "Malawi",
          "Mali",
          "Mauritania",
          "Mauritius",
          "Morocco",
          "Mozambique",
          "Namibia",
          "Niger",
          "Nigeria",
          "Rwanda",
          "Sao Tome and Principe",
          "Senegal",
          "Seychelles",
          "Sierra Leone",
          "Somalia",
          "South Africa",
          "South Sudan",
          "Sudan",
          "Tanzania",
          "Togo",
          "Tunisia",
          "Uganda",
          "Zambia",
          "Zimbabwe"
         ],
         "legendgroup": "Africa",
         "marker": {
          "color": "#ab63fa",
          "size": [
           40.019528,
           28.157801,
           11.360681,
           2.203276,
           18.777488,
           11.04758,
           22.763419,
           0.512405,
           4.629323,
           14.647625,
           0.726685,
           5.097583,
           25.246346,
           81.035535,
           1.020315,
           99.597333,
           1.453926,
           3.105554,
           1.142823,
           103.86714,
           2.04099,
           2.224532,
           28.696071,
           11.767077,
           1.786461,
           47.088527,
           2.104613,
           4.659438,
           6.531825,
           25.426704,
           17.085585,
           18.593022,
           3.965959,
           1.292282,
           34.60759,
           26.547575,
           2.374305,
           19.939497,
           190.671883,
           11.640027,
           0.200306,
           14.593336,
           0.107247,
           7.037659,
           13.806969,
           56.723537,
           11.107569,
           40.024436,
           52.020959,
           7.663199,
           11.40227,
           37.531444,
           16.39909,
           14.399009
          ],
          "sizemode": "area",
          "sizeref": 0.202293373375,
          "symbol": "circle"
         },
         "mode": "markers",
         "name": "Africa",
         "showlegend": true,
         "type": "scattergl",
         "x": [
          -0.378,
          -0.893,
          -0.651,
          0.479,
          -0.648,
          -1.208,
          -0.8,
          0.195,
          -1.788,
          -1.452,
          -1.611,
          -1.051,
          -0.719,
          -1.602,
          -0.993,
          -0.659,
          -1.143,
          -1.638,
          -0.507,
          -0.66,
          -0.727,
          -0.955,
          -0.288,
          -1.156,
          -1.63,
          -0.357,
          -0.72,
          -1.342,
          -1.46,
          -1.304,
          -0.712,
          -0.929,
          -1.026,
          1.161,
          -0.112,
          -0.784,
          0.327,
          -0.691,
          -0.972,
          -0.108,
          -0.816,
          -0.449,
          0.586,
          -1.248,
          -2.186,
          0.116,
          -2.137,
          -1.483,
          -0.622,
          -1.205,
          -0.069,
          -0.548,
          -0.612,
          -1.202
         ],
         "xaxis": "x",
         "y": [
          0.171,
          0.134,
          0.534,
          0.591,
          0.31,
          0.061,
          0.154,
          0.712,
          0.181,
          0.093,
          0.25,
          0.099,
          0.329,
          0.128,
          0.115,
          0.095,
          0.054,
          0.006,
          0.098,
          0.102,
          0.228,
          0.107,
          0.63,
          0.164,
          0.307,
          0.421,
          0.449,
          0.452,
          0.173,
          0.251,
          0.444,
          0.35,
          0.181,
          0.632,
          0.231,
          0.305,
          0.592,
          0.483,
          0.41,
          0.136,
          0.579,
          0.586,
          0.429,
          0.312,
          0.124,
          0.64,
          0.064,
          0.065,
          0.398,
          0.273,
          0.627,
          0.244,
          0.358,
          0.207
         ],
         "yaxis": "y"
        },
        {
         "hovertemplate": "<b>%{hovertext}</b><br><br>Continent=South America<br>Government Effectiveness=%{x}<br>Liberal Democracy Index=%{y}<br>Scaled Population=%{marker.size}<extra></extra>",
         "hovertext": [
          "Argentina",
          "Bolivia",
          "Brazil",
          "Chile",
          "Colombia",
          "Ecuador",
          "Guyana",
          "Paraguay",
          "Peru",
          "Suriname",
          "Uruguay",
          "Venezuela"
         ],
         "legendgroup": "South America",
         "marker": {
          "color": "#FFA15A",
          "size": [
           43.477009,
           11.014707,
           201.675534,
           18.047628,
           46.969937,
           16.266228,
           0.758785,
           6.159106,
           30.4576,
           0.581633,
           3.368022,
           30.57397
          ],
          "sizemode": "area",
          "sizeref": 0.202293373375,
          "symbol": "circle"
         },
         "mode": "markers",
         "name": "South America",
         "showlegend": true,
         "type": "scattergl",
         "x": [
          -0.017,
          -0.651,
          -0.232,
          0.947,
          -0.065,
          -0.362,
          -0.323,
          -0.978,
          -0.337,
          -0.347,
          0.477,
          -1.159
         ],
         "xaxis": "x",
         "y": [
          0.598,
          0.376,
          0.779,
          0.844,
          0.551,
          0.267,
          0.454,
          0.415,
          0.69,
          0.635,
          0.835,
          0.104
         ],
         "yaxis": "y"
        },
        {
         "hovertemplate": "<b>%{hovertext}</b><br><br>Continent=Oceania<br>Government Effectiveness=%{x}<br>Liberal Democracy Index=%{y}<br>Scaled Population=%{marker.size}<extra></extra>",
         "hovertext": [
          "Australia",
          "Fiji",
          "New Zealand",
          "Papua New Guinea",
          "Solomon Islands",
          "Vanuatu"
         ],
         "legendgroup": "Oceania",
         "marker": {
          "color": "#19d3f3",
          "size": [
           23.947998,
           0.918583,
           4.614037,
           8.743247,
           0.639423,
           0.266116
          ],
          "sizemode": "area",
          "sizeref": 0.202293373375,
          "symbol": "circle"
         },
         "mode": "markers",
         "name": "Oceania",
         "showlegend": true,
         "type": "scattergl",
         "x": [
          1.56,
          -0.292,
          1.879,
          -0.604,
          -1.058,
          -0.792
         ],
         "xaxis": "x",
         "y": [
          0.825,
          0.275,
          0.837,
          0.342,
          0.436,
          0.619
         ],
         "yaxis": "y"
        },
        {
         "hovertemplate": "<b>%{hovertext}</b><br><br>Continent=North America<br>Government Effectiveness=%{x}<br>Liberal Democracy Index=%{y}<br>Scaled Population=%{marker.size}<extra></extra>",
         "hovertext": [
          "Barbados",
          "Canada",
          "Costa Rica",
          "Cuba",
          "Dominican Republic",
          "El Salvador",
          "Guatemala",
          "Haiti",
          "Honduras",
          "Jamaica",
          "Mexico",
          "Nicaragua",
          "Panama",
          "Trinidad and Tobago",
          "United States"
         ],
         "legendgroup": "North America",
         "marker": {
          "color": "#FF6692",
          "size": [
           0.278997,
           35.962236,
           4.818044,
           11.275068,
           10.434826,
           6.183674,
           15.971745,
           10.523249,
           9.237305,
           2.802535,
           121.07231,
           6.149418,
           3.960036,
           1.429189,
           326.126498
          ],
          "sizemode": "area",
          "sizeref": 0.202293373375,
          "symbol": "circle"
         },
         "mode": "markers",
         "name": "North America",
         "showlegend": true,
         "type": "scattergl",
         "x": [
          1.022,
          1.757,
          0.331,
          0.02,
          -0.368,
          -0.263,
          -0.74,
          -2.064,
          -0.826,
          0.328,
          0.152,
          -0.82,
          0.311,
          0.283,
          1.459
         ],
         "xaxis": "x",
         "y": [
          0.664,
          0.745,
          0.856,
          0.058,
          0.314,
          0.468,
          0.439,
          0.231,
          0.247,
          0.681,
          0.43,
          0.126,
          0.559,
          0.652,
          0.854
         ],
         "yaxis": "y"
        }
       ],
       "layout": {
        "font": {
         "size": 18
        },
        "height": 700,
        "legend": {
         "itemsizing": "constant",
         "title": {
          "text": "Continent"
         },
         "tracegroupgap": 0
        },
        "shapes": [
         {
          "line": {
           "color": "green",
           "dash": "dash"
          },
          "type": "line",
          "x0": 0,
          "x1": 0,
          "y0": 0.005,
          "y1": 0.897
         }
        ],
        "template": {
         "data": {
          "bar": [
           {
            "error_x": {
             "color": "#2a3f5f"
            },
            "error_y": {
             "color": "#2a3f5f"
            },
            "marker": {
             "line": {
              "color": "#E5ECF6",
              "width": 0.5
             },
             "pattern": {
              "fillmode": "overlay",
              "size": 10,
              "solidity": 0.2
             }
            },
            "type": "bar"
           }
          ],
          "barpolar": [
           {
            "marker": {
             "line": {
              "color": "#E5ECF6",
              "width": 0.5
             },
             "pattern": {
              "fillmode": "overlay",
              "size": 10,
              "solidity": 0.2
             }
            },
            "type": "barpolar"
           }
          ],
          "carpet": [
           {
            "aaxis": {
             "endlinecolor": "#2a3f5f",
             "gridcolor": "white",
             "linecolor": "white",
             "minorgridcolor": "white",
             "startlinecolor": "#2a3f5f"
            },
            "baxis": {
             "endlinecolor": "#2a3f5f",
             "gridcolor": "white",
             "linecolor": "white",
             "minorgridcolor": "white",
             "startlinecolor": "#2a3f5f"
            },
            "type": "carpet"
           }
          ],
          "choropleth": [
           {
            "colorbar": {
             "outlinewidth": 0,
             "ticks": ""
            },
            "type": "choropleth"
           }
          ],
          "contour": [
           {
            "colorbar": {
             "outlinewidth": 0,
             "ticks": ""
            },
            "colorscale": [
             [
              0,
              "#0d0887"
             ],
             [
              0.1111111111111111,
              "#46039f"
             ],
             [
              0.2222222222222222,
              "#7201a8"
             ],
             [
              0.3333333333333333,
              "#9c179e"
             ],
             [
              0.4444444444444444,
              "#bd3786"
             ],
             [
              0.5555555555555556,
              "#d8576b"
             ],
             [
              0.6666666666666666,
              "#ed7953"
             ],
             [
              0.7777777777777778,
              "#fb9f3a"
             ],
             [
              0.8888888888888888,
              "#fdca26"
             ],
             [
              1,
              "#f0f921"
             ]
            ],
            "type": "contour"
           }
          ],
          "contourcarpet": [
           {
            "colorbar": {
             "outlinewidth": 0,
             "ticks": ""
            },
            "type": "contourcarpet"
           }
          ],
          "heatmap": [
           {
            "colorbar": {
             "outlinewidth": 0,
             "ticks": ""
            },
            "colorscale": [
             [
              0,
              "#0d0887"
             ],
             [
              0.1111111111111111,
              "#46039f"
             ],
             [
              0.2222222222222222,
              "#7201a8"
             ],
             [
              0.3333333333333333,
              "#9c179e"
             ],
             [
              0.4444444444444444,
              "#bd3786"
             ],
             [
              0.5555555555555556,
              "#d8576b"
             ],
             [
              0.6666666666666666,
              "#ed7953"
             ],
             [
              0.7777777777777778,
              "#fb9f3a"
             ],
             [
              0.8888888888888888,
              "#fdca26"
             ],
             [
              1,
              "#f0f921"
             ]
            ],
            "type": "heatmap"
           }
          ],
          "heatmapgl": [
           {
            "colorbar": {
             "outlinewidth": 0,
             "ticks": ""
            },
            "colorscale": [
             [
              0,
              "#0d0887"
             ],
             [
              0.1111111111111111,
              "#46039f"
             ],
             [
              0.2222222222222222,
              "#7201a8"
             ],
             [
              0.3333333333333333,
              "#9c179e"
             ],
             [
              0.4444444444444444,
              "#bd3786"
             ],
             [
              0.5555555555555556,
              "#d8576b"
             ],
             [
              0.6666666666666666,
              "#ed7953"
             ],
             [
              0.7777777777777778,
              "#fb9f3a"
             ],
             [
              0.8888888888888888,
              "#fdca26"
             ],
             [
              1,
              "#f0f921"
             ]
            ],
            "type": "heatmapgl"
           }
          ],
          "histogram": [
           {
            "marker": {
             "pattern": {
              "fillmode": "overlay",
              "size": 10,
              "solidity": 0.2
             }
            },
            "type": "histogram"
           }
          ],
          "histogram2d": [
           {
            "colorbar": {
             "outlinewidth": 0,
             "ticks": ""
            },
            "colorscale": [
             [
              0,
              "#0d0887"
             ],
             [
              0.1111111111111111,
              "#46039f"
             ],
             [
              0.2222222222222222,
              "#7201a8"
             ],
             [
              0.3333333333333333,
              "#9c179e"
             ],
             [
              0.4444444444444444,
              "#bd3786"
             ],
             [
              0.5555555555555556,
              "#d8576b"
             ],
             [
              0.6666666666666666,
              "#ed7953"
             ],
             [
              0.7777777777777778,
              "#fb9f3a"
             ],
             [
              0.8888888888888888,
              "#fdca26"
             ],
             [
              1,
              "#f0f921"
             ]
            ],
            "type": "histogram2d"
           }
          ],
          "histogram2dcontour": [
           {
            "colorbar": {
             "outlinewidth": 0,
             "ticks": ""
            },
            "colorscale": [
             [
              0,
              "#0d0887"
             ],
             [
              0.1111111111111111,
              "#46039f"
             ],
             [
              0.2222222222222222,
              "#7201a8"
             ],
             [
              0.3333333333333333,
              "#9c179e"
             ],
             [
              0.4444444444444444,
              "#bd3786"
             ],
             [
              0.5555555555555556,
              "#d8576b"
             ],
             [
              0.6666666666666666,
              "#ed7953"
             ],
             [
              0.7777777777777778,
              "#fb9f3a"
             ],
             [
              0.8888888888888888,
              "#fdca26"
             ],
             [
              1,
              "#f0f921"
             ]
            ],
            "type": "histogram2dcontour"
           }
          ],
          "mesh3d": [
           {
            "colorbar": {
             "outlinewidth": 0,
             "ticks": ""
            },
            "type": "mesh3d"
           }
          ],
          "parcoords": [
           {
            "line": {
             "colorbar": {
              "outlinewidth": 0,
              "ticks": ""
             }
            },
            "type": "parcoords"
           }
          ],
          "pie": [
           {
            "automargin": true,
            "type": "pie"
           }
          ],
          "scatter": [
           {
            "fillpattern": {
             "fillmode": "overlay",
             "size": 10,
             "solidity": 0.2
            },
            "type": "scatter"
           }
          ],
          "scatter3d": [
           {
            "line": {
             "colorbar": {
              "outlinewidth": 0,
              "ticks": ""
             }
            },
            "marker": {
             "colorbar": {
              "outlinewidth": 0,
              "ticks": ""
             }
            },
            "type": "scatter3d"
           }
          ],
          "scattercarpet": [
           {
            "marker": {
             "colorbar": {
              "outlinewidth": 0,
              "ticks": ""
             }
            },
            "type": "scattercarpet"
           }
          ],
          "scattergeo": [
           {
            "marker": {
             "colorbar": {
              "outlinewidth": 0,
              "ticks": ""
             }
            },
            "type": "scattergeo"
           }
          ],
          "scattergl": [
           {
            "marker": {
             "colorbar": {
              "outlinewidth": 0,
              "ticks": ""
             }
            },
            "type": "scattergl"
           }
          ],
          "scattermapbox": [
           {
            "marker": {
             "colorbar": {
              "outlinewidth": 0,
              "ticks": ""
             }
            },
            "type": "scattermapbox"
           }
          ],
          "scatterpolar": [
           {
            "marker": {
             "colorbar": {
              "outlinewidth": 0,
              "ticks": ""
             }
            },
            "type": "scatterpolar"
           }
          ],
          "scatterpolargl": [
           {
            "marker": {
             "colorbar": {
              "outlinewidth": 0,
              "ticks": ""
             }
            },
            "type": "scatterpolargl"
           }
          ],
          "scatterternary": [
           {
            "marker": {
             "colorbar": {
              "outlinewidth": 0,
              "ticks": ""
             }
            },
            "type": "scatterternary"
           }
          ],
          "surface": [
           {
            "colorbar": {
             "outlinewidth": 0,
             "ticks": ""
            },
            "colorscale": [
             [
              0,
              "#0d0887"
             ],
             [
              0.1111111111111111,
              "#46039f"
             ],
             [
              0.2222222222222222,
              "#7201a8"
             ],
             [
              0.3333333333333333,
              "#9c179e"
             ],
             [
              0.4444444444444444,
              "#bd3786"
             ],
             [
              0.5555555555555556,
              "#d8576b"
             ],
             [
              0.6666666666666666,
              "#ed7953"
             ],
             [
              0.7777777777777778,
              "#fb9f3a"
             ],
             [
              0.8888888888888888,
              "#fdca26"
             ],
             [
              1,
              "#f0f921"
             ]
            ],
            "type": "surface"
           }
          ],
          "table": [
           {
            "cells": {
             "fill": {
              "color": "#EBF0F8"
             },
             "line": {
              "color": "white"
             }
            },
            "header": {
             "fill": {
              "color": "#C8D4E3"
             },
             "line": {
              "color": "white"
             }
            },
            "type": "table"
           }
          ]
         },
         "layout": {
          "annotationdefaults": {
           "arrowcolor": "#2a3f5f",
           "arrowhead": 0,
           "arrowwidth": 1
          },
          "autotypenumbers": "strict",
          "coloraxis": {
           "colorbar": {
            "outlinewidth": 0,
            "ticks": ""
           }
          },
          "colorscale": {
           "diverging": [
            [
             0,
             "#8e0152"
            ],
            [
             0.1,
             "#c51b7d"
            ],
            [
             0.2,
             "#de77ae"
            ],
            [
             0.3,
             "#f1b6da"
            ],
            [
             0.4,
             "#fde0ef"
            ],
            [
             0.5,
             "#f7f7f7"
            ],
            [
             0.6,
             "#e6f5d0"
            ],
            [
             0.7,
             "#b8e186"
            ],
            [
             0.8,
             "#7fbc41"
            ],
            [
             0.9,
             "#4d9221"
            ],
            [
             1,
             "#276419"
            ]
           ],
           "sequential": [
            [
             0,
             "#0d0887"
            ],
            [
             0.1111111111111111,
             "#46039f"
            ],
            [
             0.2222222222222222,
             "#7201a8"
            ],
            [
             0.3333333333333333,
             "#9c179e"
            ],
            [
             0.4444444444444444,
             "#bd3786"
            ],
            [
             0.5555555555555556,
             "#d8576b"
            ],
            [
             0.6666666666666666,
             "#ed7953"
            ],
            [
             0.7777777777777778,
             "#fb9f3a"
            ],
            [
             0.8888888888888888,
             "#fdca26"
            ],
            [
             1,
             "#f0f921"
            ]
           ],
           "sequentialminus": [
            [
             0,
             "#0d0887"
            ],
            [
             0.1111111111111111,
             "#46039f"
            ],
            [
             0.2222222222222222,
             "#7201a8"
            ],
            [
             0.3333333333333333,
             "#9c179e"
            ],
            [
             0.4444444444444444,
             "#bd3786"
            ],
            [
             0.5555555555555556,
             "#d8576b"
            ],
            [
             0.6666666666666666,
             "#ed7953"
            ],
            [
             0.7777777777777778,
             "#fb9f3a"
            ],
            [
             0.8888888888888888,
             "#fdca26"
            ],
            [
             1,
             "#f0f921"
            ]
           ]
          },
          "colorway": [
           "#636efa",
           "#EF553B",
           "#00cc96",
           "#ab63fa",
           "#FFA15A",
           "#19d3f3",
           "#FF6692",
           "#B6E880",
           "#FF97FF",
           "#FECB52"
          ],
          "font": {
           "color": "#2a3f5f"
          },
          "geo": {
           "bgcolor": "white",
           "lakecolor": "white",
           "landcolor": "#E5ECF6",
           "showlakes": true,
           "showland": true,
           "subunitcolor": "white"
          },
          "hoverlabel": {
           "align": "left"
          },
          "hovermode": "closest",
          "mapbox": {
           "style": "light"
          },
          "paper_bgcolor": "white",
          "plot_bgcolor": "#E5ECF6",
          "polar": {
           "angularaxis": {
            "gridcolor": "white",
            "linecolor": "white",
            "ticks": ""
           },
           "bgcolor": "#E5ECF6",
           "radialaxis": {
            "gridcolor": "white",
            "linecolor": "white",
            "ticks": ""
           }
          },
          "scene": {
           "xaxis": {
            "backgroundcolor": "#E5ECF6",
            "gridcolor": "white",
            "gridwidth": 2,
            "linecolor": "white",
            "showbackground": true,
            "ticks": "",
            "zerolinecolor": "white"
           },
           "yaxis": {
            "backgroundcolor": "#E5ECF6",
            "gridcolor": "white",
            "gridwidth": 2,
            "linecolor": "white",
            "showbackground": true,
            "ticks": "",
            "zerolinecolor": "white"
           },
           "zaxis": {
            "backgroundcolor": "#E5ECF6",
            "gridcolor": "white",
            "gridwidth": 2,
            "linecolor": "white",
            "showbackground": true,
            "ticks": "",
            "zerolinecolor": "white"
           }
          },
          "shapedefaults": {
           "line": {
            "color": "#2a3f5f"
           }
          },
          "ternary": {
           "aaxis": {
            "gridcolor": "white",
            "linecolor": "white",
            "ticks": ""
           },
           "baxis": {
            "gridcolor": "white",
            "linecolor": "white",
            "ticks": ""
           },
           "bgcolor": "#E5ECF6",
           "caxis": {
            "gridcolor": "white",
            "linecolor": "white",
            "ticks": ""
           }
          },
          "title": {
           "x": 0.05
          },
          "xaxis": {
           "automargin": true,
           "gridcolor": "white",
           "linecolor": "white",
           "ticks": "",
           "title": {
            "standoff": 15
           },
           "zerolinecolor": "white",
           "zerolinewidth": 2
          },
          "yaxis": {
           "automargin": true,
           "gridcolor": "white",
           "linecolor": "white",
           "ticks": "",
           "title": {
            "standoff": 15
           },
           "zerolinecolor": "white",
           "zerolinewidth": 2
          }
         }
        },
        "title": {
         "text": "Liberal Democracy vs. Government Effectiveness (2021)"
        },
        "width": 1100,
        "xaxis": {
         "anchor": "y",
         "autorange": true,
         "domain": [
          0,
          1
         ],
         "range": [
          -2.474973361614946,
          2.5052920983460245
         ],
         "title": {
          "text": "Government Effectiveness"
         },
         "type": "linear"
        },
        "yaxis": {
         "anchor": "x",
         "autorange": true,
         "domain": [
          0,
          1
         ],
         "range": [
          -0.14640462951299593,
          0.9789648830692504
         ],
         "title": {
          "text": "Liberal Democracy Index"
         },
         "type": "linear"
        }
       }
      },
      "text/html": [
       "<div>                            <div id=\"76e6863f-ebb2-4a68-a77a-f5fb0ba094c0\" class=\"plotly-graph-div\" style=\"height:700px; width:1100px;\"></div>            <script type=\"text/javascript\">                require([\"plotly\"], function(Plotly) {                    window.PLOTLYENV=window.PLOTLYENV || {};                                    if (document.getElementById(\"76e6863f-ebb2-4a68-a77a-f5fb0ba094c0\")) {                    Plotly.newPlot(                        \"76e6863f-ebb2-4a68-a77a-f5fb0ba094c0\",                        [{\"hovertemplate\":\"\\u003cb\\u003e%{hovertext}\\u003c\\u002fb\\u003e\\u003cbr\\u003e\\u003cbr\\u003eContinent=Asia\\u003cbr\\u003eGovernment Effectiveness=%{x}\\u003cbr\\u003eLiberal Democracy Index=%{y}\\u003cbr\\u003eScaled Population=%{marker.size}\\u003cextra\\u003e\\u003c\\u002fextra\\u003e\",\"hovertext\":[\"Afghanistan\",\"Armenia\",\"Azerbaijan\",\"Bahrain\",\"Bangladesh\",\"Bhutan\",\"Cambodia\",\"China\",\"East Timor\",\"Georgia\",\"Hong Kong\",\"India\",\"Indonesia\",\"Iran\",\"Iraq\",\"Israel\",\"Japan\",\"Jordan\",\"Kazakhstan\",\"Kuwait\",\"Kyrgyzstan\",\"Laos\",\"Lebanon\",\"Malaysia\",\"Maldives\",\"Mongolia\",\"Myanmar\",\"Nepal\",\"North Korea\",\"Oman\",\"Pakistan\",\"Philippines\",\"Qatar\",\"Saudi Arabia\",\"Singapore\",\"South Korea\",\"Sri Lanka\",\"Syria\",\"Taiwan\",\"Tajikistan\",\"Thailand\",\"Turkey\",\"Turkmenistan\",\"United Arab Emirates\",\"Uzbekistan\",\"Vietnam\",\"Yemen\"],\"legendgroup\":\"Asia\",\"marker\":{\"color\":\"#EF553B\",\"size\":[33.831765,2.921179,9.752859,1.369656,159.38318,0.740624,15.623253,1396.134164,1.205134,3.791571,7.366411,1328.024492,261.799249,82.619365,37.560535,8.052915,127.275868,9.54473,18.084173,3.834464,6.001876,6.80165,6.47247,31.232796,0.428165,2.976528,51.08906,27.823631,25.575355,4.184897,217.290885,105.312986,2.427337,29.974944,5.525343,50.983908,21.729974,19.424615,23.529259,8.643839,70.54079,80.014221,6.215775,8.674629,30.749349,92.823254,31.159379],\"sizemode\":\"area\",\"sizeref\":0.202293373375,\"symbol\":\"circle\"},\"mode\":\"markers\",\"name\":\"Asia\",\"showlegend\":true,\"x\":[-1.352,-0.277,-0.219,0.557,-0.726,0.452,-0.702,0.438,-1.069,0.326,1.904,0.109,-0.296,-0.21,-1.174,1.384,1.78,0.146,-0.11,-0.035,-0.924,-0.504,-0.365,0.958,-0.349,-0.411,-1.257,-1.068,-1.631,0.08,-0.667,0.195,0.952,0.198,2.231,1.009,0.013,-1.589,1.392,-0.856,0.28,0.229,-0.549,1.505,-0.67,0.092,-1.669],\"xaxis\":\"x\",\"y\":[0.225,0.207,0.065,0.044,0.111,0.485,0.114,0.052,0.462,0.512,0.301,0.429,0.513,0.13,0.238,0.659,0.742,0.222,0.113,0.287,0.314,0.078,0.298,0.207,0.191,0.543,0.182,0.537,0.015,0.139,0.268,0.429,0.092,0.048,0.333,0.608,0.401,0.025,0.684,0.044,0.101,0.236,0.026,0.09,0.036,0.118,0.069],\"yaxis\":\"y\",\"type\":\"scattergl\"},{\"hovertemplate\":\"\\u003cb\\u003e%{hovertext}\\u003c\\u002fb\\u003e\\u003cbr\\u003e\\u003cbr\\u003eContinent=Europe\\u003cbr\\u003eGovernment Effectiveness=%{x}\\u003cbr\\u003eLiberal Democracy Index=%{y}\\u003cbr\\u003eScaled Population=%{marker.size}\\u003cextra\\u003e\\u003c\\u002fextra\\u003e\",\"hovertext\":[\"Albania\",\"Austria\",\"Belarus\",\"Belgium\",\"Bosnia and Herzegovina\",\"Bulgaria\",\"Croatia\",\"Cyprus\",\"Czechia\",\"Denmark\",\"Estonia\",\"Finland\",\"France\",\"Germany\",\"Greece\",\"Hungary\",\"Iceland\",\"Ireland\",\"Italy\",\"Kosovo\",\"Latvia\",\"Lithuania\",\"Luxembourg\",\"Malta\",\"Moldova\",\"Montenegro\",\"Netherlands\",\"North Macedonia\",\"Norway\",\"Poland\",\"Portugal\",\"Romania\",\"Russia\",\"Serbia\",\"Slovakia\",\"Slovenia\",\"Spain\",\"Sweden\",\"Switzerland\",\"Ukraine\",\"United Kingdom\"],\"legendgroup\":\"Europe\",\"marker\":{\"color\":\"#00cc96\",\"size\":[2.898634,8.644037,9.487288,11.275332,3.518541,7.177516,4.183732,1.219504,10.524419,5.683698,1.314581,5.479718,64.916336,82.077546,10.820901,9.83921,0.330962,4.702497,60.575314,1.77902,1.977874,2.905772,0.569541,0.444979,3.287169,0.628147,17.107427,1.980366,5.189776,38.266314,10.370266,19.871018,145.307611,7.177257,5.420279,2.059947,46.683683,9.799482,8.28394,45.784903,65.382107],\"sizemode\":\"area\",\"sizeref\":0.202293373375,\"symbol\":\"circle\"},\"mode\":\"markers\",\"name\":\"Europe\",\"showlegend\":true,\"x\":[0.059,1.478,-0.447,1.556,-0.59,0.016,0.486,1.045,1.057,1.821,1.065,1.87,1.444,1.683,0.176,0.547,1.488,1.548,0.52,null,1.086,1.181,1.719,0.847,-0.653,0.196,1.855,0.002,1.86,0.768,1.186,0.128,-0.295,0.023,0.766,0.969,1.185,1.711,1.993,-0.524,1.732],\"xaxis\":\"x\",\"y\":[0.442,0.805,0.102,0.841,0.368,0.571,0.702,0.742,0.776,0.895,0.846,0.824,0.822,0.852,0.787,0.485,0.785,0.83,0.783,0.447,0.764,0.782,0.795,0.59,0.472,0.372,0.835,0.268,0.864,0.778,0.832,0.599,0.11,0.344,0.735,0.804,0.766,0.884,0.861,0.226,0.789],\"yaxis\":\"y\",\"type\":\"scattergl\"},{\"hovertemplate\":\"\\u003cb\\u003e%{hovertext}\\u003c\\u002fb\\u003e\\u003cbr\\u003e\\u003cbr\\u003eContinent=Africa\\u003cbr\\u003eGovernment Effectiveness=%{x}\\u003cbr\\u003eLiberal Democracy Index=%{y}\\u003cbr\\u003eScaled Population=%{marker.size}\\u003cextra\\u003e\\u003c\\u002fextra\\u003e\",\"hovertext\":[\"Algeria\",\"Angola\",\"Benin\",\"Botswana\",\"Burkina Faso\",\"Burundi\",\"Cameroon\",\"Cape Verde\",\"Central African Republic\",\"Chad\",\"Comoros\",\"Congo\",\"Cote d'Ivoire\",\"Democratic Republic of Congo\",\"Djibouti\",\"Egypt\",\"Equatorial Guinea\",\"Eritrea\",\"Eswatini\",\"Ethiopia\",\"Gabon\",\"Gambia\",\"Ghana\",\"Guinea\",\"Guinea-Bissau\",\"Kenya\",\"Lesotho\",\"Liberia\",\"Libya\",\"Madagascar\",\"Malawi\",\"Mali\",\"Mauritania\",\"Mauritius\",\"Morocco\",\"Mozambique\",\"Namibia\",\"Niger\",\"Nigeria\",\"Rwanda\",\"Sao Tome and Principe\",\"Senegal\",\"Seychelles\",\"Sierra Leone\",\"Somalia\",\"South Africa\",\"South Sudan\",\"Sudan\",\"Tanzania\",\"Togo\",\"Tunisia\",\"Uganda\",\"Zambia\",\"Zimbabwe\"],\"legendgroup\":\"Africa\",\"marker\":{\"color\":\"#ab63fa\",\"size\":[40.019528,28.157801,11.360681,2.203276,18.777488,11.04758,22.763419,0.512405,4.629323,14.647625,0.726685,5.097583,25.246346,81.035535,1.020315,99.597333,1.453926,3.105554,1.142823,103.86714,2.04099,2.224532,28.696071,11.767077,1.786461,47.088527,2.104613,4.659438,6.531825,25.426704,17.085585,18.593022,3.965959,1.292282,34.60759,26.547575,2.374305,19.939497,190.671883,11.640027,0.200306,14.593336,0.107247,7.037659,13.806969,56.723537,11.107569,40.024436,52.020959,7.663199,11.40227,37.531444,16.39909,14.399009],\"sizemode\":\"area\",\"sizeref\":0.202293373375,\"symbol\":\"circle\"},\"mode\":\"markers\",\"name\":\"Africa\",\"showlegend\":true,\"x\":[-0.378,-0.893,-0.651,0.479,-0.648,-1.208,-0.8,0.195,-1.788,-1.452,-1.611,-1.051,-0.719,-1.602,-0.993,-0.659,-1.143,-1.638,-0.507,-0.66,-0.727,-0.955,-0.288,-1.156,-1.63,-0.357,-0.72,-1.342,-1.46,-1.304,-0.712,-0.929,-1.026,1.161,-0.112,-0.784,0.327,-0.691,-0.972,-0.108,-0.816,-0.449,0.586,-1.248,-2.186,0.116,-2.137,-1.483,-0.622,-1.205,-0.069,-0.548,-0.612,-1.202],\"xaxis\":\"x\",\"y\":[0.171,0.134,0.534,0.591,0.31,0.061,0.154,0.712,0.181,0.093,0.25,0.099,0.329,0.128,0.115,0.095,0.054,0.006,0.098,0.102,0.228,0.107,0.63,0.164,0.307,0.421,0.449,0.452,0.173,0.251,0.444,0.35,0.181,0.632,0.231,0.305,0.592,0.483,0.41,0.136,0.579,0.586,0.429,0.312,0.124,0.64,0.064,0.065,0.398,0.273,0.627,0.244,0.358,0.207],\"yaxis\":\"y\",\"type\":\"scattergl\"},{\"hovertemplate\":\"\\u003cb\\u003e%{hovertext}\\u003c\\u002fb\\u003e\\u003cbr\\u003e\\u003cbr\\u003eContinent=South America\\u003cbr\\u003eGovernment Effectiveness=%{x}\\u003cbr\\u003eLiberal Democracy Index=%{y}\\u003cbr\\u003eScaled Population=%{marker.size}\\u003cextra\\u003e\\u003c\\u002fextra\\u003e\",\"hovertext\":[\"Argentina\",\"Bolivia\",\"Brazil\",\"Chile\",\"Colombia\",\"Ecuador\",\"Guyana\",\"Paraguay\",\"Peru\",\"Suriname\",\"Uruguay\",\"Venezuela\"],\"legendgroup\":\"South America\",\"marker\":{\"color\":\"#FFA15A\",\"size\":[43.477009,11.014707,201.675534,18.047628,46.969937,16.266228,0.758785,6.159106,30.4576,0.581633,3.368022,30.57397],\"sizemode\":\"area\",\"sizeref\":0.202293373375,\"symbol\":\"circle\"},\"mode\":\"markers\",\"name\":\"South America\",\"showlegend\":true,\"x\":[-0.017,-0.651,-0.232,0.947,-0.065,-0.362,-0.323,-0.978,-0.337,-0.347,0.477,-1.159],\"xaxis\":\"x\",\"y\":[0.598,0.376,0.779,0.844,0.551,0.267,0.454,0.415,0.69,0.635,0.835,0.104],\"yaxis\":\"y\",\"type\":\"scattergl\"},{\"hovertemplate\":\"\\u003cb\\u003e%{hovertext}\\u003c\\u002fb\\u003e\\u003cbr\\u003e\\u003cbr\\u003eContinent=Oceania\\u003cbr\\u003eGovernment Effectiveness=%{x}\\u003cbr\\u003eLiberal Democracy Index=%{y}\\u003cbr\\u003eScaled Population=%{marker.size}\\u003cextra\\u003e\\u003c\\u002fextra\\u003e\",\"hovertext\":[\"Australia\",\"Fiji\",\"New Zealand\",\"Papua New Guinea\",\"Solomon Islands\",\"Vanuatu\"],\"legendgroup\":\"Oceania\",\"marker\":{\"color\":\"#19d3f3\",\"size\":[23.947998,0.918583,4.614037,8.743247,0.639423,0.266116],\"sizemode\":\"area\",\"sizeref\":0.202293373375,\"symbol\":\"circle\"},\"mode\":\"markers\",\"name\":\"Oceania\",\"showlegend\":true,\"x\":[1.56,-0.292,1.879,-0.604,-1.058,-0.792],\"xaxis\":\"x\",\"y\":[0.825,0.275,0.837,0.342,0.436,0.619],\"yaxis\":\"y\",\"type\":\"scattergl\"},{\"hovertemplate\":\"\\u003cb\\u003e%{hovertext}\\u003c\\u002fb\\u003e\\u003cbr\\u003e\\u003cbr\\u003eContinent=North America\\u003cbr\\u003eGovernment Effectiveness=%{x}\\u003cbr\\u003eLiberal Democracy Index=%{y}\\u003cbr\\u003eScaled Population=%{marker.size}\\u003cextra\\u003e\\u003c\\u002fextra\\u003e\",\"hovertext\":[\"Barbados\",\"Canada\",\"Costa Rica\",\"Cuba\",\"Dominican Republic\",\"El Salvador\",\"Guatemala\",\"Haiti\",\"Honduras\",\"Jamaica\",\"Mexico\",\"Nicaragua\",\"Panama\",\"Trinidad and Tobago\",\"United States\"],\"legendgroup\":\"North America\",\"marker\":{\"color\":\"#FF6692\",\"size\":[0.278997,35.962236,4.818044,11.275068,10.434826,6.183674,15.971745,10.523249,9.237305,2.802535,121.07231,6.149418,3.960036,1.429189,326.126498],\"sizemode\":\"area\",\"sizeref\":0.202293373375,\"symbol\":\"circle\"},\"mode\":\"markers\",\"name\":\"North America\",\"showlegend\":true,\"x\":[1.022,1.757,0.331,0.02,-0.368,-0.263,-0.74,-2.064,-0.826,0.328,0.152,-0.82,0.311,0.283,1.459],\"xaxis\":\"x\",\"y\":[0.664,0.745,0.856,0.058,0.314,0.468,0.439,0.231,0.247,0.681,0.43,0.126,0.559,0.652,0.854],\"yaxis\":\"y\",\"type\":\"scattergl\"}],                        {\"template\":{\"data\":{\"histogram2dcontour\":[{\"type\":\"histogram2dcontour\",\"colorbar\":{\"outlinewidth\":0,\"ticks\":\"\"},\"colorscale\":[[0.0,\"#0d0887\"],[0.1111111111111111,\"#46039f\"],[0.2222222222222222,\"#7201a8\"],[0.3333333333333333,\"#9c179e\"],[0.4444444444444444,\"#bd3786\"],[0.5555555555555556,\"#d8576b\"],[0.6666666666666666,\"#ed7953\"],[0.7777777777777778,\"#fb9f3a\"],[0.8888888888888888,\"#fdca26\"],[1.0,\"#f0f921\"]]}],\"choropleth\":[{\"type\":\"choropleth\",\"colorbar\":{\"outlinewidth\":0,\"ticks\":\"\"}}],\"histogram2d\":[{\"type\":\"histogram2d\",\"colorbar\":{\"outlinewidth\":0,\"ticks\":\"\"},\"colorscale\":[[0.0,\"#0d0887\"],[0.1111111111111111,\"#46039f\"],[0.2222222222222222,\"#7201a8\"],[0.3333333333333333,\"#9c179e\"],[0.4444444444444444,\"#bd3786\"],[0.5555555555555556,\"#d8576b\"],[0.6666666666666666,\"#ed7953\"],[0.7777777777777778,\"#fb9f3a\"],[0.8888888888888888,\"#fdca26\"],[1.0,\"#f0f921\"]]}],\"heatmap\":[{\"type\":\"heatmap\",\"colorbar\":{\"outlinewidth\":0,\"ticks\":\"\"},\"colorscale\":[[0.0,\"#0d0887\"],[0.1111111111111111,\"#46039f\"],[0.2222222222222222,\"#7201a8\"],[0.3333333333333333,\"#9c179e\"],[0.4444444444444444,\"#bd3786\"],[0.5555555555555556,\"#d8576b\"],[0.6666666666666666,\"#ed7953\"],[0.7777777777777778,\"#fb9f3a\"],[0.8888888888888888,\"#fdca26\"],[1.0,\"#f0f921\"]]}],\"heatmapgl\":[{\"type\":\"heatmapgl\",\"colorbar\":{\"outlinewidth\":0,\"ticks\":\"\"},\"colorscale\":[[0.0,\"#0d0887\"],[0.1111111111111111,\"#46039f\"],[0.2222222222222222,\"#7201a8\"],[0.3333333333333333,\"#9c179e\"],[0.4444444444444444,\"#bd3786\"],[0.5555555555555556,\"#d8576b\"],[0.6666666666666666,\"#ed7953\"],[0.7777777777777778,\"#fb9f3a\"],[0.8888888888888888,\"#fdca26\"],[1.0,\"#f0f921\"]]}],\"contourcarpet\":[{\"type\":\"contourcarpet\",\"colorbar\":{\"outlinewidth\":0,\"ticks\":\"\"}}],\"contour\":[{\"type\":\"contour\",\"colorbar\":{\"outlinewidth\":0,\"ticks\":\"\"},\"colorscale\":[[0.0,\"#0d0887\"],[0.1111111111111111,\"#46039f\"],[0.2222222222222222,\"#7201a8\"],[0.3333333333333333,\"#9c179e\"],[0.4444444444444444,\"#bd3786\"],[0.5555555555555556,\"#d8576b\"],[0.6666666666666666,\"#ed7953\"],[0.7777777777777778,\"#fb9f3a\"],[0.8888888888888888,\"#fdca26\"],[1.0,\"#f0f921\"]]}],\"surface\":[{\"type\":\"surface\",\"colorbar\":{\"outlinewidth\":0,\"ticks\":\"\"},\"colorscale\":[[0.0,\"#0d0887\"],[0.1111111111111111,\"#46039f\"],[0.2222222222222222,\"#7201a8\"],[0.3333333333333333,\"#9c179e\"],[0.4444444444444444,\"#bd3786\"],[0.5555555555555556,\"#d8576b\"],[0.6666666666666666,\"#ed7953\"],[0.7777777777777778,\"#fb9f3a\"],[0.8888888888888888,\"#fdca26\"],[1.0,\"#f0f921\"]]}],\"mesh3d\":[{\"type\":\"mesh3d\",\"colorbar\":{\"outlinewidth\":0,\"ticks\":\"\"}}],\"scatter\":[{\"fillpattern\":{\"fillmode\":\"overlay\",\"size\":10,\"solidity\":0.2},\"type\":\"scatter\"}],\"parcoords\":[{\"type\":\"parcoords\",\"line\":{\"colorbar\":{\"outlinewidth\":0,\"ticks\":\"\"}}}],\"scatterpolargl\":[{\"type\":\"scatterpolargl\",\"marker\":{\"colorbar\":{\"outlinewidth\":0,\"ticks\":\"\"}}}],\"bar\":[{\"error_x\":{\"color\":\"#2a3f5f\"},\"error_y\":{\"color\":\"#2a3f5f\"},\"marker\":{\"line\":{\"color\":\"#E5ECF6\",\"width\":0.5},\"pattern\":{\"fillmode\":\"overlay\",\"size\":10,\"solidity\":0.2}},\"type\":\"bar\"}],\"scattergeo\":[{\"type\":\"scattergeo\",\"marker\":{\"colorbar\":{\"outlinewidth\":0,\"ticks\":\"\"}}}],\"scatterpolar\":[{\"type\":\"scatterpolar\",\"marker\":{\"colorbar\":{\"outlinewidth\":0,\"ticks\":\"\"}}}],\"histogram\":[{\"marker\":{\"pattern\":{\"fillmode\":\"overlay\",\"size\":10,\"solidity\":0.2}},\"type\":\"histogram\"}],\"scattergl\":[{\"type\":\"scattergl\",\"marker\":{\"colorbar\":{\"outlinewidth\":0,\"ticks\":\"\"}}}],\"scatter3d\":[{\"type\":\"scatter3d\",\"line\":{\"colorbar\":{\"outlinewidth\":0,\"ticks\":\"\"}},\"marker\":{\"colorbar\":{\"outlinewidth\":0,\"ticks\":\"\"}}}],\"scattermapbox\":[{\"type\":\"scattermapbox\",\"marker\":{\"colorbar\":{\"outlinewidth\":0,\"ticks\":\"\"}}}],\"scatterternary\":[{\"type\":\"scatterternary\",\"marker\":{\"colorbar\":{\"outlinewidth\":0,\"ticks\":\"\"}}}],\"scattercarpet\":[{\"type\":\"scattercarpet\",\"marker\":{\"colorbar\":{\"outlinewidth\":0,\"ticks\":\"\"}}}],\"carpet\":[{\"aaxis\":{\"endlinecolor\":\"#2a3f5f\",\"gridcolor\":\"white\",\"linecolor\":\"white\",\"minorgridcolor\":\"white\",\"startlinecolor\":\"#2a3f5f\"},\"baxis\":{\"endlinecolor\":\"#2a3f5f\",\"gridcolor\":\"white\",\"linecolor\":\"white\",\"minorgridcolor\":\"white\",\"startlinecolor\":\"#2a3f5f\"},\"type\":\"carpet\"}],\"table\":[{\"cells\":{\"fill\":{\"color\":\"#EBF0F8\"},\"line\":{\"color\":\"white\"}},\"header\":{\"fill\":{\"color\":\"#C8D4E3\"},\"line\":{\"color\":\"white\"}},\"type\":\"table\"}],\"barpolar\":[{\"marker\":{\"line\":{\"color\":\"#E5ECF6\",\"width\":0.5},\"pattern\":{\"fillmode\":\"overlay\",\"size\":10,\"solidity\":0.2}},\"type\":\"barpolar\"}],\"pie\":[{\"automargin\":true,\"type\":\"pie\"}]},\"layout\":{\"autotypenumbers\":\"strict\",\"colorway\":[\"#636efa\",\"#EF553B\",\"#00cc96\",\"#ab63fa\",\"#FFA15A\",\"#19d3f3\",\"#FF6692\",\"#B6E880\",\"#FF97FF\",\"#FECB52\"],\"font\":{\"color\":\"#2a3f5f\"},\"hovermode\":\"closest\",\"hoverlabel\":{\"align\":\"left\"},\"paper_bgcolor\":\"white\",\"plot_bgcolor\":\"#E5ECF6\",\"polar\":{\"bgcolor\":\"#E5ECF6\",\"angularaxis\":{\"gridcolor\":\"white\",\"linecolor\":\"white\",\"ticks\":\"\"},\"radialaxis\":{\"gridcolor\":\"white\",\"linecolor\":\"white\",\"ticks\":\"\"}},\"ternary\":{\"bgcolor\":\"#E5ECF6\",\"aaxis\":{\"gridcolor\":\"white\",\"linecolor\":\"white\",\"ticks\":\"\"},\"baxis\":{\"gridcolor\":\"white\",\"linecolor\":\"white\",\"ticks\":\"\"},\"caxis\":{\"gridcolor\":\"white\",\"linecolor\":\"white\",\"ticks\":\"\"}},\"coloraxis\":{\"colorbar\":{\"outlinewidth\":0,\"ticks\":\"\"}},\"colorscale\":{\"sequential\":[[0.0,\"#0d0887\"],[0.1111111111111111,\"#46039f\"],[0.2222222222222222,\"#7201a8\"],[0.3333333333333333,\"#9c179e\"],[0.4444444444444444,\"#bd3786\"],[0.5555555555555556,\"#d8576b\"],[0.6666666666666666,\"#ed7953\"],[0.7777777777777778,\"#fb9f3a\"],[0.8888888888888888,\"#fdca26\"],[1.0,\"#f0f921\"]],\"sequentialminus\":[[0.0,\"#0d0887\"],[0.1111111111111111,\"#46039f\"],[0.2222222222222222,\"#7201a8\"],[0.3333333333333333,\"#9c179e\"],[0.4444444444444444,\"#bd3786\"],[0.5555555555555556,\"#d8576b\"],[0.6666666666666666,\"#ed7953\"],[0.7777777777777778,\"#fb9f3a\"],[0.8888888888888888,\"#fdca26\"],[1.0,\"#f0f921\"]],\"diverging\":[[0,\"#8e0152\"],[0.1,\"#c51b7d\"],[0.2,\"#de77ae\"],[0.3,\"#f1b6da\"],[0.4,\"#fde0ef\"],[0.5,\"#f7f7f7\"],[0.6,\"#e6f5d0\"],[0.7,\"#b8e186\"],[0.8,\"#7fbc41\"],[0.9,\"#4d9221\"],[1,\"#276419\"]]},\"xaxis\":{\"gridcolor\":\"white\",\"linecolor\":\"white\",\"ticks\":\"\",\"title\":{\"standoff\":15},\"zerolinecolor\":\"white\",\"automargin\":true,\"zerolinewidth\":2},\"yaxis\":{\"gridcolor\":\"white\",\"linecolor\":\"white\",\"ticks\":\"\",\"title\":{\"standoff\":15},\"zerolinecolor\":\"white\",\"automargin\":true,\"zerolinewidth\":2},\"scene\":{\"xaxis\":{\"backgroundcolor\":\"#E5ECF6\",\"gridcolor\":\"white\",\"linecolor\":\"white\",\"showbackground\":true,\"ticks\":\"\",\"zerolinecolor\":\"white\",\"gridwidth\":2},\"yaxis\":{\"backgroundcolor\":\"#E5ECF6\",\"gridcolor\":\"white\",\"linecolor\":\"white\",\"showbackground\":true,\"ticks\":\"\",\"zerolinecolor\":\"white\",\"gridwidth\":2},\"zaxis\":{\"backgroundcolor\":\"#E5ECF6\",\"gridcolor\":\"white\",\"linecolor\":\"white\",\"showbackground\":true,\"ticks\":\"\",\"zerolinecolor\":\"white\",\"gridwidth\":2}},\"shapedefaults\":{\"line\":{\"color\":\"#2a3f5f\"}},\"annotationdefaults\":{\"arrowcolor\":\"#2a3f5f\",\"arrowhead\":0,\"arrowwidth\":1},\"geo\":{\"bgcolor\":\"white\",\"landcolor\":\"#E5ECF6\",\"subunitcolor\":\"white\",\"showland\":true,\"showlakes\":true,\"lakecolor\":\"white\"},\"title\":{\"x\":0.05},\"mapbox\":{\"style\":\"light\"}}},\"xaxis\":{\"anchor\":\"y\",\"domain\":[0.0,1.0],\"title\":{\"text\":\"Government Effectiveness\"}},\"yaxis\":{\"anchor\":\"x\",\"domain\":[0.0,1.0],\"title\":{\"text\":\"Liberal Democracy Index\"}},\"legend\":{\"title\":{\"text\":\"Continent\"},\"tracegroupgap\":0,\"itemsizing\":\"constant\"},\"title\":{\"text\":\"Liberal Democracy vs. Government Effectiveness (2021)\"},\"font\":{\"size\":18},\"height\":700,\"width\":1100,\"shapes\":[{\"line\":{\"color\":\"green\",\"dash\":\"dash\"},\"type\":\"line\",\"x0\":0,\"x1\":0,\"y0\":0.005,\"y1\":0.897}]},                        {\"responsive\": true}                    ).then(function(){\n",
       "                            \n",
       "var gd = document.getElementById('76e6863f-ebb2-4a68-a77a-f5fb0ba094c0');\n",
       "var x = new MutationObserver(function (mutations, observer) {{\n",
       "        var display = window.getComputedStyle(gd).display;\n",
       "        if (!display || display === 'none') {{\n",
       "            console.log([gd, 'removed!']);\n",
       "            Plotly.purge(gd);\n",
       "            observer.disconnect();\n",
       "        }}\n",
       "}});\n",
       "\n",
       "// Listen for the removal of the full notebook cells\n",
       "var notebookContainer = gd.closest('#notebook-container');\n",
       "if (notebookContainer) {{\n",
       "    x.observe(notebookContainer, {childList: true});\n",
       "}}\n",
       "\n",
       "// Listen for the clearing of the current output cell\n",
       "var outputEl = gd.closest('.output');\n",
       "if (outputEl) {{\n",
       "    x.observe(outputEl, {childList: true});\n",
       "}}\n",
       "\n",
       "                        })                };                });            </script>        </div>"
      ]
     },
     "metadata": {},
     "output_type": "display_data"
    }
   ],
   "source": [
    "# loading the dataset\n",
    "gov_efec_lib_dem = pd.read_csv(\"data/govt-effectiveness-vs-liberal-democracy.csv\")\n",
    "\n",
    "# Clean the data by removing rows with NaN values in critical columns\n",
    "df_cleaned_gov = gov_efec_lib_dem.dropna(subset=['Liberal democracy index (best estimate, aggregate: average)'\n",
    "                               ])\n",
    "\n",
    "# You can try different scaling factors to get the desired effect\n",
    "df_cleaned_gov['Scaled Population'] = df_cleaned_gov['Population (historical)'] / 1e6\n",
    "\n",
    "# Drop rows where Scaled Population is NaN\n",
    "df_cleaned_gov.dropna(subset=['Scaled Population'], inplace=True)\n",
    "\n",
    "\n",
    "\n",
    "# Create the scatter plot\n",
    "fig = px.scatter(\n",
    "    df_cleaned_gov,\n",
    "    x='Government effectiveness',\n",
    "    y='Liberal democracy index (best estimate, aggregate: average)',\n",
    "    size='Scaled Population',  # Use the scaled population\n",
    "    color='Continent',\n",
    "    hover_name='Entity',\n",
    "    size_max=200,  # Increase size_max to make points larger -- 200 worked best\n",
    "    title='Liberal Democracy vs. Government Effectiveness (2021)',\n",
    "    labels={\n",
    "        'Government effectiveness': 'Government Effectiveness',\n",
    "        'Liberal democracy index (best estimate, aggregate: average)': 'Liberal Democracy Index'\n",
    "    }\n",
    ")\n",
    "\n",
    "# Update the layout to add a vertical line at Government effectiveness of 0\n",
    "fig.update_layout(\n",
    "    xaxis_title='Government Effectiveness',\n",
    "    yaxis_title='Liberal Democracy Index',\n",
    "    legend_title='Continent',\n",
    "    template='plotly',\n",
    "    height=700,\n",
    "    width=1100,\n",
    "    shapes=[\n",
    "        dict(\n",
    "            type='line',\n",
    "            x0=0,\n",
    "            x1=0,\n",
    "            y0=df_cleaned_gov['Liberal democracy index (best estimate, aggregate: average)'].min(),\n",
    "            y1=df_cleaned_gov['Liberal democracy index (best estimate, aggregate: average)'].max(),\n",
    "            line=dict(color='green', dash='dash')\n",
    "        )\n",
    "    ],\n",
    "    font=dict(size=18)  # Increase the overall font size\n",
    ")\n",
    "\n",
    "# Show the plot\n",
    "fig.show()"
   ]
  },
  {
   "cell_type": "code",
   "execution_count": 19,
   "id": "c847a2ad",
   "metadata": {
    "scrolled": true
   },
   "outputs": [
    {
     "name": "stdout",
     "output_type": "stream",
     "text": [
      "<class 'pandas.core.frame.DataFrame'>\n",
      "RangeIndex: 62586 entries, 0 to 62585\n",
      "Data columns (total 7 columns):\n",
      " #   Column                                                       Non-Null Count  Dtype  \n",
      "---  ------                                                       --------------  -----  \n",
      " 0   Entity                                                       62586 non-null  object \n",
      " 1   Code                                                         57190 non-null  object \n",
      " 2   Year                                                         62586 non-null  int64  \n",
      " 3   Period life expectancy at birth - Sex: all - Age: 0          20755 non-null  float64\n",
      " 4   Liberal democracy index (best estimate, aggregate: average)  31459 non-null  float64\n",
      " 5   Population (historical)                                      59177 non-null  float64\n",
      " 6   Continent                                                    285 non-null    object \n",
      "dtypes: float64(3), int64(1), object(3)\n",
      "memory usage: 3.3+ MB\n",
      "None\n",
      "        Entity      Code  Year  \\\n",
      "0     Abkhazia  OWID_ABK  2015   \n",
      "1  Afghanistan       AFG  1950   \n",
      "2  Afghanistan       AFG  1951   \n",
      "3  Afghanistan       AFG  1952   \n",
      "4  Afghanistan       AFG  1953   \n",
      "\n",
      "   Period life expectancy at birth - Sex: all - Age: 0  \\\n",
      "0                                                NaN     \n",
      "1                                            27.7275     \n",
      "2                                            27.9634     \n",
      "3                                            28.4456     \n",
      "4                                            28.9304     \n",
      "\n",
      "   Liberal democracy index (best estimate, aggregate: average)  \\\n",
      "0                                                NaN             \n",
      "1                                              0.061             \n",
      "2                                              0.061             \n",
      "3                                              0.059             \n",
      "4                                              0.060             \n",
      "\n",
      "   Population (historical) Continent  \n",
      "0                      NaN      Asia  \n",
      "1                7776182.0       NaN  \n",
      "2                7879343.0       NaN  \n",
      "3                7987783.0       NaN  \n",
      "4                8096703.0       NaN  \n"
     ]
    },
    {
     "name": "stderr",
     "output_type": "stream",
     "text": [
      "/var/folders/3q/vbln2bmj5z3b21k7dy3d_zr40000gn/T/ipykernel_21178/4041426886.py:14: SettingWithCopyWarning:\n",
      "\n",
      "\n",
      "A value is trying to be set on a copy of a slice from a DataFrame.\n",
      "Try using .loc[row_indexer,col_indexer] = value instead\n",
      "\n",
      "See the caveats in the documentation: https://pandas.pydata.org/pandas-docs/stable/user_guide/indexing.html#returning-a-view-versus-a-copy\n",
      "\n"
     ]
    },
    {
     "data": {
      "application/vnd.plotly.v1+json": {
       "config": {
        "plotlyServerURL": "https://plot.ly"
       },
       "data": [
        {
         "hovertemplate": "<b>%{hovertext}</b><br><br>Continent=Asia<br>Liberal Democracy Index=%{x}<br>Life Expectancy=%{y}<br>Scaled Population=%{marker.size}<extra></extra>",
         "hovertext": [
          "Afghanistan",
          "Armenia",
          "Azerbaijan",
          "Bahrain",
          "Bangladesh",
          "Bhutan",
          "Cambodia",
          "China",
          "East Timor",
          "Georgia",
          "Hong Kong",
          "India",
          "Indonesia",
          "Iran",
          "Iraq",
          "Israel",
          "Japan",
          "Jordan",
          "Kazakhstan",
          "Kuwait",
          "Kyrgyzstan",
          "Laos",
          "Lebanon",
          "Malaysia",
          "Maldives",
          "Mongolia",
          "Myanmar",
          "Nepal",
          "North Korea",
          "Oman",
          "Pakistan",
          "Philippines",
          "Qatar",
          "Saudi Arabia",
          "Singapore",
          "South Korea",
          "Sri Lanka",
          "Syria",
          "Taiwan",
          "Tajikistan",
          "Thailand",
          "Turkey",
          "Turkmenistan",
          "United Arab Emirates",
          "Uzbekistan",
          "Vietnam",
          "Yemen"
         ],
         "legendgroup": "Asia",
         "marker": {
          "color": "#EF553B",
          "size": [
           33.831765,
           2.921179,
           9.752859,
           1.369656,
           159.38318,
           0.740624,
           15.623253,
           1396.134164,
           1.205134,
           3.791571,
           7.366411,
           1328.024492,
           261.799249,
           82.619365,
           37.560535,
           8.052915,
           127.275868,
           9.54473,
           18.084173,
           3.834464,
           6.001876,
           6.80165,
           6.47247,
           31.232796,
           0.428165,
           2.976528,
           51.08906,
           27.823631,
           25.575355,
           4.184897,
           217.290885,
           105.312986,
           2.427337,
           29.974944,
           5.525343,
           50.983908,
           21.729974,
           19.424615,
           23.529259,
           8.643839,
           70.54079,
           80.014221,
           6.215775,
           8.674629,
           30.749349,
           92.823254,
           31.159379
          ],
          "sizemode": "area",
          "sizeref": 0.3535310402222222,
          "symbol": "circle"
         },
         "mode": "markers",
         "name": "Asia",
         "showlegend": true,
         "textposition": "bottom center",
         "type": "scattergl",
         "x": [
          0.225,
          0.207,
          0.065,
          0.044,
          0.111,
          0.485,
          0.114,
          0.052,
          0.462,
          0.512,
          0.301,
          0.429,
          0.513,
          0.13,
          0.238,
          0.659,
          0.742,
          0.222,
          0.113,
          0.287,
          0.314,
          0.078,
          0.298,
          0.207,
          0.191,
          0.543,
          0.182,
          0.537,
          0.015,
          0.139,
          0.268,
          0.429,
          0.092,
          0.048,
          0.333,
          0.608,
          0.401,
          0.025,
          0.684,
          0.044,
          0.101,
          0.236,
          0.026,
          0.09,
          0.036,
          0.118,
          0.069
         ],
         "xaxis": "x",
         "y": [
          62.6587,
          74.4361,
          71.4512,
          79.4046,
          70.4913,
          70.3433,
          69.8725,
          76.9771,
          67.1373,
          73.2972,
          84.2888,
          69.6363,
          69.6989,
          75.1239,
          69.4403,
          82.0999,
          83.8928,
          75.0112,
          70.7265,
          79.5624,
          69.9963,
          66.67,
          79.2294,
          75.0942,
          79.6953,
          69.4977,
          65.5613,
          67.4562,
          72.7844,
          77.6869,
          65.6971,
          71.2684,
          80.0639,
          76.9185,
          82.8265,
          82.5605,
          74.9275,
          65.1239,
          79.9471,
          69.3059,
          77.7166,
          76.646,
          68.7816,
          79.2232,
          70.4753,
          73.8763,
          65.8734
         ],
         "yaxis": "y"
        },
        {
         "hovertemplate": "<b>%{hovertext}</b><br><br>Continent=Europe<br>Liberal Democracy Index=%{x}<br>Life Expectancy=%{y}<br>Scaled Population=%{marker.size}<extra></extra>",
         "hovertext": [
          "Albania",
          "Austria",
          "Belarus",
          "Belgium",
          "Bosnia and Herzegovina",
          "Bulgaria",
          "Croatia",
          "Cyprus",
          "Czechia",
          "Denmark",
          "Estonia",
          "Finland",
          "France",
          "Germany",
          "Greece",
          "Hungary",
          "Iceland",
          "Ireland",
          "Italy",
          "Kosovo",
          "Latvia",
          "Lithuania",
          "Luxembourg",
          "Malta",
          "Moldova",
          "Montenegro",
          "Netherlands",
          "North Macedonia",
          "Norway",
          "Poland",
          "Portugal",
          "Romania",
          "Russia",
          "Serbia",
          "Slovakia",
          "Slovenia",
          "Spain",
          "Sweden",
          "Switzerland",
          "Ukraine",
          "United Kingdom"
         ],
         "legendgroup": "Europe",
         "marker": {
          "color": "#00cc96",
          "size": [
           2.898634,
           8.644037,
           9.487288,
           11.275332,
           3.518541,
           7.177516,
           4.183732,
           1.219504,
           10.524419,
           5.683698,
           1.314581,
           5.479718,
           64.916336,
           82.077546,
           10.820901,
           9.83921,
           0.330962,
           4.702497,
           60.575314,
           1.77902,
           1.977874,
           2.905772,
           0.569541,
           0.444979,
           3.287169,
           0.628147,
           17.107427,
           1.980366,
           5.189776,
           38.266314,
           10.370266,
           19.871018,
           145.307611,
           7.177257,
           5.420279,
           2.059947,
           46.683683,
           9.799482,
           8.28394,
           45.784903,
           65.382107
          ],
          "sizemode": "area",
          "sizeref": 0.3535310402222222,
          "symbol": "circle"
         },
         "mode": "markers",
         "name": "Europe",
         "showlegend": true,
         "textposition": "bottom center",
         "type": "scattergl",
         "x": [
          0.442,
          0.805,
          0.102,
          0.841,
          0.368,
          0.571,
          0.702,
          0.742,
          0.776,
          0.895,
          0.846,
          0.824,
          0.822,
          0.852,
          0.787,
          0.485,
          0.785,
          0.83,
          0.783,
          0.447,
          0.764,
          0.782,
          0.795,
          0.59,
          0.472,
          0.372,
          0.835,
          0.268,
          0.864,
          0.778,
          0.832,
          0.599,
          0.11,
          0.344,
          0.735,
          0.804,
          0.766,
          0.884,
          0.861,
          0.226,
          0.789
         ],
         "xaxis": "x",
         "y": [
          78.6441,
          81.1594,
          73.9874,
          80.8898,
          76.1819,
          74.6325,
          77.5599,
          80.9665,
          78.58,
          80.738,
          77.6563,
          81.4178,
          82.1857,
          80.5742,
          80.6676,
          75.6517,
          82.3508,
          81.4163,
          82.5255,
          78.9219,
          74.6854,
          74.6103,
          81.8384,
          82.9621,
          69.2396,
          76.7561,
          81.4821,
          75.9814,
          82.2718,
          77.4151,
          81.2093,
          74.7901,
          72.1006,
          75.8172,
          76.6493,
          80.8218,
          82.6464,
          82.1834,
          82.8468,
          73.4581,
          80.9238
         ],
         "yaxis": "y"
        },
        {
         "hovertemplate": "<b>%{hovertext}</b><br><br>Continent=Africa<br>Liberal Democracy Index=%{x}<br>Life Expectancy=%{y}<br>Scaled Population=%{marker.size}<extra></extra>",
         "hovertext": [
          "Algeria",
          "Angola",
          "Benin",
          "Botswana",
          "Burkina Faso",
          "Burundi",
          "Cameroon",
          "Cape Verde",
          "Central African Republic",
          "Chad",
          "Comoros",
          "Congo",
          "Cote d'Ivoire",
          "Democratic Republic of Congo",
          "Djibouti",
          "Egypt",
          "Equatorial Guinea",
          "Eritrea",
          "Eswatini",
          "Ethiopia",
          "Gabon",
          "Gambia",
          "Ghana",
          "Guinea",
          "Guinea-Bissau",
          "Kenya",
          "Lesotho",
          "Liberia",
          "Libya",
          "Madagascar",
          "Malawi",
          "Mali",
          "Mauritania",
          "Mauritius",
          "Morocco",
          "Mozambique",
          "Namibia",
          "Niger",
          "Nigeria",
          "Rwanda",
          "Sao Tome and Principe",
          "Senegal",
          "Seychelles",
          "Sierra Leone",
          "Somalia",
          "South Africa",
          "South Sudan",
          "Sudan",
          "Tanzania",
          "Togo",
          "Tunisia",
          "Uganda",
          "Zambia",
          "Zimbabwe"
         ],
         "legendgroup": "Africa",
         "marker": {
          "color": "#ab63fa",
          "size": [
           40.019528,
           28.157801,
           11.360681,
           2.203276,
           18.777488,
           11.04758,
           22.763419,
           0.512405,
           4.629323,
           14.647625,
           0.726685,
           5.097583,
           25.246346,
           81.035535,
           1.020315,
           99.597333,
           1.453926,
           3.105554,
           1.142823,
           103.86714,
           2.04099,
           2.224532,
           28.696071,
           11.767077,
           1.786461,
           47.088527,
           2.104613,
           4.659438,
           6.531825,
           25.426704,
           17.085585,
           18.593022,
           3.965959,
           1.292282,
           34.60759,
           26.547575,
           2.374305,
           19.939497,
           190.671883,
           11.640027,
           0.200306,
           14.593336,
           0.107247,
           7.037659,
           13.806969,
           56.723537,
           11.107569,
           40.024436,
           52.020959,
           7.663199,
           11.40227,
           37.531444,
           16.39909,
           14.399009
          ],
          "sizemode": "area",
          "sizeref": 0.3535310402222222,
          "symbol": "circle"
         },
         "mode": "markers",
         "name": "Africa",
         "showlegend": true,
         "textposition": "bottom center",
         "type": "scattergl",
         "x": [
          0.171,
          0.134,
          0.534,
          0.591,
          0.31,
          0.061,
          0.154,
          0.712,
          0.181,
          0.093,
          0.25,
          0.099,
          0.329,
          0.128,
          0.115,
          0.095,
          0.054,
          0.006,
          0.098,
          0.102,
          0.228,
          0.107,
          0.63,
          0.164,
          0.307,
          0.421,
          0.449,
          0.452,
          0.173,
          0.251,
          0.444,
          0.35,
          0.181,
          0.632,
          0.231,
          0.305,
          0.592,
          0.483,
          0.41,
          0.136,
          0.579,
          0.586,
          0.429,
          0.312,
          0.124,
          0.64,
          0.064,
          0.065,
          0.398,
          0.273,
          0.627,
          0.244,
          0.358,
          0.207
         ],
         "xaxis": "x",
         "y": [
          75.622,
          60.6546,
          59.3771,
          63.8183,
          58.8454,
          60.2172,
          59.658,
          74.6195,
          52.793,
          51.5888,
          62.8956,
          63.2329,
          57.7624,
          58.49,
          61.957,
          70.4831,
          60.1032,
          66.0333,
          55.0192,
          63.6492,
          65.4599,
          62.494,
          63.1752,
          58.1336,
          59.1282,
          61.8922,
          51.1014,
          59.1485,
          71.6982,
          64.339,
          61.3781,
          58.3632,
          64.4847,
          74.9754,
          72.9197,
          58.1509,
          60.7002,
          61.0827,
          51.8413,
          65.2977,
          67.2491,
          66.8794,
          73.6979,
          57.189,
          54.857,
          63.9499,
          55.5665,
          64.6587,
          64.6507,
          59.3958,
          75.6919,
          61.0856,
          61.2078,
          59.5911
         ],
         "yaxis": "y"
        },
        {
         "hovertemplate": "<b>%{hovertext}</b><br><br>Continent=South America<br>Liberal Democracy Index=%{x}<br>Life Expectancy=%{y}<br>Scaled Population=%{marker.size}<extra></extra>",
         "hovertext": [
          "Argentina",
          "Bolivia",
          "Brazil",
          "Chile",
          "Colombia",
          "Ecuador",
          "Guyana",
          "Paraguay",
          "Peru",
          "Suriname",
          "Uruguay",
          "Venezuela"
         ],
         "legendgroup": "South America",
         "marker": {
          "color": "#FFA15A",
          "size": [
           43.477009,
           11.014707,
           201.675534,
           18.047628,
           46.969937,
           16.266228,
           0.758785,
           6.159106,
           30.4576,
           0.581633,
           3.368022,
           30.57397
          ],
          "sizemode": "area",
          "sizeref": 0.3535310402222222,
          "symbol": "circle"
         },
         "mode": "markers",
         "name": "South America",
         "showlegend": true,
         "textposition": "bottom center",
         "type": "scattergl",
         "x": [
          0.598,
          0.376,
          0.779,
          0.844,
          0.551,
          0.267,
          0.454,
          0.415,
          0.69,
          0.635,
          0.835,
          0.104
         ],
         "xaxis": "x",
         "y": [
          76.7602,
          67.3182,
          74.3325,
          79.746,
          76.2573,
          76.7893,
          68.2015,
          73.1905,
          75.6206,
          70.8003,
          77.4827,
          73.0064
         ],
         "yaxis": "y"
        },
        {
         "hovertemplate": "<b>%{hovertext}</b><br><br>Continent=Oceania<br>Liberal Democracy Index=%{x}<br>Life Expectancy=%{y}<br>Scaled Population=%{marker.size}<extra></extra>",
         "hovertext": [
          "Australia",
          "Fiji",
          "New Zealand",
          "Papua New Guinea",
          "Solomon Islands",
          "Vanuatu"
         ],
         "legendgroup": "Oceania",
         "marker": {
          "color": "#19d3f3",
          "size": [
           23.947998,
           0.918583,
           4.614037,
           8.743247,
           0.639423,
           0.266116
          ],
          "sizemode": "area",
          "sizeref": 0.3535310402222222,
          "symbol": "circle"
         },
         "mode": "markers",
         "name": "Oceania",
         "showlegend": true,
         "textposition": "bottom center",
         "type": "scattergl",
         "x": [
          0.825,
          0.275,
          0.837,
          0.342,
          0.436,
          0.619
         ],
         "xaxis": "x",
         "y": [
          82.6552,
          66.8436,
          81.9765,
          64.7006,
          69.5834,
          69.5129
         ],
         "yaxis": "y"
        },
        {
         "hovertemplate": "<b>%{hovertext}</b><br><br>Continent=North America<br>Liberal Democracy Index=%{x}<br>Life Expectancy=%{y}<br>Scaled Population=%{marker.size}<extra></extra>",
         "hovertext": [
          "Barbados",
          "Canada",
          "Costa Rica",
          "Cuba",
          "Dominican Republic",
          "El Salvador",
          "Guatemala",
          "Haiti",
          "Honduras",
          "Jamaica",
          "Mexico",
          "Nicaragua",
          "Panama",
          "Trinidad and Tobago",
          "United States"
         ],
         "legendgroup": "North America",
         "marker": {
          "color": "#FF6692",
          "size": [
           0.278997,
           35.962236,
           4.818044,
           11.275068,
           10.434826,
           6.183674,
           15.971745,
           10.523249,
           9.237305,
           2.802535,
           121.07231,
           6.149418,
           3.960036,
           1.429189,
           326.126498
          ],
          "sizemode": "area",
          "sizeref": 0.3535310402222222,
          "symbol": "circle"
         },
         "mode": "markers",
         "name": "North America",
         "showlegend": true,
         "textposition": "bottom center",
         "type": "scattergl",
         "x": [
          0.664,
          0.745,
          0.856,
          0.058,
          0.314,
          0.468,
          0.439,
          0.231,
          0.247,
          0.681,
          0.43,
          0.126,
          0.559,
          0.652,
          0.854
         ],
         "xaxis": "x",
         "y": [
          76.6502,
          81.9246,
          79.0857,
          77.772,
          72.9531,
          71.8143,
          72.103,
          63.2372,
          72.4871,
          72.394,
          74.6822,
          72.983,
          77.4684,
          74.5032,
          78.8694
         ],
         "yaxis": "y"
        }
       ],
       "layout": {
        "height": 700,
        "legend": {
         "itemsizing": "constant",
         "title": {
          "text": "Continent"
         },
         "tracegroupgap": 0
        },
        "template": {
         "data": {
          "bar": [
           {
            "error_x": {
             "color": "#f2f5fa"
            },
            "error_y": {
             "color": "#f2f5fa"
            },
            "marker": {
             "line": {
              "color": "rgb(17,17,17)",
              "width": 0.5
             },
             "pattern": {
              "fillmode": "overlay",
              "size": 10,
              "solidity": 0.2
             }
            },
            "type": "bar"
           }
          ],
          "barpolar": [
           {
            "marker": {
             "line": {
              "color": "rgb(17,17,17)",
              "width": 0.5
             },
             "pattern": {
              "fillmode": "overlay",
              "size": 10,
              "solidity": 0.2
             }
            },
            "type": "barpolar"
           }
          ],
          "carpet": [
           {
            "aaxis": {
             "endlinecolor": "#A2B1C6",
             "gridcolor": "#506784",
             "linecolor": "#506784",
             "minorgridcolor": "#506784",
             "startlinecolor": "#A2B1C6"
            },
            "baxis": {
             "endlinecolor": "#A2B1C6",
             "gridcolor": "#506784",
             "linecolor": "#506784",
             "minorgridcolor": "#506784",
             "startlinecolor": "#A2B1C6"
            },
            "type": "carpet"
           }
          ],
          "choropleth": [
           {
            "colorbar": {
             "outlinewidth": 0,
             "ticks": ""
            },
            "type": "choropleth"
           }
          ],
          "contour": [
           {
            "colorbar": {
             "outlinewidth": 0,
             "ticks": ""
            },
            "colorscale": [
             [
              0,
              "#0d0887"
             ],
             [
              0.1111111111111111,
              "#46039f"
             ],
             [
              0.2222222222222222,
              "#7201a8"
             ],
             [
              0.3333333333333333,
              "#9c179e"
             ],
             [
              0.4444444444444444,
              "#bd3786"
             ],
             [
              0.5555555555555556,
              "#d8576b"
             ],
             [
              0.6666666666666666,
              "#ed7953"
             ],
             [
              0.7777777777777778,
              "#fb9f3a"
             ],
             [
              0.8888888888888888,
              "#fdca26"
             ],
             [
              1,
              "#f0f921"
             ]
            ],
            "type": "contour"
           }
          ],
          "contourcarpet": [
           {
            "colorbar": {
             "outlinewidth": 0,
             "ticks": ""
            },
            "type": "contourcarpet"
           }
          ],
          "heatmap": [
           {
            "colorbar": {
             "outlinewidth": 0,
             "ticks": ""
            },
            "colorscale": [
             [
              0,
              "#0d0887"
             ],
             [
              0.1111111111111111,
              "#46039f"
             ],
             [
              0.2222222222222222,
              "#7201a8"
             ],
             [
              0.3333333333333333,
              "#9c179e"
             ],
             [
              0.4444444444444444,
              "#bd3786"
             ],
             [
              0.5555555555555556,
              "#d8576b"
             ],
             [
              0.6666666666666666,
              "#ed7953"
             ],
             [
              0.7777777777777778,
              "#fb9f3a"
             ],
             [
              0.8888888888888888,
              "#fdca26"
             ],
             [
              1,
              "#f0f921"
             ]
            ],
            "type": "heatmap"
           }
          ],
          "heatmapgl": [
           {
            "colorbar": {
             "outlinewidth": 0,
             "ticks": ""
            },
            "colorscale": [
             [
              0,
              "#0d0887"
             ],
             [
              0.1111111111111111,
              "#46039f"
             ],
             [
              0.2222222222222222,
              "#7201a8"
             ],
             [
              0.3333333333333333,
              "#9c179e"
             ],
             [
              0.4444444444444444,
              "#bd3786"
             ],
             [
              0.5555555555555556,
              "#d8576b"
             ],
             [
              0.6666666666666666,
              "#ed7953"
             ],
             [
              0.7777777777777778,
              "#fb9f3a"
             ],
             [
              0.8888888888888888,
              "#fdca26"
             ],
             [
              1,
              "#f0f921"
             ]
            ],
            "type": "heatmapgl"
           }
          ],
          "histogram": [
           {
            "marker": {
             "pattern": {
              "fillmode": "overlay",
              "size": 10,
              "solidity": 0.2
             }
            },
            "type": "histogram"
           }
          ],
          "histogram2d": [
           {
            "colorbar": {
             "outlinewidth": 0,
             "ticks": ""
            },
            "colorscale": [
             [
              0,
              "#0d0887"
             ],
             [
              0.1111111111111111,
              "#46039f"
             ],
             [
              0.2222222222222222,
              "#7201a8"
             ],
             [
              0.3333333333333333,
              "#9c179e"
             ],
             [
              0.4444444444444444,
              "#bd3786"
             ],
             [
              0.5555555555555556,
              "#d8576b"
             ],
             [
              0.6666666666666666,
              "#ed7953"
             ],
             [
              0.7777777777777778,
              "#fb9f3a"
             ],
             [
              0.8888888888888888,
              "#fdca26"
             ],
             [
              1,
              "#f0f921"
             ]
            ],
            "type": "histogram2d"
           }
          ],
          "histogram2dcontour": [
           {
            "colorbar": {
             "outlinewidth": 0,
             "ticks": ""
            },
            "colorscale": [
             [
              0,
              "#0d0887"
             ],
             [
              0.1111111111111111,
              "#46039f"
             ],
             [
              0.2222222222222222,
              "#7201a8"
             ],
             [
              0.3333333333333333,
              "#9c179e"
             ],
             [
              0.4444444444444444,
              "#bd3786"
             ],
             [
              0.5555555555555556,
              "#d8576b"
             ],
             [
              0.6666666666666666,
              "#ed7953"
             ],
             [
              0.7777777777777778,
              "#fb9f3a"
             ],
             [
              0.8888888888888888,
              "#fdca26"
             ],
             [
              1,
              "#f0f921"
             ]
            ],
            "type": "histogram2dcontour"
           }
          ],
          "mesh3d": [
           {
            "colorbar": {
             "outlinewidth": 0,
             "ticks": ""
            },
            "type": "mesh3d"
           }
          ],
          "parcoords": [
           {
            "line": {
             "colorbar": {
              "outlinewidth": 0,
              "ticks": ""
             }
            },
            "type": "parcoords"
           }
          ],
          "pie": [
           {
            "automargin": true,
            "type": "pie"
           }
          ],
          "scatter": [
           {
            "marker": {
             "line": {
              "color": "#283442"
             }
            },
            "type": "scatter"
           }
          ],
          "scatter3d": [
           {
            "line": {
             "colorbar": {
              "outlinewidth": 0,
              "ticks": ""
             }
            },
            "marker": {
             "colorbar": {
              "outlinewidth": 0,
              "ticks": ""
             }
            },
            "type": "scatter3d"
           }
          ],
          "scattercarpet": [
           {
            "marker": {
             "colorbar": {
              "outlinewidth": 0,
              "ticks": ""
             }
            },
            "type": "scattercarpet"
           }
          ],
          "scattergeo": [
           {
            "marker": {
             "colorbar": {
              "outlinewidth": 0,
              "ticks": ""
             }
            },
            "type": "scattergeo"
           }
          ],
          "scattergl": [
           {
            "marker": {
             "line": {
              "color": "#283442"
             }
            },
            "type": "scattergl"
           }
          ],
          "scattermapbox": [
           {
            "marker": {
             "colorbar": {
              "outlinewidth": 0,
              "ticks": ""
             }
            },
            "type": "scattermapbox"
           }
          ],
          "scatterpolar": [
           {
            "marker": {
             "colorbar": {
              "outlinewidth": 0,
              "ticks": ""
             }
            },
            "type": "scatterpolar"
           }
          ],
          "scatterpolargl": [
           {
            "marker": {
             "colorbar": {
              "outlinewidth": 0,
              "ticks": ""
             }
            },
            "type": "scatterpolargl"
           }
          ],
          "scatterternary": [
           {
            "marker": {
             "colorbar": {
              "outlinewidth": 0,
              "ticks": ""
             }
            },
            "type": "scatterternary"
           }
          ],
          "surface": [
           {
            "colorbar": {
             "outlinewidth": 0,
             "ticks": ""
            },
            "colorscale": [
             [
              0,
              "#0d0887"
             ],
             [
              0.1111111111111111,
              "#46039f"
             ],
             [
              0.2222222222222222,
              "#7201a8"
             ],
             [
              0.3333333333333333,
              "#9c179e"
             ],
             [
              0.4444444444444444,
              "#bd3786"
             ],
             [
              0.5555555555555556,
              "#d8576b"
             ],
             [
              0.6666666666666666,
              "#ed7953"
             ],
             [
              0.7777777777777778,
              "#fb9f3a"
             ],
             [
              0.8888888888888888,
              "#fdca26"
             ],
             [
              1,
              "#f0f921"
             ]
            ],
            "type": "surface"
           }
          ],
          "table": [
           {
            "cells": {
             "fill": {
              "color": "#506784"
             },
             "line": {
              "color": "rgb(17,17,17)"
             }
            },
            "header": {
             "fill": {
              "color": "#2a3f5f"
             },
             "line": {
              "color": "rgb(17,17,17)"
             }
            },
            "type": "table"
           }
          ]
         },
         "layout": {
          "annotationdefaults": {
           "arrowcolor": "#f2f5fa",
           "arrowhead": 0,
           "arrowwidth": 1
          },
          "autotypenumbers": "strict",
          "coloraxis": {
           "colorbar": {
            "outlinewidth": 0,
            "ticks": ""
           }
          },
          "colorscale": {
           "diverging": [
            [
             0,
             "#8e0152"
            ],
            [
             0.1,
             "#c51b7d"
            ],
            [
             0.2,
             "#de77ae"
            ],
            [
             0.3,
             "#f1b6da"
            ],
            [
             0.4,
             "#fde0ef"
            ],
            [
             0.5,
             "#f7f7f7"
            ],
            [
             0.6,
             "#e6f5d0"
            ],
            [
             0.7,
             "#b8e186"
            ],
            [
             0.8,
             "#7fbc41"
            ],
            [
             0.9,
             "#4d9221"
            ],
            [
             1,
             "#276419"
            ]
           ],
           "sequential": [
            [
             0,
             "#0d0887"
            ],
            [
             0.1111111111111111,
             "#46039f"
            ],
            [
             0.2222222222222222,
             "#7201a8"
            ],
            [
             0.3333333333333333,
             "#9c179e"
            ],
            [
             0.4444444444444444,
             "#bd3786"
            ],
            [
             0.5555555555555556,
             "#d8576b"
            ],
            [
             0.6666666666666666,
             "#ed7953"
            ],
            [
             0.7777777777777778,
             "#fb9f3a"
            ],
            [
             0.8888888888888888,
             "#fdca26"
            ],
            [
             1,
             "#f0f921"
            ]
           ],
           "sequentialminus": [
            [
             0,
             "#0d0887"
            ],
            [
             0.1111111111111111,
             "#46039f"
            ],
            [
             0.2222222222222222,
             "#7201a8"
            ],
            [
             0.3333333333333333,
             "#9c179e"
            ],
            [
             0.4444444444444444,
             "#bd3786"
            ],
            [
             0.5555555555555556,
             "#d8576b"
            ],
            [
             0.6666666666666666,
             "#ed7953"
            ],
            [
             0.7777777777777778,
             "#fb9f3a"
            ],
            [
             0.8888888888888888,
             "#fdca26"
            ],
            [
             1,
             "#f0f921"
            ]
           ]
          },
          "colorway": [
           "#636efa",
           "#EF553B",
           "#00cc96",
           "#ab63fa",
           "#FFA15A",
           "#19d3f3",
           "#FF6692",
           "#B6E880",
           "#FF97FF",
           "#FECB52"
          ],
          "font": {
           "color": "#f2f5fa"
          },
          "geo": {
           "bgcolor": "rgb(17,17,17)",
           "lakecolor": "rgb(17,17,17)",
           "landcolor": "rgb(17,17,17)",
           "showlakes": true,
           "showland": true,
           "subunitcolor": "#506784"
          },
          "hoverlabel": {
           "align": "left"
          },
          "hovermode": "closest",
          "mapbox": {
           "style": "dark"
          },
          "paper_bgcolor": "rgb(17,17,17)",
          "plot_bgcolor": "rgb(17,17,17)",
          "polar": {
           "angularaxis": {
            "gridcolor": "#506784",
            "linecolor": "#506784",
            "ticks": ""
           },
           "bgcolor": "rgb(17,17,17)",
           "radialaxis": {
            "gridcolor": "#506784",
            "linecolor": "#506784",
            "ticks": ""
           }
          },
          "scene": {
           "xaxis": {
            "backgroundcolor": "rgb(17,17,17)",
            "gridcolor": "#506784",
            "gridwidth": 2,
            "linecolor": "#506784",
            "showbackground": true,
            "ticks": "",
            "zerolinecolor": "#C8D4E3"
           },
           "yaxis": {
            "backgroundcolor": "rgb(17,17,17)",
            "gridcolor": "#506784",
            "gridwidth": 2,
            "linecolor": "#506784",
            "showbackground": true,
            "ticks": "",
            "zerolinecolor": "#C8D4E3"
           },
           "zaxis": {
            "backgroundcolor": "rgb(17,17,17)",
            "gridcolor": "#506784",
            "gridwidth": 2,
            "linecolor": "#506784",
            "showbackground": true,
            "ticks": "",
            "zerolinecolor": "#C8D4E3"
           }
          },
          "shapedefaults": {
           "line": {
            "color": "#f2f5fa"
           }
          },
          "sliderdefaults": {
           "bgcolor": "#C8D4E3",
           "bordercolor": "rgb(17,17,17)",
           "borderwidth": 1,
           "tickwidth": 0
          },
          "ternary": {
           "aaxis": {
            "gridcolor": "#506784",
            "linecolor": "#506784",
            "ticks": ""
           },
           "baxis": {
            "gridcolor": "#506784",
            "linecolor": "#506784",
            "ticks": ""
           },
           "bgcolor": "rgb(17,17,17)",
           "caxis": {
            "gridcolor": "#506784",
            "linecolor": "#506784",
            "ticks": ""
           }
          },
          "title": {
           "x": 0.05
          },
          "updatemenudefaults": {
           "bgcolor": "#506784",
           "borderwidth": 0
          },
          "xaxis": {
           "automargin": true,
           "gridcolor": "#283442",
           "linecolor": "#506784",
           "ticks": "",
           "title": {
            "standoff": 15
           },
           "zerolinecolor": "#283442",
           "zerolinewidth": 2
          },
          "yaxis": {
           "automargin": true,
           "gridcolor": "#283442",
           "linecolor": "#506784",
           "ticks": "",
           "title": {
            "standoff": 15
           },
           "zerolinecolor": "#283442",
           "zerolinewidth": 2
          }
         }
        },
        "title": {
         "text": "Life Expectancy vs. Liberal Democracy Index (2021)"
        },
        "width": 1000,
        "xaxis": {
         "anchor": "y",
         "autorange": true,
         "domain": [
          0,
          1
         ],
         "range": [
          -0.06521218287823646,
          0.9500005502941549
         ],
         "title": {
          "text": "Liberal Democracy Index"
         },
         "type": "linear"
        },
        "yaxis": {
         "anchor": "x",
         "autorange": true,
         "domain": [
          0,
          1
         ],
         "range": [
          48.57008522059507,
          86.9162695446096
         ],
         "title": {
          "text": "Life Expectancy"
         },
         "type": "linear"
        }
       }
      },
      "image/png": "[encoded data removed]",
      "text/html": [
       "<div>                            <div id=\"221a0bac-704a-4db8-a6ae-acc498b78eff\" class=\"plotly-graph-div\" style=\"height:700px; width:1000px;\"></div>            <script type=\"text/javascript\">                require([\"plotly\"], function(Plotly) {                    window.PLOTLYENV=window.PLOTLYENV || {};                                    if (document.getElementById(\"221a0bac-704a-4db8-a6ae-acc498b78eff\")) {                    Plotly.newPlot(                        \"221a0bac-704a-4db8-a6ae-acc498b78eff\",                        [{\"hovertemplate\":\"\\u003cb\\u003e%{hovertext}\\u003c\\u002fb\\u003e\\u003cbr\\u003e\\u003cbr\\u003eContinent=Asia\\u003cbr\\u003eLiberal Democracy Index=%{x}\\u003cbr\\u003eLife Expectancy=%{y}\\u003cbr\\u003eScaled Population=%{marker.size}\\u003cextra\\u003e\\u003c\\u002fextra\\u003e\",\"hovertext\":[\"Afghanistan\",\"Armenia\",\"Azerbaijan\",\"Bahrain\",\"Bangladesh\",\"Bhutan\",\"Cambodia\",\"China\",\"East Timor\",\"Georgia\",\"Hong Kong\",\"India\",\"Indonesia\",\"Iran\",\"Iraq\",\"Israel\",\"Japan\",\"Jordan\",\"Kazakhstan\",\"Kuwait\",\"Kyrgyzstan\",\"Laos\",\"Lebanon\",\"Malaysia\",\"Maldives\",\"Mongolia\",\"Myanmar\",\"Nepal\",\"North Korea\",\"Oman\",\"Pakistan\",\"Philippines\",\"Qatar\",\"Saudi Arabia\",\"Singapore\",\"South Korea\",\"Sri Lanka\",\"Syria\",\"Taiwan\",\"Tajikistan\",\"Thailand\",\"Turkey\",\"Turkmenistan\",\"United Arab Emirates\",\"Uzbekistan\",\"Vietnam\",\"Yemen\"],\"legendgroup\":\"Asia\",\"marker\":{\"color\":\"#EF553B\",\"size\":[33.831765,2.921179,9.752859,1.369656,159.38318,0.740624,15.623253,1396.134164,1.205134,3.791571,7.366411,1328.024492,261.799249,82.619365,37.560535,8.052915,127.275868,9.54473,18.084173,3.834464,6.001876,6.80165,6.47247,31.232796,0.428165,2.976528,51.08906,27.823631,25.575355,4.184897,217.290885,105.312986,2.427337,29.974944,5.525343,50.983908,21.729974,19.424615,23.529259,8.643839,70.54079,80.014221,6.215775,8.674629,30.749349,92.823254,31.159379],\"sizemode\":\"area\",\"sizeref\":0.3535310402222222,\"symbol\":\"circle\"},\"mode\":\"markers\",\"name\":\"Asia\",\"showlegend\":true,\"x\":[0.225,0.207,0.065,0.044,0.111,0.485,0.114,0.052,0.462,0.512,0.301,0.429,0.513,0.13,0.238,0.659,0.742,0.222,0.113,0.287,0.314,0.078,0.298,0.207,0.191,0.543,0.182,0.537,0.015,0.139,0.268,0.429,0.092,0.048,0.333,0.608,0.401,0.025,0.684,0.044,0.101,0.236,0.026,0.09,0.036,0.118,0.069],\"xaxis\":\"x\",\"y\":[62.6587,74.4361,71.4512,79.4046,70.4913,70.3433,69.8725,76.9771,67.1373,73.2972,84.2888,69.6363,69.6989,75.1239,69.4403,82.0999,83.8928,75.0112,70.7265,79.5624,69.9963,66.67,79.2294,75.0942,79.6953,69.4977,65.5613,67.4562,72.7844,77.6869,65.6971,71.2684,80.0639,76.9185,82.8265,82.5605,74.9275,65.1239,79.9471,69.3059,77.7166,76.646,68.7816,79.2232,70.4753,73.8763,65.8734],\"yaxis\":\"y\",\"type\":\"scattergl\",\"textposition\":\"bottom center\"},{\"hovertemplate\":\"\\u003cb\\u003e%{hovertext}\\u003c\\u002fb\\u003e\\u003cbr\\u003e\\u003cbr\\u003eContinent=Europe\\u003cbr\\u003eLiberal Democracy Index=%{x}\\u003cbr\\u003eLife Expectancy=%{y}\\u003cbr\\u003eScaled Population=%{marker.size}\\u003cextra\\u003e\\u003c\\u002fextra\\u003e\",\"hovertext\":[\"Albania\",\"Austria\",\"Belarus\",\"Belgium\",\"Bosnia and Herzegovina\",\"Bulgaria\",\"Croatia\",\"Cyprus\",\"Czechia\",\"Denmark\",\"Estonia\",\"Finland\",\"France\",\"Germany\",\"Greece\",\"Hungary\",\"Iceland\",\"Ireland\",\"Italy\",\"Kosovo\",\"Latvia\",\"Lithuania\",\"Luxembourg\",\"Malta\",\"Moldova\",\"Montenegro\",\"Netherlands\",\"North Macedonia\",\"Norway\",\"Poland\",\"Portugal\",\"Romania\",\"Russia\",\"Serbia\",\"Slovakia\",\"Slovenia\",\"Spain\",\"Sweden\",\"Switzerland\",\"Ukraine\",\"United Kingdom\"],\"legendgroup\":\"Europe\",\"marker\":{\"color\":\"#00cc96\",\"size\":[2.898634,8.644037,9.487288,11.275332,3.518541,7.177516,4.183732,1.219504,10.524419,5.683698,1.314581,5.479718,64.916336,82.077546,10.820901,9.83921,0.330962,4.702497,60.575314,1.77902,1.977874,2.905772,0.569541,0.444979,3.287169,0.628147,17.107427,1.980366,5.189776,38.266314,10.370266,19.871018,145.307611,7.177257,5.420279,2.059947,46.683683,9.799482,8.28394,45.784903,65.382107],\"sizemode\":\"area\",\"sizeref\":0.3535310402222222,\"symbol\":\"circle\"},\"mode\":\"markers\",\"name\":\"Europe\",\"showlegend\":true,\"x\":[0.442,0.805,0.102,0.841,0.368,0.571,0.702,0.742,0.776,0.895,0.846,0.824,0.822,0.852,0.787,0.485,0.785,0.83,0.783,0.447,0.764,0.782,0.795,0.59,0.472,0.372,0.835,0.268,0.864,0.778,0.832,0.599,0.11,0.344,0.735,0.804,0.766,0.884,0.861,0.226,0.789],\"xaxis\":\"x\",\"y\":[78.6441,81.1594,73.9874,80.8898,76.1819,74.6325,77.5599,80.9665,78.58,80.738,77.6563,81.4178,82.1857,80.5742,80.6676,75.6517,82.3508,81.4163,82.5255,78.9219,74.6854,74.6103,81.8384,82.9621,69.2396,76.7561,81.4821,75.9814,82.2718,77.4151,81.2093,74.7901,72.1006,75.8172,76.6493,80.8218,82.6464,82.1834,82.8468,73.4581,80.9238],\"yaxis\":\"y\",\"type\":\"scattergl\",\"textposition\":\"bottom center\"},{\"hovertemplate\":\"\\u003cb\\u003e%{hovertext}\\u003c\\u002fb\\u003e\\u003cbr\\u003e\\u003cbr\\u003eContinent=Africa\\u003cbr\\u003eLiberal Democracy Index=%{x}\\u003cbr\\u003eLife Expectancy=%{y}\\u003cbr\\u003eScaled Population=%{marker.size}\\u003cextra\\u003e\\u003c\\u002fextra\\u003e\",\"hovertext\":[\"Algeria\",\"Angola\",\"Benin\",\"Botswana\",\"Burkina Faso\",\"Burundi\",\"Cameroon\",\"Cape Verde\",\"Central African Republic\",\"Chad\",\"Comoros\",\"Congo\",\"Cote d'Ivoire\",\"Democratic Republic of Congo\",\"Djibouti\",\"Egypt\",\"Equatorial Guinea\",\"Eritrea\",\"Eswatini\",\"Ethiopia\",\"Gabon\",\"Gambia\",\"Ghana\",\"Guinea\",\"Guinea-Bissau\",\"Kenya\",\"Lesotho\",\"Liberia\",\"Libya\",\"Madagascar\",\"Malawi\",\"Mali\",\"Mauritania\",\"Mauritius\",\"Morocco\",\"Mozambique\",\"Namibia\",\"Niger\",\"Nigeria\",\"Rwanda\",\"Sao Tome and Principe\",\"Senegal\",\"Seychelles\",\"Sierra Leone\",\"Somalia\",\"South Africa\",\"South Sudan\",\"Sudan\",\"Tanzania\",\"Togo\",\"Tunisia\",\"Uganda\",\"Zambia\",\"Zimbabwe\"],\"legendgroup\":\"Africa\",\"marker\":{\"color\":\"#ab63fa\",\"size\":[40.019528,28.157801,11.360681,2.203276,18.777488,11.04758,22.763419,0.512405,4.629323,14.647625,0.726685,5.097583,25.246346,81.035535,1.020315,99.597333,1.453926,3.105554,1.142823,103.86714,2.04099,2.224532,28.696071,11.767077,1.786461,47.088527,2.104613,4.659438,6.531825,25.426704,17.085585,18.593022,3.965959,1.292282,34.60759,26.547575,2.374305,19.939497,190.671883,11.640027,0.200306,14.593336,0.107247,7.037659,13.806969,56.723537,11.107569,40.024436,52.020959,7.663199,11.40227,37.531444,16.39909,14.399009],\"sizemode\":\"area\",\"sizeref\":0.3535310402222222,\"symbol\":\"circle\"},\"mode\":\"markers\",\"name\":\"Africa\",\"showlegend\":true,\"x\":[0.171,0.134,0.534,0.591,0.31,0.061,0.154,0.712,0.181,0.093,0.25,0.099,0.329,0.128,0.115,0.095,0.054,0.006,0.098,0.102,0.228,0.107,0.63,0.164,0.307,0.421,0.449,0.452,0.173,0.251,0.444,0.35,0.181,0.632,0.231,0.305,0.592,0.483,0.41,0.136,0.579,0.586,0.429,0.312,0.124,0.64,0.064,0.065,0.398,0.273,0.627,0.244,0.358,0.207],\"xaxis\":\"x\",\"y\":[75.622,60.6546,59.3771,63.8183,58.8454,60.2172,59.658,74.6195,52.793,51.5888,62.8956,63.2329,57.7624,58.49,61.957,70.4831,60.1032,66.0333,55.0192,63.6492,65.4599,62.494,63.1752,58.1336,59.1282,61.8922,51.1014,59.1485,71.6982,64.339,61.3781,58.3632,64.4847,74.9754,72.9197,58.1509,60.7002,61.0827,51.8413,65.2977,67.2491,66.8794,73.6979,57.189,54.857,63.9499,55.5665,64.6587,64.6507,59.3958,75.6919,61.0856,61.2078,59.5911],\"yaxis\":\"y\",\"type\":\"scattergl\",\"textposition\":\"bottom center\"},{\"hovertemplate\":\"\\u003cb\\u003e%{hovertext}\\u003c\\u002fb\\u003e\\u003cbr\\u003e\\u003cbr\\u003eContinent=South America\\u003cbr\\u003eLiberal Democracy Index=%{x}\\u003cbr\\u003eLife Expectancy=%{y}\\u003cbr\\u003eScaled Population=%{marker.size}\\u003cextra\\u003e\\u003c\\u002fextra\\u003e\",\"hovertext\":[\"Argentina\",\"Bolivia\",\"Brazil\",\"Chile\",\"Colombia\",\"Ecuador\",\"Guyana\",\"Paraguay\",\"Peru\",\"Suriname\",\"Uruguay\",\"Venezuela\"],\"legendgroup\":\"South America\",\"marker\":{\"color\":\"#FFA15A\",\"size\":[43.477009,11.014707,201.675534,18.047628,46.969937,16.266228,0.758785,6.159106,30.4576,0.581633,3.368022,30.57397],\"sizemode\":\"area\",\"sizeref\":0.3535310402222222,\"symbol\":\"circle\"},\"mode\":\"markers\",\"name\":\"South America\",\"showlegend\":true,\"x\":[0.598,0.376,0.779,0.844,0.551,0.267,0.454,0.415,0.69,0.635,0.835,0.104],\"xaxis\":\"x\",\"y\":[76.7602,67.3182,74.3325,79.746,76.2573,76.7893,68.2015,73.1905,75.6206,70.8003,77.4827,73.0064],\"yaxis\":\"y\",\"type\":\"scattergl\",\"textposition\":\"bottom center\"},{\"hovertemplate\":\"\\u003cb\\u003e%{hovertext}\\u003c\\u002fb\\u003e\\u003cbr\\u003e\\u003cbr\\u003eContinent=Oceania\\u003cbr\\u003eLiberal Democracy Index=%{x}\\u003cbr\\u003eLife Expectancy=%{y}\\u003cbr\\u003eScaled Population=%{marker.size}\\u003cextra\\u003e\\u003c\\u002fextra\\u003e\",\"hovertext\":[\"Australia\",\"Fiji\",\"New Zealand\",\"Papua New Guinea\",\"Solomon Islands\",\"Vanuatu\"],\"legendgroup\":\"Oceania\",\"marker\":{\"color\":\"#19d3f3\",\"size\":[23.947998,0.918583,4.614037,8.743247,0.639423,0.266116],\"sizemode\":\"area\",\"sizeref\":0.3535310402222222,\"symbol\":\"circle\"},\"mode\":\"markers\",\"name\":\"Oceania\",\"showlegend\":true,\"x\":[0.825,0.275,0.837,0.342,0.436,0.619],\"xaxis\":\"x\",\"y\":[82.6552,66.8436,81.9765,64.7006,69.5834,69.5129],\"yaxis\":\"y\",\"type\":\"scattergl\",\"textposition\":\"bottom center\"},{\"hovertemplate\":\"\\u003cb\\u003e%{hovertext}\\u003c\\u002fb\\u003e\\u003cbr\\u003e\\u003cbr\\u003eContinent=North America\\u003cbr\\u003eLiberal Democracy Index=%{x}\\u003cbr\\u003eLife Expectancy=%{y}\\u003cbr\\u003eScaled Population=%{marker.size}\\u003cextra\\u003e\\u003c\\u002fextra\\u003e\",\"hovertext\":[\"Barbados\",\"Canada\",\"Costa Rica\",\"Cuba\",\"Dominican Republic\",\"El Salvador\",\"Guatemala\",\"Haiti\",\"Honduras\",\"Jamaica\",\"Mexico\",\"Nicaragua\",\"Panama\",\"Trinidad and Tobago\",\"United States\"],\"legendgroup\":\"North America\",\"marker\":{\"color\":\"#FF6692\",\"size\":[0.278997,35.962236,4.818044,11.275068,10.434826,6.183674,15.971745,10.523249,9.237305,2.802535,121.07231,6.149418,3.960036,1.429189,326.126498],\"sizemode\":\"area\",\"sizeref\":0.3535310402222222,\"symbol\":\"circle\"},\"mode\":\"markers\",\"name\":\"North America\",\"showlegend\":true,\"x\":[0.664,0.745,0.856,0.058,0.314,0.468,0.439,0.231,0.247,0.681,0.43,0.126,0.559,0.652,0.854],\"xaxis\":\"x\",\"y\":[76.6502,81.9246,79.0857,77.772,72.9531,71.8143,72.103,63.2372,72.4871,72.394,74.6822,72.983,77.4684,74.5032,78.8694],\"yaxis\":\"y\",\"type\":\"scattergl\",\"textposition\":\"bottom center\"}],                        {\"template\":{\"data\":{\"barpolar\":[{\"marker\":{\"line\":{\"color\":\"rgb(17,17,17)\",\"width\":0.5},\"pattern\":{\"fillmode\":\"overlay\",\"size\":10,\"solidity\":0.2}},\"type\":\"barpolar\"}],\"bar\":[{\"error_x\":{\"color\":\"#f2f5fa\"},\"error_y\":{\"color\":\"#f2f5fa\"},\"marker\":{\"line\":{\"color\":\"rgb(17,17,17)\",\"width\":0.5},\"pattern\":{\"fillmode\":\"overlay\",\"size\":10,\"solidity\":0.2}},\"type\":\"bar\"}],\"carpet\":[{\"aaxis\":{\"endlinecolor\":\"#A2B1C6\",\"gridcolor\":\"#506784\",\"linecolor\":\"#506784\",\"minorgridcolor\":\"#506784\",\"startlinecolor\":\"#A2B1C6\"},\"baxis\":{\"endlinecolor\":\"#A2B1C6\",\"gridcolor\":\"#506784\",\"linecolor\":\"#506784\",\"minorgridcolor\":\"#506784\",\"startlinecolor\":\"#A2B1C6\"},\"type\":\"carpet\"}],\"choropleth\":[{\"colorbar\":{\"outlinewidth\":0,\"ticks\":\"\"},\"type\":\"choropleth\"}],\"contourcarpet\":[{\"colorbar\":{\"outlinewidth\":0,\"ticks\":\"\"},\"type\":\"contourcarpet\"}],\"contour\":[{\"colorbar\":{\"outlinewidth\":0,\"ticks\":\"\"},\"colorscale\":[[0.0,\"#0d0887\"],[0.1111111111111111,\"#46039f\"],[0.2222222222222222,\"#7201a8\"],[0.3333333333333333,\"#9c179e\"],[0.4444444444444444,\"#bd3786\"],[0.5555555555555556,\"#d8576b\"],[0.6666666666666666,\"#ed7953\"],[0.7777777777777778,\"#fb9f3a\"],[0.8888888888888888,\"#fdca26\"],[1.0,\"#f0f921\"]],\"type\":\"contour\"}],\"heatmapgl\":[{\"colorbar\":{\"outlinewidth\":0,\"ticks\":\"\"},\"colorscale\":[[0.0,\"#0d0887\"],[0.1111111111111111,\"#46039f\"],[0.2222222222222222,\"#7201a8\"],[0.3333333333333333,\"#9c179e\"],[0.4444444444444444,\"#bd3786\"],[0.5555555555555556,\"#d8576b\"],[0.6666666666666666,\"#ed7953\"],[0.7777777777777778,\"#fb9f3a\"],[0.8888888888888888,\"#fdca26\"],[1.0,\"#f0f921\"]],\"type\":\"heatmapgl\"}],\"heatmap\":[{\"colorbar\":{\"outlinewidth\":0,\"ticks\":\"\"},\"colorscale\":[[0.0,\"#0d0887\"],[0.1111111111111111,\"#46039f\"],[0.2222222222222222,\"#7201a8\"],[0.3333333333333333,\"#9c179e\"],[0.4444444444444444,\"#bd3786\"],[0.5555555555555556,\"#d8576b\"],[0.6666666666666666,\"#ed7953\"],[0.7777777777777778,\"#fb9f3a\"],[0.8888888888888888,\"#fdca26\"],[1.0,\"#f0f921\"]],\"type\":\"heatmap\"}],\"histogram2dcontour\":[{\"colorbar\":{\"outlinewidth\":0,\"ticks\":\"\"},\"colorscale\":[[0.0,\"#0d0887\"],[0.1111111111111111,\"#46039f\"],[0.2222222222222222,\"#7201a8\"],[0.3333333333333333,\"#9c179e\"],[0.4444444444444444,\"#bd3786\"],[0.5555555555555556,\"#d8576b\"],[0.6666666666666666,\"#ed7953\"],[0.7777777777777778,\"#fb9f3a\"],[0.8888888888888888,\"#fdca26\"],[1.0,\"#f0f921\"]],\"type\":\"histogram2dcontour\"}],\"histogram2d\":[{\"colorbar\":{\"outlinewidth\":0,\"ticks\":\"\"},\"colorscale\":[[0.0,\"#0d0887\"],[0.1111111111111111,\"#46039f\"],[0.2222222222222222,\"#7201a8\"],[0.3333333333333333,\"#9c179e\"],[0.4444444444444444,\"#bd3786\"],[0.5555555555555556,\"#d8576b\"],[0.6666666666666666,\"#ed7953\"],[0.7777777777777778,\"#fb9f3a\"],[0.8888888888888888,\"#fdca26\"],[1.0,\"#f0f921\"]],\"type\":\"histogram2d\"}],\"histogram\":[{\"marker\":{\"pattern\":{\"fillmode\":\"overlay\",\"size\":10,\"solidity\":0.2}},\"type\":\"histogram\"}],\"mesh3d\":[{\"colorbar\":{\"outlinewidth\":0,\"ticks\":\"\"},\"type\":\"mesh3d\"}],\"parcoords\":[{\"line\":{\"colorbar\":{\"outlinewidth\":0,\"ticks\":\"\"}},\"type\":\"parcoords\"}],\"pie\":[{\"automargin\":true,\"type\":\"pie\"}],\"scatter3d\":[{\"line\":{\"colorbar\":{\"outlinewidth\":0,\"ticks\":\"\"}},\"marker\":{\"colorbar\":{\"outlinewidth\":0,\"ticks\":\"\"}},\"type\":\"scatter3d\"}],\"scattercarpet\":[{\"marker\":{\"colorbar\":{\"outlinewidth\":0,\"ticks\":\"\"}},\"type\":\"scattercarpet\"}],\"scattergeo\":[{\"marker\":{\"colorbar\":{\"outlinewidth\":0,\"ticks\":\"\"}},\"type\":\"scattergeo\"}],\"scattergl\":[{\"marker\":{\"line\":{\"color\":\"#283442\"}},\"type\":\"scattergl\"}],\"scattermapbox\":[{\"marker\":{\"colorbar\":{\"outlinewidth\":0,\"ticks\":\"\"}},\"type\":\"scattermapbox\"}],\"scatterpolargl\":[{\"marker\":{\"colorbar\":{\"outlinewidth\":0,\"ticks\":\"\"}},\"type\":\"scatterpolargl\"}],\"scatterpolar\":[{\"marker\":{\"colorbar\":{\"outlinewidth\":0,\"ticks\":\"\"}},\"type\":\"scatterpolar\"}],\"scatter\":[{\"marker\":{\"line\":{\"color\":\"#283442\"}},\"type\":\"scatter\"}],\"scatterternary\":[{\"marker\":{\"colorbar\":{\"outlinewidth\":0,\"ticks\":\"\"}},\"type\":\"scatterternary\"}],\"surface\":[{\"colorbar\":{\"outlinewidth\":0,\"ticks\":\"\"},\"colorscale\":[[0.0,\"#0d0887\"],[0.1111111111111111,\"#46039f\"],[0.2222222222222222,\"#7201a8\"],[0.3333333333333333,\"#9c179e\"],[0.4444444444444444,\"#bd3786\"],[0.5555555555555556,\"#d8576b\"],[0.6666666666666666,\"#ed7953\"],[0.7777777777777778,\"#fb9f3a\"],[0.8888888888888888,\"#fdca26\"],[1.0,\"#f0f921\"]],\"type\":\"surface\"}],\"table\":[{\"cells\":{\"fill\":{\"color\":\"#506784\"},\"line\":{\"color\":\"rgb(17,17,17)\"}},\"header\":{\"fill\":{\"color\":\"#2a3f5f\"},\"line\":{\"color\":\"rgb(17,17,17)\"}},\"type\":\"table\"}]},\"layout\":{\"annotationdefaults\":{\"arrowcolor\":\"#f2f5fa\",\"arrowhead\":0,\"arrowwidth\":1},\"autotypenumbers\":\"strict\",\"coloraxis\":{\"colorbar\":{\"outlinewidth\":0,\"ticks\":\"\"}},\"colorscale\":{\"diverging\":[[0,\"#8e0152\"],[0.1,\"#c51b7d\"],[0.2,\"#de77ae\"],[0.3,\"#f1b6da\"],[0.4,\"#fde0ef\"],[0.5,\"#f7f7f7\"],[0.6,\"#e6f5d0\"],[0.7,\"#b8e186\"],[0.8,\"#7fbc41\"],[0.9,\"#4d9221\"],[1,\"#276419\"]],\"sequential\":[[0.0,\"#0d0887\"],[0.1111111111111111,\"#46039f\"],[0.2222222222222222,\"#7201a8\"],[0.3333333333333333,\"#9c179e\"],[0.4444444444444444,\"#bd3786\"],[0.5555555555555556,\"#d8576b\"],[0.6666666666666666,\"#ed7953\"],[0.7777777777777778,\"#fb9f3a\"],[0.8888888888888888,\"#fdca26\"],[1.0,\"#f0f921\"]],\"sequentialminus\":[[0.0,\"#0d0887\"],[0.1111111111111111,\"#46039f\"],[0.2222222222222222,\"#7201a8\"],[0.3333333333333333,\"#9c179e\"],[0.4444444444444444,\"#bd3786\"],[0.5555555555555556,\"#d8576b\"],[0.6666666666666666,\"#ed7953\"],[0.7777777777777778,\"#fb9f3a\"],[0.8888888888888888,\"#fdca26\"],[1.0,\"#f0f921\"]]},\"colorway\":[\"#636efa\",\"#EF553B\",\"#00cc96\",\"#ab63fa\",\"#FFA15A\",\"#19d3f3\",\"#FF6692\",\"#B6E880\",\"#FF97FF\",\"#FECB52\"],\"font\":{\"color\":\"#f2f5fa\"},\"geo\":{\"bgcolor\":\"rgb(17,17,17)\",\"lakecolor\":\"rgb(17,17,17)\",\"landcolor\":\"rgb(17,17,17)\",\"showlakes\":true,\"showland\":true,\"subunitcolor\":\"#506784\"},\"hoverlabel\":{\"align\":\"left\"},\"hovermode\":\"closest\",\"mapbox\":{\"style\":\"dark\"},\"paper_bgcolor\":\"rgb(17,17,17)\",\"plot_bgcolor\":\"rgb(17,17,17)\",\"polar\":{\"angularaxis\":{\"gridcolor\":\"#506784\",\"linecolor\":\"#506784\",\"ticks\":\"\"},\"bgcolor\":\"rgb(17,17,17)\",\"radialaxis\":{\"gridcolor\":\"#506784\",\"linecolor\":\"#506784\",\"ticks\":\"\"}},\"scene\":{\"xaxis\":{\"backgroundcolor\":\"rgb(17,17,17)\",\"gridcolor\":\"#506784\",\"gridwidth\":2,\"linecolor\":\"#506784\",\"showbackground\":true,\"ticks\":\"\",\"zerolinecolor\":\"#C8D4E3\"},\"yaxis\":{\"backgroundcolor\":\"rgb(17,17,17)\",\"gridcolor\":\"#506784\",\"gridwidth\":2,\"linecolor\":\"#506784\",\"showbackground\":true,\"ticks\":\"\",\"zerolinecolor\":\"#C8D4E3\"},\"zaxis\":{\"backgroundcolor\":\"rgb(17,17,17)\",\"gridcolor\":\"#506784\",\"gridwidth\":2,\"linecolor\":\"#506784\",\"showbackground\":true,\"ticks\":\"\",\"zerolinecolor\":\"#C8D4E3\"}},\"shapedefaults\":{\"line\":{\"color\":\"#f2f5fa\"}},\"sliderdefaults\":{\"bgcolor\":\"#C8D4E3\",\"bordercolor\":\"rgb(17,17,17)\",\"borderwidth\":1,\"tickwidth\":0},\"ternary\":{\"aaxis\":{\"gridcolor\":\"#506784\",\"linecolor\":\"#506784\",\"ticks\":\"\"},\"baxis\":{\"gridcolor\":\"#506784\",\"linecolor\":\"#506784\",\"ticks\":\"\"},\"bgcolor\":\"rgb(17,17,17)\",\"caxis\":{\"gridcolor\":\"#506784\",\"linecolor\":\"#506784\",\"ticks\":\"\"}},\"title\":{\"x\":0.05},\"updatemenudefaults\":{\"bgcolor\":\"#506784\",\"borderwidth\":0},\"xaxis\":{\"automargin\":true,\"gridcolor\":\"#283442\",\"linecolor\":\"#506784\",\"ticks\":\"\",\"title\":{\"standoff\":15},\"zerolinecolor\":\"#283442\",\"zerolinewidth\":2},\"yaxis\":{\"automargin\":true,\"gridcolor\":\"#283442\",\"linecolor\":\"#506784\",\"ticks\":\"\",\"title\":{\"standoff\":15},\"zerolinecolor\":\"#283442\",\"zerolinewidth\":2}}},\"xaxis\":{\"anchor\":\"y\",\"domain\":[0.0,1.0],\"title\":{\"text\":\"Liberal Democracy Index\"}},\"yaxis\":{\"anchor\":\"x\",\"domain\":[0.0,1.0],\"title\":{\"text\":\"Life Expectancy\"}},\"legend\":{\"title\":{\"text\":\"Continent\"},\"tracegroupgap\":0,\"itemsizing\":\"constant\"},\"title\":{\"text\":\"Life Expectancy vs. Liberal Democracy Index (2021)\"},\"height\":700,\"width\":1000},                        {\"responsive\": true}                    ).then(function(){\n",
       "                            \n",
       "var gd = document.getElementById('221a0bac-704a-4db8-a6ae-acc498b78eff');\n",
       "var x = new MutationObserver(function (mutations, observer) {{\n",
       "        var display = window.getComputedStyle(gd).display;\n",
       "        if (!display || display === 'none') {{\n",
       "            console.log([gd, 'removed!']);\n",
       "            Plotly.purge(gd);\n",
       "            observer.disconnect();\n",
       "        }}\n",
       "}});\n",
       "\n",
       "// Listen for the removal of the full notebook cells\n",
       "var notebookContainer = gd.closest('#notebook-container');\n",
       "if (notebookContainer) {{\n",
       "    x.observe(notebookContainer, {childList: true});\n",
       "}}\n",
       "\n",
       "// Listen for the clearing of the current output cell\n",
       "var outputEl = gd.closest('.output');\n",
       "if (outputEl) {{\n",
       "    x.observe(outputEl, {childList: true});\n",
       "}}\n",
       "\n",
       "                        })                };                });            </script>        </div>"
      ]
     },
     "metadata": {},
     "output_type": "display_data"
    }
   ],
   "source": [
    "# Load the dataset\n",
    "df = life_exp_lib_democ\n",
    "\n",
    "# Display basic info and first few rows to understand the data structure\n",
    "print(df.info())\n",
    "print(df.head())\n",
    "\n",
    "# Clean the data by removing rows with NaN values in critical columns\n",
    "df_cleaned = df.dropna(subset=['Liberal democracy index (best estimate, aggregate: average)', \n",
    "                               'Period life expectancy at birth - Sex: all - Age: 0', \n",
    "                               'Population (historical)'])\n",
    "\n",
    "# Scale the population to increase the size of the points\n",
    "df_cleaned['Scaled Population'] = df_cleaned['Population (historical)'] / 1e6\n",
    "\n",
    "# Create the scatter plot with text labels\n",
    "fig = px.scatter(\n",
    "    df_cleaned,\n",
    "    x='Liberal democracy index (best estimate, aggregate: average)',\n",
    "    y='Period life expectancy at birth - Sex: all - Age: 0',\n",
    "    size='Scaled Population',  # Use the scaled population\n",
    "    color='Continent',\n",
    "    hover_name='Entity',\n",
    "    # text='Entity',  # Add country names as text\n",
    "    size_max=150,  # Increase size_max to make points larger\n",
    "    title='Life Expectancy vs. Liberal Democracy Index (2021)',\n",
    "    labels={\n",
    "        'Liberal democracy index (best estimate, aggregate: average)': 'Liberal Democracy Index',\n",
    "        'Period life expectancy at birth - Sex: all - Age: 0': 'Life Expectancy'\n",
    "    }\n",
    ")\n",
    "\n",
    "# Update the layout\n",
    "fig.update_layout(\n",
    "    xaxis_title='Liberal Democracy Index',\n",
    "    yaxis_title='Life Expectancy',\n",
    "    legend_title='Continent',\n",
    "    template='plotly_dark',\n",
    "    height=700,\n",
    "    width=1000\n",
    ")\n",
    "\n",
    "# Update the text position for better readability\n",
    "fig.update_traces(textposition='bottom center')\n",
    "\n",
    "# Show the plot\n",
    "fig.show()\n"
   ]
  },
  {
   "cell_type": "code",
   "execution_count": 10,
   "id": "3259358d",
   "metadata": {},
   "outputs": [
    {
     "data": {
      "text/html": [
       "<div>\n",
       "<style scoped>\n",
       "    .dataframe tbody tr th:only-of-type {\n",
       "        vertical-align: middle;\n",
       "    }\n",
       "\n",
       "    .dataframe tbody tr th {\n",
       "        vertical-align: top;\n",
       "    }\n",
       "\n",
       "    .dataframe thead th {\n",
       "        text-align: right;\n",
       "    }\n",
       "</style>\n",
       "<table border=\"1\" class=\"dataframe\">\n",
       "  <thead>\n",
       "    <tr style=\"text-align: right;\">\n",
       "      <th></th>\n",
       "      <th>Entity</th>\n",
       "      <th>Code</th>\n",
       "      <th>Year</th>\n",
       "      <th>Military expenditure as a share of GDP (OWID calculated based on NMC, COW &amp; SIPRI (2017))</th>\n",
       "    </tr>\n",
       "  </thead>\n",
       "  <tbody>\n",
       "    <tr>\n",
       "      <th>0</th>\n",
       "      <td>Afghanistan</td>\n",
       "      <td>AFG</td>\n",
       "      <td>1956</td>\n",
       "      <td>1.737877</td>\n",
       "    </tr>\n",
       "    <tr>\n",
       "      <th>1</th>\n",
       "      <td>Afghanistan</td>\n",
       "      <td>AFG</td>\n",
       "      <td>1957</td>\n",
       "      <td>2.540325</td>\n",
       "    </tr>\n",
       "    <tr>\n",
       "      <th>2</th>\n",
       "      <td>Afghanistan</td>\n",
       "      <td>AFG</td>\n",
       "      <td>1958</td>\n",
       "      <td>2.127935</td>\n",
       "    </tr>\n",
       "    <tr>\n",
       "      <th>3</th>\n",
       "      <td>Afghanistan</td>\n",
       "      <td>AFG</td>\n",
       "      <td>1959</td>\n",
       "      <td>3.665864</td>\n",
       "    </tr>\n",
       "    <tr>\n",
       "      <th>4</th>\n",
       "      <td>Afghanistan</td>\n",
       "      <td>AFG</td>\n",
       "      <td>1960</td>\n",
       "      <td>2.640859</td>\n",
       "    </tr>\n",
       "  </tbody>\n",
       "</table>\n",
       "</div>"
      ],
      "text/plain": [
       "        Entity Code  Year  \\\n",
       "0  Afghanistan  AFG  1956   \n",
       "1  Afghanistan  AFG  1957   \n",
       "2  Afghanistan  AFG  1958   \n",
       "3  Afghanistan  AFG  1959   \n",
       "4  Afghanistan  AFG  1960   \n",
       "\n",
       "   Military expenditure as a share of GDP (OWID calculated based on NMC, COW & SIPRI (2017))  \n",
       "0                                           1.737877                                          \n",
       "1                                           2.540325                                          \n",
       "2                                           2.127935                                          \n",
       "3                                           3.665864                                          \n",
       "4                                           2.640859                                          "
      ]
     },
     "execution_count": 10,
     "metadata": {},
     "output_type": "execute_result"
    }
   ],
   "source": [
    "\n",
    "# reading the data for Military expenditure as a share of GDP, 1827 to 2016\n",
    "military_expenditure_gdp = pd.read_csv('data/military-expenditure-as-a-share-of-gdp-long.csv')\n",
    "\n",
    "\n",
    "# Now, cleaning the DataFrame\n",
    "military_expenditure_gdp_clean = military_expenditure_gdp.copy()\n",
    "\n",
    "# Check for missing values\n",
    "missing_values = military_expenditure_gdp_clean.isnull().sum()\n",
    "\n",
    "# Drop columns with too many missing values if needed\n",
    "# military_expenditure_gdp_clean = military_expenditure_gdp_clean.drop(columns=['Continent'])  \n",
    "\n",
    "# Filling missing values where appropriate\n",
    "military_expenditure_gdp_clean['Code'] = military_expenditure_gdp_clean['Code'].fillna('Unknown')\n",
    "\n",
    "# Now, let's ensure we're using .loc properly to avoid the SettingWithCopyWarning\n",
    "military_expenditure_gdp_clean.loc[:, 'Year'] = military_expenditure_gdp_clean['Year'].astype(int)\n",
    "\n",
    "military_expenditure_gdp_clean.head()\n"
   ]
  },
  {
   "cell_type": "code",
   "execution_count": 18,
   "id": "71f4d3a6",
   "metadata": {},
   "outputs": [
    {
     "data": {
      "application/vnd.plotly.v1+json": {
       "config": {
        "plotlyServerURL": "https://plot.ly"
       },
       "data": [
        {
         "legendgroup": "China",
         "line": {
          "color": "#636efa",
          "dash": "solid",
          "width": 2.5
         },
         "marker": {
          "symbol": "circle"
         },
         "mode": "markers+lines",
         "name": "China",
         "showlegend": true,
         "type": "scattergl",
         "x": [
          1896,
          1897,
          1898,
          1899,
          1900,
          1901,
          1902,
          1903,
          1904,
          1905,
          1906,
          1911,
          1932,
          1933,
          1934,
          1935,
          1936,
          1949,
          1950,
          1951,
          1952,
          1953,
          1954,
          1955,
          1956,
          1957,
          1958,
          1959,
          1960,
          1961,
          1962,
          1963,
          1964,
          1965,
          1966,
          1967,
          1968,
          1969,
          1970,
          1971,
          1972,
          1973,
          1974,
          1975,
          1976,
          1977,
          1978,
          1979,
          1980,
          1981,
          1982,
          1983,
          1984,
          1985,
          1986,
          1987,
          1988,
          1989,
          1990,
          1991,
          1992,
          1993,
          1994,
          1995,
          1996,
          1997,
          1998,
          1999,
          2000,
          2001,
          2002,
          2003,
          2004,
          2005,
          2006,
          2007,
          2008,
          2009,
          2010,
          2011,
          2012,
          2013,
          2014,
          2015,
          2016
         ],
         "xaxis": "x",
         "y": [
          0.33191907,
          0.33239028,
          1.2421138,
          1.2734176,
          1.2547387,
          0.56504524,
          0.85716742,
          0.85468775,
          0.77075297,
          1.043449,
          0.92517388,
          0.64915711,
          1.0402641,
          1.2444098,
          1.4778236,
          1.5401797,
          1.6823618,
          14.641767,
          15.078095,
          15.631783,
          11.569446,
          8.949296,
          8.4902859,
          6.5228848,
          12.53632,
          13.67202,
          10.458359,
          10.753507,
          11.336885,
          16.035683,
          19.929115,
          21.337257,
          21.817171,
          19.805592,
          21.046644,
          22.773848,
          25.579704,
          25.891972,
          26.026035,
          21.842558,
          20.010305,
          17.928694,
          18.820976,
          17.548674,
          20.815685,
          18.961962,
          23.561357,
          16.929384,
          15.005646,
          15.555025,
          16.185501,
          15.064635,
          9.1930609,
          2.0446906,
          1.9497066,
          2.0723879,
          1.8839394,
          1.9248037,
          1.6791791,
          4.9096551,
          5.6816521,
          6.1786013,
          5.1406336,
          4.4973412,
          4.1991286,
          3.8122077,
          3.722162,
          3.6613388,
          3.4801052,
          3.4560754,
          4.7064185,
          4.5692463,
          4.3389978,
          1.3156921,
          1.2881132,
          1.3098646,
          1.309129,
          1.3841835,
          1.2641772,
          1.203356,
          1.2131033,
          1.8723336,
          1.9153413,
          1.9349225,
          1.9229624
         ],
         "yaxis": "y"
        },
        {
         "legendgroup": "Germany",
         "line": {
          "color": "#EF553B",
          "dash": "solid",
          "width": 2.5
         },
         "marker": {
          "symbol": "circle"
         },
         "mode": "markers+lines",
         "name": "Germany",
         "showlegend": true,
         "type": "scattergl",
         "x": [
          1871,
          1872,
          1873,
          1874,
          1875,
          1876,
          1877,
          1878,
          1879,
          1880,
          1881,
          1882,
          1883,
          1884,
          1885,
          1886,
          1887,
          1888,
          1889,
          1890,
          1891,
          1892,
          1893,
          1894,
          1895,
          1896,
          1897,
          1898,
          1899,
          1900,
          1901,
          1902,
          1903,
          1904,
          1905,
          1906,
          1907,
          1908,
          1909,
          1910,
          1911,
          1912,
          1913,
          1914,
          1915,
          1916,
          1917,
          1918,
          1919,
          1920,
          1921,
          1922,
          1923,
          1924,
          1925,
          1926,
          1927,
          1928,
          1929,
          1930,
          1931,
          1932,
          1933,
          1934,
          1935,
          1936,
          1937,
          1938,
          1939,
          1940,
          1941,
          1942,
          1943,
          1944,
          1945,
          1991,
          1992,
          1993,
          1994,
          1995,
          1996,
          1997,
          1998,
          1999,
          2000,
          2001,
          2002,
          2003,
          2004,
          2005,
          2006,
          2007,
          2008,
          2009,
          2010,
          2011,
          2012,
          2013,
          2014,
          2015,
          2016
         ],
         "xaxis": "x",
         "y": [
          3.864783,
          1.5872639,
          1.5793666,
          1.813211,
          2.2013466,
          2.1566944,
          2.3892539,
          2.1729178,
          2.3264778,
          2.2568653,
          2.3576963,
          2.2784193,
          2.1705415,
          2.1666579,
          2.0693889,
          2.1357903,
          3.0076194,
          3.6303208,
          2.1742551,
          3.0367088,
          2.4508021,
          2.629508,
          2.8408091,
          2.6621375,
          2.3693163,
          2.1992481,
          2.6103787,
          2.3558741,
          2.2462084,
          2.3155622,
          2.5515347,
          2.5940864,
          2.3347826,
          2.2124808,
          2.248637,
          2.2648706,
          2.3301792,
          2.6335182,
          2.5388541,
          2.5359259,
          2.4426489,
          2.3482447,
          3.2044671,
          15.4289,
          55.609142,
          48.526855,
          56.460682,
          59.354408,
          0.65574867,
          0.52396464,
          0.52097929,
          0.1884492,
          6.8856802,
          0.81560451,
          0.86474764,
          0.97297251,
          0.82107717,
          0.85758179,
          0.83807617,
          0.93222255,
          1.0861121,
          1.261035,
          2.6632423,
          2.6911571,
          5.2611966,
          6.9298906,
          8.6373663,
          17.528046,
          25.884411,
          44.193504,
          57.03196,
          71.850853,
          85.526726,
          94.501595,
          22.358713,
          1.7290972,
          1.5620664,
          1.7718184,
          1.5979275,
          1.5877414,
          1.5895547,
          1.4961632,
          1.5057224,
          1.4173682,
          1.4301361,
          1.3789521,
          1.4109691,
          1.4065043,
          1.3396235,
          1.3356247,
          1.2620054,
          1.2233907,
          1.2403972,
          1.3818117,
          1.3422763,
          1.2239957,
          1.154193,
          1.2239937,
          1.1884347,
          1.1836839,
          1.184881
         ],
         "yaxis": "y"
        },
        {
         "legendgroup": "India",
         "line": {
          "color": "#00cc96",
          "dash": "solid",
          "width": 2.5
         },
         "marker": {
          "symbol": "circle"
         },
         "mode": "markers+lines",
         "name": "India",
         "showlegend": true,
         "type": "scattergl",
         "x": [
          1949,
          1950,
          1951,
          1952,
          1953,
          1954,
          1955,
          1956,
          1957,
          1958,
          1959,
          1960,
          1961,
          1962,
          1963,
          1964,
          1965,
          1966,
          1967,
          1968,
          1969,
          1970,
          1971,
          1972,
          1973,
          1974,
          1975,
          1976,
          1977,
          1978,
          1979,
          1980,
          1981,
          1982,
          1983,
          1984,
          1985,
          1986,
          1987,
          1988,
          1989,
          1990,
          1991,
          1992,
          1993,
          1994,
          1995,
          1996,
          1997,
          1998,
          1999,
          2000,
          2001,
          2002,
          2003,
          2004,
          2005,
          2006,
          2007,
          2008,
          2009,
          2010,
          2011,
          2012,
          2013,
          2014,
          2015,
          2016
         ],
         "xaxis": "x",
         "y": [
          2.1141231,
          1.8158357,
          1.8279688,
          1.9025347,
          1.8413329,
          2.0200825,
          1.8610646,
          1.7920676,
          2.2048469,
          2.0745063,
          1.9154246,
          1.5351182,
          1.5973275,
          2.1152391,
          3.1050956,
          2.9475796,
          2.9812589,
          4.173914,
          2.4702659,
          2.5013037,
          2.4052942,
          2.3779418,
          2.7993169,
          2.9272058,
          2.4865863,
          2.4403789,
          2.6345811,
          2.7422831,
          2.5139406,
          2.5277622,
          2.5797126,
          2.4019802,
          2.5285711,
          2.5800626,
          2.5581155,
          3.1828229,
          2.6489828,
          3.1435685,
          3.3887699,
          3.1743438,
          2.9629023,
          3.0759623,
          2.9265594,
          2.2699058,
          2.4598205,
          2.2903247,
          2.7250042,
          3.0190148,
          3.0240517,
          3.1683118,
          2.9761758,
          3.0938206,
          2.8677084,
          2.6179421,
          2.5042615,
          2.7452185,
          2.6021664,
          2.3589947,
          2.1391742,
          2.5547063,
          2.7895703,
          1.8063858,
          1.9875275,
          1.8241447,
          2.4727263,
          2.4967701,
          2.4051282,
          2.474853
         ],
         "yaxis": "y"
        },
        {
         "legendgroup": "Iran",
         "line": {
          "color": "#ab63fa",
          "dash": "solid",
          "width": 2.5
         },
         "marker": {
          "symbol": "circle"
         },
         "mode": "markers+lines",
         "name": "Iran",
         "showlegend": true,
         "type": "scattergl",
         "x": [
          1949,
          1950,
          1951,
          1952,
          1953,
          1954,
          1955,
          1956,
          1957,
          1958,
          1959,
          1960,
          1961,
          1962,
          1963,
          1964,
          1965,
          1966,
          1967,
          1968,
          1969,
          1970,
          1971,
          1972,
          1973,
          1974,
          1975,
          1976,
          1977,
          1978,
          1979,
          1980,
          1982,
          1983,
          1984,
          1985,
          1986,
          1987,
          1988,
          1989,
          1990,
          1991,
          1992,
          1993,
          1994,
          1995,
          1996,
          1997,
          1998,
          1999,
          2000,
          2001,
          2002,
          2003,
          2004,
          2005,
          2006,
          2007,
          2008,
          2009,
          2010,
          2011,
          2012,
          2013,
          2014,
          2015
         ],
         "xaxis": "x",
         "y": [
          4.2924418,
          4.2084465,
          3.8707449,
          3.6130214,
          3.2991929,
          1.479863,
          2.1008241,
          2.7154732,
          3.2160027,
          4.7418389,
          5.4611402,
          4.3021493,
          4.1710114,
          3.9745166,
          3.8751729,
          4.0654082,
          4.4668436,
          4.6482677,
          5.4365811,
          6.1014452,
          6.4347377,
          6.7103791,
          5.3370843,
          6.3255882,
          6.706583,
          10.07056,
          12.779459,
          11.333755,
          9.8857079,
          11.703119,
          6.0316648,
          3.5839961,
          12.32669,
          9.5283308,
          12.359887,
          7.742775,
          2.8196745,
          6.6664138,
          8.0365086,
          7.1253777,
          2.5502083,
          4.7138734,
          2.0629678,
          2.3751049,
          3.2525342,
          3.1107495,
          2.8564944,
          4.1186404,
          5.3271418,
          5.0162363,
          3.6058893,
          3.7022684,
          2.3866551,
          2.7775214,
          3.0488381,
          3.3063409,
          3.2965486,
          2.2066162,
          2.3952024,
          2.1537859,
          2.2580106,
          3.2931924,
          4.2851443,
          2.3449309,
          2.327889,
          2.6913571
         ],
         "yaxis": "y"
        },
        {
         "legendgroup": "Japan",
         "line": {
          "color": "#FFA15A",
          "dash": "solid",
          "width": 2.5
         },
         "marker": {
          "symbol": "circle"
         },
         "mode": "markers+lines",
         "name": "Japan",
         "showlegend": true,
         "type": "scattergl",
         "x": [
          1868,
          1869,
          1870,
          1871,
          1872,
          1873,
          1874,
          1875,
          1876,
          1877,
          1878,
          1879,
          1880,
          1881,
          1882,
          1883,
          1884,
          1885,
          1886,
          1887,
          1888,
          1889,
          1890,
          1891,
          1892,
          1893,
          1894,
          1895,
          1896,
          1897,
          1898,
          1899,
          1900,
          1901,
          1902,
          1903,
          1904,
          1905,
          1906,
          1907,
          1908,
          1909,
          1910,
          1911,
          1912,
          1913,
          1914,
          1915,
          1916,
          1917,
          1918,
          1919,
          1920,
          1921,
          1922,
          1923,
          1924,
          1925,
          1926,
          1927,
          1928,
          1929,
          1930,
          1931,
          1932,
          1933,
          1934,
          1935,
          1936,
          1937,
          1938,
          1939,
          1940,
          1941,
          1942,
          1943,
          1944,
          1945,
          1952,
          1953,
          1954,
          1955,
          1956,
          1957,
          1958,
          1959,
          1960,
          1961,
          1962,
          1963,
          1964,
          1965,
          1966,
          1967,
          1968,
          1969,
          1970,
          1971,
          1972,
          1973,
          1974,
          1975,
          1976,
          1977,
          1978,
          1979,
          1980,
          1981,
          1982,
          1983,
          1984,
          1985,
          1986,
          1987,
          1988,
          1989,
          1990,
          1991,
          1992,
          1993,
          1994,
          1995,
          1996,
          1997,
          1998,
          1999,
          2000,
          2001,
          2002,
          2003,
          2004,
          2005,
          2006,
          2007,
          2008,
          2009,
          2010,
          2011,
          2012,
          2013,
          2014,
          2015,
          2016
         ],
         "xaxis": "x",
         "y": [
          0.7034694,
          0.43514681,
          0.24375828,
          0.50431734,
          1.640775,
          1.4530393,
          1.7847881,
          1.4570787,
          1.2621367,
          1.0763744,
          1.1293277,
          1.2987105,
          1.3051999,
          1.3201998,
          1.3297216,
          1.5438504,
          1.5732484,
          1.4110301,
          2.5424836,
          2.680223,
          2.5963163,
          2.5382566,
          2.3476913,
          2.0639327,
          1.6306865,
          1.6302397,
          10.038968,
          7.6970482,
          4.3584614,
          5.9120398,
          5.3869038,
          5.1115208,
          5.7742219,
          4.3115482,
          3.5028381,
          5.8047466,
          23.334888,
          24.586185,
          11.825854,
          5.9900098,
          5.9135985,
          4.8689165,
          4.9325972,
          4.8088937,
          4.3583002,
          4.0039649,
          4.8537555,
          4.5934019,
          4.1193576,
          4.2169085,
          5.0595927,
          5.8287849,
          5.9805226,
          5.9604764,
          4.7667646,
          3.7823207,
          3.3793488,
          2.8913984,
          2.8665791,
          3.2053485,
          3.3228295,
          3.2240782,
          3.1886168,
          3.6401911,
          5.4416561,
          6.0179238,
          5.9759755,
          6.1374292,
          5.4227219,
          13.957245,
          22.32827,
          19.77582,
          20.174377,
          27.869568,
          34.730419,
          46.860527,
          98.93869,
          56.976517,
          1.5478774,
          2.0745702,
          1.8371167,
          1.4619681,
          1.3853631,
          1.3799118,
          1.3132684,
          1.2155603,
          1.0222564,
          0.94791132,
          1.0137373,
          0.97983474,
          0.95828444,
          0.93871212,
          0.91504198,
          0.86527783,
          0.82583201,
          0.80851507,
          0.79043132,
          0.95048255,
          0.84235281,
          0.73481518,
          0.84880167,
          0.87753332,
          0.85887188,
          0.77682167,
          0.7708047,
          0.96152782,
          0.85409284,
          0.95903623,
          0.98674804,
          0.9564684,
          0.98163158,
          1.0146562,
          1.0197185,
          1.0198336,
          0.94103897,
          0.99568689,
          0.92075187,
          0.92095536,
          0.99540854,
          0.94393414,
          0.96019071,
          0.94130093,
          0.96610528,
          0.94499427,
          0.98230964,
          0.91103077,
          0.95654291,
          0.94974071,
          0.98244351,
          0.99402285,
          0.96921718,
          0.95962811,
          0.94275725,
          0.94151527,
          0.94145459,
          1.0095333,
          0.98842281,
          1.0119153,
          0.9882955,
          0.95086586,
          0.96224338,
          0.9377712,
          0.93462622
         ],
         "yaxis": "y"
        },
        {
         "legendgroup": "North Korea",
         "line": {
          "color": "#19d3f3",
          "dash": "solid",
          "width": 2.5
         },
         "marker": {
          "symbol": "circle"
         },
         "mode": "markers+lines",
         "name": "North Korea",
         "showlegend": true,
         "type": "scattergl",
         "x": [
          1958,
          1960,
          1961,
          1962,
          1963,
          1964,
          1965,
          1966,
          1967,
          1968,
          1969,
          1970,
          1971,
          1972,
          1973,
          1974,
          1975,
          1976,
          1977,
          1978,
          1979,
          1980,
          1981,
          1982,
          1983,
          1984,
          1985,
          1986,
          1987,
          1988,
          1989,
          1990,
          1991,
          1992
         ],
         "xaxis": "x",
         "y": [
          162.2589,
          11.21854,
          11.511482,
          11.060773,
          12.141149,
          12.544132,
          12.323329,
          12.216183,
          14.845423,
          18.58436,
          17.507292,
          16.428661,
          15.190254,
          9.0346031,
          10.076379,
          10.029973,
          8.9134607,
          9.2205744,
          9.1598654,
          9.2109804,
          9.143878,
          10.089933,
          12.422513,
          13.61689,
          14.269949,
          20.446199,
          15.796101,
          14.217779,
          14.920548,
          15.805225,
          13.976918,
          17.515871,
          23.313515,
          24.83876
         ],
         "yaxis": "y"
        },
        {
         "legendgroup": "Norway",
         "line": {
          "color": "#FF6692",
          "dash": "solid",
          "width": 2.5
         },
         "marker": {
          "symbol": "circle"
         },
         "mode": "markers+lines",
         "name": "Norway",
         "showlegend": true,
         "type": "scattergl",
         "x": [
          1905,
          1906,
          1907,
          1908,
          1909,
          1910,
          1911,
          1912,
          1913,
          1914,
          1915,
          1916,
          1917,
          1918,
          1919,
          1920,
          1921,
          1922,
          1923,
          1924,
          1925,
          1926,
          1927,
          1928,
          1929,
          1930,
          1931,
          1932,
          1933,
          1934,
          1935,
          1936,
          1937,
          1938,
          1939,
          1940,
          1945,
          1946,
          1947,
          1948,
          1949,
          1950,
          1951,
          1952,
          1953,
          1954,
          1955,
          1956,
          1957,
          1958,
          1959,
          1960,
          1961,
          1962,
          1963,
          1964,
          1965,
          1966,
          1967,
          1968,
          1969,
          1970,
          1971,
          1972,
          1973,
          1974,
          1975,
          1976,
          1977,
          1978,
          1979,
          1980,
          1981,
          1982,
          1983,
          1984,
          1985,
          1986,
          1987,
          1988,
          1989,
          1990,
          1991,
          1992,
          1993,
          1994,
          1995,
          1996,
          1997,
          1998,
          1999,
          2000,
          2001,
          2002,
          2003,
          2004,
          2005,
          2006,
          2007,
          2008,
          2009,
          2010,
          2011,
          2012,
          2013,
          2014,
          2015,
          2016
         ],
         "xaxis": "x",
         "y": [
          6.4669318,
          6.1625586,
          6.3071218,
          7.5670023,
          6.5276594,
          6.0717835,
          6.1978354,
          1.2757839,
          1.0945854,
          1.5826436,
          1.0359671,
          0.75090402,
          0.72753191,
          0.98692447,
          1.0250657,
          0.87736869,
          1.2656621,
          0.9195869,
          1.094968,
          0.87441808,
          0.73415488,
          0.85128909,
          0.9953391,
          0.90665013,
          0.87271702,
          0.8526628,
          1.0323907,
          0.9869166,
          0.76655859,
          0.93108535,
          0.90791148,
          0.90956938,
          0.89105666,
          0.88190025,
          4.7135234,
          6.8418846,
          6.4599981,
          5.778091,
          4.2260456,
          1.8497192,
          2.7600775,
          2.1735132,
          2.7962458,
          3.6894529,
          4.6419311,
          4.5878215,
          3.6231349,
          3.2564909,
          3.3071754,
          3.1953924,
          3.2571657,
          2.854202,
          2.9252319,
          3.1562161,
          3.1469901,
          3.0710793,
          3.292151,
          3.1388445,
          3.0821471,
          3.3111463,
          3.1758142,
          3.0370185,
          2.9330547,
          2.8250816,
          2.6999669,
          2.6161509,
          2.7550263,
          2.707458,
          2.6838758,
          2.8071611,
          2.7307155,
          2.5857542,
          2.3828628,
          2.7056892,
          2.9918797,
          3.1692536,
          2.5971537,
          2.9841461,
          2.7405124,
          2.8762481,
          2.8890128,
          2.9062159,
          2.8296821,
          2.8324659,
          2.6503205,
          2.5134954,
          2.306987,
          2.2939951,
          2.0147371,
          2.1979449,
          1.997059,
          1.7039462,
          1.7049198,
          2.0768716,
          1.9721651,
          1.8478993,
          1.5816405,
          1.4340341,
          1.3826569,
          1.2597003,
          1.5956268,
          1.3834208,
          1.4048399,
          1.3966132,
          1.4140379,
          1.4722464,
          1.5042504,
          1.6191213
         ],
         "yaxis": "y"
        },
        {
         "legendgroup": "Oman",
         "line": {
          "color": "#B6E880",
          "dash": "solid",
          "width": 2.5
         },
         "marker": {
          "symbol": "circle"
         },
         "mode": "markers+lines",
         "name": "Oman",
         "showlegend": true,
         "type": "scattergl",
         "x": [
          1971,
          1972,
          1973,
          1974,
          1975,
          1976,
          1977,
          1978,
          1979,
          1980,
          1981,
          1982,
          1983,
          1984,
          1985,
          1986,
          1987,
          1988,
          1989,
          1990,
          1991,
          1992,
          1993,
          1994,
          1995,
          1996,
          1997,
          1998,
          1999,
          2000,
          2001,
          2002,
          2003,
          2004,
          2005,
          2006,
          2007,
          2008,
          2009,
          2010,
          2011,
          2012,
          2013,
          2014,
          2015,
          2016
         ],
         "xaxis": "x",
         "y": [
          12.753335,
          17.709839,
          24.812899,
          20.73604,
          33.02338,
          30.512609,
          25.016953,
          27.966545,
          20.826233,
          19.663305,
          23.006798,
          22.227516,
          24.700258,
          24.031195,
          20.542459,
          21.284138,
          19.274429,
          16.497772,
          14.48712,
          11.832346,
          12.654934,
          14.36196,
          14.388726,
          15.946168,
          14.617315,
          12.799537,
          12.468572,
          12.712912,
          10.381655,
          10.745752,
          14.551878,
          12.471832,
          11.391343,
          10.343649,
          11.8779,
          8.787631,
          7.68715,
          7.6041322,
          8.2624435,
          7.1221194,
          6.3118653,
          8.7764072,
          14.806988,
          13.514465,
          14.384189,
          13.730983
         ],
         "yaxis": "y"
        },
        {
         "legendgroup": "Pakistan",
         "line": {
          "color": "#FF97FF",
          "dash": "solid",
          "width": 2.5
         },
         "marker": {
          "symbol": "circle"
         },
         "mode": "markers+lines",
         "name": "Pakistan",
         "showlegend": true,
         "type": "scattergl",
         "x": [
          1949,
          1950,
          1951,
          1952,
          1953,
          1954,
          1955,
          1956,
          1957,
          1958,
          1959,
          1960,
          1961,
          1962,
          1963,
          1964,
          1965,
          1966,
          1967,
          1968,
          1969,
          1970,
          1971,
          1972,
          1973,
          1974,
          1975,
          1976,
          1977,
          1978,
          1979,
          1980,
          1981,
          1982,
          1983,
          1984,
          1985,
          1986,
          1987,
          1988,
          1989,
          1990,
          1991,
          1992,
          1993,
          1994,
          1995,
          1996,
          1997,
          1998,
          1999,
          2000,
          2001,
          2002,
          2003,
          2004,
          2005,
          2006,
          2007,
          2008,
          2009,
          2010,
          2011,
          2012,
          2013,
          2014,
          2015,
          2016
         ],
         "xaxis": "x",
         "y": [
          7.6071234,
          7.7196255,
          8.8263407,
          10.276578,
          8.9630175,
          7.1787353,
          11.221792,
          7.3768463,
          6.0975661,
          6.0021582,
          5.9931145,
          5.4930248,
          5.0730696,
          4.6277652,
          4.7387137,
          4.926825,
          7.291677,
          8.34723,
          6.3045278,
          5.989038,
          6.273447,
          6.007184,
          6.8364716,
          4.8932042,
          7.4339023,
          6.8232369,
          6.5516491,
          5.9957633,
          5.8043399,
          5.5374198,
          6.4753489,
          6.507618,
          5.8162231,
          7.1522174,
          6.5199909,
          6.2490277,
          6.570878,
          7.1111121,
          7.7130375,
          6.1796718,
          6.4119515,
          7.2344632,
          7.0829973,
          7.35431,
          6.4019165,
          6.8983727,
          6.0050507,
          5.7630477,
          6.2681799,
          6.5522189,
          5.5942936,
          3.4057832,
          3.3117113,
          3.7075107,
          3.7532821,
          3.4048462,
          3.7109475,
          3.0225587,
          2.9710305,
          2.5779004,
          2.255142,
          3.1556499,
          2.5563538,
          2.5792313,
          3.4709725,
          3.4765794,
          3.5449178,
          3.5629499
         ],
         "yaxis": "y"
        },
        {
         "legendgroup": "Russia",
         "line": {
          "color": "#FECB52",
          "dash": "solid",
          "width": 2.5
         },
         "marker": {
          "symbol": "circle"
         },
         "mode": "markers+lines",
         "name": "Russia",
         "showlegend": true,
         "type": "scattergl",
         "x": [
          1885,
          1886,
          1887,
          1888,
          1889,
          1890,
          1891,
          1892,
          1893,
          1894,
          1895,
          1896,
          1897,
          1898,
          1899,
          1900,
          1901,
          1902,
          1903,
          1904,
          1905,
          1906,
          1907,
          1908,
          1909,
          1910,
          1911,
          1912,
          1913,
          1914,
          1915,
          1916,
          1919,
          1920,
          1921,
          1922,
          1923,
          1924,
          1925,
          1926,
          1927,
          1928,
          1929,
          1930,
          1931,
          1932,
          1933,
          1934,
          1935,
          1936,
          1937,
          1938,
          1939,
          1940,
          1945,
          1946,
          1947,
          1948,
          1949,
          1950,
          1951,
          1952,
          1953,
          1954,
          1955,
          1956,
          1957,
          1958,
          1959,
          1960,
          1961,
          1962,
          1963,
          1964,
          1965,
          1966,
          1967,
          1968,
          1969,
          1970,
          1971,
          1972,
          1973,
          1974,
          1975,
          1976,
          1977,
          1978,
          1979,
          1980,
          1981,
          1982,
          1983,
          1984,
          1985,
          1986,
          1987,
          1988,
          1989,
          1990,
          1992,
          1993,
          1994,
          1995,
          1996,
          1997,
          1998,
          1999,
          2000,
          2001,
          2002,
          2003,
          2004,
          2005,
          2006,
          2007,
          2008,
          2009,
          2010,
          2011,
          2012,
          2013,
          2014,
          2015,
          2016
         ],
         "xaxis": "x",
         "y": [
          3.9617696,
          4.3222485,
          3.6042614,
          3.3660614,
          3.8177435,
          3.8329251,
          4.7478809,
          3.9688499,
          3.8647473,
          3.8670459,
          4.3358016,
          4.0406661,
          4.0368538,
          3.5247006,
          3.634515,
          3.6899099,
          3.6438212,
          3.4172983,
          3.7846291,
          3.563287,
          12.7029,
          6.8514719,
          4.8826976,
          3.7090757,
          3.4841383,
          3.3940766,
          3.5449717,
          3.510036,
          3.9716549,
          10.326885,
          52.859562,
          96.724442,
          189.71581,
          32.183701,
          51.873283,
          48.339283,
          21.703045,
          17.200268,
          20.734747,
          21.276604,
          23.74194,
          25.549881,
          34.323776,
          36.317348,
          25.231665,
          9.6581049,
          6.7223229,
          4.9851632,
          5.4954958,
          7.8095713,
          8.2284985,
          12.515832,
          12.725237,
          11.153723,
          13.622218,
          20.32296,
          12.900574,
          13.472839,
          14.070441,
          16.726439,
          21.768183,
          22.946987,
          27.487848,
          29.674959,
          28.728203,
          19.832771,
          17.88493,
          17.187403,
          18.415806,
          18.532383,
          20.800936,
          22.07292,
          20.296082,
          18.949493,
          17.353783,
          16.91268,
          16.83209,
          18.751354,
          19.019056,
          17.842552,
          18.091772,
          17.192099,
          15.618785,
          17.660259,
          18.516088,
          19.956537,
          20.166887,
          19.380743,
          19.925058,
          21.351622,
          24.156324,
          24.649313,
          25.16931,
          27.989294,
          29.785791,
          30.393316,
          34.009827,
          36.64373,
          13.782345,
          16.484407,
          10.192574,
          6.6840377,
          24.439604,
          20.727201,
          18.873848,
          15.794971,
          21.060593,
          28.993061,
          19.995914,
          20.768166,
          14.685868,
          15.128324,
          10.399539,
          2.4544151,
          2.4784501,
          2.4772294,
          2.4168465,
          3.116436,
          2.7502506,
          2.5376613,
          2.6986346,
          3.9608977,
          4.1041842,
          4.8627572,
          5.3981905
         ],
         "yaxis": "y"
        },
        {
         "legendgroup": "Saudi Arabia",
         "line": {
          "color": "#636efa",
          "dash": "solid",
          "width": 2.5
         },
         "marker": {
          "symbol": "circle"
         },
         "mode": "markers+lines",
         "name": "Saudi Arabia",
         "showlegend": true,
         "type": "scattergl",
         "x": [
          1951,
          1952,
          1953,
          1954,
          1955,
          1957,
          1958,
          1959,
          1960,
          1961,
          1962,
          1963,
          1964,
          1965,
          1966,
          1967,
          1968,
          1969,
          1970,
          1971,
          1972,
          1973,
          1974,
          1975,
          1976,
          1977,
          1978,
          1979,
          1980,
          1981,
          1982,
          1983,
          1984,
          1985,
          1986,
          1987,
          1988,
          1989,
          1990,
          1991,
          1992,
          1993,
          1994,
          1995,
          1996,
          1997,
          1998,
          1999,
          2000,
          2001,
          2002,
          2003,
          2004,
          2005,
          2006,
          2007,
          2008,
          2009,
          2010,
          2011,
          2012,
          2013,
          2014,
          2015,
          2016
         ],
         "xaxis": "x",
         "y": [
          3.7161362,
          2.8185728,
          4.9173946,
          15.851934,
          18.485138,
          9.8836679,
          20.982588,
          6.453311,
          5.5455503,
          4.8553882,
          3.6857967,
          4.5085955,
          5.311552,
          5.0082235,
          6.1567421,
          9.2318401,
          9.4196072,
          8.7853079,
          7.9371018,
          7.3552794,
          8.0833139,
          8.7375336,
          4.4629188,
          8.911397,
          11.530221,
          12.072227,
          14.160802,
          13.907475,
          11.688757,
          13.124942,
          17.630846,
          16.966034,
          18.855724,
          16.860292,
          19.879555,
          18.895031,
          15.359489,
          15.381891,
          19.761187,
          26.940895,
          10.562075,
          13.236814,
          10.819319,
          12.068379,
          11.231079,
          10.9938,
          14.602918,
          13.590981,
          11.685715,
          13.257504,
          9.7900152,
          8.7240858,
          8.0765448,
          7.718019,
          7.8244705,
          8.5165586,
          7.2909865,
          9.5715036,
          8.5732136,
          7.2439198,
          7.702136,
          8.9761276,
          10.677909,
          13.325673,
          9.8497868
         ],
         "yaxis": "y"
        },
        {
         "legendgroup": "United Kingdom",
         "line": {
          "color": "#EF553B",
          "dash": "solid",
          "width": 2.5
         },
         "marker": {
          "symbol": "circle"
         },
         "mode": "markers+lines",
         "name": "United Kingdom",
         "showlegend": true,
         "type": "scattergl",
         "x": [
          1827,
          1828,
          1829,
          1830,
          1831,
          1832,
          1833,
          1834,
          1835,
          1836,
          1837,
          1838,
          1839,
          1840,
          1841,
          1842,
          1843,
          1844,
          1845,
          1846,
          1847,
          1848,
          1849,
          1850,
          1851,
          1852,
          1853,
          1854,
          1855,
          1856,
          1857,
          1858,
          1859,
          1860,
          1861,
          1862,
          1863,
          1864,
          1865,
          1866,
          1867,
          1868,
          1869,
          1870,
          1871,
          1872,
          1873,
          1874,
          1875,
          1876,
          1877,
          1878,
          1879,
          1880,
          1881,
          1882,
          1883,
          1884,
          1885,
          1886,
          1887,
          1888,
          1889,
          1890,
          1891,
          1892,
          1893,
          1894,
          1895,
          1896,
          1897,
          1898,
          1899,
          1900,
          1901,
          1902,
          1903,
          1904,
          1905,
          1906,
          1907,
          1908,
          1909,
          1910,
          1911,
          1912,
          1913,
          1914,
          1915,
          1916,
          1917,
          1918,
          1919,
          1920,
          1921,
          1922,
          1923,
          1924,
          1925,
          1926,
          1927,
          1928,
          1929,
          1930,
          1931,
          1932,
          1933,
          1934,
          1935,
          1936,
          1937,
          1938,
          1939,
          1940,
          1941,
          1942,
          1943,
          1944,
          1945,
          1946,
          1947,
          1948,
          1949,
          1950,
          1951,
          1952,
          1953,
          1954,
          1955,
          1956,
          1957,
          1958,
          1959,
          1960,
          1961,
          1962,
          1963,
          1964,
          1965,
          1966,
          1967,
          1968,
          1969,
          1970,
          1971,
          1972,
          1973,
          1974,
          1975,
          1976,
          1977,
          1978,
          1979,
          1980,
          1981,
          1982,
          1983,
          1984,
          1985,
          1986,
          1987,
          1988,
          1989,
          1990,
          1991,
          1992,
          1993,
          1994,
          1995,
          1996,
          1997,
          1998,
          1999,
          2000,
          2001,
          2002,
          2003,
          2004,
          2005,
          2006,
          2007,
          2008,
          2009,
          2010,
          2011,
          2012,
          2013,
          2014,
          2015,
          2016
         ],
         "xaxis": "x",
         "y": [
          2.8163221,
          2.4479291,
          2.5627072,
          2.177413,
          2.3296862,
          2.3309944,
          2.1235538,
          1.9447256,
          1.6492983,
          1.6048671,
          1.7911084,
          1.731474,
          1.93143,
          2.02054,
          2.2646687,
          2.4707098,
          2.3863881,
          2.1031368,
          2.3067732,
          2.542949,
          2.6556013,
          2.9367466,
          2.3831511,
          2.4807417,
          2.3368616,
          2.004519,
          1.5761327,
          11.658839,
          5.752408,
          4.7514796,
          2.8294058,
          3.2242072,
          3.6172462,
          3.5425525,
          3.663708,
          3.3926721,
          2.6892123,
          2.453186,
          2.4192815,
          2.3220274,
          2.9592233,
          2.990828,
          2.3385017,
          1.9409912,
          1.427431,
          1.6272951,
          1.6302344,
          1.6382861,
          1.6946186,
          1.815053,
          2.0601151,
          2.1896958,
          2.1997373,
          1.7609196,
          1.7980691,
          1.8727981,
          1.899611,
          2.1745176,
          3.1241579,
          2.3990211,
          2.170579,
          2.0357091,
          2.0589488,
          2.0528433,
          2.0596952,
          2.2683988,
          2.1211948,
          2.2350404,
          2.3499672,
          2.245414,
          2.1774135,
          2.2721994,
          3.5128248,
          6.3441381,
          6.1751723,
          4.9013119,
          3.5300374,
          3.1746411,
          2.8529501,
          2.6512053,
          2.5180786,
          2.5735953,
          2.7549708,
          2.8699532,
          2.9325998,
          2.9203694,
          2.7989256,
          13.893056,
          33.224625,
          37.964241,
          37.312393,
          33.294846,
          3.0670996,
          6.7501893,
          4.3639927,
          2.7810354,
          3.0025346,
          3.029403,
          2.6667631,
          2.6632943,
          2.5407813,
          2.4265215,
          2.3463974,
          2.2827539,
          2.501637,
          2.2074296,
          1.8384215,
          2.3727636,
          2.7936666,
          3.6000891,
          4.7233291,
          6.929543,
          30.074472,
          36.126053,
          32.331875,
          35.229141,
          37.756893,
          39.571167,
          42.551407,
          44.162189,
          15.332913,
          7.1830463,
          6.8674059,
          6.4485297,
          7.834199,
          9.7802639,
          9.5848265,
          8.7184229,
          8.0105,
          7.7285142,
          7.0928121,
          6.893764,
          6.51266,
          6.3887744,
          6.2420349,
          6.3008199,
          6.1316233,
          6.0049839,
          5.8059659,
          5.6467338,
          5.7172775,
          5.3732944,
          4.8918858,
          4.4970541,
          4.6118464,
          4.783721,
          4.4767618,
          4.716146,
          4.7102761,
          4.7411013,
          4.5159292,
          4.3472533,
          4.359457,
          4.7293134,
          4.7094893,
          4.6848259,
          5.0787263,
          5.0214624,
          4.8969254,
          4.5430794,
          4.2515006,
          3.5024214,
          3.3681042,
          3.5049775,
          3.5261581,
          3.5651803,
          3.2009597,
          3.1002982,
          2.6987643,
          2.6970241,
          2.4689903,
          2.4763813,
          2.3231897,
          2.2901804,
          2.2598183,
          2.2646992,
          2.2257817,
          2.1798205,
          2.3511906,
          2.3115013,
          2.1288795,
          2.1578751,
          2.5420406,
          2.4043717,
          2.3098292,
          2.3214355,
          2.0908842,
          1.9721341,
          1.8825753,
          1.8437858
         ],
         "yaxis": "y"
        },
        {
         "legendgroup": "United States",
         "line": {
          "color": "#00cc96",
          "dash": "solid",
          "width": 2.5
         },
         "marker": {
          "symbol": "circle"
         },
         "mode": "markers+lines",
         "name": "United States",
         "showlegend": true,
         "type": "scattergl",
         "x": [
          1827,
          1828,
          1829,
          1830,
          1831,
          1832,
          1833,
          1834,
          1835,
          1836,
          1837,
          1838,
          1839,
          1840,
          1841,
          1842,
          1843,
          1844,
          1845,
          1846,
          1847,
          1848,
          1849,
          1850,
          1851,
          1852,
          1853,
          1854,
          1855,
          1856,
          1857,
          1858,
          1859,
          1860,
          1861,
          1862,
          1863,
          1864,
          1865,
          1866,
          1867,
          1868,
          1869,
          1870,
          1871,
          1872,
          1873,
          1874,
          1875,
          1876,
          1877,
          1878,
          1879,
          1880,
          1881,
          1882,
          1883,
          1884,
          1885,
          1886,
          1887,
          1888,
          1889,
          1890,
          1891,
          1892,
          1893,
          1894,
          1895,
          1896,
          1897,
          1898,
          1899,
          1900,
          1901,
          1902,
          1903,
          1904,
          1905,
          1906,
          1907,
          1908,
          1909,
          1910,
          1911,
          1912,
          1913,
          1914,
          1915,
          1916,
          1917,
          1918,
          1919,
          1920,
          1921,
          1922,
          1923,
          1924,
          1925,
          1926,
          1927,
          1928,
          1929,
          1930,
          1931,
          1932,
          1933,
          1934,
          1935,
          1936,
          1937,
          1938,
          1939,
          1940,
          1941,
          1942,
          1943,
          1944,
          1945,
          1946,
          1947,
          1948,
          1949,
          1950,
          1951,
          1952,
          1953,
          1954,
          1955,
          1956,
          1957,
          1958,
          1959,
          1960,
          1961,
          1962,
          1963,
          1964,
          1965,
          1966,
          1967,
          1968,
          1969,
          1970,
          1971,
          1972,
          1973,
          1974,
          1975,
          1976,
          1977,
          1978,
          1979,
          1980,
          1981,
          1982,
          1983,
          1984,
          1985,
          1986,
          1987,
          1988,
          1989,
          1990,
          1991,
          1992,
          1993,
          1994,
          1995,
          1996,
          1997,
          1998,
          1999,
          2000,
          2001,
          2002,
          2003,
          2004,
          2005,
          2006,
          2007,
          2008,
          2009,
          2010,
          2011,
          2012,
          2013,
          2014,
          2015,
          2016
         ],
         "xaxis": "x",
         "y": [
          0.89610177,
          0.89120245,
          0.87715173,
          0.78604037,
          0.84756881,
          0.81601673,
          1.0107223,
          0.78876352,
          0.72419184,
          0.83734906,
          1.0241538,
          0.94249463,
          0.60384774,
          0.87515885,
          0.91886437,
          0.89253694,
          0.41641837,
          0.69431835,
          0.92597276,
          2.2174325,
          1.4781412,
          1.6260593,
          0.70816362,
          0.81188303,
          0.63589817,
          0.67565846,
          0.67977446,
          0.75813133,
          0.72411531,
          0.74201763,
          0.87727094,
          0.86627787,
          0.62426472,
          0.78045601,
          9.8037596,
          13.009072,
          11.001101,
          16.433056,
          2.3493264,
          1.3496898,
          2.4605753,
          1.6727867,
          1.3557192,
          0.93882209,
          0.84110272,
          0.93332958,
          0.94231439,
          0.81645781,
          0.79513848,
          0.6949423,
          0.53534299,
          0.6570254,
          0.54081857,
          0.52858329,
          0.49267954,
          0.51509857,
          0.44557595,
          0.46674743,
          0.40447134,
          0.41043803,
          0.39352012,
          0.44001809,
          0.45928726,
          0.4722532,
          0.47855183,
          0.46195078,
          0.53006381,
          0.54659426,
          0.47116771,
          0.51010305,
          0.90211231,
          1.5927937,
          0.95300514,
          0.97156817,
          0.78216761,
          0.79642177,
          0.81399202,
          0.89976531,
          0.75465584,
          0.67512602,
          0.83489335,
          0.86675686,
          0.84132469,
          0.80539882,
          0.80134338,
          0.76053965,
          0.77401274,
          0.68757784,
          0.65987569,
          0.55359828,
          1.0926749,
          9.1588297,
          14.171536,
          1.8596381,
          1.5013632,
          1.1612357,
          0.7865904,
          0.64942551,
          0.64492494,
          0.57021761,
          0.61847436,
          0.6898883,
          0.67045563,
          0.75830436,
          0.90354884,
          1.0790306,
          1.0018222,
          1.2020745,
          1.0853765,
          1.098453,
          1.1104553,
          1.2948797,
          1.047736,
          1.6087053,
          4.8700104,
          15.665243,
          35.508698,
          38.740452,
          39.418385,
          19.809343,
          5.7272816,
          3.9887176,
          5.0899267,
          4.8497648,
          9.6164656,
          13.037146,
          12.676534,
          10.900977,
          9.5238066,
          9.2974262,
          9.3972778,
          9.3984966,
          8.8975039,
          8.3303432,
          8.4803114,
          8.6326895,
          8.1882734,
          7.4877496,
          6.9782729,
          8.3111496,
          8.7668905,
          8.5883551,
          8.0179167,
          7.2459188,
          6.3894496,
          6.0387678,
          5.4917517,
          5.5410905,
          5.3437572,
          4.8262897,
          4.839066,
          4.6201892,
          4.6258478,
          5.0231819,
          5.2482266,
          5.8498349,
          5.9629507,
          5.8347502,
          5.5805011,
          5.7691016,
          5.6094933,
          5.3630757,
          5.2055426,
          4.8240647,
          4.2295957,
          4.3605433,
          4.3264241,
          4.0031824,
          3.6265473,
          3.4170172,
          3.204025,
          3.0782883,
          3.0225298,
          2.9421968,
          3.0311017,
          3.1718705,
          3.5133162,
          3.7126551,
          3.7772443,
          3.7609031,
          3.8175142,
          4.1496344,
          4.5684576,
          4.637135,
          4.4241757,
          4.0405612,
          3.8325098,
          3.5066428,
          3.3044369,
          3.2914166
         ],
         "yaxis": "y"
        }
       ],
       "layout": {
        "height": 700,
        "hovermode": "x unified",
        "legend": {
         "title": {
          "text": "Entity"
         },
         "tracegroupgap": 0,
         "x": 0.01,
         "xanchor": "left",
         "y": 0.99,
         "yanchor": "top"
        },
        "template": {
         "data": {
          "bar": [
           {
            "error_x": {
             "color": "#2a3f5f"
            },
            "error_y": {
             "color": "#2a3f5f"
            },
            "marker": {
             "line": {
              "color": "#E5ECF6",
              "width": 0.5
             },
             "pattern": {
              "fillmode": "overlay",
              "size": 10,
              "solidity": 0.2
             }
            },
            "type": "bar"
           }
          ],
          "barpolar": [
           {
            "marker": {
             "line": {
              "color": "#E5ECF6",
              "width": 0.5
             },
             "pattern": {
              "fillmode": "overlay",
              "size": 10,
              "solidity": 0.2
             }
            },
            "type": "barpolar"
           }
          ],
          "carpet": [
           {
            "aaxis": {
             "endlinecolor": "#2a3f5f",
             "gridcolor": "white",
             "linecolor": "white",
             "minorgridcolor": "white",
             "startlinecolor": "#2a3f5f"
            },
            "baxis": {
             "endlinecolor": "#2a3f5f",
             "gridcolor": "white",
             "linecolor": "white",
             "minorgridcolor": "white",
             "startlinecolor": "#2a3f5f"
            },
            "type": "carpet"
           }
          ],
          "choropleth": [
           {
            "colorbar": {
             "outlinewidth": 0,
             "ticks": ""
            },
            "type": "choropleth"
           }
          ],
          "contour": [
           {
            "colorbar": {
             "outlinewidth": 0,
             "ticks": ""
            },
            "colorscale": [
             [
              0,
              "#0d0887"
             ],
             [
              0.1111111111111111,
              "#46039f"
             ],
             [
              0.2222222222222222,
              "#7201a8"
             ],
             [
              0.3333333333333333,
              "#9c179e"
             ],
             [
              0.4444444444444444,
              "#bd3786"
             ],
             [
              0.5555555555555556,
              "#d8576b"
             ],
             [
              0.6666666666666666,
              "#ed7953"
             ],
             [
              0.7777777777777778,
              "#fb9f3a"
             ],
             [
              0.8888888888888888,
              "#fdca26"
             ],
             [
              1,
              "#f0f921"
             ]
            ],
            "type": "contour"
           }
          ],
          "contourcarpet": [
           {
            "colorbar": {
             "outlinewidth": 0,
             "ticks": ""
            },
            "type": "contourcarpet"
           }
          ],
          "heatmap": [
           {
            "colorbar": {
             "outlinewidth": 0,
             "ticks": ""
            },
            "colorscale": [
             [
              0,
              "#0d0887"
             ],
             [
              0.1111111111111111,
              "#46039f"
             ],
             [
              0.2222222222222222,
              "#7201a8"
             ],
             [
              0.3333333333333333,
              "#9c179e"
             ],
             [
              0.4444444444444444,
              "#bd3786"
             ],
             [
              0.5555555555555556,
              "#d8576b"
             ],
             [
              0.6666666666666666,
              "#ed7953"
             ],
             [
              0.7777777777777778,
              "#fb9f3a"
             ],
             [
              0.8888888888888888,
              "#fdca26"
             ],
             [
              1,
              "#f0f921"
             ]
            ],
            "type": "heatmap"
           }
          ],
          "heatmapgl": [
           {
            "colorbar": {
             "outlinewidth": 0,
             "ticks": ""
            },
            "colorscale": [
             [
              0,
              "#0d0887"
             ],
             [
              0.1111111111111111,
              "#46039f"
             ],
             [
              0.2222222222222222,
              "#7201a8"
             ],
             [
              0.3333333333333333,
              "#9c179e"
             ],
             [
              0.4444444444444444,
              "#bd3786"
             ],
             [
              0.5555555555555556,
              "#d8576b"
             ],
             [
              0.6666666666666666,
              "#ed7953"
             ],
             [
              0.7777777777777778,
              "#fb9f3a"
             ],
             [
              0.8888888888888888,
              "#fdca26"
             ],
             [
              1,
              "#f0f921"
             ]
            ],
            "type": "heatmapgl"
           }
          ],
          "histogram": [
           {
            "marker": {
             "pattern": {
              "fillmode": "overlay",
              "size": 10,
              "solidity": 0.2
             }
            },
            "type": "histogram"
           }
          ],
          "histogram2d": [
           {
            "colorbar": {
             "outlinewidth": 0,
             "ticks": ""
            },
            "colorscale": [
             [
              0,
              "#0d0887"
             ],
             [
              0.1111111111111111,
              "#46039f"
             ],
             [
              0.2222222222222222,
              "#7201a8"
             ],
             [
              0.3333333333333333,
              "#9c179e"
             ],
             [
              0.4444444444444444,
              "#bd3786"
             ],
             [
              0.5555555555555556,
              "#d8576b"
             ],
             [
              0.6666666666666666,
              "#ed7953"
             ],
             [
              0.7777777777777778,
              "#fb9f3a"
             ],
             [
              0.8888888888888888,
              "#fdca26"
             ],
             [
              1,
              "#f0f921"
             ]
            ],
            "type": "histogram2d"
           }
          ],
          "histogram2dcontour": [
           {
            "colorbar": {
             "outlinewidth": 0,
             "ticks": ""
            },
            "colorscale": [
             [
              0,
              "#0d0887"
             ],
             [
              0.1111111111111111,
              "#46039f"
             ],
             [
              0.2222222222222222,
              "#7201a8"
             ],
             [
              0.3333333333333333,
              "#9c179e"
             ],
             [
              0.4444444444444444,
              "#bd3786"
             ],
             [
              0.5555555555555556,
              "#d8576b"
             ],
             [
              0.6666666666666666,
              "#ed7953"
             ],
             [
              0.7777777777777778,
              "#fb9f3a"
             ],
             [
              0.8888888888888888,
              "#fdca26"
             ],
             [
              1,
              "#f0f921"
             ]
            ],
            "type": "histogram2dcontour"
           }
          ],
          "mesh3d": [
           {
            "colorbar": {
             "outlinewidth": 0,
             "ticks": ""
            },
            "type": "mesh3d"
           }
          ],
          "parcoords": [
           {
            "line": {
             "colorbar": {
              "outlinewidth": 0,
              "ticks": ""
             }
            },
            "type": "parcoords"
           }
          ],
          "pie": [
           {
            "automargin": true,
            "type": "pie"
           }
          ],
          "scatter": [
           {
            "fillpattern": {
             "fillmode": "overlay",
             "size": 10,
             "solidity": 0.2
            },
            "type": "scatter"
           }
          ],
          "scatter3d": [
           {
            "line": {
             "colorbar": {
              "outlinewidth": 0,
              "ticks": ""
             }
            },
            "marker": {
             "colorbar": {
              "outlinewidth": 0,
              "ticks": ""
             }
            },
            "type": "scatter3d"
           }
          ],
          "scattercarpet": [
           {
            "marker": {
             "colorbar": {
              "outlinewidth": 0,
              "ticks": ""
             }
            },
            "type": "scattercarpet"
           }
          ],
          "scattergeo": [
           {
            "marker": {
             "colorbar": {
              "outlinewidth": 0,
              "ticks": ""
             }
            },
            "type": "scattergeo"
           }
          ],
          "scattergl": [
           {
            "marker": {
             "colorbar": {
              "outlinewidth": 0,
              "ticks": ""
             }
            },
            "type": "scattergl"
           }
          ],
          "scattermapbox": [
           {
            "marker": {
             "colorbar": {
              "outlinewidth": 0,
              "ticks": ""
             }
            },
            "type": "scattermapbox"
           }
          ],
          "scatterpolar": [
           {
            "marker": {
             "colorbar": {
              "outlinewidth": 0,
              "ticks": ""
             }
            },
            "type": "scatterpolar"
           }
          ],
          "scatterpolargl": [
           {
            "marker": {
             "colorbar": {
              "outlinewidth": 0,
              "ticks": ""
             }
            },
            "type": "scatterpolargl"
           }
          ],
          "scatterternary": [
           {
            "marker": {
             "colorbar": {
              "outlinewidth": 0,
              "ticks": ""
             }
            },
            "type": "scatterternary"
           }
          ],
          "surface": [
           {
            "colorbar": {
             "outlinewidth": 0,
             "ticks": ""
            },
            "colorscale": [
             [
              0,
              "#0d0887"
             ],
             [
              0.1111111111111111,
              "#46039f"
             ],
             [
              0.2222222222222222,
              "#7201a8"
             ],
             [
              0.3333333333333333,
              "#9c179e"
             ],
             [
              0.4444444444444444,
              "#bd3786"
             ],
             [
              0.5555555555555556,
              "#d8576b"
             ],
             [
              0.6666666666666666,
              "#ed7953"
             ],
             [
              0.7777777777777778,
              "#fb9f3a"
             ],
             [
              0.8888888888888888,
              "#fdca26"
             ],
             [
              1,
              "#f0f921"
             ]
            ],
            "type": "surface"
           }
          ],
          "table": [
           {
            "cells": {
             "fill": {
              "color": "#EBF0F8"
             },
             "line": {
              "color": "white"
             }
            },
            "header": {
             "fill": {
              "color": "#C8D4E3"
             },
             "line": {
              "color": "white"
             }
            },
            "type": "table"
           }
          ]
         },
         "layout": {
          "annotationdefaults": {
           "arrowcolor": "#2a3f5f",
           "arrowhead": 0,
           "arrowwidth": 1
          },
          "autotypenumbers": "strict",
          "coloraxis": {
           "colorbar": {
            "outlinewidth": 0,
            "ticks": ""
           }
          },
          "colorscale": {
           "diverging": [
            [
             0,
             "#8e0152"
            ],
            [
             0.1,
             "#c51b7d"
            ],
            [
             0.2,
             "#de77ae"
            ],
            [
             0.3,
             "#f1b6da"
            ],
            [
             0.4,
             "#fde0ef"
            ],
            [
             0.5,
             "#f7f7f7"
            ],
            [
             0.6,
             "#e6f5d0"
            ],
            [
             0.7,
             "#b8e186"
            ],
            [
             0.8,
             "#7fbc41"
            ],
            [
             0.9,
             "#4d9221"
            ],
            [
             1,
             "#276419"
            ]
           ],
           "sequential": [
            [
             0,
             "#0d0887"
            ],
            [
             0.1111111111111111,
             "#46039f"
            ],
            [
             0.2222222222222222,
             "#7201a8"
            ],
            [
             0.3333333333333333,
             "#9c179e"
            ],
            [
             0.4444444444444444,
             "#bd3786"
            ],
            [
             0.5555555555555556,
             "#d8576b"
            ],
            [
             0.6666666666666666,
             "#ed7953"
            ],
            [
             0.7777777777777778,
             "#fb9f3a"
            ],
            [
             0.8888888888888888,
             "#fdca26"
            ],
            [
             1,
             "#f0f921"
            ]
           ],
           "sequentialminus": [
            [
             0,
             "#0d0887"
            ],
            [
             0.1111111111111111,
             "#46039f"
            ],
            [
             0.2222222222222222,
             "#7201a8"
            ],
            [
             0.3333333333333333,
             "#9c179e"
            ],
            [
             0.4444444444444444,
             "#bd3786"
            ],
            [
             0.5555555555555556,
             "#d8576b"
            ],
            [
             0.6666666666666666,
             "#ed7953"
            ],
            [
             0.7777777777777778,
             "#fb9f3a"
            ],
            [
             0.8888888888888888,
             "#fdca26"
            ],
            [
             1,
             "#f0f921"
            ]
           ]
          },
          "colorway": [
           "#636efa",
           "#EF553B",
           "#00cc96",
           "#ab63fa",
           "#FFA15A",
           "#19d3f3",
           "#FF6692",
           "#B6E880",
           "#FF97FF",
           "#FECB52"
          ],
          "font": {
           "color": "#2a3f5f"
          },
          "geo": {
           "bgcolor": "white",
           "lakecolor": "white",
           "landcolor": "#E5ECF6",
           "showlakes": true,
           "showland": true,
           "subunitcolor": "white"
          },
          "hoverlabel": {
           "align": "left"
          },
          "hovermode": "closest",
          "mapbox": {
           "style": "light"
          },
          "paper_bgcolor": "white",
          "plot_bgcolor": "#E5ECF6",
          "polar": {
           "angularaxis": {
            "gridcolor": "white",
            "linecolor": "white",
            "ticks": ""
           },
           "bgcolor": "#E5ECF6",
           "radialaxis": {
            "gridcolor": "white",
            "linecolor": "white",
            "ticks": ""
           }
          },
          "scene": {
           "xaxis": {
            "backgroundcolor": "#E5ECF6",
            "gridcolor": "white",
            "gridwidth": 2,
            "linecolor": "white",
            "showbackground": true,
            "ticks": "",
            "zerolinecolor": "white"
           },
           "yaxis": {
            "backgroundcolor": "#E5ECF6",
            "gridcolor": "white",
            "gridwidth": 2,
            "linecolor": "white",
            "showbackground": true,
            "ticks": "",
            "zerolinecolor": "white"
           },
           "zaxis": {
            "backgroundcolor": "#E5ECF6",
            "gridcolor": "white",
            "gridwidth": 2,
            "linecolor": "white",
            "showbackground": true,
            "ticks": "",
            "zerolinecolor": "white"
           }
          },
          "shapedefaults": {
           "line": {
            "color": "#2a3f5f"
           }
          },
          "ternary": {
           "aaxis": {
            "gridcolor": "white",
            "linecolor": "white",
            "ticks": ""
           },
           "baxis": {
            "gridcolor": "white",
            "linecolor": "white",
            "ticks": ""
           },
           "bgcolor": "#E5ECF6",
           "caxis": {
            "gridcolor": "white",
            "linecolor": "white",
            "ticks": ""
           }
          },
          "title": {
           "x": 0.05
          },
          "xaxis": {
           "automargin": true,
           "gridcolor": "white",
           "linecolor": "white",
           "ticks": "",
           "title": {
            "standoff": 15
           },
           "zerolinecolor": "white",
           "zerolinewidth": 2
          },
          "yaxis": {
           "automargin": true,
           "gridcolor": "white",
           "linecolor": "white",
           "ticks": "",
           "title": {
            "standoff": 15
           },
           "zerolinecolor": "white",
           "zerolinewidth": 2
          }
         }
        },
        "title": {
         "text": "Military Expenditure as a Share of GDP Over Time for Selected Countries"
        },
        "width": 1000,
        "xaxis": {
         "anchor": "y",
         "autorange": true,
         "domain": [
          0,
          1
         ],
         "range": [
          1815.4478957915833,
          2027.5521042084167
         ],
         "title": {
          "text": "Year"
         },
         "type": "linear"
        },
        "yaxis": {
         "anchor": "x",
         "autorange": true,
         "domain": [
          0,
          1
         ],
         "range": [
          -12.055717974375677,
          201.9599771743757
         ],
         "title": {
          "text": "Military Expenditure (% of GDP)"
         },
         "type": "linear"
        }
       }
      },
      "image/png": "[encoded data removed]",
      "text/html": [
       "<div>                            <div id=\"4ee4af96-fc2b-4876-8754-4c541dbf6ae7\" class=\"plotly-graph-div\" style=\"height:700px; width:1000px;\"></div>            <script type=\"text/javascript\">                require([\"plotly\"], function(Plotly) {                    window.PLOTLYENV=window.PLOTLYENV || {};                                    if (document.getElementById(\"4ee4af96-fc2b-4876-8754-4c541dbf6ae7\")) {                    Plotly.newPlot(                        \"4ee4af96-fc2b-4876-8754-4c541dbf6ae7\",                        [{\"legendgroup\":\"China\",\"line\":{\"color\":\"#636efa\",\"dash\":\"solid\",\"width\":2.5},\"marker\":{\"symbol\":\"circle\"},\"mode\":\"markers+lines\",\"name\":\"China\",\"showlegend\":true,\"x\":[1896,1897,1898,1899,1900,1901,1902,1903,1904,1905,1906,1911,1932,1933,1934,1935,1936,1949,1950,1951,1952,1953,1954,1955,1956,1957,1958,1959,1960,1961,1962,1963,1964,1965,1966,1967,1968,1969,1970,1971,1972,1973,1974,1975,1976,1977,1978,1979,1980,1981,1982,1983,1984,1985,1986,1987,1988,1989,1990,1991,1992,1993,1994,1995,1996,1997,1998,1999,2000,2001,2002,2003,2004,2005,2006,2007,2008,2009,2010,2011,2012,2013,2014,2015,2016],\"xaxis\":\"x\",\"y\":[0.33191907,0.33239028,1.2421138,1.2734176,1.2547387,0.56504524,0.85716742,0.85468775,0.77075297,1.043449,0.92517388,0.64915711,1.0402641,1.2444098,1.4778236,1.5401797,1.6823618,14.641767,15.078095,15.631783,11.569446,8.949296,8.4902859,6.5228848,12.53632,13.67202,10.458359,10.753507,11.336885,16.035683,19.929115,21.337257,21.817171,19.805592,21.046644,22.773848,25.579704,25.891972,26.026035,21.842558,20.010305,17.928694,18.820976,17.548674,20.815685,18.961962,23.561357,16.929384,15.005646,15.555025,16.185501,15.064635,9.1930609,2.0446906,1.9497066,2.0723879,1.8839394,1.9248037,1.6791791,4.9096551,5.6816521,6.1786013,5.1406336,4.4973412,4.1991286,3.8122077,3.722162,3.6613388,3.4801052,3.4560754,4.7064185,4.5692463,4.3389978,1.3156921,1.2881132,1.3098646,1.309129,1.3841835,1.2641772,1.203356,1.2131033,1.8723336,1.9153413,1.9349225,1.9229624],\"yaxis\":\"y\",\"type\":\"scattergl\"},{\"legendgroup\":\"Germany\",\"line\":{\"color\":\"#EF553B\",\"dash\":\"solid\",\"width\":2.5},\"marker\":{\"symbol\":\"circle\"},\"mode\":\"markers+lines\",\"name\":\"Germany\",\"showlegend\":true,\"x\":[1871,1872,1873,1874,1875,1876,1877,1878,1879,1880,1881,1882,1883,1884,1885,1886,1887,1888,1889,1890,1891,1892,1893,1894,1895,1896,1897,1898,1899,1900,1901,1902,1903,1904,1905,1906,1907,1908,1909,1910,1911,1912,1913,1914,1915,1916,1917,1918,1919,1920,1921,1922,1923,1924,1925,1926,1927,1928,1929,1930,1931,1932,1933,1934,1935,1936,1937,1938,1939,1940,1941,1942,1943,1944,1945,1991,1992,1993,1994,1995,1996,1997,1998,1999,2000,2001,2002,2003,2004,2005,2006,2007,2008,2009,2010,2011,2012,2013,2014,2015,2016],\"xaxis\":\"x\",\"y\":[3.864783,1.5872639,1.5793666,1.813211,2.2013466,2.1566944,2.3892539,2.1729178,2.3264778,2.2568653,2.3576963,2.2784193,2.1705415,2.1666579,2.0693889,2.1357903,3.0076194,3.6303208,2.1742551,3.0367088,2.4508021,2.629508,2.8408091,2.6621375,2.3693163,2.1992481,2.6103787,2.3558741,2.2462084,2.3155622,2.5515347,2.5940864,2.3347826,2.2124808,2.248637,2.2648706,2.3301792,2.6335182,2.5388541,2.5359259,2.4426489,2.3482447,3.2044671,15.4289,55.609142,48.526855,56.460682,59.354408,0.65574867,0.52396464,0.52097929,0.1884492,6.8856802,0.81560451,0.86474764,0.97297251,0.82107717,0.85758179,0.83807617,0.93222255,1.0861121,1.261035,2.6632423,2.6911571,5.2611966,6.9298906,8.6373663,17.528046,25.884411,44.193504,57.03196,71.850853,85.526726,94.501595,22.358713,1.7290972,1.5620664,1.7718184,1.5979275,1.5877414,1.5895547,1.4961632,1.5057224,1.4173682,1.4301361,1.3789521,1.4109691,1.4065043,1.3396235,1.3356247,1.2620054,1.2233907,1.2403972,1.3818117,1.3422763,1.2239957,1.154193,1.2239937,1.1884347,1.1836839,1.184881],\"yaxis\":\"y\",\"type\":\"scattergl\"},{\"legendgroup\":\"India\",\"line\":{\"color\":\"#00cc96\",\"dash\":\"solid\",\"width\":2.5},\"marker\":{\"symbol\":\"circle\"},\"mode\":\"markers+lines\",\"name\":\"India\",\"showlegend\":true,\"x\":[1949,1950,1951,1952,1953,1954,1955,1956,1957,1958,1959,1960,1961,1962,1963,1964,1965,1966,1967,1968,1969,1970,1971,1972,1973,1974,1975,1976,1977,1978,1979,1980,1981,1982,1983,1984,1985,1986,1987,1988,1989,1990,1991,1992,1993,1994,1995,1996,1997,1998,1999,2000,2001,2002,2003,2004,2005,2006,2007,2008,2009,2010,2011,2012,2013,2014,2015,2016],\"xaxis\":\"x\",\"y\":[2.1141231,1.8158357,1.8279688,1.9025347,1.8413329,2.0200825,1.8610646,1.7920676,2.2048469,2.0745063,1.9154246,1.5351182,1.5973275,2.1152391,3.1050956,2.9475796,2.9812589,4.173914,2.4702659,2.5013037,2.4052942,2.3779418,2.7993169,2.9272058,2.4865863,2.4403789,2.6345811,2.7422831,2.5139406,2.5277622,2.5797126,2.4019802,2.5285711,2.5800626,2.5581155,3.1828229,2.6489828,3.1435685,3.3887699,3.1743438,2.9629023,3.0759623,2.9265594,2.2699058,2.4598205,2.2903247,2.7250042,3.0190148,3.0240517,3.1683118,2.9761758,3.0938206,2.8677084,2.6179421,2.5042615,2.7452185,2.6021664,2.3589947,2.1391742,2.5547063,2.7895703,1.8063858,1.9875275,1.8241447,2.4727263,2.4967701,2.4051282,2.474853],\"yaxis\":\"y\",\"type\":\"scattergl\"},{\"legendgroup\":\"Iran\",\"line\":{\"color\":\"#ab63fa\",\"dash\":\"solid\",\"width\":2.5},\"marker\":{\"symbol\":\"circle\"},\"mode\":\"markers+lines\",\"name\":\"Iran\",\"showlegend\":true,\"x\":[1949,1950,1951,1952,1953,1954,1955,1956,1957,1958,1959,1960,1961,1962,1963,1964,1965,1966,1967,1968,1969,1970,1971,1972,1973,1974,1975,1976,1977,1978,1979,1980,1982,1983,1984,1985,1986,1987,1988,1989,1990,1991,1992,1993,1994,1995,1996,1997,1998,1999,2000,2001,2002,2003,2004,2005,2006,2007,2008,2009,2010,2011,2012,2013,2014,2015],\"xaxis\":\"x\",\"y\":[4.2924418,4.2084465,3.8707449,3.6130214,3.2991929,1.479863,2.1008241,2.7154732,3.2160027,4.7418389,5.4611402,4.3021493,4.1710114,3.9745166,3.8751729,4.0654082,4.4668436,4.6482677,5.4365811,6.1014452,6.4347377,6.7103791,5.3370843,6.3255882,6.706583,10.07056,12.779459,11.333755,9.8857079,11.703119,6.0316648,3.5839961,12.32669,9.5283308,12.359887,7.742775,2.8196745,6.6664138,8.0365086,7.1253777,2.5502083,4.7138734,2.0629678,2.3751049,3.2525342,3.1107495,2.8564944,4.1186404,5.3271418,5.0162363,3.6058893,3.7022684,2.3866551,2.7775214,3.0488381,3.3063409,3.2965486,2.2066162,2.3952024,2.1537859,2.2580106,3.2931924,4.2851443,2.3449309,2.327889,2.6913571],\"yaxis\":\"y\",\"type\":\"scattergl\"},{\"legendgroup\":\"Japan\",\"line\":{\"color\":\"#FFA15A\",\"dash\":\"solid\",\"width\":2.5},\"marker\":{\"symbol\":\"circle\"},\"mode\":\"markers+lines\",\"name\":\"Japan\",\"showlegend\":true,\"x\":[1868,1869,1870,1871,1872,1873,1874,1875,1876,1877,1878,1879,1880,1881,1882,1883,1884,1885,1886,1887,1888,1889,1890,1891,1892,1893,1894,1895,1896,1897,1898,1899,1900,1901,1902,1903,1904,1905,1906,1907,1908,1909,1910,1911,1912,1913,1914,1915,1916,1917,1918,1919,1920,1921,1922,1923,1924,1925,1926,1927,1928,1929,1930,1931,1932,1933,1934,1935,1936,1937,1938,1939,1940,1941,1942,1943,1944,1945,1952,1953,1954,1955,1956,1957,1958,1959,1960,1961,1962,1963,1964,1965,1966,1967,1968,1969,1970,1971,1972,1973,1974,1975,1976,1977,1978,1979,1980,1981,1982,1983,1984,1985,1986,1987,1988,1989,1990,1991,1992,1993,1994,1995,1996,1997,1998,1999,2000,2001,2002,2003,2004,2005,2006,2007,2008,2009,2010,2011,2012,2013,2014,2015,2016],\"xaxis\":\"x\",\"y\":[0.7034694,0.43514681,0.24375828,0.50431734,1.640775,1.4530393,1.7847881,1.4570787,1.2621367,1.0763744,1.1293277,1.2987105,1.3051999,1.3201998,1.3297216,1.5438504,1.5732484,1.4110301,2.5424836,2.680223,2.5963163,2.5382566,2.3476913,2.0639327,1.6306865,1.6302397,10.038968,7.6970482,4.3584614,5.9120398,5.3869038,5.1115208,5.7742219,4.3115482,3.5028381,5.8047466,23.334888,24.586185,11.825854,5.9900098,5.9135985,4.8689165,4.9325972,4.8088937,4.3583002,4.0039649,4.8537555,4.5934019,4.1193576,4.2169085,5.0595927,5.8287849,5.9805226,5.9604764,4.7667646,3.7823207,3.3793488,2.8913984,2.8665791,3.2053485,3.3228295,3.2240782,3.1886168,3.6401911,5.4416561,6.0179238,5.9759755,6.1374292,5.4227219,13.957245,22.32827,19.77582,20.174377,27.869568,34.730419,46.860527,98.93869,56.976517,1.5478774,2.0745702,1.8371167,1.4619681,1.3853631,1.3799118,1.3132684,1.2155603,1.0222564,0.94791132,1.0137373,0.97983474,0.95828444,0.93871212,0.91504198,0.86527783,0.82583201,0.80851507,0.79043132,0.95048255,0.84235281,0.73481518,0.84880167,0.87753332,0.85887188,0.77682167,0.7708047,0.96152782,0.85409284,0.95903623,0.98674804,0.9564684,0.98163158,1.0146562,1.0197185,1.0198336,0.94103897,0.99568689,0.92075187,0.92095536,0.99540854,0.94393414,0.96019071,0.94130093,0.96610528,0.94499427,0.98230964,0.91103077,0.95654291,0.94974071,0.98244351,0.99402285,0.96921718,0.95962811,0.94275725,0.94151527,0.94145459,1.0095333,0.98842281,1.0119153,0.9882955,0.95086586,0.96224338,0.9377712,0.93462622],\"yaxis\":\"y\",\"type\":\"scattergl\"},{\"legendgroup\":\"North Korea\",\"line\":{\"color\":\"#19d3f3\",\"dash\":\"solid\",\"width\":2.5},\"marker\":{\"symbol\":\"circle\"},\"mode\":\"markers+lines\",\"name\":\"North Korea\",\"showlegend\":true,\"x\":[1958,1960,1961,1962,1963,1964,1965,1966,1967,1968,1969,1970,1971,1972,1973,1974,1975,1976,1977,1978,1979,1980,1981,1982,1983,1984,1985,1986,1987,1988,1989,1990,1991,1992],\"xaxis\":\"x\",\"y\":[162.2589,11.21854,11.511482,11.060773,12.141149,12.544132,12.323329,12.216183,14.845423,18.58436,17.507292,16.428661,15.190254,9.0346031,10.076379,10.029973,8.9134607,9.2205744,9.1598654,9.2109804,9.143878,10.089933,12.422513,13.61689,14.269949,20.446199,15.796101,14.217779,14.920548,15.805225,13.976918,17.515871,23.313515,24.83876],\"yaxis\":\"y\",\"type\":\"scattergl\"},{\"legendgroup\":\"Norway\",\"line\":{\"color\":\"#FF6692\",\"dash\":\"solid\",\"width\":2.5},\"marker\":{\"symbol\":\"circle\"},\"mode\":\"markers+lines\",\"name\":\"Norway\",\"showlegend\":true,\"x\":[1905,1906,1907,1908,1909,1910,1911,1912,1913,1914,1915,1916,1917,1918,1919,1920,1921,1922,1923,1924,1925,1926,1927,1928,1929,1930,1931,1932,1933,1934,1935,1936,1937,1938,1939,1940,1945,1946,1947,1948,1949,1950,1951,1952,1953,1954,1955,1956,1957,1958,1959,1960,1961,1962,1963,1964,1965,1966,1967,1968,1969,1970,1971,1972,1973,1974,1975,1976,1977,1978,1979,1980,1981,1982,1983,1984,1985,1986,1987,1988,1989,1990,1991,1992,1993,1994,1995,1996,1997,1998,1999,2000,2001,2002,2003,2004,2005,2006,2007,2008,2009,2010,2011,2012,2013,2014,2015,2016],\"xaxis\":\"x\",\"y\":[6.4669318,6.1625586,6.3071218,7.5670023,6.5276594,6.0717835,6.1978354,1.2757839,1.0945854,1.5826436,1.0359671,0.75090402,0.72753191,0.98692447,1.0250657,0.87736869,1.2656621,0.9195869,1.094968,0.87441808,0.73415488,0.85128909,0.9953391,0.90665013,0.87271702,0.8526628,1.0323907,0.9869166,0.76655859,0.93108535,0.90791148,0.90956938,0.89105666,0.88190025,4.7135234,6.8418846,6.4599981,5.778091,4.2260456,1.8497192,2.7600775,2.1735132,2.7962458,3.6894529,4.6419311,4.5878215,3.6231349,3.2564909,3.3071754,3.1953924,3.2571657,2.854202,2.9252319,3.1562161,3.1469901,3.0710793,3.292151,3.1388445,3.0821471,3.3111463,3.1758142,3.0370185,2.9330547,2.8250816,2.6999669,2.6161509,2.7550263,2.707458,2.6838758,2.8071611,2.7307155,2.5857542,2.3828628,2.7056892,2.9918797,3.1692536,2.5971537,2.9841461,2.7405124,2.8762481,2.8890128,2.9062159,2.8296821,2.8324659,2.6503205,2.5134954,2.306987,2.2939951,2.0147371,2.1979449,1.997059,1.7039462,1.7049198,2.0768716,1.9721651,1.8478993,1.5816405,1.4340341,1.3826569,1.2597003,1.5956268,1.3834208,1.4048399,1.3966132,1.4140379,1.4722464,1.5042504,1.6191213],\"yaxis\":\"y\",\"type\":\"scattergl\"},{\"legendgroup\":\"Oman\",\"line\":{\"color\":\"#B6E880\",\"dash\":\"solid\",\"width\":2.5},\"marker\":{\"symbol\":\"circle\"},\"mode\":\"markers+lines\",\"name\":\"Oman\",\"showlegend\":true,\"x\":[1971,1972,1973,1974,1975,1976,1977,1978,1979,1980,1981,1982,1983,1984,1985,1986,1987,1988,1989,1990,1991,1992,1993,1994,1995,1996,1997,1998,1999,2000,2001,2002,2003,2004,2005,2006,2007,2008,2009,2010,2011,2012,2013,2014,2015,2016],\"xaxis\":\"x\",\"y\":[12.753335,17.709839,24.812899,20.73604,33.02338,30.512609,25.016953,27.966545,20.826233,19.663305,23.006798,22.227516,24.700258,24.031195,20.542459,21.284138,19.274429,16.497772,14.48712,11.832346,12.654934,14.36196,14.388726,15.946168,14.617315,12.799537,12.468572,12.712912,10.381655,10.745752,14.551878,12.471832,11.391343,10.343649,11.8779,8.787631,7.68715,7.6041322,8.2624435,7.1221194,6.3118653,8.7764072,14.806988,13.514465,14.384189,13.730983],\"yaxis\":\"y\",\"type\":\"scattergl\"},{\"legendgroup\":\"Pakistan\",\"line\":{\"color\":\"#FF97FF\",\"dash\":\"solid\",\"width\":2.5},\"marker\":{\"symbol\":\"circle\"},\"mode\":\"markers+lines\",\"name\":\"Pakistan\",\"showlegend\":true,\"x\":[1949,1950,1951,1952,1953,1954,1955,1956,1957,1958,1959,1960,1961,1962,1963,1964,1965,1966,1967,1968,1969,1970,1971,1972,1973,1974,1975,1976,1977,1978,1979,1980,1981,1982,1983,1984,1985,1986,1987,1988,1989,1990,1991,1992,1993,1994,1995,1996,1997,1998,1999,2000,2001,2002,2003,2004,2005,2006,2007,2008,2009,2010,2011,2012,2013,2014,2015,2016],\"xaxis\":\"x\",\"y\":[7.6071234,7.7196255,8.8263407,10.276578,8.9630175,7.1787353,11.221792,7.3768463,6.0975661,6.0021582,5.9931145,5.4930248,5.0730696,4.6277652,4.7387137,4.926825,7.291677,8.34723,6.3045278,5.989038,6.273447,6.007184,6.8364716,4.8932042,7.4339023,6.8232369,6.5516491,5.9957633,5.8043399,5.5374198,6.4753489,6.507618,5.8162231,7.1522174,6.5199909,6.2490277,6.570878,7.1111121,7.7130375,6.1796718,6.4119515,7.2344632,7.0829973,7.35431,6.4019165,6.8983727,6.0050507,5.7630477,6.2681799,6.5522189,5.5942936,3.4057832,3.3117113,3.7075107,3.7532821,3.4048462,3.7109475,3.0225587,2.9710305,2.5779004,2.255142,3.1556499,2.5563538,2.5792313,3.4709725,3.4765794,3.5449178,3.5629499],\"yaxis\":\"y\",\"type\":\"scattergl\"},{\"legendgroup\":\"Russia\",\"line\":{\"color\":\"#FECB52\",\"dash\":\"solid\",\"width\":2.5},\"marker\":{\"symbol\":\"circle\"},\"mode\":\"markers+lines\",\"name\":\"Russia\",\"showlegend\":true,\"x\":[1885,1886,1887,1888,1889,1890,1891,1892,1893,1894,1895,1896,1897,1898,1899,1900,1901,1902,1903,1904,1905,1906,1907,1908,1909,1910,1911,1912,1913,1914,1915,1916,1919,1920,1921,1922,1923,1924,1925,1926,1927,1928,1929,1930,1931,1932,1933,1934,1935,1936,1937,1938,1939,1940,1945,1946,1947,1948,1949,1950,1951,1952,1953,1954,1955,1956,1957,1958,1959,1960,1961,1962,1963,1964,1965,1966,1967,1968,1969,1970,1971,1972,1973,1974,1975,1976,1977,1978,1979,1980,1981,1982,1983,1984,1985,1986,1987,1988,1989,1990,1992,1993,1994,1995,1996,1997,1998,1999,2000,2001,2002,2003,2004,2005,2006,2007,2008,2009,2010,2011,2012,2013,2014,2015,2016],\"xaxis\":\"x\",\"y\":[3.9617696,4.3222485,3.6042614,3.3660614,3.8177435,3.8329251,4.7478809,3.9688499,3.8647473,3.8670459,4.3358016,4.0406661,4.0368538,3.5247006,3.634515,3.6899099,3.6438212,3.4172983,3.7846291,3.563287,12.7029,6.8514719,4.8826976,3.7090757,3.4841383,3.3940766,3.5449717,3.510036,3.9716549,10.326885,52.859562,96.724442,189.71581,32.183701,51.873283,48.339283,21.703045,17.200268,20.734747,21.276604,23.74194,25.549881,34.323776,36.317348,25.231665,9.6581049,6.7223229,4.9851632,5.4954958,7.8095713,8.2284985,12.515832,12.725237,11.153723,13.622218,20.32296,12.900574,13.472839,14.070441,16.726439,21.768183,22.946987,27.487848,29.674959,28.728203,19.832771,17.88493,17.187403,18.415806,18.532383,20.800936,22.07292,20.296082,18.949493,17.353783,16.91268,16.83209,18.751354,19.019056,17.842552,18.091772,17.192099,15.618785,17.660259,18.516088,19.956537,20.166887,19.380743,19.925058,21.351622,24.156324,24.649313,25.16931,27.989294,29.785791,30.393316,34.009827,36.64373,13.782345,16.484407,10.192574,6.6840377,24.439604,20.727201,18.873848,15.794971,21.060593,28.993061,19.995914,20.768166,14.685868,15.128324,10.399539,2.4544151,2.4784501,2.4772294,2.4168465,3.116436,2.7502506,2.5376613,2.6986346,3.9608977,4.1041842,4.8627572,5.3981905],\"yaxis\":\"y\",\"type\":\"scattergl\"},{\"legendgroup\":\"Saudi Arabia\",\"line\":{\"color\":\"#636efa\",\"dash\":\"solid\",\"width\":2.5},\"marker\":{\"symbol\":\"circle\"},\"mode\":\"markers+lines\",\"name\":\"Saudi Arabia\",\"showlegend\":true,\"x\":[1951,1952,1953,1954,1955,1957,1958,1959,1960,1961,1962,1963,1964,1965,1966,1967,1968,1969,1970,1971,1972,1973,1974,1975,1976,1977,1978,1979,1980,1981,1982,1983,1984,1985,1986,1987,1988,1989,1990,1991,1992,1993,1994,1995,1996,1997,1998,1999,2000,2001,2002,2003,2004,2005,2006,2007,2008,2009,2010,2011,2012,2013,2014,2015,2016],\"xaxis\":\"x\",\"y\":[3.7161362,2.8185728,4.9173946,15.851934,18.485138,9.8836679,20.982588,6.453311,5.5455503,4.8553882,3.6857967,4.5085955,5.311552,5.0082235,6.1567421,9.2318401,9.4196072,8.7853079,7.9371018,7.3552794,8.0833139,8.7375336,4.4629188,8.911397,11.530221,12.072227,14.160802,13.907475,11.688757,13.124942,17.630846,16.966034,18.855724,16.860292,19.879555,18.895031,15.359489,15.381891,19.761187,26.940895,10.562075,13.236814,10.819319,12.068379,11.231079,10.9938,14.602918,13.590981,11.685715,13.257504,9.7900152,8.7240858,8.0765448,7.718019,7.8244705,8.5165586,7.2909865,9.5715036,8.5732136,7.2439198,7.702136,8.9761276,10.677909,13.325673,9.8497868],\"yaxis\":\"y\",\"type\":\"scattergl\"},{\"legendgroup\":\"United Kingdom\",\"line\":{\"color\":\"#EF553B\",\"dash\":\"solid\",\"width\":2.5},\"marker\":{\"symbol\":\"circle\"},\"mode\":\"markers+lines\",\"name\":\"United Kingdom\",\"showlegend\":true,\"x\":[1827,1828,1829,1830,1831,1832,1833,1834,1835,1836,1837,1838,1839,1840,1841,1842,1843,1844,1845,1846,1847,1848,1849,1850,1851,1852,1853,1854,1855,1856,1857,1858,1859,1860,1861,1862,1863,1864,1865,1866,1867,1868,1869,1870,1871,1872,1873,1874,1875,1876,1877,1878,1879,1880,1881,1882,1883,1884,1885,1886,1887,1888,1889,1890,1891,1892,1893,1894,1895,1896,1897,1898,1899,1900,1901,1902,1903,1904,1905,1906,1907,1908,1909,1910,1911,1912,1913,1914,1915,1916,1917,1918,1919,1920,1921,1922,1923,1924,1925,1926,1927,1928,1929,1930,1931,1932,1933,1934,1935,1936,1937,1938,1939,1940,1941,1942,1943,1944,1945,1946,1947,1948,1949,1950,1951,1952,1953,1954,1955,1956,1957,1958,1959,1960,1961,1962,1963,1964,1965,1966,1967,1968,1969,1970,1971,1972,1973,1974,1975,1976,1977,1978,1979,1980,1981,1982,1983,1984,1985,1986,1987,1988,1989,1990,1991,1992,1993,1994,1995,1996,1997,1998,1999,2000,2001,2002,2003,2004,2005,2006,2007,2008,2009,2010,2011,2012,2013,2014,2015,2016],\"xaxis\":\"x\",\"y\":[2.8163221,2.4479291,2.5627072,2.177413,2.3296862,2.3309944,2.1235538,1.9447256,1.6492983,1.6048671,1.7911084,1.731474,1.93143,2.02054,2.2646687,2.4707098,2.3863881,2.1031368,2.3067732,2.542949,2.6556013,2.9367466,2.3831511,2.4807417,2.3368616,2.004519,1.5761327,11.658839,5.752408,4.7514796,2.8294058,3.2242072,3.6172462,3.5425525,3.663708,3.3926721,2.6892123,2.453186,2.4192815,2.3220274,2.9592233,2.990828,2.3385017,1.9409912,1.427431,1.6272951,1.6302344,1.6382861,1.6946186,1.815053,2.0601151,2.1896958,2.1997373,1.7609196,1.7980691,1.8727981,1.899611,2.1745176,3.1241579,2.3990211,2.170579,2.0357091,2.0589488,2.0528433,2.0596952,2.2683988,2.1211948,2.2350404,2.3499672,2.245414,2.1774135,2.2721994,3.5128248,6.3441381,6.1751723,4.9013119,3.5300374,3.1746411,2.8529501,2.6512053,2.5180786,2.5735953,2.7549708,2.8699532,2.9325998,2.9203694,2.7989256,13.893056,33.224625,37.964241,37.312393,33.294846,3.0670996,6.7501893,4.3639927,2.7810354,3.0025346,3.029403,2.6667631,2.6632943,2.5407813,2.4265215,2.3463974,2.2827539,2.501637,2.2074296,1.8384215,2.3727636,2.7936666,3.6000891,4.7233291,6.929543,30.074472,36.126053,32.331875,35.229141,37.756893,39.571167,42.551407,44.162189,15.332913,7.1830463,6.8674059,6.4485297,7.834199,9.7802639,9.5848265,8.7184229,8.0105,7.7285142,7.0928121,6.893764,6.51266,6.3887744,6.2420349,6.3008199,6.1316233,6.0049839,5.8059659,5.6467338,5.7172775,5.3732944,4.8918858,4.4970541,4.6118464,4.783721,4.4767618,4.716146,4.7102761,4.7411013,4.5159292,4.3472533,4.359457,4.7293134,4.7094893,4.6848259,5.0787263,5.0214624,4.8969254,4.5430794,4.2515006,3.5024214,3.3681042,3.5049775,3.5261581,3.5651803,3.2009597,3.1002982,2.6987643,2.6970241,2.4689903,2.4763813,2.3231897,2.2901804,2.2598183,2.2646992,2.2257817,2.1798205,2.3511906,2.3115013,2.1288795,2.1578751,2.5420406,2.4043717,2.3098292,2.3214355,2.0908842,1.9721341,1.8825753,1.8437858],\"yaxis\":\"y\",\"type\":\"scattergl\"},{\"legendgroup\":\"United States\",\"line\":{\"color\":\"#00cc96\",\"dash\":\"solid\",\"width\":2.5},\"marker\":{\"symbol\":\"circle\"},\"mode\":\"markers+lines\",\"name\":\"United States\",\"showlegend\":true,\"x\":[1827,1828,1829,1830,1831,1832,1833,1834,1835,1836,1837,1838,1839,1840,1841,1842,1843,1844,1845,1846,1847,1848,1849,1850,1851,1852,1853,1854,1855,1856,1857,1858,1859,1860,1861,1862,1863,1864,1865,1866,1867,1868,1869,1870,1871,1872,1873,1874,1875,1876,1877,1878,1879,1880,1881,1882,1883,1884,1885,1886,1887,1888,1889,1890,1891,1892,1893,1894,1895,1896,1897,1898,1899,1900,1901,1902,1903,1904,1905,1906,1907,1908,1909,1910,1911,1912,1913,1914,1915,1916,1917,1918,1919,1920,1921,1922,1923,1924,1925,1926,1927,1928,1929,1930,1931,1932,1933,1934,1935,1936,1937,1938,1939,1940,1941,1942,1943,1944,1945,1946,1947,1948,1949,1950,1951,1952,1953,1954,1955,1956,1957,1958,1959,1960,1961,1962,1963,1964,1965,1966,1967,1968,1969,1970,1971,1972,1973,1974,1975,1976,1977,1978,1979,1980,1981,1982,1983,1984,1985,1986,1987,1988,1989,1990,1991,1992,1993,1994,1995,1996,1997,1998,1999,2000,2001,2002,2003,2004,2005,2006,2007,2008,2009,2010,2011,2012,2013,2014,2015,2016],\"xaxis\":\"x\",\"y\":[0.89610177,0.89120245,0.87715173,0.78604037,0.84756881,0.81601673,1.0107223,0.78876352,0.72419184,0.83734906,1.0241538,0.94249463,0.60384774,0.87515885,0.91886437,0.89253694,0.41641837,0.69431835,0.92597276,2.2174325,1.4781412,1.6260593,0.70816362,0.81188303,0.63589817,0.67565846,0.67977446,0.75813133,0.72411531,0.74201763,0.87727094,0.86627787,0.62426472,0.78045601,9.8037596,13.009072,11.001101,16.433056,2.3493264,1.3496898,2.4605753,1.6727867,1.3557192,0.93882209,0.84110272,0.93332958,0.94231439,0.81645781,0.79513848,0.6949423,0.53534299,0.6570254,0.54081857,0.52858329,0.49267954,0.51509857,0.44557595,0.46674743,0.40447134,0.41043803,0.39352012,0.44001809,0.45928726,0.4722532,0.47855183,0.46195078,0.53006381,0.54659426,0.47116771,0.51010305,0.90211231,1.5927937,0.95300514,0.97156817,0.78216761,0.79642177,0.81399202,0.89976531,0.75465584,0.67512602,0.83489335,0.86675686,0.84132469,0.80539882,0.80134338,0.76053965,0.77401274,0.68757784,0.65987569,0.55359828,1.0926749,9.1588297,14.171536,1.8596381,1.5013632,1.1612357,0.7865904,0.64942551,0.64492494,0.57021761,0.61847436,0.6898883,0.67045563,0.75830436,0.90354884,1.0790306,1.0018222,1.2020745,1.0853765,1.098453,1.1104553,1.2948797,1.047736,1.6087053,4.8700104,15.665243,35.508698,38.740452,39.418385,19.809343,5.7272816,3.9887176,5.0899267,4.8497648,9.6164656,13.037146,12.676534,10.900977,9.5238066,9.2974262,9.3972778,9.3984966,8.8975039,8.3303432,8.4803114,8.6326895,8.1882734,7.4877496,6.9782729,8.3111496,8.7668905,8.5883551,8.0179167,7.2459188,6.3894496,6.0387678,5.4917517,5.5410905,5.3437572,4.8262897,4.839066,4.6201892,4.6258478,5.0231819,5.2482266,5.8498349,5.9629507,5.8347502,5.5805011,5.7691016,5.6094933,5.3630757,5.2055426,4.8240647,4.2295957,4.3605433,4.3264241,4.0031824,3.6265473,3.4170172,3.204025,3.0782883,3.0225298,2.9421968,3.0311017,3.1718705,3.5133162,3.7126551,3.7772443,3.7609031,3.8175142,4.1496344,4.5684576,4.637135,4.4241757,4.0405612,3.8325098,3.5066428,3.3044369,3.2914166],\"yaxis\":\"y\",\"type\":\"scattergl\"}],                        {\"template\":{\"data\":{\"histogram2dcontour\":[{\"type\":\"histogram2dcontour\",\"colorbar\":{\"outlinewidth\":0,\"ticks\":\"\"},\"colorscale\":[[0.0,\"#0d0887\"],[0.1111111111111111,\"#46039f\"],[0.2222222222222222,\"#7201a8\"],[0.3333333333333333,\"#9c179e\"],[0.4444444444444444,\"#bd3786\"],[0.5555555555555556,\"#d8576b\"],[0.6666666666666666,\"#ed7953\"],[0.7777777777777778,\"#fb9f3a\"],[0.8888888888888888,\"#fdca26\"],[1.0,\"#f0f921\"]]}],\"choropleth\":[{\"type\":\"choropleth\",\"colorbar\":{\"outlinewidth\":0,\"ticks\":\"\"}}],\"histogram2d\":[{\"type\":\"histogram2d\",\"colorbar\":{\"outlinewidth\":0,\"ticks\":\"\"},\"colorscale\":[[0.0,\"#0d0887\"],[0.1111111111111111,\"#46039f\"],[0.2222222222222222,\"#7201a8\"],[0.3333333333333333,\"#9c179e\"],[0.4444444444444444,\"#bd3786\"],[0.5555555555555556,\"#d8576b\"],[0.6666666666666666,\"#ed7953\"],[0.7777777777777778,\"#fb9f3a\"],[0.8888888888888888,\"#fdca26\"],[1.0,\"#f0f921\"]]}],\"heatmap\":[{\"type\":\"heatmap\",\"colorbar\":{\"outlinewidth\":0,\"ticks\":\"\"},\"colorscale\":[[0.0,\"#0d0887\"],[0.1111111111111111,\"#46039f\"],[0.2222222222222222,\"#7201a8\"],[0.3333333333333333,\"#9c179e\"],[0.4444444444444444,\"#bd3786\"],[0.5555555555555556,\"#d8576b\"],[0.6666666666666666,\"#ed7953\"],[0.7777777777777778,\"#fb9f3a\"],[0.8888888888888888,\"#fdca26\"],[1.0,\"#f0f921\"]]}],\"heatmapgl\":[{\"type\":\"heatmapgl\",\"colorbar\":{\"outlinewidth\":0,\"ticks\":\"\"},\"colorscale\":[[0.0,\"#0d0887\"],[0.1111111111111111,\"#46039f\"],[0.2222222222222222,\"#7201a8\"],[0.3333333333333333,\"#9c179e\"],[0.4444444444444444,\"#bd3786\"],[0.5555555555555556,\"#d8576b\"],[0.6666666666666666,\"#ed7953\"],[0.7777777777777778,\"#fb9f3a\"],[0.8888888888888888,\"#fdca26\"],[1.0,\"#f0f921\"]]}],\"contourcarpet\":[{\"type\":\"contourcarpet\",\"colorbar\":{\"outlinewidth\":0,\"ticks\":\"\"}}],\"contour\":[{\"type\":\"contour\",\"colorbar\":{\"outlinewidth\":0,\"ticks\":\"\"},\"colorscale\":[[0.0,\"#0d0887\"],[0.1111111111111111,\"#46039f\"],[0.2222222222222222,\"#7201a8\"],[0.3333333333333333,\"#9c179e\"],[0.4444444444444444,\"#bd3786\"],[0.5555555555555556,\"#d8576b\"],[0.6666666666666666,\"#ed7953\"],[0.7777777777777778,\"#fb9f3a\"],[0.8888888888888888,\"#fdca26\"],[1.0,\"#f0f921\"]]}],\"surface\":[{\"type\":\"surface\",\"colorbar\":{\"outlinewidth\":0,\"ticks\":\"\"},\"colorscale\":[[0.0,\"#0d0887\"],[0.1111111111111111,\"#46039f\"],[0.2222222222222222,\"#7201a8\"],[0.3333333333333333,\"#9c179e\"],[0.4444444444444444,\"#bd3786\"],[0.5555555555555556,\"#d8576b\"],[0.6666666666666666,\"#ed7953\"],[0.7777777777777778,\"#fb9f3a\"],[0.8888888888888888,\"#fdca26\"],[1.0,\"#f0f921\"]]}],\"mesh3d\":[{\"type\":\"mesh3d\",\"colorbar\":{\"outlinewidth\":0,\"ticks\":\"\"}}],\"scatter\":[{\"fillpattern\":{\"fillmode\":\"overlay\",\"size\":10,\"solidity\":0.2},\"type\":\"scatter\"}],\"parcoords\":[{\"type\":\"parcoords\",\"line\":{\"colorbar\":{\"outlinewidth\":0,\"ticks\":\"\"}}}],\"scatterpolargl\":[{\"type\":\"scatterpolargl\",\"marker\":{\"colorbar\":{\"outlinewidth\":0,\"ticks\":\"\"}}}],\"bar\":[{\"error_x\":{\"color\":\"#2a3f5f\"},\"error_y\":{\"color\":\"#2a3f5f\"},\"marker\":{\"line\":{\"color\":\"#E5ECF6\",\"width\":0.5},\"pattern\":{\"fillmode\":\"overlay\",\"size\":10,\"solidity\":0.2}},\"type\":\"bar\"}],\"scattergeo\":[{\"type\":\"scattergeo\",\"marker\":{\"colorbar\":{\"outlinewidth\":0,\"ticks\":\"\"}}}],\"scatterpolar\":[{\"type\":\"scatterpolar\",\"marker\":{\"colorbar\":{\"outlinewidth\":0,\"ticks\":\"\"}}}],\"histogram\":[{\"marker\":{\"pattern\":{\"fillmode\":\"overlay\",\"size\":10,\"solidity\":0.2}},\"type\":\"histogram\"}],\"scattergl\":[{\"type\":\"scattergl\",\"marker\":{\"colorbar\":{\"outlinewidth\":0,\"ticks\":\"\"}}}],\"scatter3d\":[{\"type\":\"scatter3d\",\"line\":{\"colorbar\":{\"outlinewidth\":0,\"ticks\":\"\"}},\"marker\":{\"colorbar\":{\"outlinewidth\":0,\"ticks\":\"\"}}}],\"scattermapbox\":[{\"type\":\"scattermapbox\",\"marker\":{\"colorbar\":{\"outlinewidth\":0,\"ticks\":\"\"}}}],\"scatterternary\":[{\"type\":\"scatterternary\",\"marker\":{\"colorbar\":{\"outlinewidth\":0,\"ticks\":\"\"}}}],\"scattercarpet\":[{\"type\":\"scattercarpet\",\"marker\":{\"colorbar\":{\"outlinewidth\":0,\"ticks\":\"\"}}}],\"carpet\":[{\"aaxis\":{\"endlinecolor\":\"#2a3f5f\",\"gridcolor\":\"white\",\"linecolor\":\"white\",\"minorgridcolor\":\"white\",\"startlinecolor\":\"#2a3f5f\"},\"baxis\":{\"endlinecolor\":\"#2a3f5f\",\"gridcolor\":\"white\",\"linecolor\":\"white\",\"minorgridcolor\":\"white\",\"startlinecolor\":\"#2a3f5f\"},\"type\":\"carpet\"}],\"table\":[{\"cells\":{\"fill\":{\"color\":\"#EBF0F8\"},\"line\":{\"color\":\"white\"}},\"header\":{\"fill\":{\"color\":\"#C8D4E3\"},\"line\":{\"color\":\"white\"}},\"type\":\"table\"}],\"barpolar\":[{\"marker\":{\"line\":{\"color\":\"#E5ECF6\",\"width\":0.5},\"pattern\":{\"fillmode\":\"overlay\",\"size\":10,\"solidity\":0.2}},\"type\":\"barpolar\"}],\"pie\":[{\"automargin\":true,\"type\":\"pie\"}]},\"layout\":{\"autotypenumbers\":\"strict\",\"colorway\":[\"#636efa\",\"#EF553B\",\"#00cc96\",\"#ab63fa\",\"#FFA15A\",\"#19d3f3\",\"#FF6692\",\"#B6E880\",\"#FF97FF\",\"#FECB52\"],\"font\":{\"color\":\"#2a3f5f\"},\"hovermode\":\"closest\",\"hoverlabel\":{\"align\":\"left\"},\"paper_bgcolor\":\"white\",\"plot_bgcolor\":\"#E5ECF6\",\"polar\":{\"bgcolor\":\"#E5ECF6\",\"angularaxis\":{\"gridcolor\":\"white\",\"linecolor\":\"white\",\"ticks\":\"\"},\"radialaxis\":{\"gridcolor\":\"white\",\"linecolor\":\"white\",\"ticks\":\"\"}},\"ternary\":{\"bgcolor\":\"#E5ECF6\",\"aaxis\":{\"gridcolor\":\"white\",\"linecolor\":\"white\",\"ticks\":\"\"},\"baxis\":{\"gridcolor\":\"white\",\"linecolor\":\"white\",\"ticks\":\"\"},\"caxis\":{\"gridcolor\":\"white\",\"linecolor\":\"white\",\"ticks\":\"\"}},\"coloraxis\":{\"colorbar\":{\"outlinewidth\":0,\"ticks\":\"\"}},\"colorscale\":{\"sequential\":[[0.0,\"#0d0887\"],[0.1111111111111111,\"#46039f\"],[0.2222222222222222,\"#7201a8\"],[0.3333333333333333,\"#9c179e\"],[0.4444444444444444,\"#bd3786\"],[0.5555555555555556,\"#d8576b\"],[0.6666666666666666,\"#ed7953\"],[0.7777777777777778,\"#fb9f3a\"],[0.8888888888888888,\"#fdca26\"],[1.0,\"#f0f921\"]],\"sequentialminus\":[[0.0,\"#0d0887\"],[0.1111111111111111,\"#46039f\"],[0.2222222222222222,\"#7201a8\"],[0.3333333333333333,\"#9c179e\"],[0.4444444444444444,\"#bd3786\"],[0.5555555555555556,\"#d8576b\"],[0.6666666666666666,\"#ed7953\"],[0.7777777777777778,\"#fb9f3a\"],[0.8888888888888888,\"#fdca26\"],[1.0,\"#f0f921\"]],\"diverging\":[[0,\"#8e0152\"],[0.1,\"#c51b7d\"],[0.2,\"#de77ae\"],[0.3,\"#f1b6da\"],[0.4,\"#fde0ef\"],[0.5,\"#f7f7f7\"],[0.6,\"#e6f5d0\"],[0.7,\"#b8e186\"],[0.8,\"#7fbc41\"],[0.9,\"#4d9221\"],[1,\"#276419\"]]},\"xaxis\":{\"gridcolor\":\"white\",\"linecolor\":\"white\",\"ticks\":\"\",\"title\":{\"standoff\":15},\"zerolinecolor\":\"white\",\"automargin\":true,\"zerolinewidth\":2},\"yaxis\":{\"gridcolor\":\"white\",\"linecolor\":\"white\",\"ticks\":\"\",\"title\":{\"standoff\":15},\"zerolinecolor\":\"white\",\"automargin\":true,\"zerolinewidth\":2},\"scene\":{\"xaxis\":{\"backgroundcolor\":\"#E5ECF6\",\"gridcolor\":\"white\",\"linecolor\":\"white\",\"showbackground\":true,\"ticks\":\"\",\"zerolinecolor\":\"white\",\"gridwidth\":2},\"yaxis\":{\"backgroundcolor\":\"#E5ECF6\",\"gridcolor\":\"white\",\"linecolor\":\"white\",\"showbackground\":true,\"ticks\":\"\",\"zerolinecolor\":\"white\",\"gridwidth\":2},\"zaxis\":{\"backgroundcolor\":\"#E5ECF6\",\"gridcolor\":\"white\",\"linecolor\":\"white\",\"showbackground\":true,\"ticks\":\"\",\"zerolinecolor\":\"white\",\"gridwidth\":2}},\"shapedefaults\":{\"line\":{\"color\":\"#2a3f5f\"}},\"annotationdefaults\":{\"arrowcolor\":\"#2a3f5f\",\"arrowhead\":0,\"arrowwidth\":1},\"geo\":{\"bgcolor\":\"white\",\"landcolor\":\"#E5ECF6\",\"subunitcolor\":\"white\",\"showland\":true,\"showlakes\":true,\"lakecolor\":\"white\"},\"title\":{\"x\":0.05},\"mapbox\":{\"style\":\"light\"}}},\"xaxis\":{\"anchor\":\"y\",\"domain\":[0.0,1.0],\"title\":{\"text\":\"Year\"}},\"yaxis\":{\"anchor\":\"x\",\"domain\":[0.0,1.0],\"title\":{\"text\":\"Military Expenditure (% of GDP)\"}},\"legend\":{\"title\":{\"text\":\"Entity\"},\"tracegroupgap\":0,\"yanchor\":\"top\",\"y\":0.99,\"xanchor\":\"left\",\"x\":0.01},\"title\":{\"text\":\"Military Expenditure as a Share of GDP Over Time for Selected Countries\"},\"height\":700,\"width\":1000,\"hovermode\":\"x unified\"},                        {\"responsive\": true}                    ).then(function(){\n",
       "                            \n",
       "var gd = document.getElementById('4ee4af96-fc2b-4876-8754-4c541dbf6ae7');\n",
       "var x = new MutationObserver(function (mutations, observer) {{\n",
       "        var display = window.getComputedStyle(gd).display;\n",
       "        if (!display || display === 'none') {{\n",
       "            console.log([gd, 'removed!']);\n",
       "            Plotly.purge(gd);\n",
       "            observer.disconnect();\n",
       "        }}\n",
       "}});\n",
       "\n",
       "// Listen for the removal of the full notebook cells\n",
       "var notebookContainer = gd.closest('#notebook-container');\n",
       "if (notebookContainer) {{\n",
       "    x.observe(notebookContainer, {childList: true});\n",
       "}}\n",
       "\n",
       "// Listen for the clearing of the current output cell\n",
       "var outputEl = gd.closest('.output');\n",
       "if (outputEl) {{\n",
       "    x.observe(outputEl, {childList: true});\n",
       "}}\n",
       "\n",
       "                        })                };                });            </script>        </div>"
      ]
     },
     "metadata": {},
     "output_type": "display_data"
    }
   ],
   "source": [
    "# Create the figure\n",
    "fig = go.Figure()\n",
    "\n",
    "# Filter the DataFrame for selected countries\n",
    "selected_countries = ['India', 'United States', 'China', 'Germany', 'Russia', 'United Kingdom', 'North Korea', 'Saudi Arabia', 'Pakistan', 'Norway', 'Oman', 'Japan', 'Iran']\n",
    "df_filtered = military_expenditure_gdp_clean[military_expenditure_gdp_clean['Entity'].isin(selected_countries)]\n",
    "\n",
    "# Create the plot\n",
    "fig = px.line(df_filtered, x='Year', y='Military expenditure as a share of GDP (OWID calculated based on NMC, COW & SIPRI (2017))',\n",
    "              color='Entity',\n",
    "              title='Military Expenditure as a Share of GDP Over Time for Selected Countries',\n",
    "              labels={'Military expenditure as a share of GDP (OWID calculated based on NMC, COW & SIPRI (2017))': 'Military Expenditure (% of GDP)'},\n",
    "              line_group='Entity',\n",
    "              height=700,\n",
    "              width=1000)\n",
    "\n",
    "# Update layout for better readability\n",
    "fig.update_layout(\n",
    "    hovermode='x unified',\n",
    "    legend=dict(\n",
    "        yanchor=\"top\",\n",
    "        y=0.99,\n",
    "        xanchor=\"left\",\n",
    "        x=0.01\n",
    "    ),\n",
    "    template=\"plotly\"\n",
    ")\n",
    "\n",
    "# Update traces to increase line width\n",
    "fig.update_traces(line=dict(width=2.5))  # Increase the width to 3, adjust as necessary\n",
    "fig.update_traces(mode=\"markers+lines\", hovertemplate=None)\n",
    "\n",
    "fig.show()"
   ]
  },
  {
   "cell_type": "code",
   "execution_count": 12,
   "id": "af4d0965",
   "metadata": {},
   "outputs": [
    {
     "data": {
      "text/html": [
       "<div>\n",
       "<style scoped>\n",
       "    .dataframe tbody tr th:only-of-type {\n",
       "        vertical-align: middle;\n",
       "    }\n",
       "\n",
       "    .dataframe tbody tr th {\n",
       "        vertical-align: top;\n",
       "    }\n",
       "\n",
       "    .dataframe thead th {\n",
       "        text-align: right;\n",
       "    }\n",
       "</style>\n",
       "<table border=\"1\" class=\"dataframe\">\n",
       "  <thead>\n",
       "    <tr style=\"text-align: right;\">\n",
       "      <th></th>\n",
       "      <th>Entity</th>\n",
       "      <th>Code</th>\n",
       "      <th>Year</th>\n",
       "      <th>Military expenditure as a share of GDP (OWID calculated based on NMC, COW &amp; SIPRI (2017))</th>\n",
       "    </tr>\n",
       "  </thead>\n",
       "  <tbody>\n",
       "    <tr>\n",
       "      <th>0</th>\n",
       "      <td>Afghanistan</td>\n",
       "      <td>AFG</td>\n",
       "      <td>1956</td>\n",
       "      <td>1.737877</td>\n",
       "    </tr>\n",
       "    <tr>\n",
       "      <th>1</th>\n",
       "      <td>Afghanistan</td>\n",
       "      <td>AFG</td>\n",
       "      <td>1957</td>\n",
       "      <td>2.540325</td>\n",
       "    </tr>\n",
       "    <tr>\n",
       "      <th>2</th>\n",
       "      <td>Afghanistan</td>\n",
       "      <td>AFG</td>\n",
       "      <td>1958</td>\n",
       "      <td>2.127935</td>\n",
       "    </tr>\n",
       "    <tr>\n",
       "      <th>3</th>\n",
       "      <td>Afghanistan</td>\n",
       "      <td>AFG</td>\n",
       "      <td>1959</td>\n",
       "      <td>3.665864</td>\n",
       "    </tr>\n",
       "    <tr>\n",
       "      <th>4</th>\n",
       "      <td>Afghanistan</td>\n",
       "      <td>AFG</td>\n",
       "      <td>1960</td>\n",
       "      <td>2.640859</td>\n",
       "    </tr>\n",
       "  </tbody>\n",
       "</table>\n",
       "</div>"
      ],
      "text/plain": [
       "        Entity Code  Year  \\\n",
       "0  Afghanistan  AFG  1956   \n",
       "1  Afghanistan  AFG  1957   \n",
       "2  Afghanistan  AFG  1958   \n",
       "3  Afghanistan  AFG  1959   \n",
       "4  Afghanistan  AFG  1960   \n",
       "\n",
       "   Military expenditure as a share of GDP (OWID calculated based on NMC, COW & SIPRI (2017))  \n",
       "0                                           1.737877                                          \n",
       "1                                           2.540325                                          \n",
       "2                                           2.127935                                          \n",
       "3                                           3.665864                                          \n",
       "4                                           2.640859                                          "
      ]
     },
     "execution_count": 12,
     "metadata": {},
     "output_type": "execute_result"
    }
   ],
   "source": [
    "# correlation of Military expenditure vs Liberal democracy index\n",
    "military_expenditure_gdp_clean.head()"
   ]
  },
  {
   "cell_type": "code",
   "execution_count": 13,
   "id": "289c00a3",
   "metadata": {},
   "outputs": [
    {
     "name": "stderr",
     "output_type": "stream",
     "text": [
      "/var/folders/3q/vbln2bmj5z3b21k7dy3d_zr40000gn/T/ipykernel_21178/3219973010.py:11: SettingWithCopyWarning:\n",
      "\n",
      "\n",
      "A value is trying to be set on a copy of a slice from a DataFrame.\n",
      "Try using .loc[row_indexer,col_indexer] = value instead\n",
      "\n",
      "See the caveats in the documentation: https://pandas.pydata.org/pandas-docs/stable/user_guide/indexing.html#returning-a-view-versus-a-copy\n",
      "\n"
     ]
    },
    {
     "data": {
      "text/html": [
       "<div>\n",
       "<style scoped>\n",
       "    .dataframe tbody tr th:only-of-type {\n",
       "        vertical-align: middle;\n",
       "    }\n",
       "\n",
       "    .dataframe tbody tr th {\n",
       "        vertical-align: top;\n",
       "    }\n",
       "\n",
       "    .dataframe thead th {\n",
       "        text-align: right;\n",
       "    }\n",
       "</style>\n",
       "<table border=\"1\" class=\"dataframe\">\n",
       "  <thead>\n",
       "    <tr style=\"text-align: right;\">\n",
       "      <th></th>\n",
       "      <th>Entity</th>\n",
       "      <th>Year</th>\n",
       "      <th>Liberal democracy index (best estimate, aggregate: average)</th>\n",
       "    </tr>\n",
       "  </thead>\n",
       "  <tbody>\n",
       "    <tr>\n",
       "      <th>67</th>\n",
       "      <td>Afghanistan</td>\n",
       "      <td>2016</td>\n",
       "      <td>0.208000</td>\n",
       "    </tr>\n",
       "    <tr>\n",
       "      <th>340</th>\n",
       "      <td>Africa</td>\n",
       "      <td>2016</td>\n",
       "      <td>0.297286</td>\n",
       "    </tr>\n",
       "    <tr>\n",
       "      <th>692</th>\n",
       "      <td>Albania</td>\n",
       "      <td>2016</td>\n",
       "      <td>0.443000</td>\n",
       "    </tr>\n",
       "    <tr>\n",
       "      <th>956</th>\n",
       "      <td>Algeria</td>\n",
       "      <td>2016</td>\n",
       "      <td>0.163000</td>\n",
       "    </tr>\n",
       "    <tr>\n",
       "      <th>1744</th>\n",
       "      <td>Angola</td>\n",
       "      <td>2016</td>\n",
       "      <td>0.134000</td>\n",
       "    </tr>\n",
       "  </tbody>\n",
       "</table>\n",
       "</div>"
      ],
      "text/plain": [
       "           Entity  Year  \\\n",
       "67    Afghanistan  2016   \n",
       "340        Africa  2016   \n",
       "692       Albania  2016   \n",
       "956       Algeria  2016   \n",
       "1744       Angola  2016   \n",
       "\n",
       "      Liberal democracy index (best estimate, aggregate: average)  \n",
       "67                                             0.208000            \n",
       "340                                            0.297286            \n",
       "692                                            0.443000            \n",
       "956                                            0.163000            \n",
       "1744                                           0.134000            "
      ]
     },
     "execution_count": 13,
     "metadata": {},
     "output_type": "execute_result"
    }
   ],
   "source": [
    "# Look at the liberal democracy data frame\n",
    "df = life_exp_lib_democ\n",
    "\n",
    "\n",
    "# Clean the data by removing rows with NaN values in critical columns\n",
    "df_cleaned = df.dropna(subset=['Liberal democracy index (best estimate, aggregate: average)', \n",
    "                               'Period life expectancy at birth - Sex: all - Age: 0', \n",
    "                               'Population (historical)'])\n",
    "\n",
    "# Scale the population to increase the size of the points\n",
    "df_cleaned['Scaled Population'] = df_cleaned['Population (historical)'] / 1e6\n",
    "\n",
    "# drop the unnecessary columns\n",
    "df_cleaned = df_cleaned.drop(['Period life expectancy at birth - Sex: all - Age: 0',\n",
    "                                'Code',\n",
    "                                'Scaled Population',\n",
    "                                'Continent',\n",
    "                                'Population (historical)'], axis=1)\n",
    "\n",
    "# filter the data to take only for the year 2017\n",
    "df_cleaned_2017 = df_cleaned[df_cleaned['Year'] == 2016]\n",
    "\n",
    "df_cleaned_2017.head()"
   ]
  },
  {
   "cell_type": "code",
   "execution_count": 14,
   "id": "4f79098a",
   "metadata": {},
   "outputs": [
    {
     "data": {
      "text/html": [
       "<div>\n",
       "<style scoped>\n",
       "    .dataframe tbody tr th:only-of-type {\n",
       "        vertical-align: middle;\n",
       "    }\n",
       "\n",
       "    .dataframe tbody tr th {\n",
       "        vertical-align: top;\n",
       "    }\n",
       "\n",
       "    .dataframe thead th {\n",
       "        text-align: right;\n",
       "    }\n",
       "</style>\n",
       "<table border=\"1\" class=\"dataframe\">\n",
       "  <thead>\n",
       "    <tr style=\"text-align: right;\">\n",
       "      <th></th>\n",
       "      <th>Entity</th>\n",
       "      <th>Code</th>\n",
       "      <th>Year</th>\n",
       "      <th>Military expenditure as a share of GDP (OWID calculated based on NMC, COW &amp; SIPRI (2017))</th>\n",
       "    </tr>\n",
       "  </thead>\n",
       "  <tbody>\n",
       "    <tr>\n",
       "      <th>42</th>\n",
       "      <td>Afghanistan</td>\n",
       "      <td>AFG</td>\n",
       "      <td>2016</td>\n",
       "      <td>0.892336</td>\n",
       "    </tr>\n",
       "    <tr>\n",
       "      <th>110</th>\n",
       "      <td>Albania</td>\n",
       "      <td>ALB</td>\n",
       "      <td>2016</td>\n",
       "      <td>1.229624</td>\n",
       "    </tr>\n",
       "    <tr>\n",
       "      <th>165</th>\n",
       "      <td>Algeria</td>\n",
       "      <td>DZA</td>\n",
       "      <td>2016</td>\n",
       "      <td>6.546702</td>\n",
       "    </tr>\n",
       "    <tr>\n",
       "      <th>222</th>\n",
       "      <td>Angola</td>\n",
       "      <td>AGO</td>\n",
       "      <td>2016</td>\n",
       "      <td>2.948674</td>\n",
       "    </tr>\n",
       "    <tr>\n",
       "      <th>374</th>\n",
       "      <td>Argentina</td>\n",
       "      <td>ARG</td>\n",
       "      <td>2016</td>\n",
       "      <td>0.954768</td>\n",
       "    </tr>\n",
       "    <tr>\n",
       "      <th>...</th>\n",
       "      <td>...</td>\n",
       "      <td>...</td>\n",
       "      <td>...</td>\n",
       "      <td>...</td>\n",
       "    </tr>\n",
       "    <tr>\n",
       "      <th>11177</th>\n",
       "      <td>Uruguay</td>\n",
       "      <td>URY</td>\n",
       "      <td>2016</td>\n",
       "      <td>1.854261</td>\n",
       "    </tr>\n",
       "    <tr>\n",
       "      <th>11335</th>\n",
       "      <td>Vietnam</td>\n",
       "      <td>VNM</td>\n",
       "      <td>2016</td>\n",
       "      <td>2.442961</td>\n",
       "    </tr>\n",
       "    <tr>\n",
       "      <th>11428</th>\n",
       "      <td>World</td>\n",
       "      <td>OWID_WRL</td>\n",
       "      <td>2016</td>\n",
       "      <td>2.224595</td>\n",
       "    </tr>\n",
       "    <tr>\n",
       "      <th>11504</th>\n",
       "      <td>Zambia</td>\n",
       "      <td>ZMB</td>\n",
       "      <td>2016</td>\n",
       "      <td>1.531921</td>\n",
       "    </tr>\n",
       "    <tr>\n",
       "      <th>11553</th>\n",
       "      <td>Zimbabwe</td>\n",
       "      <td>ZWE</td>\n",
       "      <td>2016</td>\n",
       "      <td>2.198173</td>\n",
       "    </tr>\n",
       "  </tbody>\n",
       "</table>\n",
       "<p>137 rows × 4 columns</p>\n",
       "</div>"
      ],
      "text/plain": [
       "            Entity      Code  Year  \\\n",
       "42     Afghanistan       AFG  2016   \n",
       "110        Albania       ALB  2016   \n",
       "165        Algeria       DZA  2016   \n",
       "222         Angola       AGO  2016   \n",
       "374      Argentina       ARG  2016   \n",
       "...            ...       ...   ...   \n",
       "11177      Uruguay       URY  2016   \n",
       "11335      Vietnam       VNM  2016   \n",
       "11428        World  OWID_WRL  2016   \n",
       "11504       Zambia       ZMB  2016   \n",
       "11553     Zimbabwe       ZWE  2016   \n",
       "\n",
       "       Military expenditure as a share of GDP (OWID calculated based on NMC, COW & SIPRI (2017))  \n",
       "42                                              0.892336                                          \n",
       "110                                             1.229624                                          \n",
       "165                                             6.546702                                          \n",
       "222                                             2.948674                                          \n",
       "374                                             0.954768                                          \n",
       "...                                                  ...                                          \n",
       "11177                                           1.854261                                          \n",
       "11335                                           2.442961                                          \n",
       "11428                                           2.224595                                          \n",
       "11504                                           1.531921                                          \n",
       "11553                                           2.198173                                          \n",
       "\n",
       "[137 rows x 4 columns]"
      ]
     },
     "execution_count": 14,
     "metadata": {},
     "output_type": "execute_result"
    }
   ],
   "source": [
    "# Assuming military_expenditure_gdp_clean is your DataFrame\n",
    "filtered_df = military_expenditure_gdp_clean[military_expenditure_gdp_clean['Year'] == 2016]\n",
    "\n",
    "# Display the filtered DataFrame\n",
    "filtered_df"
   ]
  },
  {
   "cell_type": "code",
   "execution_count": 15,
   "id": "4bc60a40",
   "metadata": {},
   "outputs": [
    {
     "data": {
      "application/vnd.plotly.v1+json": {
       "config": {
        "plotlyServerURL": "https://plot.ly"
       },
       "data": [
        {
         "hovertemplate": "<b>%{hovertext}</b><br><br>Liberal democracy index (best estimate, aggregate: average)=%{x}<br>Military expenditure as a share of GDP (OWID calculated based on NMC, COW & SIPRI (2017))=%{marker.size}<extra></extra>",
         "hovertext": [
          "Afghanistan",
          "Albania",
          "Algeria",
          "Angola",
          "Argentina",
          "Armenia",
          "Australia",
          "Azerbaijan",
          "Bangladesh",
          "Belarus",
          "Belgium",
          "Benin",
          "Bolivia",
          "Bosnia and Herzegovina",
          "Botswana",
          "Brazil",
          "Bulgaria",
          "Burkina Faso",
          "Burundi",
          "Cambodia",
          "Cameroon",
          "Canada",
          "Cape Verde",
          "Chad",
          "Chile",
          "China",
          "Colombia",
          "Congo",
          "Cote d'Ivoire",
          "Croatia",
          "Cyprus",
          "Czechia",
          "Democratic Republic of Congo",
          "Denmark",
          "Dominican Republic",
          "Ecuador",
          "Egypt",
          "El Salvador",
          "Equatorial Guinea",
          "Estonia",
          "Eswatini",
          "Ethiopia",
          "Fiji",
          "Finland",
          "France",
          "Gabon",
          "Georgia",
          "Germany",
          "Ghana",
          "Greece",
          "Guatemala",
          "Guinea",
          "Guyana",
          "Honduras",
          "Hungary",
          "India",
          "Indonesia",
          "Iraq",
          "Ireland",
          "Israel",
          "Italy",
          "Jamaica",
          "Japan",
          "Jordan",
          "Kazakhstan",
          "Kenya",
          "Kyrgyzstan",
          "Latvia",
          "Lesotho",
          "Liberia",
          "Lithuania",
          "Luxembourg",
          "Madagascar",
          "Malawi",
          "Malaysia",
          "Mali",
          "Malta",
          "Mauritania",
          "Mauritius",
          "Mexico",
          "Moldova",
          "Mongolia",
          "Montenegro",
          "Morocco",
          "Mozambique",
          "Namibia",
          "Nepal",
          "Netherlands",
          "New Zealand",
          "Nicaragua",
          "Niger",
          "Nigeria",
          "North Macedonia",
          "Norway",
          "Oman",
          "Pakistan",
          "Paraguay",
          "Peru",
          "Philippines",
          "Poland",
          "Portugal",
          "Romania",
          "Russia",
          "Rwanda",
          "Saudi Arabia",
          "Senegal",
          "Serbia",
          "Seychelles",
          "Sierra Leone",
          "Singapore",
          "Slovakia",
          "Slovenia",
          "Somalia",
          "South Africa",
          "South Korea",
          "Spain",
          "Sri Lanka",
          "Sudan",
          "Sweden",
          "Switzerland",
          "Tanzania",
          "Thailand",
          "Togo",
          "Trinidad and Tobago",
          "Tunisia",
          "Turkey",
          "Uganda",
          "Ukraine",
          "United Kingdom",
          "United States",
          "Uruguay",
          "Vietnam",
          "World",
          "Zambia",
          "Zimbabwe"
         ],
         "legendgroup": "",
         "marker": {
          "color": "#636efa",
          "size": [
           0.89233619,
           1.229624,
           6.5467024,
           2.9486744,
           0.954768,
           4.0898852,
           2.0013125,
           3.6427701,
           1.4417896,
           1.2725638,
           0.87141937,
           1.1432455,
           1.6751555,
           0.99343908,
           3.3710008,
           1.3179413,
           1.4433044,
           1.2333869,
           2.2078493,
           1.8475696,
           1.6005238,
           0.99131018,
           0.62905407,
           2.786067,
           1.8657224,
           1.9229624,
           3.3869185,
           7.1702466,
           1.1768368,
           1.3776548,
           1.7814808,
           1.0134143,
           1.3396587,
           1.1479144,
           0.63910162,
           2.2133992,
           1.6672821,
           0.8679924,
           0.17916869,
           2.1705427,
           1.8057698,
           0.6707921,
           0.97528404,
           1.371098,
           2.2615852,
           1.4272537,
           2.1962593,
           1.184881,
           0.37920931,
           2.5567997,
           0.39449373,
           2.4870148,
           1.4227139,
           1.5868695,
           1.0086918,
           2.474853,
           0.87613177,
           3.6346323,
           0.3398577,
           5.6420422,
           1.5103074,
           0.8240242,
           0.93462622,
           4.5779071,
           0.82480341,
           1.3226782,
           3.1513398,
           1.4703453,
           1.849736,
           0.58346027,
           1.4887112,
           0.49082109,
           0.59352714,
           0.60814971,
           1.4072088,
           2.6261101,
           0.52561229,
           2.969286,
           0.18796006,
           0.57575798,
           0.44000417,
           0.91546202,
           1.610418,
           3.2798355,
           1.0312053,
           4.44099,
           1.5249516,
           1.2005953,
           1.1319803,
           0.54840541,
           2.2138062,
           0.43248826,
           0.97254223,
           1.6191213,
           13.730983,
           3.5629499,
           1.2506863,
           1.2910366,
           1.2787623,
           1.9889033,
           1.8406599,
           1.4747721,
           5.3981905,
           1.2087187,
           9.8497868,
           1.7203158,
           1.8814355,
           1.2872616,
           0.81433451,
           3.3544827,
           1.156155,
           0.91888475,
           3.2948901e-05,
           1.0726829,
           2.6071384,
           1.2090486,
           2.4424407,
           2.829278,
           1.0415353,
           0.70959735,
           1.1401817,
           1.4452711,
           1.8645321,
           1.1248719,
           2.3185298,
           1.726131,
           1.5676425,
           3.6719813,
           1.8437858,
           3.2914166,
           1.854261,
           2.4429607,
           2.2245953,
           1.5319215,
           2.1981726
          ],
          "sizemode": "area",
          "sizeref": 0.0343274575,
          "symbol": "circle"
         },
         "mode": "markers",
         "name": "",
         "orientation": "v",
         "showlegend": false,
         "textposition": "bottom center",
         "type": "scatter",
         "x": [
          0.208,
          0.443,
          0.163,
          0.134,
          0.62,
          0.209,
          0.832,
          0.062,
          0.111,
          0.109,
          0.84,
          0.587,
          0.381,
          0.369,
          0.586,
          0.659,
          0.567,
          0.51,
          0.045,
          0.102,
          0.143,
          0.774,
          0.716,
          0.092,
          0.844,
          0.053,
          0.548,
          0.097,
          0.356,
          0.652,
          0.741,
          0.773,
          0.126,
          0.892,
          0.302,
          0.271,
          0.122,
          0.471,
          0.054,
          0.859,
          0.098,
          0.099,
          0.28,
          0.821,
          0.822,
          0.23,
          0.527,
          0.851,
          0.613,
          0.784,
          0.458,
          0.166,
          0.466,
          0.259,
          0.474,
          0.409,
          0.502,
          0.247,
          0.823,
          0.652,
          0.792,
          0.688,
          0.742,
          0.195,
          0.117,
          0.422,
          0.308,
          0.755,
          0.427,
          0.455,
          0.769,
          0.795,
          0.251,
          0.44,
          0.205,
          0.35,
          0.585,
          0.181,
          0.631,
          0.431,
          0.432,
          0.543,
          0.37,
          0.233,
          0.292,
          0.592,
          0.556,
          0.835,
          0.837,
          0.122,
          0.455,
          0.398,
          0.277,
          0.864,
          0.139,
          0.26,
          0.415,
          0.674,
          0.363,
          0.6,
          0.832,
          0.622,
          0.108,
          0.127,
          0.046,
          0.579,
          0.327,
          0.498,
          0.308,
          0.337,
          0.732,
          0.795,
          0.111,
          0.636,
          0.626,
          0.772,
          0.45,
          0.066,
          0.881,
          0.861,
          0.357,
          0.102,
          0.278,
          0.648,
          0.626,
          0.147,
          0.227,
          0.237,
          0.788,
          0.838,
          0.835,
          0.122,
          0.4071229,
          0.31,
          0.201
         ],
         "xaxis": "x",
         "y": [
          0.89233619,
          1.229624,
          6.5467024,
          2.9486744,
          0.954768,
          4.0898852,
          2.0013125,
          3.6427701,
          1.4417896,
          1.2725638,
          0.87141937,
          1.1432455,
          1.6751555,
          0.99343908,
          3.3710008,
          1.3179413,
          1.4433044,
          1.2333869,
          2.2078493,
          1.8475696,
          1.6005238,
          0.99131018,
          0.62905407,
          2.786067,
          1.8657224,
          1.9229624,
          3.3869185,
          7.1702466,
          1.1768368,
          1.3776548,
          1.7814808,
          1.0134143,
          1.3396587,
          1.1479144,
          0.63910162,
          2.2133992,
          1.6672821,
          0.8679924,
          0.17916869,
          2.1705427,
          1.8057698,
          0.6707921,
          0.97528404,
          1.371098,
          2.2615852,
          1.4272537,
          2.1962593,
          1.184881,
          0.37920931,
          2.5567997,
          0.39449373,
          2.4870148,
          1.4227139,
          1.5868695,
          1.0086918,
          2.474853,
          0.87613177,
          3.6346323,
          0.3398577,
          5.6420422,
          1.5103074,
          0.8240242,
          0.93462622,
          4.5779071,
          0.82480341,
          1.3226782,
          3.1513398,
          1.4703453,
          1.849736,
          0.58346027,
          1.4887112,
          0.49082109,
          0.59352714,
          0.60814971,
          1.4072088,
          2.6261101,
          0.52561229,
          2.969286,
          0.18796006,
          0.57575798,
          0.44000417,
          0.91546202,
          1.610418,
          3.2798355,
          1.0312053,
          4.44099,
          1.5249516,
          1.2005953,
          1.1319803,
          0.54840541,
          2.2138062,
          0.43248826,
          0.97254223,
          1.6191213,
          13.730983,
          3.5629499,
          1.2506863,
          1.2910366,
          1.2787623,
          1.9889033,
          1.8406599,
          1.4747721,
          5.3981905,
          1.2087187,
          9.8497868,
          1.7203158,
          1.8814355,
          1.2872616,
          0.81433451,
          3.3544827,
          1.156155,
          0.91888475,
          3.2948901e-05,
          1.0726829,
          2.6071384,
          1.2090486,
          2.4424407,
          2.829278,
          1.0415353,
          0.70959735,
          1.1401817,
          1.4452711,
          1.8645321,
          1.1248719,
          2.3185298,
          1.726131,
          1.5676425,
          3.6719813,
          1.8437858,
          3.2914166,
          1.854261,
          2.4429607,
          2.2245953,
          1.5319215,
          2.1981726
         ],
         "yaxis": "y"
        }
       ],
       "layout": {
        "autosize": true,
        "legend": {
         "itemsizing": "constant",
         "tracegroupgap": 0
        },
        "template": {
         "data": {
          "bar": [
           {
            "error_x": {
             "color": "#2a3f5f"
            },
            "error_y": {
             "color": "#2a3f5f"
            },
            "marker": {
             "line": {
              "color": "#E5ECF6",
              "width": 0.5
             },
             "pattern": {
              "fillmode": "overlay",
              "size": 10,
              "solidity": 0.2
             }
            },
            "type": "bar"
           }
          ],
          "barpolar": [
           {
            "marker": {
             "line": {
              "color": "#E5ECF6",
              "width": 0.5
             },
             "pattern": {
              "fillmode": "overlay",
              "size": 10,
              "solidity": 0.2
             }
            },
            "type": "barpolar"
           }
          ],
          "carpet": [
           {
            "aaxis": {
             "endlinecolor": "#2a3f5f",
             "gridcolor": "white",
             "linecolor": "white",
             "minorgridcolor": "white",
             "startlinecolor": "#2a3f5f"
            },
            "baxis": {
             "endlinecolor": "#2a3f5f",
             "gridcolor": "white",
             "linecolor": "white",
             "minorgridcolor": "white",
             "startlinecolor": "#2a3f5f"
            },
            "type": "carpet"
           }
          ],
          "choropleth": [
           {
            "colorbar": {
             "outlinewidth": 0,
             "ticks": ""
            },
            "type": "choropleth"
           }
          ],
          "contour": [
           {
            "colorbar": {
             "outlinewidth": 0,
             "ticks": ""
            },
            "colorscale": [
             [
              0,
              "#0d0887"
             ],
             [
              0.1111111111111111,
              "#46039f"
             ],
             [
              0.2222222222222222,
              "#7201a8"
             ],
             [
              0.3333333333333333,
              "#9c179e"
             ],
             [
              0.4444444444444444,
              "#bd3786"
             ],
             [
              0.5555555555555556,
              "#d8576b"
             ],
             [
              0.6666666666666666,
              "#ed7953"
             ],
             [
              0.7777777777777778,
              "#fb9f3a"
             ],
             [
              0.8888888888888888,
              "#fdca26"
             ],
             [
              1,
              "#f0f921"
             ]
            ],
            "type": "contour"
           }
          ],
          "contourcarpet": [
           {
            "colorbar": {
             "outlinewidth": 0,
             "ticks": ""
            },
            "type": "contourcarpet"
           }
          ],
          "heatmap": [
           {
            "colorbar": {
             "outlinewidth": 0,
             "ticks": ""
            },
            "colorscale": [
             [
              0,
              "#0d0887"
             ],
             [
              0.1111111111111111,
              "#46039f"
             ],
             [
              0.2222222222222222,
              "#7201a8"
             ],
             [
              0.3333333333333333,
              "#9c179e"
             ],
             [
              0.4444444444444444,
              "#bd3786"
             ],
             [
              0.5555555555555556,
              "#d8576b"
             ],
             [
              0.6666666666666666,
              "#ed7953"
             ],
             [
              0.7777777777777778,
              "#fb9f3a"
             ],
             [
              0.8888888888888888,
              "#fdca26"
             ],
             [
              1,
              "#f0f921"
             ]
            ],
            "type": "heatmap"
           }
          ],
          "heatmapgl": [
           {
            "colorbar": {
             "outlinewidth": 0,
             "ticks": ""
            },
            "colorscale": [
             [
              0,
              "#0d0887"
             ],
             [
              0.1111111111111111,
              "#46039f"
             ],
             [
              0.2222222222222222,
              "#7201a8"
             ],
             [
              0.3333333333333333,
              "#9c179e"
             ],
             [
              0.4444444444444444,
              "#bd3786"
             ],
             [
              0.5555555555555556,
              "#d8576b"
             ],
             [
              0.6666666666666666,
              "#ed7953"
             ],
             [
              0.7777777777777778,
              "#fb9f3a"
             ],
             [
              0.8888888888888888,
              "#fdca26"
             ],
             [
              1,
              "#f0f921"
             ]
            ],
            "type": "heatmapgl"
           }
          ],
          "histogram": [
           {
            "marker": {
             "pattern": {
              "fillmode": "overlay",
              "size": 10,
              "solidity": 0.2
             }
            },
            "type": "histogram"
           }
          ],
          "histogram2d": [
           {
            "colorbar": {
             "outlinewidth": 0,
             "ticks": ""
            },
            "colorscale": [
             [
              0,
              "#0d0887"
             ],
             [
              0.1111111111111111,
              "#46039f"
             ],
             [
              0.2222222222222222,
              "#7201a8"
             ],
             [
              0.3333333333333333,
              "#9c179e"
             ],
             [
              0.4444444444444444,
              "#bd3786"
             ],
             [
              0.5555555555555556,
              "#d8576b"
             ],
             [
              0.6666666666666666,
              "#ed7953"
             ],
             [
              0.7777777777777778,
              "#fb9f3a"
             ],
             [
              0.8888888888888888,
              "#fdca26"
             ],
             [
              1,
              "#f0f921"
             ]
            ],
            "type": "histogram2d"
           }
          ],
          "histogram2dcontour": [
           {
            "colorbar": {
             "outlinewidth": 0,
             "ticks": ""
            },
            "colorscale": [
             [
              0,
              "#0d0887"
             ],
             [
              0.1111111111111111,
              "#46039f"
             ],
             [
              0.2222222222222222,
              "#7201a8"
             ],
             [
              0.3333333333333333,
              "#9c179e"
             ],
             [
              0.4444444444444444,
              "#bd3786"
             ],
             [
              0.5555555555555556,
              "#d8576b"
             ],
             [
              0.6666666666666666,
              "#ed7953"
             ],
             [
              0.7777777777777778,
              "#fb9f3a"
             ],
             [
              0.8888888888888888,
              "#fdca26"
             ],
             [
              1,
              "#f0f921"
             ]
            ],
            "type": "histogram2dcontour"
           }
          ],
          "mesh3d": [
           {
            "colorbar": {
             "outlinewidth": 0,
             "ticks": ""
            },
            "type": "mesh3d"
           }
          ],
          "parcoords": [
           {
            "line": {
             "colorbar": {
              "outlinewidth": 0,
              "ticks": ""
             }
            },
            "type": "parcoords"
           }
          ],
          "pie": [
           {
            "automargin": true,
            "type": "pie"
           }
          ],
          "scatter": [
           {
            "fillpattern": {
             "fillmode": "overlay",
             "size": 10,
             "solidity": 0.2
            },
            "type": "scatter"
           }
          ],
          "scatter3d": [
           {
            "line": {
             "colorbar": {
              "outlinewidth": 0,
              "ticks": ""
             }
            },
            "marker": {
             "colorbar": {
              "outlinewidth": 0,
              "ticks": ""
             }
            },
            "type": "scatter3d"
           }
          ],
          "scattercarpet": [
           {
            "marker": {
             "colorbar": {
              "outlinewidth": 0,
              "ticks": ""
             }
            },
            "type": "scattercarpet"
           }
          ],
          "scattergeo": [
           {
            "marker": {
             "colorbar": {
              "outlinewidth": 0,
              "ticks": ""
             }
            },
            "type": "scattergeo"
           }
          ],
          "scattergl": [
           {
            "marker": {
             "colorbar": {
              "outlinewidth": 0,
              "ticks": ""
             }
            },
            "type": "scattergl"
           }
          ],
          "scattermapbox": [
           {
            "marker": {
             "colorbar": {
              "outlinewidth": 0,
              "ticks": ""
             }
            },
            "type": "scattermapbox"
           }
          ],
          "scatterpolar": [
           {
            "marker": {
             "colorbar": {
              "outlinewidth": 0,
              "ticks": ""
             }
            },
            "type": "scatterpolar"
           }
          ],
          "scatterpolargl": [
           {
            "marker": {
             "colorbar": {
              "outlinewidth": 0,
              "ticks": ""
             }
            },
            "type": "scatterpolargl"
           }
          ],
          "scatterternary": [
           {
            "marker": {
             "colorbar": {
              "outlinewidth": 0,
              "ticks": ""
             }
            },
            "type": "scatterternary"
           }
          ],
          "surface": [
           {
            "colorbar": {
             "outlinewidth": 0,
             "ticks": ""
            },
            "colorscale": [
             [
              0,
              "#0d0887"
             ],
             [
              0.1111111111111111,
              "#46039f"
             ],
             [
              0.2222222222222222,
              "#7201a8"
             ],
             [
              0.3333333333333333,
              "#9c179e"
             ],
             [
              0.4444444444444444,
              "#bd3786"
             ],
             [
              0.5555555555555556,
              "#d8576b"
             ],
             [
              0.6666666666666666,
              "#ed7953"
             ],
             [
              0.7777777777777778,
              "#fb9f3a"
             ],
             [
              0.8888888888888888,
              "#fdca26"
             ],
             [
              1,
              "#f0f921"
             ]
            ],
            "type": "surface"
           }
          ],
          "table": [
           {
            "cells": {
             "fill": {
              "color": "#EBF0F8"
             },
             "line": {
              "color": "white"
             }
            },
            "header": {
             "fill": {
              "color": "#C8D4E3"
             },
             "line": {
              "color": "white"
             }
            },
            "type": "table"
           }
          ]
         },
         "layout": {
          "annotationdefaults": {
           "arrowcolor": "#2a3f5f",
           "arrowhead": 0,
           "arrowwidth": 1
          },
          "autotypenumbers": "strict",
          "coloraxis": {
           "colorbar": {
            "outlinewidth": 0,
            "ticks": ""
           }
          },
          "colorscale": {
           "diverging": [
            [
             0,
             "#8e0152"
            ],
            [
             0.1,
             "#c51b7d"
            ],
            [
             0.2,
             "#de77ae"
            ],
            [
             0.3,
             "#f1b6da"
            ],
            [
             0.4,
             "#fde0ef"
            ],
            [
             0.5,
             "#f7f7f7"
            ],
            [
             0.6,
             "#e6f5d0"
            ],
            [
             0.7,
             "#b8e186"
            ],
            [
             0.8,
             "#7fbc41"
            ],
            [
             0.9,
             "#4d9221"
            ],
            [
             1,
             "#276419"
            ]
           ],
           "sequential": [
            [
             0,
             "#0d0887"
            ],
            [
             0.1111111111111111,
             "#46039f"
            ],
            [
             0.2222222222222222,
             "#7201a8"
            ],
            [
             0.3333333333333333,
             "#9c179e"
            ],
            [
             0.4444444444444444,
             "#bd3786"
            ],
            [
             0.5555555555555556,
             "#d8576b"
            ],
            [
             0.6666666666666666,
             "#ed7953"
            ],
            [
             0.7777777777777778,
             "#fb9f3a"
            ],
            [
             0.8888888888888888,
             "#fdca26"
            ],
            [
             1,
             "#f0f921"
            ]
           ],
           "sequentialminus": [
            [
             0,
             "#0d0887"
            ],
            [
             0.1111111111111111,
             "#46039f"
            ],
            [
             0.2222222222222222,
             "#7201a8"
            ],
            [
             0.3333333333333333,
             "#9c179e"
            ],
            [
             0.4444444444444444,
             "#bd3786"
            ],
            [
             0.5555555555555556,
             "#d8576b"
            ],
            [
             0.6666666666666666,
             "#ed7953"
            ],
            [
             0.7777777777777778,
             "#fb9f3a"
            ],
            [
             0.8888888888888888,
             "#fdca26"
            ],
            [
             1,
             "#f0f921"
            ]
           ]
          },
          "colorway": [
           "#636efa",
           "#EF553B",
           "#00cc96",
           "#ab63fa",
           "#FFA15A",
           "#19d3f3",
           "#FF6692",
           "#B6E880",
           "#FF97FF",
           "#FECB52"
          ],
          "font": {
           "color": "#2a3f5f"
          },
          "geo": {
           "bgcolor": "white",
           "lakecolor": "white",
           "landcolor": "#E5ECF6",
           "showlakes": true,
           "showland": true,
           "subunitcolor": "white"
          },
          "hoverlabel": {
           "align": "left"
          },
          "hovermode": "closest",
          "mapbox": {
           "style": "light"
          },
          "paper_bgcolor": "white",
          "plot_bgcolor": "#E5ECF6",
          "polar": {
           "angularaxis": {
            "gridcolor": "white",
            "linecolor": "white",
            "ticks": ""
           },
           "bgcolor": "#E5ECF6",
           "radialaxis": {
            "gridcolor": "white",
            "linecolor": "white",
            "ticks": ""
           }
          },
          "scene": {
           "xaxis": {
            "backgroundcolor": "#E5ECF6",
            "gridcolor": "white",
            "gridwidth": 2,
            "linecolor": "white",
            "showbackground": true,
            "ticks": "",
            "zerolinecolor": "white"
           },
           "yaxis": {
            "backgroundcolor": "#E5ECF6",
            "gridcolor": "white",
            "gridwidth": 2,
            "linecolor": "white",
            "showbackground": true,
            "ticks": "",
            "zerolinecolor": "white"
           },
           "zaxis": {
            "backgroundcolor": "#E5ECF6",
            "gridcolor": "white",
            "gridwidth": 2,
            "linecolor": "white",
            "showbackground": true,
            "ticks": "",
            "zerolinecolor": "white"
           }
          },
          "shapedefaults": {
           "line": {
            "color": "#2a3f5f"
           }
          },
          "ternary": {
           "aaxis": {
            "gridcolor": "white",
            "linecolor": "white",
            "ticks": ""
           },
           "baxis": {
            "gridcolor": "white",
            "linecolor": "white",
            "ticks": ""
           },
           "bgcolor": "#E5ECF6",
           "caxis": {
            "gridcolor": "white",
            "linecolor": "white",
            "ticks": ""
           }
          },
          "title": {
           "x": 0.05
          },
          "xaxis": {
           "automargin": true,
           "gridcolor": "white",
           "linecolor": "white",
           "ticks": "",
           "title": {
            "standoff": 15
           },
           "zerolinecolor": "white",
           "zerolinewidth": 2
          },
          "yaxis": {
           "automargin": true,
           "gridcolor": "white",
           "linecolor": "white",
           "ticks": "",
           "title": {
            "standoff": 15
           },
           "zerolinecolor": "white",
           "zerolinewidth": 2
          }
         }
        },
        "title": {
         "text": "Military Expenditure vs Liberal Democracy Index"
        },
        "xaxis": {
         "anchor": "y",
         "autorange": true,
         "domain": [
          0,
          1
         ],
         "range": [
          -0.01541961722437813,
          0.9445812519692055
         ],
         "title": {
          "text": "Liberal democracy index (best estimate, aggregate: average)"
         },
         "type": "linear"
        },
        "yaxis": {
         "anchor": "x",
         "autorange": true,
         "domain": [
          0,
          1
         ],
         "range": [
          -0.8864489010630902,
          15.009087718982663
         ],
         "title": {
          "text": "Military expenditure as a share of GDP (OWID calculated based on NMC, COW & SIPRI (2017))"
         },
         "type": "linear"
        }
       }
      },
      "image/png": "[encoded data removed]",
      "text/html": [
       "<div>                            <div id=\"b09563c1-b2e6-4f4d-92da-79a4b7a10fba\" class=\"plotly-graph-div\" style=\"height:700px; width:100%;\"></div>            <script type=\"text/javascript\">                require([\"plotly\"], function(Plotly) {                    window.PLOTLYENV=window.PLOTLYENV || {};                                    if (document.getElementById(\"b09563c1-b2e6-4f4d-92da-79a4b7a10fba\")) {                    Plotly.newPlot(                        \"b09563c1-b2e6-4f4d-92da-79a4b7a10fba\",                        [{\"hovertemplate\":\"\\u003cb\\u003e%{hovertext}\\u003c\\u002fb\\u003e\\u003cbr\\u003e\\u003cbr\\u003eLiberal democracy index (best estimate, aggregate: average)=%{x}\\u003cbr\\u003eMilitary expenditure as a share of GDP (OWID calculated based on NMC, COW & SIPRI (2017))=%{marker.size}\\u003cextra\\u003e\\u003c\\u002fextra\\u003e\",\"hovertext\":[\"Afghanistan\",\"Albania\",\"Algeria\",\"Angola\",\"Argentina\",\"Armenia\",\"Australia\",\"Azerbaijan\",\"Bangladesh\",\"Belarus\",\"Belgium\",\"Benin\",\"Bolivia\",\"Bosnia and Herzegovina\",\"Botswana\",\"Brazil\",\"Bulgaria\",\"Burkina Faso\",\"Burundi\",\"Cambodia\",\"Cameroon\",\"Canada\",\"Cape Verde\",\"Chad\",\"Chile\",\"China\",\"Colombia\",\"Congo\",\"Cote d'Ivoire\",\"Croatia\",\"Cyprus\",\"Czechia\",\"Democratic Republic of Congo\",\"Denmark\",\"Dominican Republic\",\"Ecuador\",\"Egypt\",\"El Salvador\",\"Equatorial Guinea\",\"Estonia\",\"Eswatini\",\"Ethiopia\",\"Fiji\",\"Finland\",\"France\",\"Gabon\",\"Georgia\",\"Germany\",\"Ghana\",\"Greece\",\"Guatemala\",\"Guinea\",\"Guyana\",\"Honduras\",\"Hungary\",\"India\",\"Indonesia\",\"Iraq\",\"Ireland\",\"Israel\",\"Italy\",\"Jamaica\",\"Japan\",\"Jordan\",\"Kazakhstan\",\"Kenya\",\"Kyrgyzstan\",\"Latvia\",\"Lesotho\",\"Liberia\",\"Lithuania\",\"Luxembourg\",\"Madagascar\",\"Malawi\",\"Malaysia\",\"Mali\",\"Malta\",\"Mauritania\",\"Mauritius\",\"Mexico\",\"Moldova\",\"Mongolia\",\"Montenegro\",\"Morocco\",\"Mozambique\",\"Namibia\",\"Nepal\",\"Netherlands\",\"New Zealand\",\"Nicaragua\",\"Niger\",\"Nigeria\",\"North Macedonia\",\"Norway\",\"Oman\",\"Pakistan\",\"Paraguay\",\"Peru\",\"Philippines\",\"Poland\",\"Portugal\",\"Romania\",\"Russia\",\"Rwanda\",\"Saudi Arabia\",\"Senegal\",\"Serbia\",\"Seychelles\",\"Sierra Leone\",\"Singapore\",\"Slovakia\",\"Slovenia\",\"Somalia\",\"South Africa\",\"South Korea\",\"Spain\",\"Sri Lanka\",\"Sudan\",\"Sweden\",\"Switzerland\",\"Tanzania\",\"Thailand\",\"Togo\",\"Trinidad and Tobago\",\"Tunisia\",\"Turkey\",\"Uganda\",\"Ukraine\",\"United Kingdom\",\"United States\",\"Uruguay\",\"Vietnam\",\"World\",\"Zambia\",\"Zimbabwe\"],\"legendgroup\":\"\",\"marker\":{\"color\":\"#636efa\",\"size\":[0.89233619,1.229624,6.5467024,2.9486744,0.954768,4.0898852,2.0013125,3.6427701,1.4417896,1.2725638,0.87141937,1.1432455,1.6751555,0.99343908,3.3710008,1.3179413,1.4433044,1.2333869,2.2078493,1.8475696,1.6005238,0.99131018,0.62905407,2.786067,1.8657224,1.9229624,3.3869185,7.1702466,1.1768368,1.3776548,1.7814808,1.0134143,1.3396587,1.1479144,0.63910162,2.2133992,1.6672821,0.8679924,0.17916869,2.1705427,1.8057698,0.6707921,0.97528404,1.371098,2.2615852,1.4272537,2.1962593,1.184881,0.37920931,2.5567997,0.39449373,2.4870148,1.4227139,1.5868695,1.0086918,2.474853,0.87613177,3.6346323,0.3398577,5.6420422,1.5103074,0.8240242,0.93462622,4.5779071,0.82480341,1.3226782,3.1513398,1.4703453,1.849736,0.58346027,1.4887112,0.49082109,0.59352714,0.60814971,1.4072088,2.6261101,0.52561229,2.969286,0.18796006,0.57575798,0.44000417,0.91546202,1.610418,3.2798355,1.0312053,4.44099,1.5249516,1.2005953,1.1319803,0.54840541,2.2138062,0.43248826,0.97254223,1.6191213,13.730983,3.5629499,1.2506863,1.2910366,1.2787623,1.9889033,1.8406599,1.4747721,5.3981905,1.2087187,9.8497868,1.7203158,1.8814355,1.2872616,0.81433451,3.3544827,1.156155,0.91888475,3.2948901e-05,1.0726829,2.6071384,1.2090486,2.4424407,2.829278,1.0415353,0.70959735,1.1401817,1.4452711,1.8645321,1.1248719,2.3185298,1.726131,1.5676425,3.6719813,1.8437858,3.2914166,1.854261,2.4429607,2.2245953,1.5319215,2.1981726],\"sizemode\":\"area\",\"sizeref\":0.0343274575,\"symbol\":\"circle\"},\"mode\":\"markers\",\"name\":\"\",\"orientation\":\"v\",\"showlegend\":false,\"x\":[0.208,0.443,0.163,0.134,0.62,0.209,0.832,0.062,0.111,0.109,0.84,0.587,0.381,0.369,0.586,0.659,0.567,0.51,0.045,0.102,0.143,0.774,0.716,0.092,0.844,0.053,0.548,0.097,0.356,0.652,0.741,0.773,0.126,0.892,0.302,0.271,0.122,0.471,0.054,0.859,0.098,0.099,0.28,0.821,0.822,0.23,0.527,0.851,0.613,0.784,0.458,0.166,0.466,0.259,0.474,0.409,0.502,0.247,0.823,0.652,0.792,0.688,0.742,0.195,0.117,0.422,0.308,0.755,0.427,0.455,0.769,0.795,0.251,0.44,0.205,0.35,0.585,0.181,0.631,0.431,0.432,0.543,0.37,0.233,0.292,0.592,0.556,0.835,0.837,0.122,0.455,0.398,0.277,0.864,0.139,0.26,0.415,0.674,0.363,0.6,0.832,0.622,0.108,0.127,0.046,0.579,0.327,0.498,0.308,0.337,0.732,0.795,0.111,0.636,0.626,0.772,0.45,0.066,0.881,0.861,0.357,0.102,0.278,0.648,0.626,0.147,0.227,0.237,0.788,0.838,0.835,0.122,0.4071229,0.31,0.201],\"xaxis\":\"x\",\"y\":[0.89233619,1.229624,6.5467024,2.9486744,0.954768,4.0898852,2.0013125,3.6427701,1.4417896,1.2725638,0.87141937,1.1432455,1.6751555,0.99343908,3.3710008,1.3179413,1.4433044,1.2333869,2.2078493,1.8475696,1.6005238,0.99131018,0.62905407,2.786067,1.8657224,1.9229624,3.3869185,7.1702466,1.1768368,1.3776548,1.7814808,1.0134143,1.3396587,1.1479144,0.63910162,2.2133992,1.6672821,0.8679924,0.17916869,2.1705427,1.8057698,0.6707921,0.97528404,1.371098,2.2615852,1.4272537,2.1962593,1.184881,0.37920931,2.5567997,0.39449373,2.4870148,1.4227139,1.5868695,1.0086918,2.474853,0.87613177,3.6346323,0.3398577,5.6420422,1.5103074,0.8240242,0.93462622,4.5779071,0.82480341,1.3226782,3.1513398,1.4703453,1.849736,0.58346027,1.4887112,0.49082109,0.59352714,0.60814971,1.4072088,2.6261101,0.52561229,2.969286,0.18796006,0.57575798,0.44000417,0.91546202,1.610418,3.2798355,1.0312053,4.44099,1.5249516,1.2005953,1.1319803,0.54840541,2.2138062,0.43248826,0.97254223,1.6191213,13.730983,3.5629499,1.2506863,1.2910366,1.2787623,1.9889033,1.8406599,1.4747721,5.3981905,1.2087187,9.8497868,1.7203158,1.8814355,1.2872616,0.81433451,3.3544827,1.156155,0.91888475,3.2948901e-05,1.0726829,2.6071384,1.2090486,2.4424407,2.829278,1.0415353,0.70959735,1.1401817,1.4452711,1.8645321,1.1248719,2.3185298,1.726131,1.5676425,3.6719813,1.8437858,3.2914166,1.854261,2.4429607,2.2245953,1.5319215,2.1981726],\"yaxis\":\"y\",\"type\":\"scatter\",\"textposition\":\"bottom center\"}],                        {\"template\":{\"data\":{\"histogram2dcontour\":[{\"type\":\"histogram2dcontour\",\"colorbar\":{\"outlinewidth\":0,\"ticks\":\"\"},\"colorscale\":[[0.0,\"#0d0887\"],[0.1111111111111111,\"#46039f\"],[0.2222222222222222,\"#7201a8\"],[0.3333333333333333,\"#9c179e\"],[0.4444444444444444,\"#bd3786\"],[0.5555555555555556,\"#d8576b\"],[0.6666666666666666,\"#ed7953\"],[0.7777777777777778,\"#fb9f3a\"],[0.8888888888888888,\"#fdca26\"],[1.0,\"#f0f921\"]]}],\"choropleth\":[{\"type\":\"choropleth\",\"colorbar\":{\"outlinewidth\":0,\"ticks\":\"\"}}],\"histogram2d\":[{\"type\":\"histogram2d\",\"colorbar\":{\"outlinewidth\":0,\"ticks\":\"\"},\"colorscale\":[[0.0,\"#0d0887\"],[0.1111111111111111,\"#46039f\"],[0.2222222222222222,\"#7201a8\"],[0.3333333333333333,\"#9c179e\"],[0.4444444444444444,\"#bd3786\"],[0.5555555555555556,\"#d8576b\"],[0.6666666666666666,\"#ed7953\"],[0.7777777777777778,\"#fb9f3a\"],[0.8888888888888888,\"#fdca26\"],[1.0,\"#f0f921\"]]}],\"heatmap\":[{\"type\":\"heatmap\",\"colorbar\":{\"outlinewidth\":0,\"ticks\":\"\"},\"colorscale\":[[0.0,\"#0d0887\"],[0.1111111111111111,\"#46039f\"],[0.2222222222222222,\"#7201a8\"],[0.3333333333333333,\"#9c179e\"],[0.4444444444444444,\"#bd3786\"],[0.5555555555555556,\"#d8576b\"],[0.6666666666666666,\"#ed7953\"],[0.7777777777777778,\"#fb9f3a\"],[0.8888888888888888,\"#fdca26\"],[1.0,\"#f0f921\"]]}],\"heatmapgl\":[{\"type\":\"heatmapgl\",\"colorbar\":{\"outlinewidth\":0,\"ticks\":\"\"},\"colorscale\":[[0.0,\"#0d0887\"],[0.1111111111111111,\"#46039f\"],[0.2222222222222222,\"#7201a8\"],[0.3333333333333333,\"#9c179e\"],[0.4444444444444444,\"#bd3786\"],[0.5555555555555556,\"#d8576b\"],[0.6666666666666666,\"#ed7953\"],[0.7777777777777778,\"#fb9f3a\"],[0.8888888888888888,\"#fdca26\"],[1.0,\"#f0f921\"]]}],\"contourcarpet\":[{\"type\":\"contourcarpet\",\"colorbar\":{\"outlinewidth\":0,\"ticks\":\"\"}}],\"contour\":[{\"type\":\"contour\",\"colorbar\":{\"outlinewidth\":0,\"ticks\":\"\"},\"colorscale\":[[0.0,\"#0d0887\"],[0.1111111111111111,\"#46039f\"],[0.2222222222222222,\"#7201a8\"],[0.3333333333333333,\"#9c179e\"],[0.4444444444444444,\"#bd3786\"],[0.5555555555555556,\"#d8576b\"],[0.6666666666666666,\"#ed7953\"],[0.7777777777777778,\"#fb9f3a\"],[0.8888888888888888,\"#fdca26\"],[1.0,\"#f0f921\"]]}],\"surface\":[{\"type\":\"surface\",\"colorbar\":{\"outlinewidth\":0,\"ticks\":\"\"},\"colorscale\":[[0.0,\"#0d0887\"],[0.1111111111111111,\"#46039f\"],[0.2222222222222222,\"#7201a8\"],[0.3333333333333333,\"#9c179e\"],[0.4444444444444444,\"#bd3786\"],[0.5555555555555556,\"#d8576b\"],[0.6666666666666666,\"#ed7953\"],[0.7777777777777778,\"#fb9f3a\"],[0.8888888888888888,\"#fdca26\"],[1.0,\"#f0f921\"]]}],\"mesh3d\":[{\"type\":\"mesh3d\",\"colorbar\":{\"outlinewidth\":0,\"ticks\":\"\"}}],\"scatter\":[{\"fillpattern\":{\"fillmode\":\"overlay\",\"size\":10,\"solidity\":0.2},\"type\":\"scatter\"}],\"parcoords\":[{\"type\":\"parcoords\",\"line\":{\"colorbar\":{\"outlinewidth\":0,\"ticks\":\"\"}}}],\"scatterpolargl\":[{\"type\":\"scatterpolargl\",\"marker\":{\"colorbar\":{\"outlinewidth\":0,\"ticks\":\"\"}}}],\"bar\":[{\"error_x\":{\"color\":\"#2a3f5f\"},\"error_y\":{\"color\":\"#2a3f5f\"},\"marker\":{\"line\":{\"color\":\"#E5ECF6\",\"width\":0.5},\"pattern\":{\"fillmode\":\"overlay\",\"size\":10,\"solidity\":0.2}},\"type\":\"bar\"}],\"scattergeo\":[{\"type\":\"scattergeo\",\"marker\":{\"colorbar\":{\"outlinewidth\":0,\"ticks\":\"\"}}}],\"scatterpolar\":[{\"type\":\"scatterpolar\",\"marker\":{\"colorbar\":{\"outlinewidth\":0,\"ticks\":\"\"}}}],\"histogram\":[{\"marker\":{\"pattern\":{\"fillmode\":\"overlay\",\"size\":10,\"solidity\":0.2}},\"type\":\"histogram\"}],\"scattergl\":[{\"type\":\"scattergl\",\"marker\":{\"colorbar\":{\"outlinewidth\":0,\"ticks\":\"\"}}}],\"scatter3d\":[{\"type\":\"scatter3d\",\"line\":{\"colorbar\":{\"outlinewidth\":0,\"ticks\":\"\"}},\"marker\":{\"colorbar\":{\"outlinewidth\":0,\"ticks\":\"\"}}}],\"scattermapbox\":[{\"type\":\"scattermapbox\",\"marker\":{\"colorbar\":{\"outlinewidth\":0,\"ticks\":\"\"}}}],\"scatterternary\":[{\"type\":\"scatterternary\",\"marker\":{\"colorbar\":{\"outlinewidth\":0,\"ticks\":\"\"}}}],\"scattercarpet\":[{\"type\":\"scattercarpet\",\"marker\":{\"colorbar\":{\"outlinewidth\":0,\"ticks\":\"\"}}}],\"carpet\":[{\"aaxis\":{\"endlinecolor\":\"#2a3f5f\",\"gridcolor\":\"white\",\"linecolor\":\"white\",\"minorgridcolor\":\"white\",\"startlinecolor\":\"#2a3f5f\"},\"baxis\":{\"endlinecolor\":\"#2a3f5f\",\"gridcolor\":\"white\",\"linecolor\":\"white\",\"minorgridcolor\":\"white\",\"startlinecolor\":\"#2a3f5f\"},\"type\":\"carpet\"}],\"table\":[{\"cells\":{\"fill\":{\"color\":\"#EBF0F8\"},\"line\":{\"color\":\"white\"}},\"header\":{\"fill\":{\"color\":\"#C8D4E3\"},\"line\":{\"color\":\"white\"}},\"type\":\"table\"}],\"barpolar\":[{\"marker\":{\"line\":{\"color\":\"#E5ECF6\",\"width\":0.5},\"pattern\":{\"fillmode\":\"overlay\",\"size\":10,\"solidity\":0.2}},\"type\":\"barpolar\"}],\"pie\":[{\"automargin\":true,\"type\":\"pie\"}]},\"layout\":{\"autotypenumbers\":\"strict\",\"colorway\":[\"#636efa\",\"#EF553B\",\"#00cc96\",\"#ab63fa\",\"#FFA15A\",\"#19d3f3\",\"#FF6692\",\"#B6E880\",\"#FF97FF\",\"#FECB52\"],\"font\":{\"color\":\"#2a3f5f\"},\"hovermode\":\"closest\",\"hoverlabel\":{\"align\":\"left\"},\"paper_bgcolor\":\"white\",\"plot_bgcolor\":\"#E5ECF6\",\"polar\":{\"bgcolor\":\"#E5ECF6\",\"angularaxis\":{\"gridcolor\":\"white\",\"linecolor\":\"white\",\"ticks\":\"\"},\"radialaxis\":{\"gridcolor\":\"white\",\"linecolor\":\"white\",\"ticks\":\"\"}},\"ternary\":{\"bgcolor\":\"#E5ECF6\",\"aaxis\":{\"gridcolor\":\"white\",\"linecolor\":\"white\",\"ticks\":\"\"},\"baxis\":{\"gridcolor\":\"white\",\"linecolor\":\"white\",\"ticks\":\"\"},\"caxis\":{\"gridcolor\":\"white\",\"linecolor\":\"white\",\"ticks\":\"\"}},\"coloraxis\":{\"colorbar\":{\"outlinewidth\":0,\"ticks\":\"\"}},\"colorscale\":{\"sequential\":[[0.0,\"#0d0887\"],[0.1111111111111111,\"#46039f\"],[0.2222222222222222,\"#7201a8\"],[0.3333333333333333,\"#9c179e\"],[0.4444444444444444,\"#bd3786\"],[0.5555555555555556,\"#d8576b\"],[0.6666666666666666,\"#ed7953\"],[0.7777777777777778,\"#fb9f3a\"],[0.8888888888888888,\"#fdca26\"],[1.0,\"#f0f921\"]],\"sequentialminus\":[[0.0,\"#0d0887\"],[0.1111111111111111,\"#46039f\"],[0.2222222222222222,\"#7201a8\"],[0.3333333333333333,\"#9c179e\"],[0.4444444444444444,\"#bd3786\"],[0.5555555555555556,\"#d8576b\"],[0.6666666666666666,\"#ed7953\"],[0.7777777777777778,\"#fb9f3a\"],[0.8888888888888888,\"#fdca26\"],[1.0,\"#f0f921\"]],\"diverging\":[[0,\"#8e0152\"],[0.1,\"#c51b7d\"],[0.2,\"#de77ae\"],[0.3,\"#f1b6da\"],[0.4,\"#fde0ef\"],[0.5,\"#f7f7f7\"],[0.6,\"#e6f5d0\"],[0.7,\"#b8e186\"],[0.8,\"#7fbc41\"],[0.9,\"#4d9221\"],[1,\"#276419\"]]},\"xaxis\":{\"gridcolor\":\"white\",\"linecolor\":\"white\",\"ticks\":\"\",\"title\":{\"standoff\":15},\"zerolinecolor\":\"white\",\"automargin\":true,\"zerolinewidth\":2},\"yaxis\":{\"gridcolor\":\"white\",\"linecolor\":\"white\",\"ticks\":\"\",\"title\":{\"standoff\":15},\"zerolinecolor\":\"white\",\"automargin\":true,\"zerolinewidth\":2},\"scene\":{\"xaxis\":{\"backgroundcolor\":\"#E5ECF6\",\"gridcolor\":\"white\",\"linecolor\":\"white\",\"showbackground\":true,\"ticks\":\"\",\"zerolinecolor\":\"white\",\"gridwidth\":2},\"yaxis\":{\"backgroundcolor\":\"#E5ECF6\",\"gridcolor\":\"white\",\"linecolor\":\"white\",\"showbackground\":true,\"ticks\":\"\",\"zerolinecolor\":\"white\",\"gridwidth\":2},\"zaxis\":{\"backgroundcolor\":\"#E5ECF6\",\"gridcolor\":\"white\",\"linecolor\":\"white\",\"showbackground\":true,\"ticks\":\"\",\"zerolinecolor\":\"white\",\"gridwidth\":2}},\"shapedefaults\":{\"line\":{\"color\":\"#2a3f5f\"}},\"annotationdefaults\":{\"arrowcolor\":\"#2a3f5f\",\"arrowhead\":0,\"arrowwidth\":1},\"geo\":{\"bgcolor\":\"white\",\"landcolor\":\"#E5ECF6\",\"subunitcolor\":\"white\",\"showland\":true,\"showlakes\":true,\"lakecolor\":\"white\"},\"title\":{\"x\":0.05},\"mapbox\":{\"style\":\"light\"}}},\"xaxis\":{\"anchor\":\"y\",\"domain\":[0.0,1.0],\"title\":{\"text\":\"Liberal democracy index (best estimate, aggregate: average)\"}},\"yaxis\":{\"anchor\":\"x\",\"domain\":[0.0,1.0],\"title\":{\"text\":\"Military expenditure as a share of GDP (OWID calculated based on NMC, COW & SIPRI (2017))\"}},\"legend\":{\"tracegroupgap\":0,\"itemsizing\":\"constant\"},\"title\":{\"text\":\"Military Expenditure vs Liberal Democracy Index\"},\"height\":700},                        {\"responsive\": true}                    ).then(function(){\n",
       "                            \n",
       "var gd = document.getElementById('b09563c1-b2e6-4f4d-92da-79a4b7a10fba');\n",
       "var x = new MutationObserver(function (mutations, observer) {{\n",
       "        var display = window.getComputedStyle(gd).display;\n",
       "        if (!display || display === 'none') {{\n",
       "            console.log([gd, 'removed!']);\n",
       "            Plotly.purge(gd);\n",
       "            observer.disconnect();\n",
       "        }}\n",
       "}});\n",
       "\n",
       "// Listen for the removal of the full notebook cells\n",
       "var notebookContainer = gd.closest('#notebook-container');\n",
       "if (notebookContainer) {{\n",
       "    x.observe(notebookContainer, {childList: true});\n",
       "}}\n",
       "\n",
       "// Listen for the clearing of the current output cell\n",
       "var outputEl = gd.closest('.output');\n",
       "if (outputEl) {{\n",
       "    x.observe(outputEl, {childList: true});\n",
       "}}\n",
       "\n",
       "                        })                };                });            </script>        </div>"
      ]
     },
     "metadata": {},
     "output_type": "display_data"
    }
   ],
   "source": [
    "# Assuming df_cleaned and military_expenditure_gdp_clean are your dataframes\n",
    "# Merge the dataframes on 'Entity' and 'Year'\n",
    "\n",
    "# Merge the filtered dataframes\n",
    "merged_df_2016 = pd.merge(df_cleaned_2017, filtered_df, on=['Entity', 'Year'])\n",
    "\n",
    "\n",
    "# Plotting\n",
    "# Create a scatter plot using Plotly\n",
    "fig = px.scatter(\n",
    "    merged_df_2016,\n",
    "    y='Military expenditure as a share of GDP (OWID calculated based on NMC, COW & SIPRI (2017))',\n",
    "    x='Liberal democracy index (best estimate, aggregate: average)',\n",
    "    hover_name='Entity',  # Display country names on hover\n",
    "    title='Military Expenditure vs Liberal Democracy Index',\n",
    "    size='Military expenditure as a share of GDP (OWID calculated based on NMC, COW & SIPRI (2017))',\n",
    "    height=700,\n",
    "    labels={\n",
    "        'x': 'Military Expenditure as a share of GDP',\n",
    "        'y': 'Liberal Democracy Index'\n",
    "    },\n",
    "    template='plotly'\n",
    ")\n",
    "\n",
    "# Update the text position for better readability\n",
    "fig.update_traces(textposition='bottom center')\n",
    "\n",
    "fig.show()"
   ]
  },
  {
   "cell_type": "code",
   "execution_count": 16,
   "id": "e37a8290",
   "metadata": {},
   "outputs": [
    {
     "data": {
      "text/html": [
       "<div>\n",
       "<style scoped>\n",
       "    .dataframe tbody tr th:only-of-type {\n",
       "        vertical-align: middle;\n",
       "    }\n",
       "\n",
       "    .dataframe tbody tr th {\n",
       "        vertical-align: top;\n",
       "    }\n",
       "\n",
       "    .dataframe thead th {\n",
       "        text-align: right;\n",
       "    }\n",
       "</style>\n",
       "<table border=\"1\" class=\"dataframe\">\n",
       "  <thead>\n",
       "    <tr style=\"text-align: right;\">\n",
       "      <th></th>\n",
       "      <th>Year</th>\n",
       "      <th>Liberal democracy index (best estimate, aggregate: average)</th>\n",
       "    </tr>\n",
       "  </thead>\n",
       "  <tbody>\n",
       "    <tr>\n",
       "      <th>count</th>\n",
       "      <td>180.0</td>\n",
       "      <td>180.000000</td>\n",
       "    </tr>\n",
       "    <tr>\n",
       "      <th>mean</th>\n",
       "      <td>2016.0</td>\n",
       "      <td>0.413082</td>\n",
       "    </tr>\n",
       "    <tr>\n",
       "      <th>std</th>\n",
       "      <td>0.0</td>\n",
       "      <td>0.265153</td>\n",
       "    </tr>\n",
       "    <tr>\n",
       "      <th>min</th>\n",
       "      <td>2016.0</td>\n",
       "      <td>0.006000</td>\n",
       "    </tr>\n",
       "    <tr>\n",
       "      <th>25%</th>\n",
       "      <td>2016.0</td>\n",
       "      <td>0.170500</td>\n",
       "    </tr>\n",
       "    <tr>\n",
       "      <th>50%</th>\n",
       "      <td>2016.0</td>\n",
       "      <td>0.389500</td>\n",
       "    </tr>\n",
       "    <tr>\n",
       "      <th>75%</th>\n",
       "      <td>2016.0</td>\n",
       "      <td>0.632250</td>\n",
       "    </tr>\n",
       "    <tr>\n",
       "      <th>max</th>\n",
       "      <td>2016.0</td>\n",
       "      <td>0.892000</td>\n",
       "    </tr>\n",
       "  </tbody>\n",
       "</table>\n",
       "</div>"
      ],
      "text/plain": [
       "         Year  Liberal democracy index (best estimate, aggregate: average)\n",
       "count   180.0                                         180.000000          \n",
       "mean   2016.0                                           0.413082          \n",
       "std       0.0                                           0.265153          \n",
       "min    2016.0                                           0.006000          \n",
       "25%    2016.0                                           0.170500          \n",
       "50%    2016.0                                           0.389500          \n",
       "75%    2016.0                                           0.632250          \n",
       "max    2016.0                                           0.892000          "
      ]
     },
     "execution_count": 16,
     "metadata": {},
     "output_type": "execute_result"
    }
   ],
   "source": [
    "# check the column types\n",
    "df_cleaned_2017.describe()"
   ]
  },
  {
   "cell_type": "code",
   "execution_count": 17,
   "id": "7c8603a8",
   "metadata": {},
   "outputs": [
    {
     "data": {
      "text/html": [
       "<div>\n",
       "<style scoped>\n",
       "    .dataframe tbody tr th:only-of-type {\n",
       "        vertical-align: middle;\n",
       "    }\n",
       "\n",
       "    .dataframe tbody tr th {\n",
       "        vertical-align: top;\n",
       "    }\n",
       "\n",
       "    .dataframe thead th {\n",
       "        text-align: right;\n",
       "    }\n",
       "</style>\n",
       "<table border=\"1\" class=\"dataframe\">\n",
       "  <thead>\n",
       "    <tr style=\"text-align: right;\">\n",
       "      <th></th>\n",
       "      <th>Entity</th>\n",
       "      <th>Year</th>\n",
       "      <th>Liberal democracy index (best estimate, aggregate: average)</th>\n",
       "      <th>Code</th>\n",
       "      <th>Military expenditure as a share of GDP (OWID calculated based on NMC, COW &amp; SIPRI (2017))</th>\n",
       "    </tr>\n",
       "  </thead>\n",
       "  <tbody>\n",
       "    <tr>\n",
       "      <th>0</th>\n",
       "      <td>Afghanistan</td>\n",
       "      <td>2016</td>\n",
       "      <td>0.208000</td>\n",
       "      <td>AFG</td>\n",
       "      <td>0.892336</td>\n",
       "    </tr>\n",
       "    <tr>\n",
       "      <th>1</th>\n",
       "      <td>Albania</td>\n",
       "      <td>2016</td>\n",
       "      <td>0.443000</td>\n",
       "      <td>ALB</td>\n",
       "      <td>1.229624</td>\n",
       "    </tr>\n",
       "    <tr>\n",
       "      <th>2</th>\n",
       "      <td>Algeria</td>\n",
       "      <td>2016</td>\n",
       "      <td>0.163000</td>\n",
       "      <td>DZA</td>\n",
       "      <td>6.546702</td>\n",
       "    </tr>\n",
       "    <tr>\n",
       "      <th>3</th>\n",
       "      <td>Angola</td>\n",
       "      <td>2016</td>\n",
       "      <td>0.134000</td>\n",
       "      <td>AGO</td>\n",
       "      <td>2.948674</td>\n",
       "    </tr>\n",
       "    <tr>\n",
       "      <th>4</th>\n",
       "      <td>Argentina</td>\n",
       "      <td>2016</td>\n",
       "      <td>0.620000</td>\n",
       "      <td>ARG</td>\n",
       "      <td>0.954768</td>\n",
       "    </tr>\n",
       "    <tr>\n",
       "      <th>...</th>\n",
       "      <td>...</td>\n",
       "      <td>...</td>\n",
       "      <td>...</td>\n",
       "      <td>...</td>\n",
       "      <td>...</td>\n",
       "    </tr>\n",
       "    <tr>\n",
       "      <th>130</th>\n",
       "      <td>Uruguay</td>\n",
       "      <td>2016</td>\n",
       "      <td>0.835000</td>\n",
       "      <td>URY</td>\n",
       "      <td>1.854261</td>\n",
       "    </tr>\n",
       "    <tr>\n",
       "      <th>131</th>\n",
       "      <td>Vietnam</td>\n",
       "      <td>2016</td>\n",
       "      <td>0.122000</td>\n",
       "      <td>VNM</td>\n",
       "      <td>2.442961</td>\n",
       "    </tr>\n",
       "    <tr>\n",
       "      <th>132</th>\n",
       "      <td>World</td>\n",
       "      <td>2016</td>\n",
       "      <td>0.407123</td>\n",
       "      <td>OWID_WRL</td>\n",
       "      <td>2.224595</td>\n",
       "    </tr>\n",
       "    <tr>\n",
       "      <th>133</th>\n",
       "      <td>Zambia</td>\n",
       "      <td>2016</td>\n",
       "      <td>0.310000</td>\n",
       "      <td>ZMB</td>\n",
       "      <td>1.531921</td>\n",
       "    </tr>\n",
       "    <tr>\n",
       "      <th>134</th>\n",
       "      <td>Zimbabwe</td>\n",
       "      <td>2016</td>\n",
       "      <td>0.201000</td>\n",
       "      <td>ZWE</td>\n",
       "      <td>2.198173</td>\n",
       "    </tr>\n",
       "  </tbody>\n",
       "</table>\n",
       "<p>135 rows × 5 columns</p>\n",
       "</div>"
      ],
      "text/plain": [
       "          Entity  Year  \\\n",
       "0    Afghanistan  2016   \n",
       "1        Albania  2016   \n",
       "2        Algeria  2016   \n",
       "3         Angola  2016   \n",
       "4      Argentina  2016   \n",
       "..           ...   ...   \n",
       "130      Uruguay  2016   \n",
       "131      Vietnam  2016   \n",
       "132        World  2016   \n",
       "133       Zambia  2016   \n",
       "134     Zimbabwe  2016   \n",
       "\n",
       "     Liberal democracy index (best estimate, aggregate: average)      Code  \\\n",
       "0                                             0.208000                 AFG   \n",
       "1                                             0.443000                 ALB   \n",
       "2                                             0.163000                 DZA   \n",
       "3                                             0.134000                 AGO   \n",
       "4                                             0.620000                 ARG   \n",
       "..                                                 ...                 ...   \n",
       "130                                           0.835000                 URY   \n",
       "131                                           0.122000                 VNM   \n",
       "132                                           0.407123            OWID_WRL   \n",
       "133                                           0.310000                 ZMB   \n",
       "134                                           0.201000                 ZWE   \n",
       "\n",
       "     Military expenditure as a share of GDP (OWID calculated based on NMC, COW & SIPRI (2017))  \n",
       "0                                             0.892336                                          \n",
       "1                                             1.229624                                          \n",
       "2                                             6.546702                                          \n",
       "3                                             2.948674                                          \n",
       "4                                             0.954768                                          \n",
       "..                                                 ...                                          \n",
       "130                                           1.854261                                          \n",
       "131                                           2.442961                                          \n",
       "132                                           2.224595                                          \n",
       "133                                           1.531921                                          \n",
       "134                                           2.198173                                          \n",
       "\n",
       "[135 rows x 5 columns]"
      ]
     },
     "execution_count": 17,
     "metadata": {},
     "output_type": "execute_result"
    }
   ],
   "source": [
    "merged_df_2016"
   ]
  }
 ],
 "metadata": {
  "kernelspec": {
   "display_name": "Python 3 (ipykernel)",
   "language": "python",
   "name": "python3"
  },
  "language_info": {
   "codemirror_mode": {
    "name": "ipython",
    "version": 3
   },
   "file_extension": ".py",
   "mimetype": "text/x-python",
   "name": "python",
   "nbconvert_exporter": "python",
   "pygments_lexer": "ipython3",
   "version": "3.9.6"
  }
 },
 "nbformat": 4,
 "nbformat_minor": 5
}

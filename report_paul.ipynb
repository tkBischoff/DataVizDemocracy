{
 "cells": [
  {
   "cell_type": "markdown",
   "metadata": {},
   "source": [
    "## CO2 Emission\n",
    "We retrieved a data set from the [World Bank](https://data.worldbank.org/indicator/EN.ATM.CO2E.PC) which supplements our data by the emission of CO2 by year and country. CO2 is measured in kt(1.000 tons).\n",
    "\n",
    "For the map plots, we choose a logarithmic scale which we fixed to the range of 3-8. 3 was a minimal value while 8 was chosen to be sure that differences between the top pollutors are taken into account, even though top emissions are just a little over 1e7. Data is available from 1990 in a yearly resolution. Below we displayed emissions of the world for the year 1990 and 2020, so that a rough 30-year-comparison can be made."
   ]
  },
  {
   "cell_type": "markdown",
   "metadata": {},
   "source": [
    "<img src=\"plots_paul_repo/CO2 Emission 1990.png\" width=\"750\" height=\"500\">"
   ]
  },
  {
   "cell_type": "markdown",
   "metadata": {},
   "source": [
    "By the course of 30 years, we can see some difference: China is now distuingishable \"dirtier\" than the USA, while still being on the second place. India and Russia are still top emitters, however Germany is also quite noticable despite its small area.\n",
    "\n",
    "<img src=\"plots_paul_repo/CO2 Emission 2020.png\" width=\"750\" height=\"500\">"
   ]
  },
  {
   "cell_type": "markdown",
   "metadata": {},
   "source": [
    "We chose this plot as it yields a good overview over all individual countries, however CO2 emissions of smaller countries are less easy to identify due to their size. We choose a fixed scale for all map-plots for CO2 so that the colors have similar meaning in all map plots related to CO2. Without this similar scale, the coloring will always adapt to the values in the data. Thus, different map plots would not really be comparable as same colors would point to different emission values."
   ]
  },
  {
   "cell_type": "markdown",
   "metadata": {},
   "source": [
    "## Scatter Plots\n",
    "\n",
    "As above, we chose to use scatter plots to visualize the emissions in relation to the EDI of different countries of a given year. Again, each circle represents a country and its size represents the population. The color relates to the continent. Top pollutors are few but skew the representation on a linear axis. This is why we chose to use a logarithmic scale for the Y-axis (CO2).\n",
    "\n",
    "For 1990, it is quite clear that most countries in Africa emit only little CO2 when compared to other countries. In fact, all African countries with the exception of only one exceed the 100.000kt. The USA (big bright blue top right corner), in contrast, produces approximately 50 times more CO2 than these African countries.\n",
    "<img src=\"plots_paul_repo/Electoral Democracy Index vs. CO2 Emissions_1990.png\" width=\"700\" height=\"700\">\n"
   ]
  },
  {
   "cell_type": "markdown",
   "metadata": {},
   "source": [
    "Comparing 1990 and 2020 again, here it becomes obvious that the emissions in Africa did not really change. All over, we can see below that the range of the X-axis scale changed. For 2020, the top value on the X-axis is now above 10M as opposed to 1990 in which the top polluter is far from the 10M markk (\"only\" around 5M)."
   ]
  },
  {
   "cell_type": "markdown",
   "metadata": {},
   "source": [
    "<img src=\"plots_paul_repo/Electoral Democracy Index vs. CO2 Emissions_2020.png\" width=\"700\" height=\"700\">\n"
   ]
  },
  {
   "cell_type": "markdown",
   "metadata": {},
   "source": [
    "#### Interactivity Examples\n",
    "\n",
    "The plots above are interactive (albeit being static in this report). Below is an example in which continents are deselected and in which we zoomed into a specific area."
   ]
  },
  {
   "cell_type": "markdown",
   "metadata": {},
   "source": [
    "<img src=\"plots_paul_repo/interactive_example2.png\" width=\"700\" height=\"700\">\n"
   ]
  },
  {
   "cell_type": "markdown",
   "metadata": {},
   "source": [
    "## Absolute CO2 Emissions by continent over the course of the years\n",
    "The plots above hint to an overall increase in global CO2 emission, as well a trend for some countries. We wanted to visualise this change in time in terms of continents. As comparing multiple maps or scatters along the different year is cumbersome, we used a stacked bar plot in which we have one stack per year, each stack colored by the continents. Thus, each height stacked bar represents the global emission of CO2 for a given year."
   ]
  },
  {
   "cell_type": "markdown",
   "metadata": {},
   "source": [
    "<img src=\"plots_paul_repo/CO2ContinentYear.png\" width=\"750\" height=\"500\">\n"
   ]
  },
  {
   "cell_type": "markdown",
   "metadata": {},
   "source": [
    "At first, it becomes obvioous that emission increase globally over the years. Asia's pollution increased by a factor of around 2,5. On average, Africa's emission clearly increases too, but on absolute level it looks like only a minor change (the same for South America). For Europe, we can see that emissions tend to shrink, but only weakly. Note that for an analysis on the continent level, a plot with each continent next to each other would be easier to interpret as then all bars would start at the X-axis for each year."
   ]
  },
  {
   "cell_type": "markdown",
   "metadata": {},
   "source": [
    "## Global Correlation between EDI and CO2 Emissions\n",
    "\n",
    "For investigating the relationship between EDI and CO2 emissions, we additionally, computed their Pearson correlation for each year. These correlations are scattered and connected:"
   ]
  },
  {
   "cell_type": "markdown",
   "metadata": {},
   "source": [
    "<img src=\"plots_paul_repo/co2_edi_correlation.png\" width=\"600\" height=\"400\">"
   ]
  },
  {
   "cell_type": "markdown",
   "metadata": {},
   "source": [
    "It is very noticable that the correlation between EDI and CO2 emission declines in a very monotonic fashion over the course of the years. This means, that for a larger EDI value, we expected a roughly larger CO2 emission in the past. This changed towards to the opposite: High EDI values now weakly go along with a lower CO2 emission. Thus, low EDI meant low emissions, now low EDI mean high emissions!"
   ]
  },
  {
   "cell_type": "markdown",
   "metadata": {},
   "source": [
    "## Non-Religousness\n",
    "\n",
    "We visited the [Correlates of War](https://correlatesofwar.org) to fetch data about religions in countries. We put together a 5-year resolution data set. From this dataset, we mainly focussed on the diversity of religions and countries' population being \"less religious\" (not adhering to any religion).\n",
    "\n",
    "On a continent level, we wanted to visualise the development of this percentage of the population not adhering to any religion at all. For this, we used a bar chart in which each continent is put next to another. This allows for intra-year comparison of continents, as well as for an analysis over the course of time."
   ]
  },
  {
   "cell_type": "markdown",
   "metadata": {},
   "source": [
    "<img src=\"plots_paul_repo/Non-Religious Percentage by Continent and Year.png\" width=\"600\" height=\"400\">"
   ]
  },
  {
   "cell_type": "markdown",
   "metadata": {},
   "source": [
    "We see well, that the general trend is that continents become less and less religious. This especially true for Europe and Asia. Strangely, North America experiences a short decrease, after which the trend continues. The greatest relative change is clearly Africa and Oceania. In these continents, almost the whole population adhered to some religion around the middle of the 20th century. These continents jumped to almost 1 percent. Asia at first, follows the general trend, but then becomes the exception as the non-religious percentage of the population decreases and then stagnates after 1995."
   ]
  },
  {
   "cell_type": "markdown",
   "metadata": {},
   "source": []
  }
 ],
 "metadata": {
  "kernelspec": {
   "display_name": "venv",
   "language": "python",
   "name": "python3"
  },
  "language_info": {
   "codemirror_mode": {
    "name": "ipython",
    "version": 3
   },
   "file_extension": ".py",
   "mimetype": "text/x-python",
   "name": "python",
   "nbconvert_exporter": "python",
   "pygments_lexer": "ipython3",
   "version": "3.12.0"
  }
 },
 "nbformat": 4,
 "nbformat_minor": 2
}

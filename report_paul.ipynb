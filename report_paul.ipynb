{
 "cells": [
  {
   "cell_type": "markdown",
   "metadata": {},
   "source": [
    "# This is a report"
   ]
  },
  {
   "cell_type": "markdown",
   "metadata": {},
   "source": [
    "<img src=\"plots_paul_repo/CO2 Emission 1990.png\" width=\"750\" height=\"500\">"
   ]
  },
  {
   "cell_type": "markdown",
   "metadata": {},
   "source": [
    "<img src=\"plots_paul_repo/CO2 Emission 2020.png\" width=\"750\" height=\"500\">"
   ]
  },
  {
   "cell_type": "markdown",
   "metadata": {},
   "source": [
    "Why this plot?\n",
    "- good overview over all individual countries\n",
    "- high value indicates low diversity\n",
    "- grey countries are not accounted for\n",
    "- scale is 10 to the power of 3 to 10 to the power of 8\n",
    "- scale fits all values in the data well\n",
    "- we choose a fixed scale for all map-plots for co2 that the colors have similar meaning in all map plots related to co2\n",
    "- this should make comparing easier"
   ]
  },
  {
   "cell_type": "markdown",
   "metadata": {},
   "source": [
    "## Scatter Plots\n",
    "\n",
    "<img src=\"plots_paul_repo/Electoral Democracy Index vs. CO2 Emissions_2020.png\" width=\"700\" height=\"700\">\n",
    "\n"
   ]
  },
  {
   "cell_type": "markdown",
   "metadata": {},
   "source": [
    "<img src=\"plots_paul_repo/Electoral Democracy Index vs. CO2 Emissions_1990.png\" width=\"700\" height=\"700\">\n"
   ]
  },
  {
   "cell_type": "markdown",
   "metadata": {},
   "source": [
    "Why this plot?\n",
    "- circles represent countries with population, continent-membership, co2 emission and edi\n",
    "- user can interact with plot by deactivating/activating continents, zooming in\n",
    "- logarithmic scale to visualise differences between co2 emissions better\n",
    "- colors= continents\n",
    "- size of circles= population, circle size needed to be considered:\n",
    "    - if the circle size equals the population, some circles are really big compared to others\n",
    "    - maximizing the size does not really help here\n",
    "    - here, we chose a lower limit, meaning that each country is represented by a circle which is at least of a certain size, regardless of how few people live in it. This enables the viewer to directly see the big countries which are also usually known, as opposed to less populated countries (of which there are a lot anyway, so their size is not enabling the viewer to distinguish between them)\n",
    "- relationship between co2 and edi could be revealed here"
   ]
  },
  {
   "cell_type": "markdown",
   "metadata": {},
   "source": [
    "#### Interactivity Examples\n",
    "<img src=\"plots_paul_repo/interactive_example1.png\" width=\"700\" height=\"700\">\n"
   ]
  },
  {
   "cell_type": "markdown",
   "metadata": {},
   "source": [
    "<img src=\"plots_paul_repo/interactive_example2.png\" width=\"700\" height=\"700\">\n"
   ]
  },
  {
   "cell_type": "markdown",
   "metadata": {},
   "source": [
    "Examples of this being interactive:\n",
    "- left: continents are removed\n",
    "- right: zoomed into an area to get closer look"
   ]
  },
  {
   "cell_type": "markdown",
   "metadata": {},
   "source": [
    "## Absolute CO2 Emissions by continent over the course of the years\n",
    "\n",
    "<img src=\"plots_paul_repo/CO2 Emissions by Continent and Year.png\" width=\"600\" height=\"400\">\n"
   ]
  },
  {
   "cell_type": "markdown",
   "metadata": {},
   "source": [
    "Why this plot?\n",
    "- the map gives a good overview over the different countries and their differences\n",
    "- changes over time can not be easily visualized, even with multiple maps next to each other\n",
    "- stacked bars account for the co2 emission\n",
    "- for this, the sum of the co2 emissions is computed for each continent\n",
    "- colors indicate continents"
   ]
  },
  {
   "cell_type": "markdown",
   "metadata": {},
   "source": [
    "## Global Correlation between EDI and CO2 Emissions\n",
    "<img src=\"plots_paul_repo/co2_edi_correlation.png\" width=\"600\" height=\"400\">\n"
   ]
  },
  {
   "cell_type": "markdown",
   "metadata": {},
   "source": [
    "Why this plot?\n",
    "- simple\n",
    "- correlation-values hold a lot of information\n",
    "- this visualises the development of both variables in relation to another over the course of time"
   ]
  }
 ],
 "metadata": {
  "kernelspec": {
   "display_name": "venv",
   "language": "python",
   "name": "python3"
  },
  "language_info": {
   "codemirror_mode": {
    "name": "ipython",
    "version": 3
   },
   "file_extension": ".py",
   "mimetype": "text/x-python",
   "name": "python",
   "nbconvert_exporter": "python",
   "pygments_lexer": "ipython3",
   "version": "3.12.0"
  }
 },
 "nbformat": 4,
 "nbformat_minor": 2
}
